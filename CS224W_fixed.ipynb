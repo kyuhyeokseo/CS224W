{
  "cells": [
    {
      "cell_type": "markdown",
      "metadata": {
        "id": "XuXWJLEm2UWS"
      },
      "source": [
        "# **CS224W - Colab 2**"
      ]
    },
    {
      "cell_type": "markdown",
      "metadata": {
        "id": "8gzsP50bF6Gb"
      },
      "source": [
        "In Colab 2, we will work to construct our own graph neural network using PyTorch Geometric (PyG) and then apply that model on two Open Graph Benchmark (OGB) datasets. These two datasets will be used to benchmark your model's performance on two different graph-based tasks: 1) node property prediction, predicting properties of single nodes and 2) graph property prediction, predicting properties of entire graphs or subgraphs.\n",
        "\n",
        "First, we will learn how PyTorch Geometric stores graphs as PyTorch tensors.\n",
        "\n",
        "Then, we will load and inspect one of the Open Graph Benchmark (OGB) datasets by using the `ogb` package. OGB is a collection of realistic, large-scale, and diverse benchmark datasets for machine learning on graphs. The `ogb` package not only provides data loaders for each dataset but also model evaluators.\n",
        "\n",
        "Lastly, we will build our own graph neural network using PyTorch Geometric. We will then train and evaluate our model on the OGB node property prediction and graph property prediction tasks.\n",
        "\n",
        "**Note**: Make sure to **sequentially run all the cells in each section**, so that the intermediate variables / packages will carry over to the next cell\n",
        "\n",
        "We recommend you save a copy of this colab in your drive so you don't lose progress!\n",
        "\n",
        "The expected time to finish this Colab is 2 hours. However, debugging training loops can easily take a while. So, don't worry at all if it takes you longer! Have fun and good luck on Colab 2 :)"
      ]
    },
    {
      "cell_type": "markdown",
      "metadata": {
        "id": "ZGKqVEbbMEzf"
      },
      "source": [
        "# Device\n",
        "You might need to use a GPU for this Colab to run quickly.\n",
        "\n",
        "Please click `Runtime` and then `Change runtime type`. Then set the `hardware accelerator` to **GPU**."
      ]
    },
    {
      "cell_type": "markdown",
      "metadata": {
        "id": "OCK7krJdp4o8"
      },
      "source": [
        "# Setup\n",
        "As discussed in Colab 0, the installation of PyG on Colab can be a little bit tricky. First let us check which version of PyTorch you are running"
      ]
    },
    {
      "cell_type": "code",
      "execution_count": null,
      "metadata": {
        "id": "2vkP8pA1qBE5",
        "outputId": "857466d0-defc-4478-ce5e-6c85efd8ce52",
        "colab": {
          "base_uri": "https://localhost:8080/"
        }
      },
      "outputs": [
        {
          "output_type": "stream",
          "name": "stdout",
          "text": [
            "PyTorch has version 2.5.1+cu124\n"
          ]
        }
      ],
      "source": [
        "import torch\n",
        "import os\n",
        "print(\"PyTorch has version {}\".format(torch.__version__))"
      ]
    },
    {
      "cell_type": "code",
      "source": [
        "if 'IS_GRADESCOPE_ENV' not in os.environ:\n",
        "  !pip install torch==2.4.0"
      ],
      "metadata": {
        "id": "WUo5V7HNSXYm",
        "outputId": "e6b7231f-b4d2-4e15-8cc4-fe35d20ad981",
        "colab": {
          "base_uri": "https://localhost:8080/",
          "height": 1000
        },
        "collapsed": true
      },
      "execution_count": null,
      "outputs": [
        {
          "output_type": "stream",
          "name": "stdout",
          "text": [
            "Collecting torch==2.4.0\n",
            "  Downloading torch-2.4.0-cp311-cp311-manylinux1_x86_64.whl.metadata (26 kB)\n",
            "Requirement already satisfied: filelock in /usr/local/lib/python3.11/dist-packages (from torch==2.4.0) (3.17.0)\n",
            "Requirement already satisfied: typing-extensions>=4.8.0 in /usr/local/lib/python3.11/dist-packages (from torch==2.4.0) (4.12.2)\n",
            "Requirement already satisfied: sympy in /usr/local/lib/python3.11/dist-packages (from torch==2.4.0) (1.13.1)\n",
            "Requirement already satisfied: networkx in /usr/local/lib/python3.11/dist-packages (from torch==2.4.0) (3.4.2)\n",
            "Requirement already satisfied: jinja2 in /usr/local/lib/python3.11/dist-packages (from torch==2.4.0) (3.1.5)\n",
            "Requirement already satisfied: fsspec in /usr/local/lib/python3.11/dist-packages (from torch==2.4.0) (2024.10.0)\n",
            "Collecting nvidia-cuda-nvrtc-cu12==12.1.105 (from torch==2.4.0)\n",
            "  Downloading nvidia_cuda_nvrtc_cu12-12.1.105-py3-none-manylinux1_x86_64.whl.metadata (1.5 kB)\n",
            "Collecting nvidia-cuda-runtime-cu12==12.1.105 (from torch==2.4.0)\n",
            "  Downloading nvidia_cuda_runtime_cu12-12.1.105-py3-none-manylinux1_x86_64.whl.metadata (1.5 kB)\n",
            "Collecting nvidia-cuda-cupti-cu12==12.1.105 (from torch==2.4.0)\n",
            "  Downloading nvidia_cuda_cupti_cu12-12.1.105-py3-none-manylinux1_x86_64.whl.metadata (1.6 kB)\n",
            "Collecting nvidia-cudnn-cu12==9.1.0.70 (from torch==2.4.0)\n",
            "  Downloading nvidia_cudnn_cu12-9.1.0.70-py3-none-manylinux2014_x86_64.whl.metadata (1.6 kB)\n",
            "Collecting nvidia-cublas-cu12==12.1.3.1 (from torch==2.4.0)\n",
            "  Downloading nvidia_cublas_cu12-12.1.3.1-py3-none-manylinux1_x86_64.whl.metadata (1.5 kB)\n",
            "Collecting nvidia-cufft-cu12==11.0.2.54 (from torch==2.4.0)\n",
            "  Downloading nvidia_cufft_cu12-11.0.2.54-py3-none-manylinux1_x86_64.whl.metadata (1.5 kB)\n",
            "Collecting nvidia-curand-cu12==10.3.2.106 (from torch==2.4.0)\n",
            "  Downloading nvidia_curand_cu12-10.3.2.106-py3-none-manylinux1_x86_64.whl.metadata (1.5 kB)\n",
            "Collecting nvidia-cusolver-cu12==11.4.5.107 (from torch==2.4.0)\n",
            "  Downloading nvidia_cusolver_cu12-11.4.5.107-py3-none-manylinux1_x86_64.whl.metadata (1.6 kB)\n",
            "Collecting nvidia-cusparse-cu12==12.1.0.106 (from torch==2.4.0)\n",
            "  Downloading nvidia_cusparse_cu12-12.1.0.106-py3-none-manylinux1_x86_64.whl.metadata (1.6 kB)\n",
            "Collecting nvidia-nccl-cu12==2.20.5 (from torch==2.4.0)\n",
            "  Downloading nvidia_nccl_cu12-2.20.5-py3-none-manylinux2014_x86_64.whl.metadata (1.8 kB)\n",
            "Collecting nvidia-nvtx-cu12==12.1.105 (from torch==2.4.0)\n",
            "  Downloading nvidia_nvtx_cu12-12.1.105-py3-none-manylinux1_x86_64.whl.metadata (1.7 kB)\n",
            "Collecting triton==3.0.0 (from torch==2.4.0)\n",
            "  Downloading triton-3.0.0-1-cp311-cp311-manylinux2014_x86_64.manylinux_2_17_x86_64.whl.metadata (1.3 kB)\n",
            "Requirement already satisfied: nvidia-nvjitlink-cu12 in /usr/local/lib/python3.11/dist-packages (from nvidia-cusolver-cu12==11.4.5.107->torch==2.4.0) (12.5.82)\n",
            "Requirement already satisfied: MarkupSafe>=2.0 in /usr/local/lib/python3.11/dist-packages (from jinja2->torch==2.4.0) (3.0.2)\n",
            "Requirement already satisfied: mpmath<1.4,>=1.1.0 in /usr/local/lib/python3.11/dist-packages (from sympy->torch==2.4.0) (1.3.0)\n",
            "Downloading torch-2.4.0-cp311-cp311-manylinux1_x86_64.whl (797.3 MB)\n",
            "\u001b[2K   \u001b[90m━━━━━━━━━━━━━━━━━━━━━━━━━━━━━━━━━━━━━━━━\u001b[0m \u001b[32m797.3/797.3 MB\u001b[0m \u001b[31m1.8 MB/s\u001b[0m eta \u001b[36m0:00:00\u001b[0m\n",
            "\u001b[?25hDownloading nvidia_cublas_cu12-12.1.3.1-py3-none-manylinux1_x86_64.whl (410.6 MB)\n",
            "\u001b[2K   \u001b[90m━━━━━━━━━━━━━━━━━━━━━━━━━━━━━━━━━━━━━━━━\u001b[0m \u001b[32m410.6/410.6 MB\u001b[0m \u001b[31m3.6 MB/s\u001b[0m eta \u001b[36m0:00:00\u001b[0m\n",
            "\u001b[?25hDownloading nvidia_cuda_cupti_cu12-12.1.105-py3-none-manylinux1_x86_64.whl (14.1 MB)\n",
            "\u001b[2K   \u001b[90m━━━━━━━━━━━━━━━━━━━━━━━━━━━━━━━━━━━━━━━━\u001b[0m \u001b[32m14.1/14.1 MB\u001b[0m \u001b[31m45.9 MB/s\u001b[0m eta \u001b[36m0:00:00\u001b[0m\n",
            "\u001b[?25hDownloading nvidia_cuda_nvrtc_cu12-12.1.105-py3-none-manylinux1_x86_64.whl (23.7 MB)\n",
            "\u001b[2K   \u001b[90m━━━━━━━━━━━━━━━━━━━━━━━━━━━━━━━━━━━━━━━━\u001b[0m \u001b[32m23.7/23.7 MB\u001b[0m \u001b[31m82.3 MB/s\u001b[0m eta \u001b[36m0:00:00\u001b[0m\n",
            "\u001b[?25hDownloading nvidia_cuda_runtime_cu12-12.1.105-py3-none-manylinux1_x86_64.whl (823 kB)\n",
            "\u001b[2K   \u001b[90m━━━━━━━━━━━━━━━━━━━━━━━━━━━━━━━━━━━━━━━━\u001b[0m \u001b[32m823.6/823.6 kB\u001b[0m \u001b[31m49.3 MB/s\u001b[0m eta \u001b[36m0:00:00\u001b[0m\n",
            "\u001b[?25hDownloading nvidia_cudnn_cu12-9.1.0.70-py3-none-manylinux2014_x86_64.whl (664.8 MB)\n",
            "\u001b[2K   \u001b[90m━━━━━━━━━━━━━━━━━━━━━━━━━━━━━━━━━━━━━━━━\u001b[0m \u001b[32m664.8/664.8 MB\u001b[0m \u001b[31m2.1 MB/s\u001b[0m eta \u001b[36m0:00:00\u001b[0m\n",
            "\u001b[?25hDownloading nvidia_cufft_cu12-11.0.2.54-py3-none-manylinux1_x86_64.whl (121.6 MB)\n",
            "\u001b[2K   \u001b[90m━━━━━━━━━━━━━━━━━━━━━━━━━━━━━━━━━━━━━━━━\u001b[0m \u001b[32m121.6/121.6 MB\u001b[0m \u001b[31m7.5 MB/s\u001b[0m eta \u001b[36m0:00:00\u001b[0m\n",
            "\u001b[?25hDownloading nvidia_curand_cu12-10.3.2.106-py3-none-manylinux1_x86_64.whl (56.5 MB)\n",
            "\u001b[2K   \u001b[90m━━━━━━━━━━━━━━━━━━━━━━━━━━━━━━━━━━━━━━━━\u001b[0m \u001b[32m56.5/56.5 MB\u001b[0m \u001b[31m13.0 MB/s\u001b[0m eta \u001b[36m0:00:00\u001b[0m\n",
            "\u001b[?25hDownloading nvidia_cusolver_cu12-11.4.5.107-py3-none-manylinux1_x86_64.whl (124.2 MB)\n",
            "\u001b[2K   \u001b[90m━━━━━━━━━━━━━━━━━━━━━━━━━━━━━━━━━━━━━━━━\u001b[0m \u001b[32m124.2/124.2 MB\u001b[0m \u001b[31m7.4 MB/s\u001b[0m eta \u001b[36m0:00:00\u001b[0m\n",
            "\u001b[?25hDownloading nvidia_cusparse_cu12-12.1.0.106-py3-none-manylinux1_x86_64.whl (196.0 MB)\n",
            "\u001b[2K   \u001b[90m━━━━━━━━━━━━━━━━━━━━━━━━━━━━━━━━━━━━━━━━\u001b[0m \u001b[32m196.0/196.0 MB\u001b[0m \u001b[31m5.9 MB/s\u001b[0m eta \u001b[36m0:00:00\u001b[0m\n",
            "\u001b[?25hDownloading nvidia_nccl_cu12-2.20.5-py3-none-manylinux2014_x86_64.whl (176.2 MB)\n",
            "\u001b[2K   \u001b[90m━━━━━━━━━━━━━━━━━━━━━━━━━━━━━━━━━━━━━━━━\u001b[0m \u001b[32m176.2/176.2 MB\u001b[0m \u001b[31m7.0 MB/s\u001b[0m eta \u001b[36m0:00:00\u001b[0m\n",
            "\u001b[?25hDownloading nvidia_nvtx_cu12-12.1.105-py3-none-manylinux1_x86_64.whl (99 kB)\n",
            "\u001b[2K   \u001b[90m━━━━━━━━━━━━━━━━━━━━━━━━━━━━━━━━━━━━━━━━\u001b[0m \u001b[32m99.1/99.1 kB\u001b[0m \u001b[31m7.5 MB/s\u001b[0m eta \u001b[36m0:00:00\u001b[0m\n",
            "\u001b[?25hDownloading triton-3.0.0-1-cp311-cp311-manylinux2014_x86_64.manylinux_2_17_x86_64.whl (209.4 MB)\n",
            "\u001b[2K   \u001b[90m━━━━━━━━━━━━━━━━━━━━━━━━━━━━━━━━━━━━━━━━\u001b[0m \u001b[32m209.4/209.4 MB\u001b[0m \u001b[31m5.6 MB/s\u001b[0m eta \u001b[36m0:00:00\u001b[0m\n",
            "\u001b[?25hInstalling collected packages: triton, nvidia-nvtx-cu12, nvidia-nccl-cu12, nvidia-cusparse-cu12, nvidia-curand-cu12, nvidia-cufft-cu12, nvidia-cuda-runtime-cu12, nvidia-cuda-nvrtc-cu12, nvidia-cuda-cupti-cu12, nvidia-cublas-cu12, nvidia-cusolver-cu12, nvidia-cudnn-cu12, torch\n",
            "  Attempting uninstall: triton\n",
            "    Found existing installation: triton 3.1.0\n",
            "    Uninstalling triton-3.1.0:\n",
            "      Successfully uninstalled triton-3.1.0\n",
            "  Attempting uninstall: nvidia-nvtx-cu12\n",
            "    Found existing installation: nvidia-nvtx-cu12 12.4.127\n",
            "    Uninstalling nvidia-nvtx-cu12-12.4.127:\n",
            "      Successfully uninstalled nvidia-nvtx-cu12-12.4.127\n",
            "  Attempting uninstall: nvidia-nccl-cu12\n",
            "    Found existing installation: nvidia-nccl-cu12 2.21.5\n",
            "    Uninstalling nvidia-nccl-cu12-2.21.5:\n",
            "      Successfully uninstalled nvidia-nccl-cu12-2.21.5\n",
            "  Attempting uninstall: nvidia-cusparse-cu12\n",
            "    Found existing installation: nvidia-cusparse-cu12 12.5.1.3\n",
            "    Uninstalling nvidia-cusparse-cu12-12.5.1.3:\n",
            "      Successfully uninstalled nvidia-cusparse-cu12-12.5.1.3\n",
            "  Attempting uninstall: nvidia-curand-cu12\n",
            "    Found existing installation: nvidia-curand-cu12 10.3.6.82\n",
            "    Uninstalling nvidia-curand-cu12-10.3.6.82:\n",
            "      Successfully uninstalled nvidia-curand-cu12-10.3.6.82\n",
            "  Attempting uninstall: nvidia-cufft-cu12\n",
            "    Found existing installation: nvidia-cufft-cu12 11.2.3.61\n",
            "    Uninstalling nvidia-cufft-cu12-11.2.3.61:\n",
            "      Successfully uninstalled nvidia-cufft-cu12-11.2.3.61\n",
            "  Attempting uninstall: nvidia-cuda-runtime-cu12\n",
            "    Found existing installation: nvidia-cuda-runtime-cu12 12.5.82\n",
            "    Uninstalling nvidia-cuda-runtime-cu12-12.5.82:\n",
            "      Successfully uninstalled nvidia-cuda-runtime-cu12-12.5.82\n",
            "  Attempting uninstall: nvidia-cuda-nvrtc-cu12\n",
            "    Found existing installation: nvidia-cuda-nvrtc-cu12 12.5.82\n",
            "    Uninstalling nvidia-cuda-nvrtc-cu12-12.5.82:\n",
            "      Successfully uninstalled nvidia-cuda-nvrtc-cu12-12.5.82\n",
            "  Attempting uninstall: nvidia-cuda-cupti-cu12\n",
            "    Found existing installation: nvidia-cuda-cupti-cu12 12.5.82\n",
            "    Uninstalling nvidia-cuda-cupti-cu12-12.5.82:\n",
            "      Successfully uninstalled nvidia-cuda-cupti-cu12-12.5.82\n",
            "  Attempting uninstall: nvidia-cublas-cu12\n",
            "    Found existing installation: nvidia-cublas-cu12 12.5.3.2\n",
            "    Uninstalling nvidia-cublas-cu12-12.5.3.2:\n",
            "      Successfully uninstalled nvidia-cublas-cu12-12.5.3.2\n",
            "  Attempting uninstall: nvidia-cusolver-cu12\n",
            "    Found existing installation: nvidia-cusolver-cu12 11.6.3.83\n",
            "    Uninstalling nvidia-cusolver-cu12-11.6.3.83:\n",
            "      Successfully uninstalled nvidia-cusolver-cu12-11.6.3.83\n",
            "  Attempting uninstall: nvidia-cudnn-cu12\n",
            "    Found existing installation: nvidia-cudnn-cu12 9.3.0.75\n",
            "    Uninstalling nvidia-cudnn-cu12-9.3.0.75:\n",
            "      Successfully uninstalled nvidia-cudnn-cu12-9.3.0.75\n",
            "  Attempting uninstall: torch\n",
            "    Found existing installation: torch 2.5.1+cu124\n",
            "    Uninstalling torch-2.5.1+cu124:\n",
            "      Successfully uninstalled torch-2.5.1+cu124\n",
            "\u001b[31mERROR: pip's dependency resolver does not currently take into account all the packages that are installed. This behaviour is the source of the following dependency conflicts.\n",
            "torchaudio 2.5.1+cu124 requires torch==2.5.1, but you have torch 2.4.0 which is incompatible.\n",
            "torchvision 0.20.1+cu124 requires torch==2.5.1, but you have torch 2.4.0 which is incompatible.\u001b[0m\u001b[31m\n",
            "\u001b[0mSuccessfully installed nvidia-cublas-cu12-12.1.3.1 nvidia-cuda-cupti-cu12-12.1.105 nvidia-cuda-nvrtc-cu12-12.1.105 nvidia-cuda-runtime-cu12-12.1.105 nvidia-cudnn-cu12-9.1.0.70 nvidia-cufft-cu12-11.0.2.54 nvidia-curand-cu12-10.3.2.106 nvidia-cusolver-cu12-11.4.5.107 nvidia-cusparse-cu12-12.1.0.106 nvidia-nccl-cu12-2.20.5 nvidia-nvtx-cu12-12.1.105 torch-2.4.0 triton-3.0.0\n"
          ]
        },
        {
          "output_type": "display_data",
          "data": {
            "application/vnd.colab-display-data+json": {
              "pip_warning": {
                "packages": [
                  "torch",
                  "torchgen"
                ]
              },
              "id": "a3ad2085a9b64c6482a2c7b758ba0a9a"
            }
          },
          "metadata": {}
        }
      ]
    },
    {
      "cell_type": "markdown",
      "metadata": {
        "id": "L6d22O6DqGSZ"
      },
      "source": [
        "Download the necessary packages for PyG. Make sure that your version of torch matches the output from the cell above. In case of any issues, more information can be found on the [PyG's installation page](https://pytorch-geometric.readthedocs.io/en/latest/notes/installation.html)."
      ]
    },
    {
      "cell_type": "code",
      "execution_count": null,
      "metadata": {
        "id": "zr8hfxJ-qRg2",
        "outputId": "22dfa273-9914-49bf-a846-15d42394ef3b",
        "colab": {
          "base_uri": "https://localhost:8080/"
        },
        "collapsed": true
      },
      "outputs": [
        {
          "output_type": "stream",
          "name": "stdout",
          "text": [
            "Looking in links: https://pytorch-geometric.com/whl/torch-2.5.1+cu124.html\n",
            "Collecting torch-scatter\n",
            "  Downloading https://data.pyg.org/whl/torch-2.5.0%2Bcu124/torch_scatter-2.1.2%2Bpt25cu124-cp311-cp311-linux_x86_64.whl (10.8 MB)\n",
            "\u001b[2K     \u001b[90m━━━━━━━━━━━━━━━━━━━━━━━━━━━━━━━━━━━━━━━━\u001b[0m \u001b[32m10.8/10.8 MB\u001b[0m \u001b[31m66.8 MB/s\u001b[0m eta \u001b[36m0:00:00\u001b[0m\n",
            "\u001b[?25hInstalling collected packages: torch-scatter\n",
            "Successfully installed torch-scatter-2.1.2+pt25cu124\n",
            "Looking in links: https://pytorch-geometric.com/whl/torch-2.5.1+cu124.html\n",
            "Collecting torch-sparse\n",
            "  Downloading https://data.pyg.org/whl/torch-2.5.0%2Bcu124/torch_sparse-0.6.18%2Bpt25cu124-cp311-cp311-linux_x86_64.whl (5.2 MB)\n",
            "\u001b[2K     \u001b[90m━━━━━━━━━━━━━━━━━━━━━━━━━━━━━━━━━━━━━━━━\u001b[0m \u001b[32m5.2/5.2 MB\u001b[0m \u001b[31m69.1 MB/s\u001b[0m eta \u001b[36m0:00:00\u001b[0m\n",
            "\u001b[?25hRequirement already satisfied: scipy in /usr/local/lib/python3.11/dist-packages (from torch-sparse) (1.13.1)\n",
            "Requirement already satisfied: numpy<2.3,>=1.22.4 in /usr/local/lib/python3.11/dist-packages (from scipy->torch-sparse) (1.26.4)\n",
            "Installing collected packages: torch-sparse\n",
            "Successfully installed torch-sparse-0.6.18+pt25cu124\n",
            "Collecting torch-geometric\n",
            "  Downloading torch_geometric-2.6.1-py3-none-any.whl.metadata (63 kB)\n",
            "\u001b[2K     \u001b[90m━━━━━━━━━━━━━━━━━━━━━━━━━━━━━━━━━━━━━━━━\u001b[0m \u001b[32m63.1/63.1 kB\u001b[0m \u001b[31m4.6 MB/s\u001b[0m eta \u001b[36m0:00:00\u001b[0m\n",
            "\u001b[?25hRequirement already satisfied: aiohttp in /usr/local/lib/python3.11/dist-packages (from torch-geometric) (3.11.13)\n",
            "Requirement already satisfied: fsspec in /usr/local/lib/python3.11/dist-packages (from torch-geometric) (2024.10.0)\n",
            "Requirement already satisfied: jinja2 in /usr/local/lib/python3.11/dist-packages (from torch-geometric) (3.1.5)\n",
            "Requirement already satisfied: numpy in /usr/local/lib/python3.11/dist-packages (from torch-geometric) (1.26.4)\n",
            "Requirement already satisfied: psutil>=5.8.0 in /usr/local/lib/python3.11/dist-packages (from torch-geometric) (5.9.5)\n",
            "Requirement already satisfied: pyparsing in /usr/local/lib/python3.11/dist-packages (from torch-geometric) (3.2.1)\n",
            "Requirement already satisfied: requests in /usr/local/lib/python3.11/dist-packages (from torch-geometric) (2.32.3)\n",
            "Requirement already satisfied: tqdm in /usr/local/lib/python3.11/dist-packages (from torch-geometric) (4.67.1)\n",
            "Requirement already satisfied: aiohappyeyeballs>=2.3.0 in /usr/local/lib/python3.11/dist-packages (from aiohttp->torch-geometric) (2.4.6)\n",
            "Requirement already satisfied: aiosignal>=1.1.2 in /usr/local/lib/python3.11/dist-packages (from aiohttp->torch-geometric) (1.3.2)\n",
            "Requirement already satisfied: attrs>=17.3.0 in /usr/local/lib/python3.11/dist-packages (from aiohttp->torch-geometric) (25.1.0)\n",
            "Requirement already satisfied: frozenlist>=1.1.1 in /usr/local/lib/python3.11/dist-packages (from aiohttp->torch-geometric) (1.5.0)\n",
            "Requirement already satisfied: multidict<7.0,>=4.5 in /usr/local/lib/python3.11/dist-packages (from aiohttp->torch-geometric) (6.1.0)\n",
            "Requirement already satisfied: propcache>=0.2.0 in /usr/local/lib/python3.11/dist-packages (from aiohttp->torch-geometric) (0.3.0)\n",
            "Requirement already satisfied: yarl<2.0,>=1.17.0 in /usr/local/lib/python3.11/dist-packages (from aiohttp->torch-geometric) (1.18.3)\n",
            "Requirement already satisfied: MarkupSafe>=2.0 in /usr/local/lib/python3.11/dist-packages (from jinja2->torch-geometric) (3.0.2)\n",
            "Requirement already satisfied: charset-normalizer<4,>=2 in /usr/local/lib/python3.11/dist-packages (from requests->torch-geometric) (3.4.1)\n",
            "Requirement already satisfied: idna<4,>=2.5 in /usr/local/lib/python3.11/dist-packages (from requests->torch-geometric) (3.10)\n",
            "Requirement already satisfied: urllib3<3,>=1.21.1 in /usr/local/lib/python3.11/dist-packages (from requests->torch-geometric) (2.3.0)\n",
            "Requirement already satisfied: certifi>=2017.4.17 in /usr/local/lib/python3.11/dist-packages (from requests->torch-geometric) (2025.1.31)\n",
            "Downloading torch_geometric-2.6.1-py3-none-any.whl (1.1 MB)\n",
            "\u001b[2K   \u001b[90m━━━━━━━━━━━━━━━━━━━━━━━━━━━━━━━━━━━━━━━━\u001b[0m \u001b[32m1.1/1.1 MB\u001b[0m \u001b[31m55.4 MB/s\u001b[0m eta \u001b[36m0:00:00\u001b[0m\n",
            "\u001b[?25hInstalling collected packages: torch-geometric\n",
            "Successfully installed torch-geometric-2.6.1\n",
            "Collecting ogb\n",
            "  Downloading ogb-1.3.6-py3-none-any.whl.metadata (6.2 kB)\n",
            "Requirement already satisfied: torch>=1.6.0 in /usr/local/lib/python3.11/dist-packages (from ogb) (2.4.0)\n",
            "Requirement already satisfied: numpy>=1.16.0 in /usr/local/lib/python3.11/dist-packages (from ogb) (1.26.4)\n",
            "Requirement already satisfied: tqdm>=4.29.0 in /usr/local/lib/python3.11/dist-packages (from ogb) (4.67.1)\n",
            "Requirement already satisfied: scikit-learn>=0.20.0 in /usr/local/lib/python3.11/dist-packages (from ogb) (1.6.1)\n",
            "Requirement already satisfied: pandas>=0.24.0 in /usr/local/lib/python3.11/dist-packages (from ogb) (2.2.2)\n",
            "Requirement already satisfied: six>=1.12.0 in /usr/local/lib/python3.11/dist-packages (from ogb) (1.17.0)\n",
            "Requirement already satisfied: urllib3>=1.24.0 in /usr/local/lib/python3.11/dist-packages (from ogb) (2.3.0)\n",
            "Collecting outdated>=0.2.0 (from ogb)\n",
            "  Downloading outdated-0.2.2-py2.py3-none-any.whl.metadata (4.7 kB)\n",
            "Requirement already satisfied: setuptools>=44 in /usr/local/lib/python3.11/dist-packages (from outdated>=0.2.0->ogb) (75.1.0)\n",
            "Collecting littleutils (from outdated>=0.2.0->ogb)\n",
            "  Downloading littleutils-0.2.4-py3-none-any.whl.metadata (679 bytes)\n",
            "Requirement already satisfied: requests in /usr/local/lib/python3.11/dist-packages (from outdated>=0.2.0->ogb) (2.32.3)\n",
            "Requirement already satisfied: python-dateutil>=2.8.2 in /usr/local/lib/python3.11/dist-packages (from pandas>=0.24.0->ogb) (2.8.2)\n",
            "Requirement already satisfied: pytz>=2020.1 in /usr/local/lib/python3.11/dist-packages (from pandas>=0.24.0->ogb) (2025.1)\n",
            "Requirement already satisfied: tzdata>=2022.7 in /usr/local/lib/python3.11/dist-packages (from pandas>=0.24.0->ogb) (2025.1)\n",
            "Requirement already satisfied: scipy>=1.6.0 in /usr/local/lib/python3.11/dist-packages (from scikit-learn>=0.20.0->ogb) (1.13.1)\n",
            "Requirement already satisfied: joblib>=1.2.0 in /usr/local/lib/python3.11/dist-packages (from scikit-learn>=0.20.0->ogb) (1.4.2)\n",
            "Requirement already satisfied: threadpoolctl>=3.1.0 in /usr/local/lib/python3.11/dist-packages (from scikit-learn>=0.20.0->ogb) (3.5.0)\n",
            "Requirement already satisfied: filelock in /usr/local/lib/python3.11/dist-packages (from torch>=1.6.0->ogb) (3.17.0)\n",
            "Requirement already satisfied: typing-extensions>=4.8.0 in /usr/local/lib/python3.11/dist-packages (from torch>=1.6.0->ogb) (4.12.2)\n",
            "Requirement already satisfied: sympy in /usr/local/lib/python3.11/dist-packages (from torch>=1.6.0->ogb) (1.13.1)\n",
            "Requirement already satisfied: networkx in /usr/local/lib/python3.11/dist-packages (from torch>=1.6.0->ogb) (3.4.2)\n",
            "Requirement already satisfied: jinja2 in /usr/local/lib/python3.11/dist-packages (from torch>=1.6.0->ogb) (3.1.5)\n",
            "Requirement already satisfied: fsspec in /usr/local/lib/python3.11/dist-packages (from torch>=1.6.0->ogb) (2024.10.0)\n",
            "Requirement already satisfied: nvidia-cuda-nvrtc-cu12==12.1.105 in /usr/local/lib/python3.11/dist-packages (from torch>=1.6.0->ogb) (12.1.105)\n",
            "Requirement already satisfied: nvidia-cuda-runtime-cu12==12.1.105 in /usr/local/lib/python3.11/dist-packages (from torch>=1.6.0->ogb) (12.1.105)\n",
            "Requirement already satisfied: nvidia-cuda-cupti-cu12==12.1.105 in /usr/local/lib/python3.11/dist-packages (from torch>=1.6.0->ogb) (12.1.105)\n",
            "Requirement already satisfied: nvidia-cudnn-cu12==9.1.0.70 in /usr/local/lib/python3.11/dist-packages (from torch>=1.6.0->ogb) (9.1.0.70)\n",
            "Requirement already satisfied: nvidia-cublas-cu12==12.1.3.1 in /usr/local/lib/python3.11/dist-packages (from torch>=1.6.0->ogb) (12.1.3.1)\n",
            "Requirement already satisfied: nvidia-cufft-cu12==11.0.2.54 in /usr/local/lib/python3.11/dist-packages (from torch>=1.6.0->ogb) (11.0.2.54)\n",
            "Requirement already satisfied: nvidia-curand-cu12==10.3.2.106 in /usr/local/lib/python3.11/dist-packages (from torch>=1.6.0->ogb) (10.3.2.106)\n",
            "Requirement already satisfied: nvidia-cusolver-cu12==11.4.5.107 in /usr/local/lib/python3.11/dist-packages (from torch>=1.6.0->ogb) (11.4.5.107)\n",
            "Requirement already satisfied: nvidia-cusparse-cu12==12.1.0.106 in /usr/local/lib/python3.11/dist-packages (from torch>=1.6.0->ogb) (12.1.0.106)\n",
            "Requirement already satisfied: nvidia-nccl-cu12==2.20.5 in /usr/local/lib/python3.11/dist-packages (from torch>=1.6.0->ogb) (2.20.5)\n",
            "Requirement already satisfied: nvidia-nvtx-cu12==12.1.105 in /usr/local/lib/python3.11/dist-packages (from torch>=1.6.0->ogb) (12.1.105)\n",
            "Requirement already satisfied: triton==3.0.0 in /usr/local/lib/python3.11/dist-packages (from torch>=1.6.0->ogb) (3.0.0)\n",
            "Requirement already satisfied: nvidia-nvjitlink-cu12 in /usr/local/lib/python3.11/dist-packages (from nvidia-cusolver-cu12==11.4.5.107->torch>=1.6.0->ogb) (12.5.82)\n",
            "Requirement already satisfied: MarkupSafe>=2.0 in /usr/local/lib/python3.11/dist-packages (from jinja2->torch>=1.6.0->ogb) (3.0.2)\n",
            "Requirement already satisfied: charset-normalizer<4,>=2 in /usr/local/lib/python3.11/dist-packages (from requests->outdated>=0.2.0->ogb) (3.4.1)\n",
            "Requirement already satisfied: idna<4,>=2.5 in /usr/local/lib/python3.11/dist-packages (from requests->outdated>=0.2.0->ogb) (3.10)\n",
            "Requirement already satisfied: certifi>=2017.4.17 in /usr/local/lib/python3.11/dist-packages (from requests->outdated>=0.2.0->ogb) (2025.1.31)\n",
            "Requirement already satisfied: mpmath<1.4,>=1.1.0 in /usr/local/lib/python3.11/dist-packages (from sympy->torch>=1.6.0->ogb) (1.3.0)\n",
            "Downloading ogb-1.3.6-py3-none-any.whl (78 kB)\n",
            "\u001b[2K   \u001b[90m━━━━━━━━━━━━━━━━━━━━━━━━━━━━━━━━━━━━━━━━\u001b[0m \u001b[32m78.8/78.8 kB\u001b[0m \u001b[31m7.1 MB/s\u001b[0m eta \u001b[36m0:00:00\u001b[0m\n",
            "\u001b[?25hDownloading outdated-0.2.2-py2.py3-none-any.whl (7.5 kB)\n",
            "Downloading littleutils-0.2.4-py3-none-any.whl (8.1 kB)\n",
            "Installing collected packages: littleutils, outdated, ogb\n",
            "Successfully installed littleutils-0.2.4 ogb-1.3.6 outdated-0.2.2\n"
          ]
        }
      ],
      "source": [
        "# Install torch geometric\n",
        "if 'IS_GRADESCOPE_ENV' not in os.environ:\n",
        "  torch_version = str(torch.__version__)\n",
        "  scatter_src = f\"https://pytorch-geometric.com/whl/torch-{torch_version}.html\"\n",
        "  sparse_src = f\"https://pytorch-geometric.com/whl/torch-{torch_version}.html\"\n",
        "  !pip install torch-scatter -f $scatter_src\n",
        "  !pip install torch-sparse -f $sparse_src\n",
        "  !pip install torch-geometric\n",
        "  !pip install ogb"
      ]
    },
    {
      "cell_type": "markdown",
      "metadata": {
        "id": "Nwwq0nSdmsOL"
      },
      "source": [
        "# 1) PyTorch Geometric (Datasets and Data)\n"
      ]
    },
    {
      "cell_type": "markdown",
      "metadata": {
        "id": "Sf7vUmdNKCjA"
      },
      "source": [
        "PyTorch Geometric has two classes for storing and/or transforming graphs into tensor format. One is `torch_geometric.datasets`, which contains a variety of common graph datasets. Another is `torch_geometric.data`, which provides the data handling of graphs in PyTorch tensors.\n",
        "\n",
        "In this section, we will learn how to use `torch_geometric.datasets` and `torch_geometric.data` together."
      ]
    },
    {
      "cell_type": "markdown",
      "metadata": {
        "id": "ic-o1P3r6hr2"
      },
      "source": [
        "## PyG Datasets\n",
        "\n",
        "The `torch_geometric.datasets` class has many common graph datasets. Here we will explore its usage through one example dataset."
      ]
    },
    {
      "cell_type": "code",
      "source": [
        "import torch_geometric.datasets"
      ],
      "metadata": {
        "id": "DjfRO64MIDkQ",
        "colab": {
          "base_uri": "https://localhost:8080/"
        },
        "outputId": "ce4a5474-b4da-4c0b-d32e-07d2fcef86a0"
      },
      "execution_count": null,
      "outputs": [
        {
          "output_type": "stream",
          "name": "stderr",
          "text": [
            "/usr/local/lib/python3.11/dist-packages/torch_geometric/typing.py:86: UserWarning: An issue occurred while importing 'torch-scatter'. Disabling its usage. Stacktrace: /usr/local/lib/python3.11/dist-packages/torch_scatter/_scatter_cuda.so: undefined symbol: _ZN2at23SavedTensorDefaultHooks11set_tracingEb\n",
            "  warnings.warn(f\"An issue occurred while importing 'torch-scatter'. \"\n",
            "/usr/local/lib/python3.11/dist-packages/torch_geometric/typing.py:124: UserWarning: An issue occurred while importing 'torch-sparse'. Disabling its usage. Stacktrace: /usr/local/lib/python3.11/dist-packages/torch_sparse/_spmm_cuda.so: undefined symbol: _ZN2at23SavedTensorDefaultHooks11set_tracingEb\n",
            "  warnings.warn(f\"An issue occurred while importing 'torch-sparse'. \"\n"
          ]
        }
      ]
    },
    {
      "cell_type": "code",
      "execution_count": null,
      "metadata": {
        "id": "zT5qca3x6XpG",
        "outputId": "f9ff0ede-0553-4bcc-d470-ee0bbc98b25c",
        "colab": {
          "base_uri": "https://localhost:8080/"
        }
      },
      "outputs": [
        {
          "output_type": "stream",
          "name": "stderr",
          "text": [
            "Downloading https://www.chrsmrrs.com/graphkerneldatasets/ENZYMES.zip\n",
            "Processing...\n"
          ]
        },
        {
          "output_type": "stream",
          "name": "stdout",
          "text": [
            "ENZYMES(600)\n"
          ]
        },
        {
          "output_type": "stream",
          "name": "stderr",
          "text": [
            "Done!\n"
          ]
        }
      ],
      "source": [
        "import os\n",
        "from torch_geometric.datasets import TUDataset\n",
        "\n",
        "if 'IS_GRADESCOPE_ENV' not in os.environ:\n",
        "  root = './enzymes'\n",
        "  name = 'ENZYMES'\n",
        "\n",
        "  pyg_dataset= TUDataset(root, name)\n",
        "\n",
        "  print(pyg_dataset)"
      ]
    },
    {
      "cell_type": "markdown",
      "metadata": {
        "id": "NLm5vVYMAP2x"
      },
      "source": [
        "## Question 1: What is the number of classes and number of features in the ENZYMES dataset? (5 points)"
      ]
    },
    {
      "cell_type": "code",
      "execution_count": null,
      "metadata": {
        "id": "8iF_Kyqr_JbY",
        "outputId": "aa05ba8e-27a9-4d70-a96f-4a74403d31ff",
        "colab": {
          "base_uri": "https://localhost:8080/"
        }
      },
      "outputs": [
        {
          "output_type": "stream",
          "name": "stdout",
          "text": [
            "ENZYMES dataset has 6 classes\n",
            "ENZYMES dataset has 3 features\n"
          ]
        }
      ],
      "source": [
        "def get_num_classes(pyg_dataset):\n",
        "  num_classes = pyg_dataset.num_classes\n",
        "  return num_classes\n",
        "\n",
        "def get_num_features(pyg_dataset):\n",
        "\n",
        "  num_features = pyg_dataset.num_features\n",
        "  return num_features\n",
        "\n",
        "if 'IS_GRADESCOPE_ENV' not in os.environ:\n",
        "  num_classes = get_num_classes(pyg_dataset)\n",
        "  num_features = get_num_features(pyg_dataset)\n",
        "  print(\"{} dataset has {} classes\".format(name, num_classes))\n",
        "  print(\"{} dataset has {} features\".format(name, num_features))"
      ]
    },
    {
      "cell_type": "markdown",
      "metadata": {
        "id": "rwKbzhHUAckZ"
      },
      "source": [
        "## PyG Data\n",
        "\n",
        "Each PyG dataset stores a list of `torch_geometric.data.Data` objects, where each `torch_geometric.data.Data` object represents a graph. We can easily get the `Data` object by indexing into the dataset.\n",
        "\n",
        "For more information such as what is stored in the `Data` object, please refer to the [documentation](https://pytorch-geometric.readthedocs.io/en/latest/modules/data.html#torch_geometric.data.Data)."
      ]
    },
    {
      "cell_type": "markdown",
      "metadata": {
        "id": "7sCV3xJWCddX"
      },
      "source": [
        "## Question 2: What is the label of the graph with index 100 in the ENZYMES dataset? (5 points)"
      ]
    },
    {
      "cell_type": "code",
      "execution_count": null,
      "metadata": {
        "id": "LIis9oTZAfs3",
        "colab": {
          "base_uri": "https://localhost:8080/"
        },
        "outputId": "16f240a0-d121-4f2e-c76b-9e1532c129a8"
      },
      "outputs": [
        {
          "output_type": "stream",
          "name": "stdout",
          "text": [
            "Data(edge_index=[2, 168], x=[37, 3], y=[1])\n",
            "Graph with index 100 has label 4\n"
          ]
        }
      ],
      "source": [
        "def get_graph_class(pyg_dataset, idx):\n",
        "\n",
        "  label = pyg_dataset.get(idx).y.item()\n",
        "  return label\n",
        "\n",
        "if 'IS_GRADESCOPE_ENV' not in os.environ:\n",
        "  graph_0 = pyg_dataset[0]\n",
        "  print(graph_0)\n",
        "  idx = 100\n",
        "  label = get_graph_class(pyg_dataset, idx)\n",
        "  print('Graph with index {} has label {}'.format(idx, label))"
      ]
    },
    {
      "cell_type": "markdown",
      "metadata": {
        "id": "fKhcVeAhCwoY"
      },
      "source": [
        "## Question 3: How many edges does the graph with index 200 have? (5 points)"
      ]
    },
    {
      "cell_type": "code",
      "execution_count": null,
      "metadata": {
        "id": "f5m2DOfhBtWv",
        "colab": {
          "base_uri": "https://localhost:8080/"
        },
        "outputId": "ba1313a4-a330-4122-b569-d2a44fab8853"
      },
      "outputs": [
        {
          "output_type": "stream",
          "name": "stdout",
          "text": [
            "Graph with index 200 has 106 edges\n"
          ]
        }
      ],
      "source": [
        "def get_graph_num_edges(pyg_dataset, idx):\n",
        "  obj = pyg_dataset.get(idx)\n",
        "  edge_index = obj.edge_index\n",
        "  num_edges = edge_index.shape[1]\n",
        "\n",
        "  return num_edges\n",
        "\n",
        "if 'IS_GRADESCOPE_ENV' not in os.environ:\n",
        "  idx = 200\n",
        "  num_edges = get_graph_num_edges(pyg_dataset, idx)\n",
        "  print('Graph with index {} has {} edges'.format(idx, num_edges))"
      ]
    },
    {
      "cell_type": "markdown",
      "metadata": {
        "id": "AXa7yIG4E0Fp"
      },
      "source": [
        "# 2) Open Graph Benchmark (OGB)\n",
        "\n",
        "The Open Graph Benchmark (OGB) is a collection of realistic, large-scale, and diverse benchmark datasets for machine learning on graphs. Its datasets are automatically downloaded, processed, and split using the OGB Data Loader. The model performance can then be evaluated by using the OGB Evaluator in a unified manner."
      ]
    },
    {
      "cell_type": "markdown",
      "metadata": {
        "id": "HnazPGGAJAZN"
      },
      "source": [
        "## Dataset and Data\n",
        "\n",
        "OGB also supports PyG dataset and data classes. Here we take a look on the `ogbn-arxiv` dataset."
      ]
    },
    {
      "cell_type": "code",
      "execution_count": null,
      "metadata": {
        "id": "Gpc6bTm3GF02",
        "colab": {
          "base_uri": "https://localhost:8080/"
        },
        "collapsed": true,
        "outputId": "49514b5d-0fc0-4f01-aea6-dbe34134a354"
      },
      "outputs": [
        {
          "output_type": "stream",
          "name": "stdout",
          "text": [
            "Downloading http://snap.stanford.edu/ogb/data/nodeproppred/arxiv.zip\n"
          ]
        },
        {
          "output_type": "stream",
          "name": "stderr",
          "text": [
            "Downloaded 0.08 GB: 100%|██████████| 81/81 [00:07<00:00, 10.26it/s]\n"
          ]
        },
        {
          "output_type": "stream",
          "name": "stdout",
          "text": [
            "Extracting dataset/arxiv.zip\n"
          ]
        },
        {
          "output_type": "stream",
          "name": "stderr",
          "text": [
            "Processing...\n"
          ]
        },
        {
          "output_type": "stream",
          "name": "stdout",
          "text": [
            "Loading necessary files...\n",
            "This might take a while.\n",
            "Processing graphs...\n"
          ]
        },
        {
          "output_type": "stream",
          "name": "stderr",
          "text": [
            "100%|██████████| 1/1 [00:00<00:00, 3927.25it/s]\n"
          ]
        },
        {
          "output_type": "stream",
          "name": "stdout",
          "text": [
            "Converting graphs into PyG objects...\n"
          ]
        },
        {
          "output_type": "stream",
          "name": "stderr",
          "text": [
            "100%|██████████| 1/1 [00:00<00:00, 1334.92it/s]"
          ]
        },
        {
          "output_type": "stream",
          "name": "stdout",
          "text": [
            "Saving...\n"
          ]
        },
        {
          "output_type": "stream",
          "name": "stderr",
          "text": [
            "\n",
            "Done!\n",
            "/usr/local/lib/python3.11/dist-packages/ogb/nodeproppred/dataset_pyg.py:69: FutureWarning: You are using `torch.load` with `weights_only=False` (the current default value), which uses the default pickle module implicitly. It is possible to construct malicious pickle data which will execute arbitrary code during unpickling (See https://github.com/pytorch/pytorch/blob/main/SECURITY.md#untrusted-models for more details). In a future release, the default value for `weights_only` will be flipped to `True`. This limits the functions that could be executed during unpickling. Arbitrary objects will no longer be allowed to be loaded via this mode unless they are explicitly allowlisted by the user via `torch.serialization.add_safe_globals`. We recommend you start setting `weights_only=True` for any use case where you don't have full control of the loaded file. Please open an issue on GitHub for any issues related to this experimental feature.\n",
            "  self.data, self.slices = torch.load(self.processed_paths[0])\n"
          ]
        },
        {
          "output_type": "stream",
          "name": "stdout",
          "text": [
            "The ogbn-arxiv dataset has 1 graph\n",
            "Data(num_nodes=169343, x=[169343, 128], node_year=[169343, 1], y=[169343, 1], adj_t=[169343, 169343])\n"
          ]
        },
        {
          "output_type": "stream",
          "name": "stderr",
          "text": [
            "/usr/local/lib/python3.11/dist-packages/torch_geometric/utils/sparse.py:277: UserWarning: Sparse CSR tensor support is in beta state. If you miss a functionality in the sparse tensor support, please submit a feature request to https://github.com/pytorch/pytorch/issues. (Triggered internally at ../aten/src/ATen/SparseCsrTensorImpl.cpp:53.)\n",
            "  adj = torch.sparse_csr_tensor(\n"
          ]
        }
      ],
      "source": [
        "import torch_geometric.transforms as T\n",
        "from ogb.nodeproppred import PygNodePropPredDataset\n",
        "\n",
        "if 'IS_GRADESCOPE_ENV' not in os.environ:\n",
        "  dataset_name = 'ogbn-arxiv'\n",
        "  # Load the dataset and transform it to sparse tensor\n",
        "  dataset = PygNodePropPredDataset(name=dataset_name,\n",
        "                                  transform=T.ToSparseTensor())\n",
        "  print('The {} dataset has {} graph'.format(dataset_name, len(dataset)))\n",
        "\n",
        "  # Extract the graph\n",
        "  data = dataset[0]\n",
        "  print(data)"
      ]
    },
    {
      "cell_type": "markdown",
      "metadata": {
        "id": "Cw0xZJKZI-n3"
      },
      "source": [
        "## Question 4: How many features are in the ogbn-arxiv graph? (5 points)"
      ]
    },
    {
      "cell_type": "code",
      "execution_count": null,
      "metadata": {
        "id": "ZP844_nT2ZJl",
        "colab": {
          "base_uri": "https://localhost:8080/"
        },
        "outputId": "a62ea3d6-2c75-44d8-9641-a6e378fde04f"
      },
      "outputs": [
        {
          "output_type": "stream",
          "name": "stdout",
          "text": [
            "The graph has 128 features\n"
          ]
        }
      ],
      "source": [
        "def graph_num_features(data):\n",
        "\n",
        "  num_features = data.num_node_features\n",
        "\n",
        "  return num_features\n",
        "\n",
        "if 'IS_GRADESCOPE_ENV' not in os.environ:\n",
        "  num_features = graph_num_features(data)\n",
        "  print('The graph has {} features'.format(num_features))"
      ]
    },
    {
      "cell_type": "markdown",
      "metadata": {
        "id": "9DP_yEQZ0NVW"
      },
      "source": [
        "# 3) GNN: Node Property Prediction\n",
        "\n",
        "In this section we will build our first graph neural network using PyTorch Geometric. Then we will apply it to the task of node property prediction (node classification).\n",
        "\n",
        "Specifically, we will use GCN as the foundation for your graph neural network ([Kipf et al. (2017)](https://arxiv.org/pdf/1609.02907.pdf)). To do so, we will work with PyG's built-in `GCNConv` layer."
      ]
    },
    {
      "cell_type": "markdown",
      "metadata": {
        "id": "O4CcOUEoInjD"
      },
      "source": [
        "## Setup"
      ]
    },
    {
      "cell_type": "code",
      "execution_count": null,
      "metadata": {
        "id": "-DCtgcHpGIpd",
        "colab": {
          "base_uri": "https://localhost:8080/"
        },
        "outputId": "c54770e0-ee49-4914-8c07-72b2ba90323a"
      },
      "outputs": [
        {
          "output_type": "stream",
          "name": "stdout",
          "text": [
            "2.4.0+cu121\n"
          ]
        }
      ],
      "source": [
        "import torch\n",
        "import pandas as pd\n",
        "import torch.nn.functional as F\n",
        "print(torch.__version__)\n",
        "\n",
        "# The PyG built-in GCNConv\n",
        "from torch_geometric.nn import GCNConv\n",
        "\n",
        "import torch_geometric.transforms as T\n",
        "from ogb.nodeproppred import PygNodePropPredDataset, Evaluator"
      ]
    },
    {
      "cell_type": "markdown",
      "metadata": {
        "id": "0IK9z0wQIwzQ"
      },
      "source": [
        "## Load and Preprocess the Dataset"
      ]
    },
    {
      "cell_type": "code",
      "execution_count": null,
      "metadata": {
        "id": "0ibJ0ieoIwQM",
        "colab": {
          "base_uri": "https://localhost:8080/"
        },
        "outputId": "4289a2ee-b793-48c8-e8ef-c27ece86d972"
      },
      "outputs": [
        {
          "output_type": "stream",
          "name": "stderr",
          "text": [
            "/usr/local/lib/python3.11/dist-packages/ogb/nodeproppred/dataset_pyg.py:69: FutureWarning: You are using `torch.load` with `weights_only=False` (the current default value), which uses the default pickle module implicitly. It is possible to construct malicious pickle data which will execute arbitrary code during unpickling (See https://github.com/pytorch/pytorch/blob/main/SECURITY.md#untrusted-models for more details). In a future release, the default value for `weights_only` will be flipped to `True`. This limits the functions that could be executed during unpickling. Arbitrary objects will no longer be allowed to be loaded via this mode unless they are explicitly allowlisted by the user via `torch.serialization.add_safe_globals`. We recommend you start setting `weights_only=True` for any use case where you don't have full control of the loaded file. Please open an issue on GitHub for any issues related to this experimental feature.\n",
            "  self.data, self.slices = torch.load(self.processed_paths[0])\n"
          ]
        },
        {
          "output_type": "stream",
          "name": "stdout",
          "text": [
            "Device: cuda\n"
          ]
        }
      ],
      "source": [
        "if 'IS_GRADESCOPE_ENV' not in os.environ:\n",
        "  dataset_name = 'ogbn-arxiv'\n",
        "  dataset = PygNodePropPredDataset(name=dataset_name,\n",
        "                                  transform=T.ToSparseTensor())\n",
        "  data = dataset[0]\n",
        "\n",
        "  # Make the adjacency matrix to symmetric\n",
        "  X_coo = data.adj_t.to_sparse_coo()\n",
        "  X_symmetric_coo = X_coo + X_coo.transpose(0, 1)\n",
        "  data.adj_t = X_symmetric_coo.to_sparse_csr()\n",
        "\n",
        "  device = 'cuda' if torch.cuda.is_available() else 'cpu'\n",
        "\n",
        "  # If you use GPU, the device should be cuda\n",
        "  print('Device: {}'.format(device))\n",
        "\n",
        "  data = data.to(device)\n",
        "  split_idx = dataset.get_idx_split()\n",
        "  train_idx = split_idx['train'].to(device)"
      ]
    },
    {
      "cell_type": "markdown",
      "metadata": {
        "id": "OgUA815bNJ8w"
      },
      "source": [
        "## GCN Model\n",
        "\n",
        "Now we will implement our GCN model!\n",
        "\n",
        "Please follow the figure below to implement the `forward` function.\n",
        "\n",
        "\n",
        "![test](https://drive.google.com/uc?id=128AuYAXNXGg7PIhJJ7e420DoPWKb-RtL)"
      ]
    },
    {
      "cell_type": "code",
      "execution_count": null,
      "metadata": {
        "id": "IgspXTYpNJLA"
      },
      "outputs": [],
      "source": [
        "from torch.nn import BatchNorm1d\n",
        "\n",
        "class GCN(torch.nn.Module):\n",
        "    def __init__(self, input_dim, hidden_dim, output_dim, num_layers,\n",
        "                 dropout, return_embeds=False):\n",
        "        super(GCN, self).__init__()\n",
        "\n",
        "        self.num_layers = num_layers\n",
        "\n",
        "        # A list of GCNConv layers\n",
        "        self.convs = torch.nn.ModuleList()\n",
        "\n",
        "        # A list of 1D batch normalization layers\n",
        "        self.bns = torch.nn.ModuleList()\n",
        "\n",
        "        # Input layer\n",
        "        self.convs.append(GCNConv(input_dim, hidden_dim))\n",
        "        self.bns.append(BatchNorm1d(hidden_dim))\n",
        "\n",
        "        # Hidden layers\n",
        "        for _ in range(num_layers - 2):\n",
        "            self.convs.append(GCNConv(hidden_dim, hidden_dim))\n",
        "            self.bns.append(BatchNorm1d(hidden_dim))\n",
        "\n",
        "        # Output layer\n",
        "        self.convs.append(GCNConv(hidden_dim, output_dim))\n",
        "\n",
        "        # The log softmax layer\n",
        "        self.softmax = F.log_softmax\n",
        "\n",
        "        # Probability of an element getting zeroed\n",
        "        self.dropout = dropout\n",
        "\n",
        "        # Skip classification layer and return node embeddings\n",
        "        self.return_embeds = return_embeds\n",
        "\n",
        "        self.reset_parameters()\n",
        "\n",
        "    def reset_parameters(self):\n",
        "        for conv in self.convs:\n",
        "            conv.reset_parameters()\n",
        "        for bn in self.bns:\n",
        "            bn.reset_parameters()\n",
        "\n",
        "    def forward(self, x, adj_t):\n",
        "\n",
        "        out = x\n",
        "\n",
        "        for i in range(self.num_layers - 1):\n",
        "          out = self.convs[i](out, adj_t)\n",
        "          out = self.bns[i](out)\n",
        "          out = F.relu(out)\n",
        "          out = F.dropout(out, p=self.dropout)\n",
        "\n",
        "        out = self.convs[-1](out, adj_t)\n",
        "        out = self.softmax(input=out, dim=1)\n",
        "\n",
        "        return out"
      ]
    },
    {
      "cell_type": "code",
      "execution_count": null,
      "metadata": {
        "id": "FF1hnHUhO81e"
      },
      "outputs": [],
      "source": [
        "def train(model, data, train_idx, optimizer, loss_fn):\n",
        "\n",
        "    model.train()\n",
        "    loss = 0\n",
        "\n",
        "    optimizer.zero_grad()\n",
        "    output = model(data.x, data.adj_t)\n",
        "\n",
        "    pred, true = output[train_idx], data.y[train_idx].squeeze()\n",
        "\n",
        "    #print(pred.shape, true.shape)\n",
        "\n",
        "    loss = loss_fn(pred, true)\n",
        "\n",
        "    loss.backward()\n",
        "    optimizer.step()\n",
        "\n",
        "    return loss.item()"
      ]
    },
    {
      "cell_type": "code",
      "execution_count": null,
      "metadata": {
        "id": "aJdlrJQhPBsK"
      },
      "outputs": [],
      "source": [
        "# Test function here\n",
        "@torch.no_grad()\n",
        "def test(model, data, split_idx, evaluator, save_model_results=False):\n",
        "    model.eval()\n",
        "\n",
        "    out = model(data.x, data.adj_t)\n",
        "\n",
        "    y_pred = out.argmax(dim=-1, keepdim=True)\n",
        "\n",
        "    train_acc = evaluator.eval({\n",
        "        'y_true': data.y[split_idx['train']],\n",
        "        'y_pred': y_pred[split_idx['train']],\n",
        "    })['acc']\n",
        "    valid_acc = evaluator.eval({\n",
        "        'y_true': data.y[split_idx['valid']],\n",
        "        'y_pred': y_pred[split_idx['valid']],\n",
        "    })['acc']\n",
        "    test_acc = evaluator.eval({\n",
        "        'y_true': data.y[split_idx['test']],\n",
        "        'y_pred': y_pred[split_idx['test']],\n",
        "    })['acc']\n",
        "\n",
        "    if save_model_results:\n",
        "      print (\"Saving Model Predictions\")\n",
        "\n",
        "      data = {}\n",
        "      data['y_pred'] = y_pred.view(-1).cpu().detach().numpy()\n",
        "\n",
        "      df = pd.DataFrame(data=data)\n",
        "      # Save locally as csv\n",
        "      df.to_csv('ogbn-arxiv_node.csv', sep=',', index=False)\n",
        "\n",
        "    return train_acc, valid_acc, test_acc"
      ]
    },
    {
      "cell_type": "code",
      "execution_count": null,
      "metadata": {
        "id": "o7F46xkuLiOL"
      },
      "outputs": [],
      "source": [
        "if 'IS_GRADESCOPE_ENV' not in os.environ:\n",
        "  args = {\n",
        "      'device': device,\n",
        "      'num_layers': 3,\n",
        "      'hidden_dim': 256,\n",
        "      'dropout': 0.5,\n",
        "      'lr': 0.01,\n",
        "      'epochs': 200,\n",
        "  }\n",
        "  args"
      ]
    },
    {
      "cell_type": "code",
      "execution_count": null,
      "metadata": {
        "id": "dT8RyM2cPGxM"
      },
      "outputs": [],
      "source": [
        "if 'IS_GRADESCOPE_ENV' not in os.environ:\n",
        "  model = GCN(data.num_features, args['hidden_dim'],\n",
        "              dataset.num_classes, args['num_layers'],\n",
        "              args['dropout']).to(device)\n",
        "  evaluator = Evaluator(name='ogbn-arxiv')"
      ]
    },
    {
      "cell_type": "code",
      "execution_count": null,
      "metadata": {
        "id": "qd5O5cnPPdVF",
        "colab": {
          "base_uri": "https://localhost:8080/"
        },
        "outputId": "18b19e44-dc5c-43d6-c514-44877f8dd919"
      },
      "outputs": [
        {
          "output_type": "stream",
          "name": "stdout",
          "text": [
            "Epoch: 10, Loss: 1.3756, Train: 41.77%, Valid: 42.22% Test: 41.17%\n",
            "Epoch: 20, Loss: 1.1784, Train: 55.74%, Valid: 56.62% Test: 59.10%\n",
            "Epoch: 30, Loss: 1.0945, Train: 63.63%, Valid: 64.55% Test: 65.70%\n",
            "Epoch: 40, Loss: 1.0440, Train: 67.72%, Valid: 67.50% Test: 68.17%\n",
            "Epoch: 50, Loss: 1.0105, Train: 69.43%, Valid: 68.87% Test: 68.38%\n",
            "Epoch: 60, Loss: 0.9868, Train: 70.26%, Valid: 69.71% Test: 69.09%\n",
            "Epoch: 70, Loss: 0.9622, Train: 70.83%, Valid: 69.91% Test: 69.19%\n",
            "Epoch: 80, Loss: 0.9469, Train: 71.03%, Valid: 70.23% Test: 68.90%\n",
            "Epoch: 90, Loss: 0.9277, Train: 71.43%, Valid: 70.19% Test: 69.86%\n",
            "Epoch: 100, Loss: 0.9163, Train: 71.75%, Valid: 70.21% Test: 69.19%\n",
            "Epoch: 110, Loss: 0.9005, Train: 71.76%, Valid: 70.37% Test: 69.73%\n",
            "Epoch: 120, Loss: 0.8907, Train: 72.54%, Valid: 70.41% Test: 69.43%\n",
            "Epoch: 130, Loss: 0.8772, Train: 72.17%, Valid: 70.94% Test: 70.04%\n",
            "Epoch: 140, Loss: 0.8682, Train: 72.75%, Valid: 70.48% Test: 69.35%\n",
            "Epoch: 150, Loss: 0.8555, Train: 72.79%, Valid: 70.71% Test: 69.87%\n",
            "Epoch: 160, Loss: 0.8483, Train: 72.91%, Valid: 70.08% Test: 68.71%\n",
            "Epoch: 170, Loss: 0.8405, Train: 73.08%, Valid: 69.97% Test: 68.49%\n",
            "Epoch: 180, Loss: 0.8331, Train: 73.21%, Valid: 70.11% Test: 69.08%\n",
            "Epoch: 190, Loss: 0.8242, Train: 73.61%, Valid: 70.22% Test: 68.77%\n",
            "Epoch: 200, Loss: 0.8186, Train: 73.67%, Valid: 70.25% Test: 68.51%\n"
          ]
        }
      ],
      "source": [
        "import copy\n",
        "if 'IS_GRADESCOPE_ENV' not in os.environ:\n",
        "  model.reset_parameters()\n",
        "\n",
        "  optimizer = torch.optim.Adam(model.parameters(), lr=args['lr'])\n",
        "  loss_fn = F.nll_loss\n",
        "\n",
        "  best_model = None\n",
        "  best_valid_acc = 0\n",
        "\n",
        "  for epoch in range(1, 1 + args[\"epochs\"]):\n",
        "    loss = train(model, data, train_idx, optimizer, loss_fn)\n",
        "    result = test(model, data, split_idx, evaluator)\n",
        "    train_acc, valid_acc, test_acc = result\n",
        "    if valid_acc > best_valid_acc:\n",
        "        best_valid_acc = valid_acc\n",
        "        best_model = copy.deepcopy(model)\n",
        "    if epoch % 10 == 0 :\n",
        "      print(f'Epoch: {epoch:02d}, '\n",
        "            f'Loss: {loss:.4f}, '\n",
        "            f'Train: {100 * train_acc:.2f}%, '\n",
        "            f'Valid: {100 * valid_acc:.2f}% '\n",
        "            f'Test: {100 * test_acc:.2f}%')"
      ]
    },
    {
      "cell_type": "markdown",
      "metadata": {
        "id": "dQtt-EKA8P4r"
      },
      "source": [
        "## Question 5: What are your `best_model` validation and test accuracies?(20 points)\n",
        "\n",
        "Run the cell below to see the results of your best of model and save your model's predictions to a file named *ogbn-arxiv_node.csv*. You can view this file by clicking on the *Folder* icon on the left side pannel. Report the results on Gradescope."
      ]
    },
    {
      "cell_type": "code",
      "execution_count": null,
      "metadata": {
        "id": "EqcextqOL2FX",
        "colab": {
          "base_uri": "https://localhost:8080/"
        },
        "outputId": "29b3110c-31c3-45d7-e998-a6e3d5bfb2a6"
      },
      "outputs": [
        {
          "output_type": "stream",
          "name": "stdout",
          "text": [
            "Saving Model Predictions\n",
            "Best model: Train: 73.47%, Valid: 71.18% Test: 70.48%\n"
          ]
        }
      ],
      "source": [
        "if 'IS_GRADESCOPE_ENV' not in os.environ:\n",
        "  best_result = test(best_model, data, split_idx, evaluator, save_model_results=True)\n",
        "  train_acc, valid_acc, test_acc = best_result\n",
        "  print(f'Best model: '\n",
        "        f'Train: {100 * train_acc:.2f}%, '\n",
        "        f'Valid: {100 * valid_acc:.2f}% '\n",
        "        f'Test: {100 * test_acc:.2f}%')"
      ]
    },
    {
      "cell_type": "markdown",
      "metadata": {
        "id": "R8pOD6y80TyI"
      },
      "source": [
        "# 4) GNN: Graph Property Prediction\n",
        "\n",
        "In this section we will create a graph neural network for graph property prediction (graph classification).\n"
      ]
    },
    {
      "cell_type": "markdown",
      "metadata": {
        "id": "vRg5VOEdQTa4"
      },
      "source": [
        "## Load and preprocess the dataset"
      ]
    },
    {
      "cell_type": "code",
      "execution_count": null,
      "metadata": {
        "id": "LXb-O5QUIgTH",
        "colab": {
          "base_uri": "https://localhost:8080/"
        },
        "outputId": "baeba628-949f-45ba-dd7a-5144dc93be70"
      },
      "outputs": [
        {
          "output_type": "stream",
          "name": "stdout",
          "text": [
            "Downloading http://snap.stanford.edu/ogb/data/graphproppred/csv_mol_download/hiv.zip\n"
          ]
        },
        {
          "output_type": "stream",
          "name": "stderr",
          "text": [
            "Downloaded 0.00 GB: 100%|██████████| 3/3 [00:02<00:00,  1.27it/s]\n",
            "Processing...\n"
          ]
        },
        {
          "output_type": "stream",
          "name": "stdout",
          "text": [
            "Extracting dataset/hiv.zip\n",
            "Loading necessary files...\n",
            "This might take a while.\n",
            "Processing graphs...\n"
          ]
        },
        {
          "output_type": "stream",
          "name": "stderr",
          "text": [
            "100%|██████████| 41127/41127 [00:00<00:00, 123551.41it/s]\n"
          ]
        },
        {
          "output_type": "stream",
          "name": "stdout",
          "text": [
            "Converting graphs into PyG objects...\n"
          ]
        },
        {
          "output_type": "stream",
          "name": "stderr",
          "text": [
            "100%|██████████| 41127/41127 [00:01<00:00, 28965.18it/s]\n"
          ]
        },
        {
          "output_type": "stream",
          "name": "stdout",
          "text": [
            "Saving...\n",
            "Device: cuda\n",
            "Task type: binary classification\n"
          ]
        },
        {
          "output_type": "stream",
          "name": "stderr",
          "text": [
            "Done!\n",
            "/usr/local/lib/python3.11/dist-packages/ogb/graphproppred/dataset_pyg.py:68: FutureWarning: You are using `torch.load` with `weights_only=False` (the current default value), which uses the default pickle module implicitly. It is possible to construct malicious pickle data which will execute arbitrary code during unpickling (See https://github.com/pytorch/pytorch/blob/main/SECURITY.md#untrusted-models for more details). In a future release, the default value for `weights_only` will be flipped to `True`. This limits the functions that could be executed during unpickling. Arbitrary objects will no longer be allowed to be loaded via this mode unless they are explicitly allowlisted by the user via `torch.serialization.add_safe_globals`. We recommend you start setting `weights_only=True` for any use case where you don't have full control of the loaded file. Please open an issue on GitHub for any issues related to this experimental feature.\n",
            "  self.data, self.slices = torch.load(self.processed_paths[0])\n"
          ]
        }
      ],
      "source": [
        "from ogb.graphproppred import PygGraphPropPredDataset, Evaluator\n",
        "from torch_geometric.data import DataLoader\n",
        "from tqdm.notebook import tqdm\n",
        "\n",
        "if 'IS_GRADESCOPE_ENV' not in os.environ:\n",
        "  # Load the dataset\n",
        "  dataset = PygGraphPropPredDataset(name='ogbg-molhiv')\n",
        "\n",
        "  device = 'cuda' if torch.cuda.is_available() else 'cpu'\n",
        "  print('Device: {}'.format(device))\n",
        "\n",
        "  split_idx = dataset.get_idx_split()\n",
        "\n",
        "  # Check task type\n",
        "  print('Task type: {}'.format(dataset.task_type))"
      ]
    },
    {
      "cell_type": "code",
      "execution_count": null,
      "metadata": {
        "id": "7cHHbgW1c5hi",
        "colab": {
          "base_uri": "https://localhost:8080/"
        },
        "outputId": "c94d949c-a2e2-4ba1-b0b6-97dc5652103c"
      },
      "outputs": [
        {
          "output_type": "stream",
          "name": "stderr",
          "text": [
            "/usr/local/lib/python3.11/dist-packages/torch_geometric/deprecation.py:26: UserWarning: 'data.DataLoader' is deprecated, use 'loader.DataLoader' instead\n",
            "  warnings.warn(out)\n"
          ]
        }
      ],
      "source": [
        "if 'IS_GRADESCOPE_ENV' not in os.environ:\n",
        "  train_loader = DataLoader(dataset[split_idx[\"train\"]], batch_size=32, shuffle=True, num_workers=0)\n",
        "  valid_loader = DataLoader(dataset[split_idx[\"valid\"]], batch_size=32, shuffle=False, num_workers=0)\n",
        "  test_loader = DataLoader(dataset[split_idx[\"test\"]], batch_size=32, shuffle=False, num_workers=0)"
      ]
    },
    {
      "cell_type": "code",
      "execution_count": null,
      "metadata": {
        "id": "AYrSnOj0Y4DK"
      },
      "outputs": [],
      "source": [
        "if 'IS_GRADESCOPE_ENV' not in os.environ:\n",
        "  args = {\n",
        "      'device': device,\n",
        "      'num_layers': 5,\n",
        "      'hidden_dim': 256,\n",
        "      'dropout': 0.5,\n",
        "      'lr': 0.001,\n",
        "      'epochs': 30,\n",
        "  }\n",
        "  args"
      ]
    },
    {
      "cell_type": "markdown",
      "metadata": {
        "id": "7WLhguSTeazy"
      },
      "source": [
        "## Graph Prediction Model"
      ]
    },
    {
      "cell_type": "markdown",
      "metadata": {
        "id": "u05Z14TRYPGn"
      },
      "source": [
        "### Graph Mini-Batching\n",
        "Before diving into the actual model, we introduce the concept of mini-batching with graphs. In order to parallelize the processing of a mini-batch of graphs, PyG combines the graphs into a single disconnected graph data object (*torch_geometric.data.Batch*). *torch_geometric.data.Batch* inherits from *torch_geometric.data.Data* (introduced earlier) and contains an additional attribute called `batch`.\n",
        "\n",
        "The `batch` attribute is a vector mapping each node to the index of its corresponding graph within the mini-batch:\n",
        "\n",
        "    batch = [0, ..., 0, 1, ..., n - 2, n - 1, ..., n - 1]\n",
        "\n",
        "This attribute is crucial for associating which graph each node belongs to and can be used to e.g. average the node embeddings for each graph individually to compute graph level embeddings.\n",
        "\n"
      ]
    },
    {
      "cell_type": "markdown",
      "metadata": {
        "id": "Pcic9NNU3nGK"
      },
      "source": [
        "### Implemention\n",
        "Now, we have all of the tools to implement a GCN Graph Prediction model!  \n",
        "\n",
        "We will reuse the existing GCN model to generate `node_embeddings` and then use  `Global Pooling` over the nodes to create graph level embeddings that can be used to predict properties for the each graph. Remeber that the `batch` attribute will be essential for performining Global Pooling over our mini-batch of graphs."
      ]
    },
    {
      "cell_type": "code",
      "execution_count": null,
      "metadata": {
        "id": "3_Kq3zyjeZ22"
      },
      "outputs": [],
      "source": [
        "from ogb.graphproppred.mol_encoder import AtomEncoder\n",
        "from torch_geometric.nn import global_add_pool, global_mean_pool\n",
        "\n",
        "### GCN to predict graph property\n",
        "class GCN_Graph(torch.nn.Module):\n",
        "    def __init__(self, hidden_dim, output_dim, num_layers, dropout):\n",
        "        super(GCN_Graph, self).__init__()\n",
        "\n",
        "        # Load encoders for Atoms in molecule graphs\n",
        "        self.node_encoder = AtomEncoder(hidden_dim)\n",
        "\n",
        "        # Node embedding model\n",
        "        # Note that the input_dim and output_dim are set to hidden_dim\n",
        "        self.gnn_node = GCN(hidden_dim, hidden_dim,\n",
        "            hidden_dim, num_layers, dropout, return_embeds=True)\n",
        "\n",
        "        self.pool = global_mean_pool\n",
        "\n",
        "        # Output layer\n",
        "        self.linear = torch.nn.Linear(hidden_dim, output_dim)\n",
        "\n",
        "        self.reset_parameters()\n",
        "\n",
        "\n",
        "    def reset_parameters(self):\n",
        "      self.gnn_node.reset_parameters()\n",
        "      self.linear.reset_parameters()\n",
        "\n",
        "    def forward(self, batched_data):\n",
        "        # Extract important attributes of our mini-batch\n",
        "        x, edge_index, batch = batched_data.x, batched_data.edge_index, batched_data.batch\n",
        "        embed = self.node_encoder(x)\n",
        "\n",
        "        out = self.gnn_node(embed, edge_index)\n",
        "\n",
        "        out = self.pool(out, batch)\n",
        "\n",
        "        out = self.linear(out)\n",
        "\n",
        "        return out"
      ]
    },
    {
      "cell_type": "code",
      "execution_count": null,
      "metadata": {
        "id": "FJjnGuMSbjX0"
      },
      "outputs": [],
      "source": [
        "def train(model, device, data_loader, optimizer, loss_fn):\n",
        "    model.train()\n",
        "    loss = 0\n",
        "\n",
        "    for step, batch in enumerate(tqdm(data_loader, desc=\"Iteration\")):\n",
        "      batch = batch.to(device)\n",
        "\n",
        "      if batch.x.shape[0] == 1 or batch.batch[-1] == 0:\n",
        "          pass\n",
        "      else:\n",
        "        is_labeled = batch.y == batch.y\n",
        "\n",
        "        optimizer.zero_grad()\n",
        "        output = model(batch)\n",
        "\n",
        "        pred, true = output[is_labeled], batch.y[is_labeled].float()\n",
        "\n",
        "        #print(pred.shape, true.shape)\n",
        "\n",
        "        loss = loss_fn(pred, true)\n",
        "\n",
        "        loss.backward()\n",
        "        optimizer.step()\n",
        "\n",
        "    return loss.item()"
      ]
    },
    {
      "cell_type": "code",
      "execution_count": null,
      "metadata": {
        "id": "ztPHXq_Gzn7U"
      },
      "outputs": [],
      "source": [
        "# The evaluation function\n",
        "def eval(model, device, loader, evaluator, save_model_results=False, save_file=None):\n",
        "    model.eval()\n",
        "    y_true = []\n",
        "    y_pred = []\n",
        "\n",
        "    for step, batch in enumerate(tqdm(loader, desc=\"Iteration\")):\n",
        "        batch = batch.to(device)\n",
        "\n",
        "        if batch.x.shape[0] == 1:\n",
        "            pass\n",
        "        else:\n",
        "            with torch.no_grad():\n",
        "                pred = model(batch)\n",
        "\n",
        "            y_true.append(batch.y.view(pred.shape).detach().cpu())\n",
        "            y_pred.append(pred.detach().cpu())\n",
        "\n",
        "    y_true = torch.cat(y_true, dim = 0).numpy()\n",
        "    y_pred = torch.cat(y_pred, dim = 0).numpy()\n",
        "\n",
        "    input_dict = {\"y_true\": y_true, \"y_pred\": y_pred}\n",
        "\n",
        "    if save_model_results:\n",
        "        print (\"Saving Model Predictions\")\n",
        "\n",
        "        # Create a pandas dataframe with a two columns\n",
        "        # y_pred | y_true\n",
        "        data = {}\n",
        "        data['y_pred'] = y_pred.reshape(-1)\n",
        "        data['y_true'] = y_true.reshape(-1)\n",
        "\n",
        "        df = pd.DataFrame(data=data)\n",
        "        # Save to csv\n",
        "        df.to_csv('ogbg-molhiv_graph_' + save_file + '.csv', sep=',', index=False)\n",
        "\n",
        "    return evaluator.eval(input_dict)"
      ]
    },
    {
      "cell_type": "code",
      "execution_count": null,
      "metadata": {
        "id": "MR1wQ4hMZeMw"
      },
      "outputs": [],
      "source": [
        "if 'IS_GRADESCOPE_ENV' not in os.environ:\n",
        "  model = GCN_Graph(args['hidden_dim'],\n",
        "              dataset.num_tasks, args['num_layers'],\n",
        "              args['dropout']).to(device)\n",
        "  evaluator = Evaluator(name='ogbg-molhiv')"
      ]
    },
    {
      "cell_type": "code",
      "execution_count": null,
      "metadata": {
        "id": "qJGTNZiuZy0A",
        "colab": {
          "base_uri": "https://localhost:8080/",
          "height": 1000,
          "referenced_widgets": [
            "b2c0dc43d7f948c190ae6ec417405bd1",
            "3cfbe3ed7d744fdcb4c7a66efe11aba3",
            "9a3da0e189ec457480088debe05abc17",
            "745b2bceae35440daa08173ddb549666",
            "9a368b60ca2f491aa61f6e7986156a3f",
            "4df75a5062744964895d61ae4f967e2c",
            "7be9f75302b14002a232c54c55a25940",
            "85c5cf2d0f9e47c9bcc39319b734c917",
            "2e610180d16249b59f9479da1bd553de",
            "d34912a233d2442880d2a7b9bb100fd5",
            "765d81637b2941a1a2c0e926c0a74998",
            "5f65d78bc6fb404093c86234248dd85b",
            "4b56ae7aa57f476fad5b2cb8f1c37b19",
            "8f088cfb85d04fa7ab0373fac3ce948a",
            "fca012e3b86f4381853d99ba91643541",
            "683915a9f708467683300e676b4838a1",
            "5e74894846bb4d4fbdb838f09c0671fe",
            "ec0611d53c94442eb2f88056dc50357a",
            "831e44ac0a7d4ca096cda6f99a69e736",
            "3e4be0d231b842eaac8684f424776ae2",
            "18858275ff0d45a49a5cc0d9174a7e83",
            "e7ca3ab2307b4a65812fe01f581b5df4",
            "a47c5835761d4a908ed76e313913ca1a",
            "8ce2cff54c5a48c4b157f8426456fae8",
            "841f1a894a274c6d96cb388541b7af3e",
            "3706f48d457e4cbfadfbe161eabeca61",
            "cd066ffbe35f4c7088a6e418ac2d66c6",
            "63888f22ec7f4955a2efbdce01407568",
            "c6e805cf23f34119b84c0b4bf8711584",
            "4f12485c229e4ccdaa8f231d3325093b",
            "91eae94f6bf64f17adb2bbcc4c9c6d1c",
            "976daaa401f04888ac27f9e4340c9da9",
            "57cea6c261e341c38a2c9a29dc67d3f9",
            "29449a6538364f19b0046fff26f66b59",
            "4eec619775f34e99be2f67cd5c5dedee",
            "498511a80f0d448fb79b067f8d2cebc3",
            "ae21f222c36e40f3b5c01dce9e8ba154",
            "8509cf235a1b4a79b4f86f9b2ab9d348",
            "142d80ca79434e6b908d4bfe42bb4e7d",
            "95b247ec3c9a4ae8a93791e949bef904",
            "fb9b33fab0554cdeb3a80d90ef9b8422",
            "eb2cc2b3597d4514a567414d0ee89dd9",
            "65fa771a9d3541689a9c296349c08d83",
            "c6ed15d1d4af4f38b26066d73e8870a1",
            "b1752bf80f31473aa6dae2d1a354f850",
            "77a7955aa2c54332993de3a33487609c",
            "c6ea9dce3f124ff285d5ec2088e19c81",
            "f3a1006e464044d0a6626586910f6649",
            "7d169c250a594a878a71663b24eda1de",
            "6c96ef00809e4a23af762022916dfe86",
            "c6a56ba66d434b19b057922c6a2543dd",
            "e9d74d5250a94a1b8040cbce52550de8",
            "47b1dd5a277444408918275afcc1e0fc",
            "1d905c416cd84a8989f2e9cca7e7d8b8",
            "3b8507588c574cbbbd9c65f89d3a22e9",
            "112fbafbb05745109072e3dfdc243633",
            "5e9bc837ce284c8c9edc874e21586410",
            "5fca949ed86d4965a7655cd0ffe3b748",
            "054c94d7a8a94094b6e9f0b4b823ec59",
            "fab66500ae4d43f6a29c3f25f52d89ce",
            "ea312b1a041d4a38b2d3821e579905ea",
            "a77c85cf92a54f079c5741cffe6adbb8",
            "2955aa406f6f450d9bf9a21928d142db",
            "2208d27a57814e63a4cfb28ba10487e0",
            "c259e19524c04fbc9d1a04024c2d015e",
            "4e0a397c371148e797388f3a35d4f2dd",
            "c748be75ce14459b89e697e7fbec4d71",
            "0fc01b4b2f214b4c95ecb94baf134acc",
            "755a3175d7024df5a792f97a0b55806a",
            "f9fcc03ffbcf4827823823966b9bdc23",
            "dbe6678d237649fcb12b27d3efb09575",
            "2f0d61f702af4fe8833e8099ce9b8482",
            "6308968c7d13475d8b23064dd1b94ce0",
            "4c08efae0e864a9c833be65255e8c067",
            "56b648eb27674fcd9e88f1cc99750309",
            "5512a8d3626e44b1ae58e4f987e54c7f",
            "53a54da981894ee1bf998d56c23fa82d",
            "580709d84c8f46fd8d8e4951e0cddb54",
            "9a81d9cd06ec4ac9be36acb380bc7119",
            "0e565193bd4f43578c0c5e6fe01c2c68",
            "fa96fb43777141d4a2468b8246f1a8c9",
            "2231db684134445fa2b1c1416a741d44",
            "4e4b9fe52c6046ea980c74ae36e6d9ca",
            "ba8b3aa8a0bc4e93834bcec35d7ec391",
            "62398319499d4a5797cd4bc69063b4fa",
            "805e915b5800456f8852f842ddf44ecd",
            "8320918701ba4ec98a56f59d98cd482b",
            "21a5564523064432b1fc63f26cfa3b17",
            "050a2eecac514a258bf84d6afbb7499c",
            "a03839aa89874dc6bba6fc67ba53bfc9",
            "6d1f96adcf314e939ef41c79087642b0",
            "e3e53173690f4a1b9eaec881e39e4449",
            "12621f3fdf3a4affa23a471c03550624",
            "a266262002aa4da690f8534eb46bea8e",
            "c44942872e8244b4b5cd6ffae9c149e4",
            "30330ad653c1453aab19d3055cad24d1",
            "30f6cad7baaa4df898570a41a94b710d",
            "20c73cb4be9f4ea3a5afc68838e145a4",
            "ed6758af54c9491c90350fea3709a7b7",
            "bf60ba33f8b046e58b5f0f0cf40393a6",
            "0fc04c4c37274326b40d808bd8ab0db1",
            "78f858ee9f194aa9a536eaed23b9a849",
            "ac8887152dc94473a7fc49a626f29b18",
            "3f56c342d9534743a9e1abf9e261f3f9",
            "ab6049bbca2a4dc89522e1a44802908b",
            "c1bca83add924c5ba55dcc4a5366b7ed",
            "b927a9d0123b41fa86785e56173c9467",
            "3d90ac309edb4166abae106b28dba941",
            "c22404b00ad347268d40529d512be116",
            "f969d0e726754add80f845b073c06095",
            "ac798166db5644489608308a7faa6ae8",
            "d2d8e1a3906543978fd51f7ee6c570d8",
            "11e3b45d1f8849b2a64e0491926772c0",
            "3d0ed1fa813d41c7963236f8e60fd56b",
            "d97f0b60596745c8a7080bf01f24acbc",
            "63a66f2833aa4bcd96888a6cfd46248a",
            "7f65b1361c114e4aaba7272c6df1d7a7",
            "66f577d3ae064198a75bbe8171deb961",
            "feb4deba936f42f3af189eb1604effec",
            "723cafd4d32944fcbc461b84f6d99a46",
            "db3b3a6915dc4292a2e1b3da2280991c",
            "1402963ef1ef4bcdbc2097c4717917a8",
            "7bab80ae0b884a0eb80744f1b0240621",
            "aa900ed06edb4be9bf26ccb62667a358",
            "daf105f3e37b4cd9b86ba3c694a1af3b",
            "c82afc12d17047a8a9332819995be9d2",
            "5a2ead5198e84239be9ab4b062ab3624",
            "1e0bd2a8d354486faf1155ff7f4ddf1f",
            "27fbd46e44674150b993bb7bd5543920",
            "13e89f71a7cf43869ae08c42af9404aa",
            "fd5e1303b96140b68ccb837932b150a1",
            "8b77c8727e414378b53e7295e0bf6cfb",
            "a331b42da79b42878db859ff853fa400",
            "ece08700f873480eb130571f3217d625",
            "5e6c7be9b429468ca3e28df97bab76aa",
            "f273df385c9a415c9660f7b4857be864",
            "d46b11e8c0bf4954a866ab4b8d2ca397",
            "4039bef5ffaa40fb83c95a09783e46eb",
            "8f19572beb924f948baeffd9cb85bea0",
            "c67d6c7330d14885932dbc33b39457db",
            "439a0a065d484cf2a4d87fe0beb10e0d",
            "5784ad059b444401a55be4e3c457e321",
            "76eab2f05c9148b492e8ab7a8983a767",
            "b237804360f4493a9e2e5aa35603302e",
            "c7297abbdbe04b4088aebf4bbff4f14d",
            "7cacf185c75f4898a69d61854d72998f",
            "eea3ccce2d6a4514afe42332b2b9a622",
            "4ee8b5ff97cc4cbba6b92346eb3a03ec",
            "5a1309c6ab284939bd6342f3e78ecddb",
            "2e808ce2942a47fc8b0f224480fb929c",
            "b78f3adcbd09486eb03aea6212acfb64",
            "671895772b34457aaea1bbd92bfbba8a",
            "212c426152904934b791a5319f93e759",
            "2504a8a37f2844d39fb365c2a2419f95",
            "685b727c41af4c4588fc515d15a74014",
            "c5c2c4f2d8734ffa9f18c851e600bd72",
            "286609886a00464fb7a983959ef5f2b1",
            "71978c030ea44106ab4f555458fe53db",
            "cf8cc85c5433430ba9cea62d0fc7f402",
            "4a3f9bcc4fe74bbf805157de39fdd8f2",
            "0895396338b44957a6751eb8b25770d3",
            "dbe07738eedc46c5a017422bb56ea869",
            "fff6dfafd2d846d69e14ec629b60dc22",
            "346f048050f14769a42d835e14581760",
            "1d94bf8985544afa92c92c4769a4bd78",
            "da4df8b7ec30446baf44bfdb0d4045f6",
            "2a8bf9a80fca42b7b0ef9c999d6dd365",
            "738bbfe7bdf64b5ea716c7dd484bfe39",
            "e6bd4b933d674c6c9883cb8f65a7c782",
            "fb402247c0ea4424a8905de368d6686a",
            "b68de6acfca746ac8869f3e6a71877c7",
            "b165b947eca44a279432edee75132aa4",
            "da11dbd97e1c41c9af71792638e2c846",
            "8e806e546add475aa3430382ed3d2181",
            "d7d37375eef845039b818dc5da0c3d92",
            "a707b33900ec4537b4cf9954bc665eac",
            "1db8ff3447504a9c96da1b71b0153ac3",
            "fba20dcade4448b0bbf37e19e4bf2382",
            "17af76798280428c9994e00c5f641793",
            "574c32fd3622441a96d18c4e64bacad4",
            "3c6cfff7d60a49f982391919c22db5dc",
            "53a2ed4879564b469f27d15ec09d1e23",
            "ed0c85c6e4634bfdb674a9feeef40681",
            "b081af463b6d4902b78a9e2dfd4dfa1f",
            "33a8dd4b75394d2d8a087468652999b2",
            "a1871f68e7f649ea8a7568a3f3fed8ce",
            "856c8f9fd6094986aa6e0f879d84a2f2",
            "7329654e9388460e92c2c67c089b7a01",
            "7ea5e14e08d54ef7bd3cfadb89f47e3c",
            "98424338336948878ec305e90abbd6e7",
            "56ac1dc772434fc8998d975824654e65",
            "62409160bfee4cde97d52d4000fe0cda",
            "c3b3375f1beb42f7aaf43aac351c4e44",
            "191eb3034191410e848a21eb5c03cafb",
            "6a437a1480834f92bfce7a533a4943ff",
            "4fbfabaacada4f7ab55fb251e7b90950",
            "259abc44a0bd42f5a38565fc31a789bc",
            "44a8b7ae7bc54f53900ed1ff738850d2",
            "79cb42a2a2e9473793119046b3a26c01",
            "99c07f91fc01487aab30655d9174c63a",
            "d8652b35886f428484f3adef8e2a9a8c",
            "37be328ecc474203815fcdb9f163fbc1",
            "f7bd7f69792d491183188ee6da0f1bf5",
            "62a7799df4594200861f55a26106129b",
            "24385849fcda4b118bc24629a3c1a5e5",
            "4d1b4ed67b59465c9ad5ff8cfe7b687b",
            "b0810384f48943aeb89853f057a1837c",
            "c6021681d6124fa785c2c8d0c2774cf5",
            "aa099d4621974d29a6bde6520fb8ad9c",
            "175f5cc221a949908c8f5c7d002b4f2f",
            "d0202de38a4b444d9deaa418b1089c28",
            "25b52bf663684ce2ad8e33567b5121c8",
            "4e83e3ca64584156832022f79180dad6",
            "1848d05996594c5287519bfe10b751ec",
            "7365953f8a284ca0b9d74746f93a27dc",
            "452cf646dbe748b2b4d38417803f45de",
            "31c7cb2038074ffe8e946761b911502e",
            "cbea5b105ad94fddb942496cb7ba2f8b",
            "033afc1ca073475682153f41c80b7985",
            "aa71a422c02a4301b1fee7fdf388f405",
            "266308259a2742ffab801cb112eff999",
            "e3654a19388f435fa45aec779f658564",
            "26b3fbfd9dfe4e70b8522e1e8ba8e681",
            "0df639fc616842d6876d2bbec498a392",
            "0e6a6a35582043a782460348389ca6d0",
            "c8005c3050bd469f8ef21a6ee2f6ed3e",
            "f528263af0a74e2281c64534bfe1e3c3",
            "8ce55c65ecab4ba29bc26e8679c21327",
            "4fb07a5221614a3bb2dc5948d484e944",
            "bbd0b963f6644423a43a28c0d7a219ee",
            "4d79ed5d8de94ed1b3db0cacb702bd34",
            "2722ed388a66437a8a414f95e5f3e9bb",
            "c615d735a45b4a72977912c87df6faf4",
            "dc65ce3a5e0d4692aae4e738691a84fe",
            "cb4b4cd2415f4d13b4a14d05e63f6d5b",
            "fd7cfc3bbff04c388598874219aa44c8",
            "42d0acc70cc2428f92f4df6448a8e0ca",
            "193bb3da251240baa3f391b68106f078",
            "b7fc568fadbd40c6bea2f6cf1660f970",
            "3be15b826bb14a9188bc10cf4473a18b",
            "36d16e8487b64c1e8ae1f09a1cc2bbc6",
            "b808bd95f8ca4675afd367aa1fe0a6e0",
            "fa4cda44affa436c91aa816c6f09e479",
            "3e81b9f880d747f598146eefd93aff96",
            "6f005a22c7d145d7b5c20840a1d8ca7c",
            "f11e377c3ef14883b0ac84fd6c21a3a8",
            "f1db028af66741e5adc9e12a66278588",
            "c817b5c267c641c7b790c0eee4a82fc2",
            "29570af5720e4648a4f8ccd241101428",
            "14aa85e0499345df83cd0b183d4412e2",
            "43e8c200f53c4d86a457dd6a45668bb9",
            "9a1a7280d41840fd844202b2090bf16f",
            "324b778e14654ae386e4b0f89e46baa1",
            "f3abacb77ebd4f1b8b0c6a6acf4176ac",
            "2271cc173e0e4da9a5987bc2e231c876",
            "1b288cf43e494f23a2c3021f1e04526a",
            "abfcba2b873d4f39a800fef30be0bc9c",
            "55a55e3f1da0495db47ba0c1fe5be388",
            "1e2b5ba3482c4dabb4e9cabb28f043a5",
            "14891f2ca3cf43e3a7aa432b32568c13",
            "ae782adb5e3c4abb80170eba52b6913d",
            "9133ab258c244e81a26728b30894eed8",
            "e3e48320daf64d45a3e2ea9d72d1c406",
            "6da1ce526ab44e588ee81ab8c6da0695",
            "7149ca53129c4c1e9650405c9f5b0ca6",
            "d750279c72c6431ebca61d9791d4673f",
            "3fe316df4cd54929b0b557a7fd8c07f7",
            "e6b177fc32674021a8d65d4ff45b4915",
            "35f84ea08ecd463a8fb0b73fd9ee3e9d",
            "d762ae1207f644a79ecc97b7a473709a",
            "964930c0f57543999239c6e6d1017a7f",
            "1013713560ad4547ba3a82a90ff6706d",
            "78820242cec04c37b642e8815d07d2a1",
            "58ab997d2cfc4af6aaca8b2ce0282aed",
            "e7a0c05dad754ccdaf2adfd67be05641",
            "55c3ccc6d7ed4dfb9916e8a10655ea60",
            "ea367a78dd364a37bfd739d1a6fc0877",
            "74e24c32619b4649a481e4a1367b1c5d",
            "528a5c679ecb4d58af2eb86849ea297a",
            "a59c2ef7ff8d492d94cb933e06d63f8f",
            "52db4bd3bc2742a2b42e9ceb6ad2846e",
            "7486f88ba89f432b8cb4dfbcf725861d",
            "2253f9326ed74e52870c1590f9fed377",
            "510ec826c99b41d68be034728bc135e0",
            "c359a5ca94444c918f48d253e6e2fd25",
            "447860c5e8f845b599e12eaca4a587c0",
            "ee61635a26aa49a5999e19b69e1e48c9",
            "de6f60166d0c430f8c6aaec970609fcc",
            "ee92398135694928908d1aa7a5d24cbe",
            "d4cc0cc71f484aa0bf84ff8d6ec26c6f",
            "599c531f9a1040b1b4f06ffd99d270af",
            "ed4abc293486407cb692f657d8716982",
            "3602a6446c86428b84b5d8362d77c2b0",
            "e812dedb634f4ce381effdd2881806e7",
            "c492afcd7abe4b828c135c9171f9d3cd",
            "5e789b403c4e4736a479569e327a83c6",
            "50239b1e5e974d90a52d16cec59aa984",
            "22ac3d07dc1741ad9302efea94663618",
            "c1c1e2e21cf340c4bb571d763814c8e7",
            "84db74e195234ecb9907e5ee031cc671",
            "5fba20a5722547489686dd36d16c51ff",
            "ecadf4c3d41945198fe69f3af09e0c8f",
            "2229ab8954ac40bca7b873d9efa8503a",
            "cc9ca8237a8a4072b5fd2f4e5f00ba97",
            "7a91917f2de543ba962c5b0bbe85a5af",
            "10ed6a84c6e74f65a0b4c76544c9f56e",
            "9c5f1c6ea06d4705995e6387e8ded53b",
            "fb07055461cf413097eec921b34d34b4",
            "45cde0ec03f540ad8144b4e9c528153f",
            "169d90505d7c47568d2ad386a6c99995",
            "1ea99e549f024feea5089f073a4f606e",
            "aee836dafee9470bb2069b46be89d7a8",
            "f4bdca8f82eb444ebccf3a14c5568447",
            "d520b1b093984e62a1e89ef181795f92",
            "c02061fe657a4841bc48a805498f87df",
            "37f8006f6bb744109110b757b6060229",
            "41734e721a774bf3ac9b42c5360c4ae6",
            "935357b64e1c4abab4456858d3d3b405",
            "3cb5e86c75c44a37a3bea448fa1c234b",
            "7714c8b98f99463bbf11a531fd1fc3cf",
            "d20d3806b1a946638750076d6e466c34",
            "9777fa90271d4c9981bf5df731714f7f",
            "42d5951dab2f4e28aa5eb0571a70cca1",
            "fc6faf9df0aa4341859ec269fe688465",
            "c9658ce997b3449381030e97d48845a8",
            "57664b926a234b23b9819b48d31b5810",
            "923d663fd765414eb9fdc0a3a8d00492",
            "817b492bdeda4d268e2060b63c06776b",
            "209a7bb86fb648bf846aa0bcfb2848e7",
            "76e7b54cd503421aa84a9cec1ff0beea",
            "c1c8ddd981fd424b9dc964e133a49440",
            "5f4f5265fd45491487221a928ff467e0",
            "9b3c6bc409b44fc68abc096aabac72dc",
            "e114ecc68b2e4fdd860ca68459ea9df6",
            "08a08b58b80845239ed57a4979e8169c",
            "afd8d1212ae7443199bd1dddac7043cc",
            "be1e0e1781c4448f8df0fbe1c99111b3",
            "abe207d6493e47d8b00d494c79c66c7f",
            "8e0869c100ce45a1bebc9fd8ba60603c",
            "f0fa121b64134177b0e344c004c3b2e6",
            "8ff223839e8248e9af90d31459d5d7ce",
            "7ead14fe2c6e46c4b08c2a36599aaa32",
            "d925040504db4e669978c402ee4721f8",
            "44940fe7241d4227b2e51187b7874108",
            "4afce6a57060417abaa443ebef76cb60",
            "ba22db89e0844035b913e2bdd25dea5d",
            "3768bfb0ea40457aae7bb0a3ed8473e2",
            "a18533c8a3e94bc1a09ae836cc7f21c9",
            "94c5a44eb2154ddea534ed7bc3f9f273",
            "1ee039f252cc42faafcbdcaf2bd54aba",
            "5ec328f4c3414a91a8cec1e88ac454d0",
            "4647ac1771c34ffabe5c749c0ace7e8d",
            "6899e3df789f48a6a2804a5042d75d7d",
            "2950b297f86443f39b93c6b86eb3e099",
            "2df1045d0074437cbf1ee070aba6db90",
            "8ae1514b968246d59dd3a404538707fb",
            "8f9cd11afc6a41148d3b47e07afdf0df",
            "2fa3ea8c4fcc43e78400921aa9e2649e",
            "527239ec0b294ccdad620f1dcc3d578e",
            "6943e50638a443e1bd025b6d31143f2f",
            "998565ff9e1b464a90a65ebf75dadcdc",
            "494b77e3bdad477a8f978c646178b49e",
            "7382aca8c4954e599813e2ecad6713b4",
            "82b9876bb652490e81a89b678786ad66",
            "120eb865915d4d6b91034bebec93e622",
            "983aa259a6df428086762f2d4f15b082",
            "2aa9452705094bd2b982e13c2c669791",
            "81ce23e5a8d04b9aa25d4225ffbdc646",
            "90124fdc2fa14039b50f9dd6a02db33f",
            "8774140931a04ec5a7870d70409b7879",
            "aca55380941b461aaa959347fb0ef363",
            "c21ed7678fe74d88a6e603988efbfabf",
            "d0c6ce97ddfc4fec860ce9640ee09729",
            "3917491a55af403faf2e6fd99670d23e",
            "032305f05a9b4395ac4752cb6793c553",
            "df4189a9be3540ef96c4ad5cb79b4478",
            "99326967cea84b2fa766ac5408f5a941",
            "26bd7896e7024ffb8ef3fbeb9a8580e1",
            "85c06e215e9943328a453925dd3abbee",
            "7ef68015b5ab46449fe528c93ca24fbd",
            "a1cab8598efc4438ab69b5fa43b74c1c",
            "98a22a6ee24642329d7580c32f816697",
            "7dff70db4f9e468eb7d4a99e6c0d79b0",
            "3497a5ab3a2d4871bd0cc35972fcb44a",
            "fbadb22e89004a68a430a72410b2d337",
            "14562a270354457fba1ff7b4a7c332fe",
            "c7f2b8c599364702b00589bd78ad8936",
            "ccb2a5f8a61c43008b4e4fe5aaf71cbc",
            "68fe038b2b3340929efd9dc5f55a54d7",
            "c6afca8c544b45ccbccc2409eca1a5cf",
            "76f1fada329842e8969ca52bf5f3b06d",
            "868b0153d3414804911d642a00dc8804",
            "c118354d0fce4948826f2d6754f65515",
            "ddc35dc8d4c2403784886a0bdcda9dc6",
            "979396e6f1a34c898676552d3e02cc6c",
            "08053ecec1224aabb8b3a6d32710d6ca",
            "9dfa0ab01d394ac99618dbee9b2d4484",
            "5533a866268d4a58ba9e5d6605ccc56c",
            "69502dc94d7f4191b8185b37a2cf94a2",
            "031cd5aae4a64d0f8a6e853647d92563",
            "fd0c5d7d2ff74ecfa09015f276cdc633",
            "aeb5d4099af44b5ebd6d4e7d315f3c1b",
            "8f2870e6dc5d485aa6941d9ff77af9e1",
            "269f01faa05546e2931837524d0bc7b1",
            "da69fbc6485c4c749a5d9f5ab15bb6a1",
            "055a35dcc6ee4443b1c38b37170de13f",
            "67645a9fc81a41dcb9e44fc855ab6490",
            "983a8c6c88684aa6b9e96b772d26100d",
            "57a89af6cd834a208e3fcb33ccd2e495",
            "15305f7fde0849e0949704514059453f",
            "0be9b88fd4a642e987fd5e135af95294",
            "819e57744a6041c3b59eef444d72cf9c",
            "1cfaf0fe180d42dfa91a35f810dc5e7b",
            "69a0b0338dfe442d912a0d432c318774",
            "b3fb5f4423fb47dd9af9c65f989c2026",
            "c2fa44ad7da64c6390124f0410ce9a6a",
            "cbdfbfe4b94441009b9ef468595d6b72",
            "c9bb5d4997f04600827153e55dbb1a69",
            "3b66740106134b4793bb30f700446c78",
            "4bf6d60b3abd404d88ec8bb398e96dd6",
            "3c69ebf80bba41178a81c65c7c6a0f14",
            "458a4c59c8c64742ba82b7deb580a19f",
            "0eab10beef4a49508d702fcd4bcc590e",
            "0dddbcfc4912452896008190068b0137",
            "1682484ff3234ce884b573df1011e38c",
            "4ae1bf05e35f425daae4b2db2661cd22",
            "1e732142debf4c79811ddf855406e2c8",
            "7b60deb8d00945a6a60532aeb915e5ea",
            "0735423e6c654f49bfc291c1c6621a20",
            "74c1d7c25dcc40be8fdb08bb54e01001",
            "9179b247a5b244cd827d267972ed5052",
            "0e23acfb42984350bb6da644c6489d71",
            "48d89415059b4ae4a3cdcc0a67946ce8",
            "c7233862bfc5421893237763a7ca59f4",
            "e57412ecd5be452883d425fbbfb7661d",
            "8137971d26ca4120970ad294949e6838",
            "65afee9bb80343f49b886e5e44e51b43",
            "40d28cc6d68243afbb4e3f6c1e25748f",
            "3976e66812014205905b5b8d209a6c30",
            "8c9d8797686b4e57a0ad9b8bbeb5226b",
            "ccf87c8a8d4c4b19adf0131655778f90",
            "3e873d4191a94ce09bf2b74dd92a0a46",
            "b534eb0ec0eb4d29a7c27e16a84f9b52",
            "849ad0d3cd0a493d8996785a1de9fbb4",
            "46e898c8416b468984e52e25aa04fa57",
            "7ae479b767af4e408ac9ac4402908e42",
            "b16a0459865448068e47489b2cfe9875",
            "9734e1520548414b8b580c92bf12718c",
            "2b3c2ce191954a3499e81f9cca7b1e13",
            "9783e8a957ec4863a5be3d0ac99162bc",
            "74fb9e1278dc40a5ab0ca176ad92ae39",
            "11e782d8c24c4dca931f41d598a7a377",
            "a8aab26e1e5d4ff4bcc788a3015a899f",
            "43304d3b47ea4e6cb622252d3eaa09f6",
            "8dd605690032407ba124e35186c1bc4e",
            "5135ec61563343dc8543f95cf4061ce8",
            "6908bc326f4c4bb28cdfb753428d0b37",
            "97a4155899ba4963bd83cfb88c128d48",
            "d25b825da356435f8b1a841525957458",
            "9ed38ca29d1a4ead904e46fd7bbd0b76",
            "cf2f1bda6cfa46c39e94eff654bf3b26",
            "84cee9a08c254920b781725e2b5186a1",
            "460528bd8804471e9c4c6969ca76631b",
            "421ba6e7079849fa989c89507b0cf73d",
            "a43f8f1d1b3f4122852329558fa9e14e",
            "a4d16aac46154352b1f7d3ec0004e501",
            "ca94af4db5ba440d850b5223fae0cd5d",
            "cef393d85b2f4c16830545eeb6896e77",
            "0459c95bbb66438da287170eb8bd7994",
            "d076cb32b737409eaf5b8772e9f06677",
            "b4aa439facb04b749c023c94d982ac60",
            "585a46aa7ca0487a9aca0b65a55852d2",
            "a797448065fd424fb73aa45627b216ce",
            "7d2f1d31ab1448c098fd919ac1cf2a75",
            "596d26de9cad4c0c9304b2c5d214ca8d",
            "670778f55f8f40a893ef2ef144bb9a91",
            "3c3f5ebc026f43fca25297f0354fb31d",
            "a31304d0eb4a484cb591c72709e94aae",
            "92e14d9cc7ab48b6948733b54f0ededf",
            "f2a6762bc37c43e094c6865acd116e68",
            "76c3471c08f54bdc96362436e6643d62",
            "e347e95062fa447eb241615ffaeabf3b",
            "9e3c066429c447bd903d9c7982bee132",
            "ec0a2e79d5c341908edce25df6d36198",
            "8883170735f0460a8473012c9705b311",
            "7bfea1297cda499f9042e980e8822cce",
            "4dcbd14ba2c84aa5ad1e1b62c977c557",
            "3bb4e9f79d04499895b7f4bb797ab04f",
            "18cd523718ae4871876cb56669763b7a",
            "7c4a9eff08074fedb9beb14a0840eabc",
            "b317b1f5769e483aaec5f401dccdad9a",
            "f9b1e18a641c4a1caed0dfccf6856d83",
            "7fb9b28f95ec4ff8a2e0b184a285219d",
            "19625548b5114fd88360518813a547fe",
            "e9e57779e63b47cab34c2e0cb9f8ae13",
            "e8a11fe0f1f04ab8b91fe022c750c058",
            "dc3505b9db584f80bff84276c89f4e97",
            "f915da446cf848e69301c7e6f202bb14",
            "dab99b0daf774a69a332fea5ec946cb3",
            "097885ab100d4f1791a6df0ed656d814",
            "d4b949ef4b1941e792c1e19f49edb73c",
            "2bc1c2f4a1f04f2bbc1914c40fcac586",
            "4b44bd9b75a846269b34e12a3329c0a6",
            "d4510a1c12e14c73b5eb86a34fef2861",
            "6d91db768a3049cebe13fbfd5b1d766b",
            "803872bce9414cd993e7433469c78f5e",
            "33c2f85db5f8454cb0174f89f02e9665",
            "2810bb4bed0b4f1195f6e12b0c41d40b",
            "a00f8af176354e7581cbf4df29f69d06",
            "58e65f6fda714f18b3bd60d47b1aa2ac",
            "d3439ebd540e4105935d09d1da37f029",
            "278cdbd4aa2541d1b7e9d12950b7f4a7",
            "073b9f9fe62e4c97b81e6dcaaba6877d",
            "3b32f3c160d64419a1e12eb7968df1a1",
            "19a024d64a144b17a7f78f03eb0be13d",
            "e255cd10e1e944ec87c2555c73c82095",
            "dbf63368564a432c9eea25f6f8073949",
            "3119d2e8f1e945f4b98cffc9cbc3c427",
            "43ed145d3f8248ac8558efdc0a796514",
            "3c83c659490a4208bba30fdf1dab4526",
            "479f9a8625e4408a83e40c6e549c8976",
            "fc76623605be4edd83228a776be54bd9",
            "40ab862bab98422c8a94f77e36e767b8",
            "45ecfe13aef14b4da89cc9f15733b3ea",
            "827ec1f72194442db6dbd1605e02058b",
            "83dcf58886474969a31f610675141793",
            "aee07e605ccd40b78e5cd457406a5147",
            "2337bd306c274c2795c75c040c83ad8a",
            "aa4c2c4748d043eaa8807233ededa8be",
            "7f7438748b13492ab4a0ab2529855ab3",
            "6430a06dfc9d430f800d1f4689be720f",
            "907304a7cf6643958453ee0f1d222ffe",
            "be8f1fb132cb4a75aa86763a26acf38b",
            "62d012acc23140b2aa09f30251324c5a",
            "dedd24699239457cb5d0d5ce6355cd7b",
            "d060a918db054896b0e9a642a1ae7193",
            "00bc1a0af9a5440d911f5e74d1168020",
            "34f3edb756044596a3192babcdb8a0e4",
            "80d7a48e91bf4022950b2fe98ac839ad",
            "35a155a6bec94c94b1c5d292f7d34ffe",
            "40c014c6e8fc4578980eefa0d202cc9d",
            "2dc7f27047664b159499b15d3a0ee1ac",
            "aab17d63411048cdbae0c010cc4408ea",
            "d1e6f4432c6e4c39b50ee4e6842a4ad4",
            "b7bfb1abb63348868cf81a0d4a309fd5",
            "1dfb3da2478c478fa87b4976f3ec40f6",
            "44e6ee61466740cf9e460e12e3452453",
            "d45adc611b9a47b49e5a8cbe75869ca7",
            "e49745ed07a74460a32aabe53e58aaa5",
            "691d895889cf4b7abcaef26f5daa7c86",
            "0284a84f44d246eb93f3fc0a120b6187",
            "c6945a67ae114ffd8036cbf82d14e496",
            "1d45de4acdd1477aae85314ca6a339ec",
            "8987b4f3141944849579f68ce7fee5e6",
            "fd40410d9db54cbcbe6ed4f789a5dacf",
            "185281ef870b4ecbb5ba6f0e9531fe44",
            "1f2d0f7660234148981afb4c70c82b0e",
            "e41cd6c6736d4c2e8c1ea5411ef4bb4d",
            "6bfe2d7f209b49469b59201064e4da46",
            "c2fc98abaedc48d2b13e74713382b8c0",
            "7cf2fc3c1ee24178b930d7c9cb6eb402",
            "c93050bd7b5b41b8ae8aa94cad28d082",
            "3021b669ef554065a26a1fbe5f82b045",
            "9ea65f7b20234e70808e611fc815365d",
            "8f756edcf0bb4414921e2802ba167972",
            "70850f6ad1e1461f912b33a775f7fc67",
            "144b9bd480a64b30926a5dba22ebdb1d",
            "ad65a2e64d7f47f8b552334e3c76f957",
            "816b26838e2149ccb06f03c386a01fcc",
            "80e14c6d8e8d4e7ab38a12d4c0c83db8",
            "aefb2a85a75d4561bf8a50760095c40c",
            "f4cb5c95f15c4e3482de721f74d7aa03",
            "1818a48b3e6b4f95b129915e115d03b1",
            "b492b0060e24440e85ead2657be3dd73",
            "51bbd5098b2a45e897c4a33483948fcb",
            "6911e62e4a50451c977640ff22d0244d",
            "29a93a58c6d2476d9271c76dee5e78e8",
            "29a3180bb92e4aa8b4cc73555b544734",
            "12786a9423a9471fadbe3c6992fcf3f7",
            "6fd65b843e384bd29bf7cb0a6279a840",
            "db5c16de4b2a449999a80b553c734251",
            "f20a344a7c6a45009520390158238794",
            "256c5d69b4d249e8b15c4771b0685e62",
            "c914165b8dea497e8b163d42ede2f0fe",
            "617c34e0963d484e940c50a1a1b85fde",
            "a760eab3c6684e9d8ca17889a19d4b05",
            "4c0d85a86f1c434b87618bd0791080f7",
            "93371a2ab07a483986f24e6ec8dbc5e0",
            "47317a7054b641a9bb1d416ca5895fa5",
            "a741a49ffb654d0f86c068fe07122e94",
            "8f0c06c1ca264411bdc025db2b0890b7",
            "e11fb09b02ea4b34b19185b5de24123f",
            "81d23da39ba84e3198be2da7cd11add8",
            "50974e10ed824117ae67fa4a18e07f4e",
            "91520bd79593434b8daefce41557dc14",
            "b013cc7d7ca341d987ba0f4f4fc69199",
            "364bf1ec29ef48eabe88a3a3b1ac6fcd",
            "2afcee534d7f4f00af9d4bd00b1d3a9d",
            "e48f690b3c7a4b9c9fe8adbebfb7ab63",
            "13ad5018a1ea4a18a144b3ff4942a395",
            "9246c1c06dc94bd9b1192198e955df56",
            "1355183916bd4afabb76102d0a801d01",
            "80c95c7a8e5a4952ab6468ec23555350",
            "9d77cdcbb66a4d26bbaac11edda3eb68",
            "8f340ee0e01f42eab0eb620cdc7780f0",
            "90a4b9cbe1e7473c92ee6e73b8b8a5d7",
            "1931827fb4c64a1284ce0087b1e74561",
            "9039bfcd15874af99553594fc8f1138f",
            "711194ee0dfa4fa1920cded5e08aae56",
            "b34a6d8f5101452ba8122d8254bccf51",
            "711fdcf1a6c4479fbd57ce6587209780",
            "84cd14097b87421c8c372e9d30872f02",
            "2cb8ffd3d6984294b717b80d06723a39",
            "f09caed08a144235b2a86fda873377aa",
            "0c57a3fd640246bea58d81af9c19ce0a",
            "7a52dae9272f467886c852fbfa942010",
            "570e21079d054d1d985657d4a39575b2",
            "a8933bae8ff24f699a1f432af8369bdf",
            "22fee7b677aa4bfa81ef00a865d62682",
            "79f191ce7d33492992bfd309add789cf",
            "b747838db7db4326a9052a6157f55e26",
            "e401a73e50ae49e1a2692124f47e0334",
            "920e59d06374470f8d84f3a03e0726e3",
            "3304eca606814cce8db6d5b1c87961bb",
            "21c644a7736e4e7e904d1ee3093c13bf",
            "79fc3b9ccbc041888cd98679f9c1a128",
            "5dfc0db3c75c4a95958221c48e979430",
            "e63b6d822f6348bc80109acec272c8ab",
            "173bb6405e3840fbbba870627d6a6d18",
            "ec62563fc2344a84ba48a01a38f7798f",
            "f5ec61d4ce594dd2a6874085577da63d",
            "486d95737e5a40f88cb0c7aee0a66b93",
            "92b1c9795633411caf05de723784a0ba",
            "bbe2e630822f45309ab96d132738c735",
            "e83347fe176f49a5bd75668050602910",
            "248ad418ff6641598b6fa1b88e36f81d",
            "746384615fd64dfba5e9f575f31acfb5",
            "2d2737577c444060bb116fad17c1a665",
            "03cbda82b0fc4fc485bbe92c9feca298",
            "b64b937029a84024aff06626364940d2",
            "f80d8f8048384cc5950ae43ab2adc508",
            "aae49cd4652847ad8cf71c0dce1a8d2f",
            "c593a2993d0a4a239ccdf49887783348",
            "ef00b32d643942ebb07626773eb98be3",
            "dd911b373d124d93b2266144bbcd6fda",
            "c9c3915c04e84506a98d481326f93ed5",
            "b6a9e7ed2a9a4ab0bf33c59e7ceedc02",
            "6f5de9151468460ba5ef33da03133bfd",
            "9f55b7baea544b09a88c6364f3f769e3",
            "24a92e694b7745f2ba65edf9298ec679",
            "4569bea5445c4c82bc5ffdd7f580eb05",
            "89afa4442af74299a3bf00c6873ad57e",
            "4dff67d95839467e87e118d88388efb9",
            "7937a53ddb954bb09ef8399cc88e389c",
            "92108cfeda034e9395a85dc01c9b982b",
            "80cb98d1ed34421290328e2cab157f1f",
            "abcfb9f868c14c669d3f63d790fd084e",
            "d109bb1d73c34cd780cbe2ed4b5cf3f3",
            "5d4c3f4f88b94880b6c0993778ede933",
            "086829b5af7b4d8a87e3297aac11a52f",
            "46fe907de18a4fef91ed1df325ecfa20",
            "4c0ff46adad141ecab9db01b9658d2f6",
            "00f6871125ce4dbbb4da97dcfa30a39d",
            "6c8996f1f7e54abfb0f65454a9eb2515",
            "af5a5e09cf88404c9f53f2f2ee8d17db",
            "d1deddd1f5bf4cb2a537f1abe24839df",
            "1a43e193c7094be5bd81093a23001b19",
            "bc6999117dcf4a9699bcc20072596b6c",
            "ee9567e0ff1c4aa0a6f9fecf7818a47a",
            "2278d19a88284e7f929765c472199a45",
            "a82a306caeef470fabe16afa42983013",
            "feaae67e326e401aae407a89bb0028b7",
            "b90e17f39f9a4f859649187b4c083fdf",
            "1a1617abd762487585e13fa71afc8484",
            "d56f7b272ac344ab86fc5be9bac0c5b2",
            "3c5cb2e36f564839881338e2189969f0",
            "8a0ba68631ea4b3fb40bec6265ada357",
            "cdf34523f0514d9a9b99b35f28e748ee",
            "dd66c2ce10ef4dba8a7f3136fc242569",
            "910c0991bee94467bb1e3b3ec3751e21",
            "e624386775b644a5ba7edb60b15e75c1",
            "cff7150330f442c687af2eef8af53002",
            "32754e40564347b29c4055685daec401",
            "ab86c3ccf5184ca68405cd04747e329c",
            "82756502a33f4c63876201ac0de0055e",
            "cf1f58ea233a471db4541b5d7d39f2b8",
            "391a4d3617894ab58c05d0dee4878e01",
            "0d36735429674f00b84c926ab9dde0f5",
            "a72db00ffb0a47abaabb3fbb9b238e37",
            "091dc3502f8d468c8186f9ce0841c079",
            "f2c6e49f975b4c22863874b8438baea0",
            "8c6524761c1d476aa3b8f5ddd43b0be4",
            "de50d949ff40491686480ad06c7d641b",
            "68b394c072274d8e9cadfbbb082be742",
            "d3c49f424a4043d89e609dd531602232",
            "9a3f7f525aad4719a3293aef19843fa8",
            "1b5b88809ecb49c7bbdc55fa6b1efb90",
            "5cee3485674e4871b54ae2247d91c711",
            "63f8260628cd400faa2eeb09aa127727",
            "c84f8ff43f41423fbbf24be6b2d1f019",
            "7ceb01b2f7d64fbd84e96ddbc2ff61ee",
            "e7817fddd93e49e1895163ac1088932f",
            "0bfc22b17911481d97a333e0c5dd1122",
            "e560de665fab457087e0afe956f031a4",
            "9902260f467d466b8046ceb09b507a1a",
            "b2844ad2fb54424a85563da7052df1fa",
            "ccb7340e74474587bf89ce9c795d83b0",
            "f2ebd10f91f04ce4a9db5add5422cc4f",
            "6eaed24c223f4bc3a497392635605260",
            "5530512af7fc4659b98262e50d75bb3d",
            "3428a7bdacf64079a8d23576d2d6886d",
            "d0d67061874e4067aae2c9519b224099",
            "4351a24a63b343e0905e85dc7010eb00",
            "3ca8d64722bb4b25873de868173f27a8",
            "217f7246ce10466daf9514fd3c9ccb25",
            "01ae7e465cc1490a9fb9384ed1418809",
            "8b214a4a31ec4ec5a8092563272a8644",
            "eddb74d7d9d74744934fd897c7d9d1ac",
            "59825eaa20764b0fa9e5c25f8215380f",
            "478d9d213e2e4079a472b7aa63c01538",
            "2e7c2d9a6d224d51838f87703217f978",
            "2a40bb80f4864b7abd129bc3460b9c60",
            "f42c7c9a613c425c8604dc3b0863a3f4",
            "c815ba23d7aa403183d992c8d22c2dae",
            "92a27db5752645f6b6693326733c948c",
            "ffe19b5bb0e544c0bd219116968055dc",
            "03c7dc3516ca4976b6bd9285a3622ca3",
            "6e6623c46f584687b04639a84f19c88d",
            "ad20584620184d0db79bfb62ee4125a1",
            "7cc4d476de7c45df917923f6e4f23385",
            "f7325ff6f65a47b3bfdede4d6e1b1c25",
            "037c257c9ff7472398396e5630f618fb",
            "0355d4f4c2624ada804dfe90b3b59f19",
            "b31a03f661044c169092168a9e5a111b",
            "def6af34e0114480a2278eb10fff8008",
            "61875e82d34c42f9ba930001e1738100",
            "11e8614757594e49bc80c0d4788c0687",
            "f75a6ed4df07489ab524816de54369b3",
            "da9888643fa9460ca4fa3f538cdc3064",
            "bd4dabd7bbba4b63a2dfb53f5fddbc0b",
            "7626e2908955452faf01fe82eac0aa0a",
            "d8a40517e48e4ae58f7338b94c99b6f4",
            "8b5982b070ff45b5b0ab312b047f7b7e",
            "067f847996c34442a313b6f4d09777f3",
            "435d9e666a034e719cb910cd7505bd46",
            "a0d5e0b6fe8d42338b459a95f32f7d45",
            "a4875c56a4fa4573a2b2daaf7d764e32",
            "c2ff734b24ee4a79aed2f3e902c50fab",
            "e27d9204fe5f494386bb1bd3a0efa2ec",
            "0ae6d74259854ab0a3e6ecf15017728a",
            "a44b06b865b340afa9962da5e1fc29c8",
            "462bd427913c459eb2990063964c17ac",
            "4afe65055e094f2baa822d2a26a87787",
            "dac663184e9a41508e12726558f60244",
            "54c47c7e25a84f7b8990d079d1f02553",
            "16aee9856b234d5c8eebca2862306346",
            "1b2b778920fd4496a2c925db39ab824b",
            "a39581c2009a47a782d6cc80774be634",
            "cab3dec0e8eb49b186c66145cca6849d",
            "27addf79b677464597ae203d496f7f87",
            "f06ad0bd64264eec89515cac85949b49",
            "30658c2a7395434fa02b3e118596ae67",
            "f65683b5c1a740d8a37182b692d3fb46",
            "adf12de29fd140da8bf268f16fb168a6",
            "ed4911953d22475abfd3563f35dcb429",
            "9e69aa85b6164d95a7a4630dee2d84f4",
            "821058e2907f40f88a0d08badb2adb3b",
            "3dfda125dc074e2ca5f45260d8489a3f",
            "a881c74ce1e341d49a432bb2795b382d",
            "9f508570d1f34707929b1b03030420f0",
            "0491d7009ee84983801362057510b1ef",
            "74fcf7d89572493fb7ecb1238cbd85f4",
            "77aba7a6c7b84da0a2fad5eb51108c24",
            "4f4906e05f2a4b2fb2bf2895b4627756",
            "dca6d58841d442b1b4ec2c16f8c92bb7",
            "aa79fd1e079b4089bf481462f1e00593",
            "5e3d1fee41e84bee9360c8f81424ef26",
            "2ea24c2e6f5a4326897c4307df7ba505",
            "adbd9ca2a34f42ed944f2eed55715c90",
            "452cb75d9db548798013943efaf156cf",
            "381bdbd3d1ed48b3a7d8a5aa5db00a62",
            "e156228c208246a2a3d4f85b2bfca352",
            "f793de9a0c9342fbb80afb958961f1d8",
            "af40c6e16f994b608886111ef41533f3",
            "3ac31951a551447b8bb99eb891d532f9",
            "2cac710eeadf485780e8a3e0b5cf456e",
            "8afeebf4d43342a7bde56de88b80eb5f",
            "fdf4666f46724a5bb7a51a4a0ec2888c",
            "f240ad7b08de4d7aad0a711d83a17c88",
            "cef0266dbcd0401593d3481688bbfad8",
            "69a6316603f74b69a27658dca0f11131",
            "3b68f3b4baca4b2b9dfc7b1b976538e0",
            "8f8a0a34dcf842c3a9d9557701362faa",
            "5d9e0d9e271446da886cf03eada30871",
            "227d587ca7e542f4b543fc3320305f1c",
            "fa402b8f5fe74a548b76b5148eaca485",
            "eb050f8b9b8a4080aab28ed1236615a7",
            "edd491c711b44ed38384d3dffacd34aa",
            "27d833b9eb9a48bcb972f677f130cae4",
            "769372b5d8754de6b7a1cbf6fa8a348c",
            "1899edded90944cea5bf747a3509b691",
            "90e7b4a0edd44419a1901a27f8c33718",
            "2db75690aec24efda42e5ec32dc9ff98",
            "dd7ffb593df64e04996c73aca01cfd29",
            "9539c1a7389544d78d9c99e57df14571",
            "d21a17755f2644c1b3c584c298ec713e",
            "109f37a51c224bc0bee55fe7b54ff6af",
            "efc371e18fa74b2592993fc3365b3644",
            "ea5f015a4873496ab369d41038c69162",
            "9bde085a8fd24148ae6c82b8a5aee9ee",
            "c857c2ae021148f98fa5eb27863d54f5",
            "ed0d82cd34404f5fa429adca053a1971",
            "093fcfb58b224f6dbee69d4890ff54f2",
            "9562663589b24066b24ade09cd28a1ad",
            "94b299ed1a8d4f7782a275c5d66dd79c",
            "9d4059de822245ad804ab72d59a49c79",
            "ef3eaf8c8ea347b7a7024a1f96f94c80",
            "7f4300afce3047a2917aba1e3245a3a4",
            "e38e73a7a00449d48f8317baf0096e72",
            "fd1167f9c8924b728503e205ac7f1844",
            "886b1826b7184c559c4b2f4ce4de34e0",
            "cb52a71e97964fd9a3a0c9860512da50",
            "fe49f4da30dc406ab366e1f97ad1a49c",
            "470480698280450fa0c974607465e2b0",
            "178832b805b443628b632d264025eb02",
            "4e51f661e00847a8ab16425e200d9c92",
            "df9cbf3500594ae7a7d2a5bfc0b279e7",
            "404c648b3093427dad647cf0d7ab4f7a",
            "177e662b400842659c8b1fbb1b22bfc4",
            "2b55cf1ac33d4b8da05af565b7aa44ef",
            "aff09b9e53e14535bfd6405214e876de",
            "afbccee9a215400aa8c9f162c02b34f8",
            "885f86392e884792a511624ccd6671fa",
            "c931f3a6b6674f4abea78863be366dda",
            "adbca1f0813247cd9e6043dbdd0389a2",
            "756e4d16371d4cf2a7440f0a342dd54d",
            "b07d2bff1304411085ca88d7d41d6c75",
            "820fe5bab4c64f96a7e1939ebbbca8aa",
            "14dae2071e744321adb831313aed98b8",
            "1097c054b2c5442aacbb47dfe19a210c",
            "2ae4d719b49744ea97a0c60b1bc909a9",
            "b7ffc96f8fb54ff793d6a6292e969972",
            "713ba9dac1674aa09c6eaaa02a585cd9",
            "b5dfd65cbf4649beacfb1054ef768c87",
            "cdbf1de75071443eb992a9f049b893c7",
            "90547fb8e686412db2663358471a901b",
            "19333f56169e4150b1b5453c9833d8e4",
            "93033881df774fb8b9cf07bba6339cbc",
            "a1f5cb5f6ed4414bac04b9ff14c042bf",
            "24ad17b5edc54313a1619d46b6b685e7",
            "5639b5e24cc3452dba20a1c6ffc4642a",
            "ed3097d94ccf469b82fa35e73472371e",
            "f459788b112240228e1d46c5ebd3d99a",
            "1dcdcc41b7834ec68d69ef4f7aaf3aa3",
            "8a7c59c12921476cb6e83039ad9344c7",
            "98c473c78d9a4c09b766e384d481f4e6",
            "0e0bfe4aa72048f3b4c0688998d8f35f",
            "14bf6769172741328ac9fdf5d3ddef8b",
            "7c572bed41ad4c37ad1692ee497ac03f",
            "38efd0a4ea114799a0cefd3b2853d391",
            "56d43bade62b4c8ca38d5234a5315e43",
            "c57e3df804ff4c0ca20b34a81a8a715e",
            "909914c32ea14fbabab04e1ff4073209",
            "a7bb7d8f8bbf4dcaa362f4f17a13236d",
            "433764f54c78494aa707ca1750471f11",
            "ab729a8b350e43d0bef7a657dadf6e2d",
            "2c96331d13374710a0528dc888efa8f3",
            "f0bbd32c62e94464aabb48ee5a334cad",
            "9bce530eb0b540aaa9bc6a7713f7dbe7",
            "af50e2f69de54a1d8b16bdb914c734b1",
            "281174e2ebe14690acc73423193ad326",
            "cde7d8442efe4c1cb2c17d1e39605204",
            "98dbdc3b74e74f80bc132ea38ff70417",
            "b1e19c5dc32c41d08ae948508e7aea38",
            "e60019d9fd804d26a33511f8f897f592",
            "dd773bf1854547dfa15e57f0a64019bc",
            "a09fd49e88bf40bebb096ec247d51083",
            "599e26cc04c4485d9e860ffd09defb45",
            "dae50628fa5a497b8157afc4158c68ad",
            "b927e47896be412383c2f8147d3664ad",
            "6511f9c02dca4e289e2a070d6c6ffc01",
            "95021f10496b40568ebe1e4ee989dd46",
            "6df5c70e83d74c68bff542fdadd9bc57",
            "e97e08efd8b944ae923f5b3a9f3a8a82",
            "08d57a65bd204882a4bdbdaa73065062",
            "e10704062f684395bdc272a094ca7b7c",
            "cdfbed639dba452d91e59a9c0f9c8caa",
            "b2c159140bfd4a89858f4e1f0f58e77a",
            "0ea3bf1bdd7440dfb1c6d684b6b0c96a",
            "93b5b1e6c6bd431c8450ef5dbb276446",
            "0c4ea1bdf7624ef799fae64931bcd17b",
            "d6de01fb5c06457a95c7aa2a28701ede",
            "bea2800822264d2da41414597ae298ef",
            "6ee0a675c6cd43d182a2bb7edc7f15c3",
            "8c4771c09ae640ccb11199aee0bb963d",
            "55632dfdcca14d59b63ef7ffcc9622b0",
            "625b7fabce964ab1aad8c787e5baf16c",
            "9128823be422424d94cb3fb01fea49d2",
            "a82b3e0d0fb0421c933681109de62d17",
            "c6776b2d133543f6a7b6a1a5bf344daa",
            "cfe953f26448499fadecb50a8cb2c827",
            "182718fc17684d649b9c7b8ee9505554",
            "7f9e626f836a47f895d49e6786a85344",
            "4dc2a323926c490da3c5555fe1abe862",
            "159b32d64dbb4c18a64f1e30aee22b34",
            "ba164fc9576d4f16a2d3ca06bf26b5f7",
            "3757d77640934d3da8723dd958bc91da",
            "a43e3163e7ee49338d0fd8f1836d3155",
            "29bb211906e941bb83e26378b68eed48",
            "2679d0ed148e46ba8a53dd18a5264762",
            "e3380672da3d4550b75eef01dc051ffb",
            "05316ecc7d7f4b78a5fdff43bf5510d3",
            "7bf0921284904ca49a528ff57ebb9a71",
            "6bd17eaa991c4944a367375494158a4d",
            "83436ff25a4c4e6e8dffd72b3af37c81",
            "1699ec706fdc4cf8a4d6cac1bc3b032c",
            "4d5aee77402140b8a24169b6125e2588",
            "2c38927f6bab42caa91e98f9741ee4f7",
            "c60c0ecdebc74605af836cdd783b9154",
            "90d1c9673bb94c5a95f18fc6b30aeb3c",
            "ace2466684b64405a8019920bb5c7628",
            "66b5bcbb87da4293b4198603aa44852d",
            "6f87aa7355854a649d20cc1a681e6d1a",
            "bae16865fb574d9bb67fc1ebe6b30561",
            "188fa35a1bfb4266a0666795f370a15f",
            "8af4a3c07dec4fff9d675ba4e588726f",
            "cef7f43517fa414b98812627449a05ed",
            "b0a4eb7205ee44b3a282201423f1eb04",
            "2df78535d46745fa9ff55651f0b9157a",
            "5468b353ab674dc59ba21b500e22d1d9",
            "e0ff454c884744c1bfc779e469da67cf",
            "59b894dd6abe42a2af19e7f22f2b1a66",
            "a0ae77c37fc94917a64879a509ea9637",
            "f623b2b7857b408ebd461e1152fb8dc8",
            "6d1365805544482088988ec637a47e99",
            "1a11137151e147b3aba60a27b100261d",
            "dbd6dc50adb44308b95c0f159f05808c",
            "d4420cc47f20492bbcb67519b4175c0e",
            "dab0cbb5defc45b0aaf38db9d4c4bbd6",
            "c5f5e613595a4285ac97796861687676",
            "e7866f367fa34036bc6181fc3ab5092b",
            "f089f2e8c4604103981a705d464f8aa4",
            "989b6306e6f94d6086dbda13251f9454",
            "f3b7f66e874a4cfaa320ff7c8a2fde8e",
            "ab82e3bb909747feaac53a6f2e6cba6c",
            "2fc266453b794544a5d038d05c64e2e6",
            "5a0ee4195b65496ca653f96391ce6e72",
            "edfc865ef7114515b963a0e751a0325b",
            "926dec4ecc5748be9c55b0de99722cbe",
            "cefb1c23174f42ca8f7b032c00cfb0c7",
            "db75313aecd24482bccf88049937ec93",
            "16e344b65f9140bdad3564ceb8e3377e",
            "0187f9193cd341198d08c31f83f601dc",
            "36606fd866844f21bbef429d3c1a00cf",
            "bbe49544b674443989fc4cebf339d76e",
            "9cfe59b05b9f4fd0841c02e7da1d160f",
            "3ce3280a607a4d8a9becaefea43b9bfd",
            "90d61a75fa164eff8e4cb1151e466df8",
            "d827264679bd48e4b937b64e034f1840",
            "9f8c87ff613747b681e7e235c9ab057d",
            "92d12639cb2d453bbf8c18322099cf57",
            "4455a6af70e948cdbf83c43773283078",
            "802ef9b777654cf9a6760067c39cc714",
            "85a1b135993f4786a70aae7e90b6e65e",
            "fb7368cac3da4f9e980fb59286f9aac5",
            "ca6388571b1b4520b3a6f02079dd07fd",
            "854c2441fcda4d9b9622823c9b31b03f",
            "11ecb0817f4141f880d82ba769f4e001",
            "27e6de45558540c880af3261546a5148",
            "57349171c2d14d44b8310c0b37e5985a",
            "d42b33344b4b4e09867b54ac0840f584",
            "ddbafb7664194621affcf8dbb7dde2ef",
            "6797a30554124b079b02600b7f28a9dd",
            "f0a035d277f840059ed8cd3f80052f49",
            "d0313f2d636e4b3e9f95ef04605e1f33",
            "24de09ad472a4da28356738fc57f3062",
            "089c3bb5d57e4da088ea1df17415dcb8",
            "2c74dae1603246f6a904250faec490cd",
            "d2d506526c384c3f86739d66b1fde3e5",
            "79c2f5077793403190438755bffce225",
            "6a9904f20e5d4285bf8e4e9ff9fca78a",
            "cd69e067440d4015ae526ea0475c3463",
            "fbcfd6240dda4905801aff13521e1489",
            "e55172b958f141d2af3030d5fdda9592",
            "072c9446b6e849a29c501b79aa9d4b7b",
            "565b5799a7c84252b2d341520cd3607a",
            "704907bd619d4bb78c1518e57163fef8",
            "07406ae01c4548c3b97c4404e0a6b7e0",
            "fd20ac50512648bab78a1eba1035873c",
            "366b6c59a1824ec18c72a42bfe278a90",
            "9232fd7df80641b2975d167dd72f3da8",
            "444e26744f83485f870e58059d7b2a5f",
            "fab2865139d14fd0b0d40719f9561649",
            "15de16bf07f34dd8be5f8b4d38a820dd",
            "59d4ac96a997482992ffa77684a0b521",
            "6566ec6a600a45eaad5774a113ff789a",
            "881d8d4a551b40d395fe8b13dea5b313",
            "2cc9efbc44ee48129fd302cd301c5cdd",
            "99c5974ee2384843a283f7d611a86378",
            "3041c002507947b0b9a370a9f1665d47",
            "bb9bfb2b413e48839a4e88c85bab67fa",
            "f099409d015741f1bdb4962f0f788015",
            "324980ada668436dba112eef374b8f1c",
            "d9199679a80741aba39cfadbda54ee27",
            "82fee487a8044e348a3a2cfe3de2189b",
            "2f742db0ab9b4f9d8f109471ff9f4838",
            "519981a379564605a721e4013c56837d",
            "2c5b525f1bbc44fd922098cc43aabe3b",
            "67550ad6ab404eac89a7cabbf35e88b1",
            "463c5d22927146609b80c90328017b80",
            "1b391c43d5174e9b87d6d407011878eb",
            "e44a42dc58d34e6db7e15605e2773dae",
            "e65cc94b81f24c31ae24f8c009f1a1ba",
            "b9d05fa374104252bee0a66df574ddea",
            "331cb9b5bd2e4201b9e06ffb5e6b5a34",
            "f6f2f3703e514cfd951979e140ae95c3",
            "9864e41388e54c6a887238446ae621b0",
            "1fb03d7e737d447b88392cbf8eaeef25",
            "b7d574f9878a46be9f6f7a2bad611cf2",
            "eea68a4c5bb44da3b79c01801e432f3e",
            "c8172d9346d648b7b01179828f0cddfb",
            "14a84d4cf270425b82a7f645e04f7bd4",
            "efaca1054f1a4719801a3c61ce3c4401",
            "8136f29461094cfd9fac470d083a4652",
            "a1cc5582071d4e898fa0cb1d30db9528",
            "901f483f41f34e81976f8a0c63890b98",
            "0714740dba884e1bbf4c37a670193fc7",
            "eea8d9d696324b61ab84bb674f05c622",
            "7f049a1007ba49199b83304da76cd3a8",
            "1ad3bb8eadad4601a3cd7caf16d85500",
            "59d4080e5008432ca568437e7e3de84c",
            "7f0d335f9b014a8ba3b4f87ca9c1b097",
            "184b9d3639b4469da41541ce6a5983b9",
            "2d71b145b65e430dae1d4f3454a0c96d",
            "5ffd61b877ca444fbc10eff1d0efb13a",
            "a51808c53ed348d4a701dc65c0c93f0f",
            "9f95d74acb2446c1a99ba97de74be0ae",
            "e154bf4860744012a92225de48415c56",
            "ea99fafb25b34344b2c6c2be4dda2fa5",
            "f53276d17f2a4715bce6e26389d29a7d",
            "99dd852e435f475d8a3cd1db81c30783",
            "ee92d6c277f540d49ce132fc8826b932",
            "0777364beb3c415da6586d18e5d80932",
            "26a8d8d8e3384e6a8f3d095ed54d14b8",
            "d8c7576c5c9e4971a89ff9fa24975be8",
            "3506591ee6944b0782300cda2feea8d5",
            "477c3b2f906f4184b1951fdc95d3740e",
            "3ef11a567e7846ce99bdfb082b6ee51f",
            "ad94aafd6ab542f29653029abcfc61a7",
            "476e8e8eaafa4f82a90571c75b983c1a",
            "8f049984fd0548a181d2b5eeb37d674c",
            "5195d091a0674a85a765ff7429fb2959",
            "55aa8035071a427bb80648d9b6c9b270",
            "0162bed91ab94fa48b1cee54fe687524",
            "0b39ff34e575495e93e9fea2ec27f789",
            "b9b70b3cee944ae3921fe2fe5763194b",
            "aa6b92f9b6c74adaa4e645d3c7e347ca",
            "0e0a18e12ffc4cd5b48e79890bc22d35",
            "64d17d019e67419bbf976d8c4e6cbf63",
            "dca3ea0bf5c5482ca1d40df975b10280",
            "4ecb9d039d4e48bab5895b34e26b3cb6",
            "880fa92de9db4692934294a74ac95dcd",
            "7f91b9f567964099ab16b13e0ed771d2",
            "aa7f55e61b8d4be6a6dba6511c8a53b5",
            "4629f37de8574cb285033b7cc6fe932e",
            "f7d1a967fada4100bfdeca266a9bdc20",
            "46ec7c5f47394f8d8eb3019117c6a779",
            "583ac03dafe141deb9ac0cb7e946e88e",
            "455656b95f59431aa4c60909d382bbab",
            "a9c8b53058724fe690ab2f2abceca694",
            "64da9f0d008f4b0399d5490399eb1dd7",
            "169f4e921f584b04bf309e26eb599c44",
            "b7c11ef949404027a0eb6538065a5885",
            "fdf6954d8143440ca2f9aa5acce6622c",
            "7993b3d656264910aa43bf12d8efbeab",
            "6007071ee5e64482b8d3ab4c5f5fce23",
            "a22249d5cf634715af46a39398d7a94f",
            "b0e8790bc211421f83f9314b4f322e92",
            "8f9edcf89325423fb11d1b9de1e0bc91",
            "30b560e82e8840bc952cebf4ba606867",
            "da2e9b1757ce44fe83592c08d167e957",
            "00e1e0f1f67641579b335fc7c780267f",
            "f5087f596f68498da03540b9a8e7cb96",
            "3ccee12d51ea421b8a76d395d9a17b99",
            "9652030a0bbc4daa91f7742d0c164f50",
            "940990c2443f448e9b555ca86e4778e9",
            "97305b9b5b69475087863629d40dbcd0",
            "6d0d874bce9443cc9746dcbaf57392c4",
            "d7b2cfa664684731a94fef002d0a10ff",
            "ceb554fd77184618b2c2b2787195788f",
            "7acd1611625644c981c2db6b62401de4",
            "1da3f380611d45b4881b55e15a332f0c",
            "ae6aaf51100c416fa86455e3fa97fd7a",
            "c5ef603f8e7e441f829f39cc27fcdf94",
            "ae2e2c950c6949c4a4f75a29c60ca3c7",
            "bfc09d6227534a8193b6dce2666e2c31",
            "5b6c48c874a84d2b829cbe850825ef8b",
            "d8b4e82dece34980acda4f7783056e0c",
            "cf1302b71fdb490babf6bb84dbb58e07",
            "dc188d13432f43878e26130a490367f0",
            "e7f9035739054a818a08ca2ea5c3f7e0",
            "b097e027ef044b81a681066218487338",
            "f69c31fd59dc4daa8028bd4577622438",
            "ba6cd0a5a4114cc9895f4e0e52ec55a8",
            "ed1a57944bdd4e0f8726f6130e9b9f19",
            "44958fc0bd284022905fe690df12597b",
            "34a9465db5c14cb5bb7728d77abb203f",
            "d7233c5d150447a0963251652ae5febb",
            "dd8e69a99c7c4891a03038da0027e8cc",
            "74a8f00d6a1e44e0af30976af439cb8a",
            "7c43e6ca7f7b4ca3a6b39407283d64c0",
            "d556d3e5e54a48c99ddd36de40459c92",
            "9eb3825543dc4b448b2e51ac83559242",
            "eae32da073694a7cae29f61400d091a5",
            "aea152613fdb45608c924e20b2ac45e2",
            "ba4543ae5d3b4e2ca56ecd2af5ec3a78",
            "c76995e7a70f458aa3d60dd2dbb054c6",
            "23544d9dbc2a4b95a47a57bda3de3a18",
            "bc59f64e166c444599de261c877e9a81",
            "9aef315996c04ba29481c826e8f8a08f",
            "2b1380fe5dda413dbf11b05df5252d34",
            "74b7a3b6191142318cc15f7c7555ed7b",
            "0a2d4e403a6243d598ca758622cdea87",
            "7d94e9f18c364fe9a78bfcccd43ce1f9",
            "3c67651afaa44599a14e03f3ff86ed3c",
            "1737a2cc18dc4f2b8782bee4257ceef7",
            "5969bce1c2294e1eb2a3cd82543c314b",
            "f45d358db54042d68c102620d68dc8ba",
            "c4d6a92a596c4e1c8ce3971f7990ad6f",
            "19cb7779293f4b37b9a108f12df740b4",
            "2b0526c84f6c44c6ab41a31e9219dc71",
            "1ffe45772a4847cd9694f2a3b417ed97",
            "c1bded338d274127aa941b0c7f839368",
            "9d16a998f7de4075885212e24e4e8877",
            "3530ce3d0b6f400faed709a2e62365f9",
            "c514c8997a674eeab2bdf0c22a28b607",
            "85d6406efa0e46df89ceed80a4c2e95c",
            "8af349c8c25c44829c03a8c5102f06a7",
            "6062b89d5e5e4eb58e143f90675db7b0",
            "1562be0f852946429ce09b97a778a6f1",
            "f42ed948a5394271a634ba449b28a6cb",
            "cec2c9a628274c80bf2d4c692cfde68f",
            "27ff2045e57a41e085d1b232c70e5579",
            "4c181dc0982e41b888a60237ce9bc3f1",
            "20d7fcb466a44fd3a80413e4ec834d10",
            "2c23176f63e34726be9ff039af9bfadf",
            "962cf36030ec4d24868afd013d504fa2",
            "4cf06cc7af574ee19e01d99bffe61186",
            "d91abbe12912459b99692b9410959b86",
            "73a74bfc4b15483cb4570a4f2e49c46f",
            "40893d405a2844fa86162451d45888ad",
            "092db78559cd4d3fbdacf960347406a1",
            "a425ceab85ee41128c85727328f87f04",
            "f70f836999684b49a42e961bd27538cb",
            "ec087a49a6ff47738e1325194e349a90",
            "0514653f43994532936113f44da62625",
            "63fbc8adfd524727b9526fa59fcbfada",
            "9b4522c1a29843658896f8ddfb34b3d0",
            "68360b293fbe4312878ac6e9139692c1",
            "f4b10266aae44be0842abce3a9f55946",
            "ebd245ffd09d4cde995eb15aa1a2f8e4",
            "214e98b724b64e67a9eb3fcc0c456e2e",
            "410f70714619455cba95fc4973a749fe",
            "187aca01882042a994bea667cb015a61",
            "0b79589ab28d4613ab18e24e91e3602d",
            "124c09c0f2974fafb66c78a385ab03a6",
            "fd4979278f4c49c7b7c97920219dda07",
            "99e41012ab3a4b1c8c7f1c5e5c22718d",
            "0a09745ac3c34c648a7ffd0b9ec5cae6",
            "2379284a03c347a28e8010863d7328d3",
            "4168e98845a443daa27c31422ff5c921",
            "dda3a99c038b4b2eac024626295c4d45",
            "7e0950762e704fd0b076b3d0f4865d27",
            "4fcd555aeb3d4acd990f53bd7ba2bd29",
            "be843f367ece41a69191874ea107d3c8",
            "8f1bbf4a019847f79135a8212ad9e43b",
            "12fb2bd383bd495783fc81870b2cfbf1",
            "606f7b65b2594761aca10ffbf1fd657c",
            "c5e2f98e1fc0478ca2532e5515aa1e84",
            "ec777158f36b437fa2b5a4752f506853",
            "d89e16680a514f898186cc85714fba16",
            "056976421dfe4871b4e8e5f2e755f7b9",
            "1e069332f8a24549b4b26cc2e05edc65",
            "a0866796790548c981fcbf4290b0e171",
            "ba1878643d4749dba66987397b8ecf6b",
            "456679db505648ad93ea80a5a973af61",
            "27a37042fa0944e59f68fba6d7ad341a",
            "1a9f9e25f1b14858ab5dd73cdfb08753",
            "ad102f6cdcef46fd811499224c880e45",
            "4bdc910af996448ab46e8632a7eb773d",
            "716123f315854b6a974055be609d6363",
            "fc57591880ac49a3a887baecb61ee79c",
            "d1a48c3c8e844a79a912c3101543406f",
            "f95805a722e645489b7e9b6be22b0d3b",
            "8637811157a74513bc54ff6a50dfc798",
            "0d7844adfe4340a1bf239bc7d396bd8a",
            "82c51602c4e742e09623d7adcb83ccd1",
            "54708f3e36e0414a9ac8e7b5c977dcdc",
            "f3eceb39db524401b1661ee5f27bc7b3",
            "d5312cf0f4a146d79289f22805ca65ba",
            "9404b23422f4458a90a51275e0c6d5f6",
            "5ca6aff4c7e44e768496c29e16acf815",
            "65acea5f34824199a3591276be48ae2b",
            "544534d9a73749189dd2a5e2020e1004",
            "d27073da8afc4c3ebdf96986cb31d450",
            "dee358f357434c2ba100eed0e54b4f15",
            "24be01ca05d641a6bb97e9412fba7bcb",
            "103fc2d1c3ed459bbaf0732419d20287",
            "d51f8efeb0db45869c9d628cc6d7d940",
            "05a43da04d374d6bb4af398ee447fa98",
            "7499667215c3486b98de4b69cc0a2ba5",
            "2276022546a74523bd5154df7471413a",
            "c0fea65912b74148951eab690b3c38a6",
            "0de49daef24744039c44a985ec558a69",
            "09091c1c96d14315b2ff7cb4f0976391",
            "610ddad1736042c2b7ab458a842bd185",
            "8b82447e936b42bd981065c70429d7ba",
            "a100fa32aa7c43b5942b92ec46bf7bee",
            "c8448f2048af437ea122f10db737704e",
            "89f5031587a046f48beb2377a546857a",
            "6f090910c8ea4c7b839982266f1db74a",
            "cd19c805fb3148e2b37ffad4c87ddb54",
            "a50cca8c971e45cf8f4e91b1bb0d51ce",
            "f7a8f8d192f648b3b4364b30ea27e1f2",
            "a5226c0a4db74df9968dcd57986b6f0d",
            "64639c977bd94785af4746b190fb3aa2",
            "c3516e46befa49cb9b6f432fb76c3d00",
            "f501192d10ec41bbaf0f31e3945d0dea",
            "1fca37c90d4e4f6ab6c57540a5fd6e3c",
            "63823847b5ed40da955dfb6d2d430e01",
            "63f9a4922e4e48b29cbc199c3c528272",
            "d7136af337784207a33b5c35e14ae9a5",
            "9287908cb0eb428fb42e98f615154bbd",
            "50dc6ae73e784832b91bb7fbd6da1aa5",
            "65fe8af186674a7f9fb469e32dec6bbc",
            "2f95ae5d8bb0415186871128906f752c",
            "eda92e9994014c798c53d3ac674bca32",
            "6e49ecef713343d2b4193ec72ee343c9",
            "1a1de953dea64ad49b55fb0221a47b15",
            "71243d0304b84b458a433c28179995a4",
            "d396adee2fbd4f85891d415e5d068512",
            "80684ca2ef3c43238faf50a50a4b3d1a",
            "98efffcd468144139403c610dfd91d7f",
            "e69466f50589435da6ceac534c6dad93",
            "e7a7787f25d24413b7c6980c3b29aa98",
            "f3b4d115f51341bbac478c363d866c1f",
            "e800c39faae54530be7fdacdb3836271",
            "97465f88654b4a23b0edc9f8e1c6bfd5",
            "96c6ed2c824a4c13a1da5ef8e7557c23",
            "e51dcf8d125149ebb4d38b9649f76775",
            "5928e3f92714448ba79b8c101d2b06b3",
            "298375c862d44f0bafaf9a67eb5eb94c",
            "b2e2baeed381477b9cb3e9627aa2da8a",
            "ef1c65eb41874e90986b707cb8c605c8",
            "bb0cd6f6103d49e0bf85b6e88c6641d5",
            "b1331b6d9d174595b13b4e5a0bd73809",
            "d81d8be5f200457781ca54d262856061",
            "7b0d491b131848428c8f74c5d3a95361",
            "250bcb19875a45b3ae6fbf6b911646ae",
            "1be062bfab3b4c45babd244e350c100e",
            "ade683c7376c460ba0eb7efdd93d2e41",
            "5f9ac8b1b54d468d9e57e5db922254fc",
            "d7e2607a383c48b98fcfc9a5f11b2403",
            "95935699caff4d2b8ffc013305999680",
            "570591351a4e4244923cd4838df54153",
            "8022d93b119f4b5d82cc3cb26d93aa1c",
            "ced353f4621d4bff8f495e3c5df55775",
            "997ade5525144eacb575bf2051b4cab3",
            "08be810cefaa47c0855ffe177837e230",
            "def197ac7a72472f90a483e80f1fc79c",
            "2374e5023965468eacc7c247c2979531",
            "163d31f02be744e89042cec8aec59570",
            "18d1a839bbff43cd8d39a03580112574",
            "f2496e9b870f436283822031266620cd",
            "300eaeab8475405a92438b5904157a53",
            "23907b6f4c7340f8a143a1f535b1f1f4",
            "70e5be98a8604617b8575bf26bfbaa2c",
            "a6dd38848eab4d1aa17c6520fcd09680",
            "bfb7135bd92f46c69394faa4cbfe457d",
            "ec459fad3fd64ce8af20ed6e91d21ed3",
            "f69acd63bf0b4d5a8670f81c123031c6",
            "1a937161c8744e3295aaadd171bb1a24",
            "8e766dcafcb840739ab38ed0f2b5a829",
            "10049375d40243859293d3e0f730a5ed",
            "6ce74465000c4e7bbd9a7b86a236a99c",
            "84f73b5cf531442d9792d2e68e9da518",
            "e7bd9237fbfe440f8a79578a8bd63f65",
            "2850424f02614ef5adb0b15a0bab1158",
            "e55a587307204585b62fa9ad557b1130",
            "790c90d287cf4a0793a96785d6336482",
            "d7011c110b4948bcb8c2e3e793cf56f1",
            "509056b0b89e41638d1bfa0a5c2ddb3d",
            "c4c5ded38ab44a0aafd0a8f3138f313c",
            "ab5fee635a4046edb25edb628413236d",
            "069321da22ef4719bc1fe206850db66c",
            "4b4dcaf10b8641889947f1e69f6bee44",
            "03596c77769e49b9a63cd7eb9df268ce",
            "189b181e669b40ecbcf51e926ce862f3",
            "19b4100bace047b6acff82daa2237278",
            "9afaa05ef4dc4a41a273a4063e01e0bb",
            "6b80a3e868774833abd8f24b0258fa79",
            "6d67f5db9cb848e1960c0efade7ceded",
            "72037123a01c4a98973cf529911c6833",
            "ad5532e808314fdeb7529a73e8685a1a",
            "37f17bccdf1a479b9bd770f298428848",
            "701deef547914e0e8d541504507a6230",
            "f064ed9000a144abb066eb7ee0a6e7d1",
            "91f795b8bc8f4b64a87c2826acfca24a",
            "0486b9fc6eb24e60b09b6a982f8f0a2d",
            "af1d9acd43564cab8b8db29552322823",
            "418ed66fbe6240fcacea41aae526d1c5",
            "af86e3be04de4dd89decbaa90defb737",
            "b6043f35e6ec46c3b0a59cd54fefa4c6",
            "338062a694784c0188a2ba3c964c1c50",
            "ebe364189b61432f9862c087032e4984",
            "08397ec2d05347d2a3e33f5ec4fd3187",
            "abe2e4adae124faaac110d27aa425aff",
            "c35ab1cd40b74ddaa218cd94dbe1d607",
            "7924b341bf7b4c38901e3639767a8c3c",
            "5c71d036f53d458a9f0086e1c0e523d2"
          ]
        },
        "collapsed": true,
        "outputId": "abcd1a0e-a3fd-4610-88d0-84495d106605"
      },
      "outputs": [
        {
          "output_type": "stream",
          "name": "stdout",
          "text": [
            "Training...\n"
          ]
        },
        {
          "output_type": "display_data",
          "data": {
            "text/plain": [
              "Iteration:   0%|          | 0/1029 [00:00<?, ?it/s]"
            ],
            "application/vnd.jupyter.widget-view+json": {
              "version_major": 2,
              "version_minor": 0,
              "model_id": "b2c0dc43d7f948c190ae6ec417405bd1"
            }
          },
          "metadata": {}
        },
        {
          "output_type": "stream",
          "name": "stdout",
          "text": [
            "Evaluating...\n"
          ]
        },
        {
          "output_type": "display_data",
          "data": {
            "text/plain": [
              "Iteration:   0%|          | 0/1029 [00:00<?, ?it/s]"
            ],
            "application/vnd.jupyter.widget-view+json": {
              "version_major": 2,
              "version_minor": 0,
              "model_id": "5f65d78bc6fb404093c86234248dd85b"
            }
          },
          "metadata": {}
        },
        {
          "output_type": "display_data",
          "data": {
            "text/plain": [
              "Iteration:   0%|          | 0/129 [00:00<?, ?it/s]"
            ],
            "application/vnd.jupyter.widget-view+json": {
              "version_major": 2,
              "version_minor": 0,
              "model_id": "a47c5835761d4a908ed76e313913ca1a"
            }
          },
          "metadata": {}
        },
        {
          "output_type": "display_data",
          "data": {
            "text/plain": [
              "Iteration:   0%|          | 0/129 [00:00<?, ?it/s]"
            ],
            "application/vnd.jupyter.widget-view+json": {
              "version_major": 2,
              "version_minor": 0,
              "model_id": "29449a6538364f19b0046fff26f66b59"
            }
          },
          "metadata": {}
        },
        {
          "output_type": "stream",
          "name": "stdout",
          "text": [
            "Epoch: 01, Loss: 0.0424, Train: 71.13%, Valid: 68.76% Test: 71.62%\n",
            "Training...\n"
          ]
        },
        {
          "output_type": "display_data",
          "data": {
            "text/plain": [
              "Iteration:   0%|          | 0/1029 [00:00<?, ?it/s]"
            ],
            "application/vnd.jupyter.widget-view+json": {
              "version_major": 2,
              "version_minor": 0,
              "model_id": "b1752bf80f31473aa6dae2d1a354f850"
            }
          },
          "metadata": {}
        },
        {
          "output_type": "stream",
          "name": "stdout",
          "text": [
            "Evaluating...\n"
          ]
        },
        {
          "output_type": "display_data",
          "data": {
            "text/plain": [
              "Iteration:   0%|          | 0/1029 [00:00<?, ?it/s]"
            ],
            "application/vnd.jupyter.widget-view+json": {
              "version_major": 2,
              "version_minor": 0,
              "model_id": "112fbafbb05745109072e3dfdc243633"
            }
          },
          "metadata": {}
        },
        {
          "output_type": "display_data",
          "data": {
            "text/plain": [
              "Iteration:   0%|          | 0/129 [00:00<?, ?it/s]"
            ],
            "application/vnd.jupyter.widget-view+json": {
              "version_major": 2,
              "version_minor": 0,
              "model_id": "c748be75ce14459b89e697e7fbec4d71"
            }
          },
          "metadata": {}
        },
        {
          "output_type": "display_data",
          "data": {
            "text/plain": [
              "Iteration:   0%|          | 0/129 [00:00<?, ?it/s]"
            ],
            "application/vnd.jupyter.widget-view+json": {
              "version_major": 2,
              "version_minor": 0,
              "model_id": "580709d84c8f46fd8d8e4951e0cddb54"
            }
          },
          "metadata": {}
        },
        {
          "output_type": "stream",
          "name": "stdout",
          "text": [
            "Epoch: 02, Loss: 0.0087, Train: 72.98%, Valid: 72.17% Test: 73.24%\n",
            "Training...\n"
          ]
        },
        {
          "output_type": "display_data",
          "data": {
            "text/plain": [
              "Iteration:   0%|          | 0/1029 [00:00<?, ?it/s]"
            ],
            "application/vnd.jupyter.widget-view+json": {
              "version_major": 2,
              "version_minor": 0,
              "model_id": "050a2eecac514a258bf84d6afbb7499c"
            }
          },
          "metadata": {}
        },
        {
          "output_type": "stream",
          "name": "stdout",
          "text": [
            "Evaluating...\n"
          ]
        },
        {
          "output_type": "display_data",
          "data": {
            "text/plain": [
              "Iteration:   0%|          | 0/1029 [00:00<?, ?it/s]"
            ],
            "application/vnd.jupyter.widget-view+json": {
              "version_major": 2,
              "version_minor": 0,
              "model_id": "bf60ba33f8b046e58b5f0f0cf40393a6"
            }
          },
          "metadata": {}
        },
        {
          "output_type": "display_data",
          "data": {
            "text/plain": [
              "Iteration:   0%|          | 0/129 [00:00<?, ?it/s]"
            ],
            "application/vnd.jupyter.widget-view+json": {
              "version_major": 2,
              "version_minor": 0,
              "model_id": "ac798166db5644489608308a7faa6ae8"
            }
          },
          "metadata": {}
        },
        {
          "output_type": "display_data",
          "data": {
            "text/plain": [
              "Iteration:   0%|          | 0/129 [00:00<?, ?it/s]"
            ],
            "application/vnd.jupyter.widget-view+json": {
              "version_major": 2,
              "version_minor": 0,
              "model_id": "1402963ef1ef4bcdbc2097c4717917a8"
            }
          },
          "metadata": {}
        },
        {
          "output_type": "stream",
          "name": "stdout",
          "text": [
            "Epoch: 03, Loss: 0.8570, Train: 75.75%, Valid: 74.08% Test: 73.42%\n",
            "Training...\n"
          ]
        },
        {
          "output_type": "display_data",
          "data": {
            "text/plain": [
              "Iteration:   0%|          | 0/1029 [00:00<?, ?it/s]"
            ],
            "application/vnd.jupyter.widget-view+json": {
              "version_major": 2,
              "version_minor": 0,
              "model_id": "a331b42da79b42878db859ff853fa400"
            }
          },
          "metadata": {}
        },
        {
          "output_type": "stream",
          "name": "stdout",
          "text": [
            "Evaluating...\n"
          ]
        },
        {
          "output_type": "display_data",
          "data": {
            "text/plain": [
              "Iteration:   0%|          | 0/1029 [00:00<?, ?it/s]"
            ],
            "application/vnd.jupyter.widget-view+json": {
              "version_major": 2,
              "version_minor": 0,
              "model_id": "b237804360f4493a9e2e5aa35603302e"
            }
          },
          "metadata": {}
        },
        {
          "output_type": "display_data",
          "data": {
            "text/plain": [
              "Iteration:   0%|          | 0/129 [00:00<?, ?it/s]"
            ],
            "application/vnd.jupyter.widget-view+json": {
              "version_major": 2,
              "version_minor": 0,
              "model_id": "685b727c41af4c4588fc515d15a74014"
            }
          },
          "metadata": {}
        },
        {
          "output_type": "display_data",
          "data": {
            "text/plain": [
              "Iteration:   0%|          | 0/129 [00:00<?, ?it/s]"
            ],
            "application/vnd.jupyter.widget-view+json": {
              "version_major": 2,
              "version_minor": 0,
              "model_id": "da4df8b7ec30446baf44bfdb0d4045f6"
            }
          },
          "metadata": {}
        },
        {
          "output_type": "stream",
          "name": "stdout",
          "text": [
            "Epoch: 04, Loss: 0.0314, Train: 73.35%, Valid: 68.05% Test: 66.34%\n",
            "Training...\n"
          ]
        },
        {
          "output_type": "display_data",
          "data": {
            "text/plain": [
              "Iteration:   0%|          | 0/1029 [00:00<?, ?it/s]"
            ],
            "application/vnd.jupyter.widget-view+json": {
              "version_major": 2,
              "version_minor": 0,
              "model_id": "1db8ff3447504a9c96da1b71b0153ac3"
            }
          },
          "metadata": {}
        },
        {
          "output_type": "stream",
          "name": "stdout",
          "text": [
            "Evaluating...\n"
          ]
        },
        {
          "output_type": "display_data",
          "data": {
            "text/plain": [
              "Iteration:   0%|          | 0/1029 [00:00<?, ?it/s]"
            ],
            "application/vnd.jupyter.widget-view+json": {
              "version_major": 2,
              "version_minor": 0,
              "model_id": "7329654e9388460e92c2c67c089b7a01"
            }
          },
          "metadata": {}
        },
        {
          "output_type": "display_data",
          "data": {
            "text/plain": [
              "Iteration:   0%|          | 0/129 [00:00<?, ?it/s]"
            ],
            "application/vnd.jupyter.widget-view+json": {
              "version_major": 2,
              "version_minor": 0,
              "model_id": "79cb42a2a2e9473793119046b3a26c01"
            }
          },
          "metadata": {}
        },
        {
          "output_type": "display_data",
          "data": {
            "text/plain": [
              "Iteration:   0%|          | 0/129 [00:00<?, ?it/s]"
            ],
            "application/vnd.jupyter.widget-view+json": {
              "version_major": 2,
              "version_minor": 0,
              "model_id": "175f5cc221a949908c8f5c7d002b4f2f"
            }
          },
          "metadata": {}
        },
        {
          "output_type": "stream",
          "name": "stdout",
          "text": [
            "Epoch: 05, Loss: 0.0172, Train: 76.84%, Valid: 71.97% Test: 71.86%\n",
            "Training...\n"
          ]
        },
        {
          "output_type": "display_data",
          "data": {
            "text/plain": [
              "Iteration:   0%|          | 0/1029 [00:00<?, ?it/s]"
            ],
            "application/vnd.jupyter.widget-view+json": {
              "version_major": 2,
              "version_minor": 0,
              "model_id": "266308259a2742ffab801cb112eff999"
            }
          },
          "metadata": {}
        },
        {
          "output_type": "stream",
          "name": "stdout",
          "text": [
            "Evaluating...\n"
          ]
        },
        {
          "output_type": "display_data",
          "data": {
            "text/plain": [
              "Iteration:   0%|          | 0/1029 [00:00<?, ?it/s]"
            ],
            "application/vnd.jupyter.widget-view+json": {
              "version_major": 2,
              "version_minor": 0,
              "model_id": "2722ed388a66437a8a414f95e5f3e9bb"
            }
          },
          "metadata": {}
        },
        {
          "output_type": "display_data",
          "data": {
            "text/plain": [
              "Iteration:   0%|          | 0/129 [00:00<?, ?it/s]"
            ],
            "application/vnd.jupyter.widget-view+json": {
              "version_major": 2,
              "version_minor": 0,
              "model_id": "fa4cda44affa436c91aa816c6f09e479"
            }
          },
          "metadata": {}
        },
        {
          "output_type": "display_data",
          "data": {
            "text/plain": [
              "Iteration:   0%|          | 0/129 [00:00<?, ?it/s]"
            ],
            "application/vnd.jupyter.widget-view+json": {
              "version_major": 2,
              "version_minor": 0,
              "model_id": "f3abacb77ebd4f1b8b0c6a6acf4176ac"
            }
          },
          "metadata": {}
        },
        {
          "output_type": "stream",
          "name": "stdout",
          "text": [
            "Epoch: 06, Loss: 0.1188, Train: 73.43%, Valid: 73.17% Test: 73.43%\n",
            "Training...\n"
          ]
        },
        {
          "output_type": "display_data",
          "data": {
            "text/plain": [
              "Iteration:   0%|          | 0/1029 [00:00<?, ?it/s]"
            ],
            "application/vnd.jupyter.widget-view+json": {
              "version_major": 2,
              "version_minor": 0,
              "model_id": "7149ca53129c4c1e9650405c9f5b0ca6"
            }
          },
          "metadata": {}
        },
        {
          "output_type": "stream",
          "name": "stdout",
          "text": [
            "Evaluating...\n"
          ]
        },
        {
          "output_type": "display_data",
          "data": {
            "text/plain": [
              "Iteration:   0%|          | 0/1029 [00:00<?, ?it/s]"
            ],
            "application/vnd.jupyter.widget-view+json": {
              "version_major": 2,
              "version_minor": 0,
              "model_id": "55c3ccc6d7ed4dfb9916e8a10655ea60"
            }
          },
          "metadata": {}
        },
        {
          "output_type": "display_data",
          "data": {
            "text/plain": [
              "Iteration:   0%|          | 0/129 [00:00<?, ?it/s]"
            ],
            "application/vnd.jupyter.widget-view+json": {
              "version_major": 2,
              "version_minor": 0,
              "model_id": "ee61635a26aa49a5999e19b69e1e48c9"
            }
          },
          "metadata": {}
        },
        {
          "output_type": "display_data",
          "data": {
            "text/plain": [
              "Iteration:   0%|          | 0/129 [00:00<?, ?it/s]"
            ],
            "application/vnd.jupyter.widget-view+json": {
              "version_major": 2,
              "version_minor": 0,
              "model_id": "22ac3d07dc1741ad9302efea94663618"
            }
          },
          "metadata": {}
        },
        {
          "output_type": "stream",
          "name": "stdout",
          "text": [
            "Epoch: 07, Loss: 0.0178, Train: 77.61%, Valid: 75.71% Test: 75.00%\n",
            "Training...\n"
          ]
        },
        {
          "output_type": "display_data",
          "data": {
            "text/plain": [
              "Iteration:   0%|          | 0/1029 [00:00<?, ?it/s]"
            ],
            "application/vnd.jupyter.widget-view+json": {
              "version_major": 2,
              "version_minor": 0,
              "model_id": "45cde0ec03f540ad8144b4e9c528153f"
            }
          },
          "metadata": {}
        },
        {
          "output_type": "stream",
          "name": "stdout",
          "text": [
            "Evaluating...\n"
          ]
        },
        {
          "output_type": "display_data",
          "data": {
            "text/plain": [
              "Iteration:   0%|          | 0/1029 [00:00<?, ?it/s]"
            ],
            "application/vnd.jupyter.widget-view+json": {
              "version_major": 2,
              "version_minor": 0,
              "model_id": "7714c8b98f99463bbf11a531fd1fc3cf"
            }
          },
          "metadata": {}
        },
        {
          "output_type": "display_data",
          "data": {
            "text/plain": [
              "Iteration:   0%|          | 0/129 [00:00<?, ?it/s]"
            ],
            "application/vnd.jupyter.widget-view+json": {
              "version_major": 2,
              "version_minor": 0,
              "model_id": "c1c8ddd981fd424b9dc964e133a49440"
            }
          },
          "metadata": {}
        },
        {
          "output_type": "display_data",
          "data": {
            "text/plain": [
              "Iteration:   0%|          | 0/129 [00:00<?, ?it/s]"
            ],
            "application/vnd.jupyter.widget-view+json": {
              "version_major": 2,
              "version_minor": 0,
              "model_id": "7ead14fe2c6e46c4b08c2a36599aaa32"
            }
          },
          "metadata": {}
        },
        {
          "output_type": "stream",
          "name": "stdout",
          "text": [
            "Epoch: 08, Loss: 0.0338, Train: 77.37%, Valid: 74.98% Test: 74.77%\n",
            "Training...\n"
          ]
        },
        {
          "output_type": "display_data",
          "data": {
            "text/plain": [
              "Iteration:   0%|          | 0/1029 [00:00<?, ?it/s]"
            ],
            "application/vnd.jupyter.widget-view+json": {
              "version_major": 2,
              "version_minor": 0,
              "model_id": "6899e3df789f48a6a2804a5042d75d7d"
            }
          },
          "metadata": {}
        },
        {
          "output_type": "stream",
          "name": "stdout",
          "text": [
            "Evaluating...\n"
          ]
        },
        {
          "output_type": "display_data",
          "data": {
            "text/plain": [
              "Iteration:   0%|          | 0/1029 [00:00<?, ?it/s]"
            ],
            "application/vnd.jupyter.widget-view+json": {
              "version_major": 2,
              "version_minor": 0,
              "model_id": "82b9876bb652490e81a89b678786ad66"
            }
          },
          "metadata": {}
        },
        {
          "output_type": "display_data",
          "data": {
            "text/plain": [
              "Iteration:   0%|          | 0/129 [00:00<?, ?it/s]"
            ],
            "application/vnd.jupyter.widget-view+json": {
              "version_major": 2,
              "version_minor": 0,
              "model_id": "032305f05a9b4395ac4752cb6793c553"
            }
          },
          "metadata": {}
        },
        {
          "output_type": "display_data",
          "data": {
            "text/plain": [
              "Iteration:   0%|          | 0/129 [00:00<?, ?it/s]"
            ],
            "application/vnd.jupyter.widget-view+json": {
              "version_major": 2,
              "version_minor": 0,
              "model_id": "14562a270354457fba1ff7b4a7c332fe"
            }
          },
          "metadata": {}
        },
        {
          "output_type": "stream",
          "name": "stdout",
          "text": [
            "Epoch: 09, Loss: 0.0721, Train: 77.21%, Valid: 77.30% Test: 71.26%\n",
            "Training...\n"
          ]
        },
        {
          "output_type": "display_data",
          "data": {
            "text/plain": [
              "Iteration:   0%|          | 0/1029 [00:00<?, ?it/s]"
            ],
            "application/vnd.jupyter.widget-view+json": {
              "version_major": 2,
              "version_minor": 0,
              "model_id": "9dfa0ab01d394ac99618dbee9b2d4484"
            }
          },
          "metadata": {}
        },
        {
          "output_type": "stream",
          "name": "stdout",
          "text": [
            "Evaluating...\n"
          ]
        },
        {
          "output_type": "display_data",
          "data": {
            "text/plain": [
              "Iteration:   0%|          | 0/1029 [00:00<?, ?it/s]"
            ],
            "application/vnd.jupyter.widget-view+json": {
              "version_major": 2,
              "version_minor": 0,
              "model_id": "983a8c6c88684aa6b9e96b772d26100d"
            }
          },
          "metadata": {}
        },
        {
          "output_type": "display_data",
          "data": {
            "text/plain": [
              "Iteration:   0%|          | 0/129 [00:00<?, ?it/s]"
            ],
            "application/vnd.jupyter.widget-view+json": {
              "version_major": 2,
              "version_minor": 0,
              "model_id": "3b66740106134b4793bb30f700446c78"
            }
          },
          "metadata": {}
        },
        {
          "output_type": "display_data",
          "data": {
            "text/plain": [
              "Iteration:   0%|          | 0/129 [00:00<?, ?it/s]"
            ],
            "application/vnd.jupyter.widget-view+json": {
              "version_major": 2,
              "version_minor": 0,
              "model_id": "74c1d7c25dcc40be8fdb08bb54e01001"
            }
          },
          "metadata": {}
        },
        {
          "output_type": "stream",
          "name": "stdout",
          "text": [
            "Epoch: 10, Loss: 1.0489, Train: 78.31%, Valid: 75.87% Test: 72.71%\n",
            "Training...\n"
          ]
        },
        {
          "output_type": "display_data",
          "data": {
            "text/plain": [
              "Iteration:   0%|          | 0/1029 [00:00<?, ?it/s]"
            ],
            "application/vnd.jupyter.widget-view+json": {
              "version_major": 2,
              "version_minor": 0,
              "model_id": "ccf87c8a8d4c4b19adf0131655778f90"
            }
          },
          "metadata": {}
        },
        {
          "output_type": "stream",
          "name": "stdout",
          "text": [
            "Evaluating...\n"
          ]
        },
        {
          "output_type": "display_data",
          "data": {
            "text/plain": [
              "Iteration:   0%|          | 0/1029 [00:00<?, ?it/s]"
            ],
            "application/vnd.jupyter.widget-view+json": {
              "version_major": 2,
              "version_minor": 0,
              "model_id": "11e782d8c24c4dca931f41d598a7a377"
            }
          },
          "metadata": {}
        },
        {
          "output_type": "display_data",
          "data": {
            "text/plain": [
              "Iteration:   0%|          | 0/129 [00:00<?, ?it/s]"
            ],
            "application/vnd.jupyter.widget-view+json": {
              "version_major": 2,
              "version_minor": 0,
              "model_id": "460528bd8804471e9c4c6969ca76631b"
            }
          },
          "metadata": {}
        },
        {
          "output_type": "display_data",
          "data": {
            "text/plain": [
              "Iteration:   0%|          | 0/129 [00:00<?, ?it/s]"
            ],
            "application/vnd.jupyter.widget-view+json": {
              "version_major": 2,
              "version_minor": 0,
              "model_id": "7d2f1d31ab1448c098fd919ac1cf2a75"
            }
          },
          "metadata": {}
        },
        {
          "output_type": "stream",
          "name": "stdout",
          "text": [
            "Epoch: 11, Loss: 0.7024, Train: 78.92%, Valid: 75.32% Test: 73.94%\n",
            "Training...\n"
          ]
        },
        {
          "output_type": "display_data",
          "data": {
            "text/plain": [
              "Iteration:   0%|          | 0/1029 [00:00<?, ?it/s]"
            ],
            "application/vnd.jupyter.widget-view+json": {
              "version_major": 2,
              "version_minor": 0,
              "model_id": "8883170735f0460a8473012c9705b311"
            }
          },
          "metadata": {}
        },
        {
          "output_type": "stream",
          "name": "stdout",
          "text": [
            "Evaluating...\n"
          ]
        },
        {
          "output_type": "display_data",
          "data": {
            "text/plain": [
              "Iteration:   0%|          | 0/1029 [00:00<?, ?it/s]"
            ],
            "application/vnd.jupyter.widget-view+json": {
              "version_major": 2,
              "version_minor": 0,
              "model_id": "e8a11fe0f1f04ab8b91fe022c750c058"
            }
          },
          "metadata": {}
        },
        {
          "output_type": "display_data",
          "data": {
            "text/plain": [
              "Iteration:   0%|          | 0/129 [00:00<?, ?it/s]"
            ],
            "application/vnd.jupyter.widget-view+json": {
              "version_major": 2,
              "version_minor": 0,
              "model_id": "33c2f85db5f8454cb0174f89f02e9665"
            }
          },
          "metadata": {}
        },
        {
          "output_type": "display_data",
          "data": {
            "text/plain": [
              "Iteration:   0%|          | 0/129 [00:00<?, ?it/s]"
            ],
            "application/vnd.jupyter.widget-view+json": {
              "version_major": 2,
              "version_minor": 0,
              "model_id": "3119d2e8f1e945f4b98cffc9cbc3c427"
            }
          },
          "metadata": {}
        },
        {
          "output_type": "stream",
          "name": "stdout",
          "text": [
            "Epoch: 12, Loss: 0.0208, Train: 79.14%, Valid: 75.35% Test: 69.84%\n",
            "Training...\n"
          ]
        },
        {
          "output_type": "display_data",
          "data": {
            "text/plain": [
              "Iteration:   0%|          | 0/1029 [00:00<?, ?it/s]"
            ],
            "application/vnd.jupyter.widget-view+json": {
              "version_major": 2,
              "version_minor": 0,
              "model_id": "aa4c2c4748d043eaa8807233ededa8be"
            }
          },
          "metadata": {}
        },
        {
          "output_type": "stream",
          "name": "stdout",
          "text": [
            "Evaluating...\n"
          ]
        },
        {
          "output_type": "display_data",
          "data": {
            "text/plain": [
              "Iteration:   0%|          | 0/1029 [00:00<?, ?it/s]"
            ],
            "application/vnd.jupyter.widget-view+json": {
              "version_major": 2,
              "version_minor": 0,
              "model_id": "35a155a6bec94c94b1c5d292f7d34ffe"
            }
          },
          "metadata": {}
        },
        {
          "output_type": "display_data",
          "data": {
            "text/plain": [
              "Iteration:   0%|          | 0/129 [00:00<?, ?it/s]"
            ],
            "application/vnd.jupyter.widget-view+json": {
              "version_major": 2,
              "version_minor": 0,
              "model_id": "0284a84f44d246eb93f3fc0a120b6187"
            }
          },
          "metadata": {}
        },
        {
          "output_type": "display_data",
          "data": {
            "text/plain": [
              "Iteration:   0%|          | 0/129 [00:00<?, ?it/s]"
            ],
            "application/vnd.jupyter.widget-view+json": {
              "version_major": 2,
              "version_minor": 0,
              "model_id": "c93050bd7b5b41b8ae8aa94cad28d082"
            }
          },
          "metadata": {}
        },
        {
          "output_type": "stream",
          "name": "stdout",
          "text": [
            "Epoch: 13, Loss: 0.0322, Train: 79.58%, Valid: 75.86% Test: 72.77%\n",
            "Training...\n"
          ]
        },
        {
          "output_type": "display_data",
          "data": {
            "text/plain": [
              "Iteration:   0%|          | 0/1029 [00:00<?, ?it/s]"
            ],
            "application/vnd.jupyter.widget-view+json": {
              "version_major": 2,
              "version_minor": 0,
              "model_id": "1818a48b3e6b4f95b129915e115d03b1"
            }
          },
          "metadata": {}
        },
        {
          "output_type": "stream",
          "name": "stdout",
          "text": [
            "Evaluating...\n"
          ]
        },
        {
          "output_type": "display_data",
          "data": {
            "text/plain": [
              "Iteration:   0%|          | 0/1029 [00:00<?, ?it/s]"
            ],
            "application/vnd.jupyter.widget-view+json": {
              "version_major": 2,
              "version_minor": 0,
              "model_id": "c914165b8dea497e8b163d42ede2f0fe"
            }
          },
          "metadata": {}
        },
        {
          "output_type": "display_data",
          "data": {
            "text/plain": [
              "Iteration:   0%|          | 0/129 [00:00<?, ?it/s]"
            ],
            "application/vnd.jupyter.widget-view+json": {
              "version_major": 2,
              "version_minor": 0,
              "model_id": "91520bd79593434b8daefce41557dc14"
            }
          },
          "metadata": {}
        },
        {
          "output_type": "display_data",
          "data": {
            "text/plain": [
              "Iteration:   0%|          | 0/129 [00:00<?, ?it/s]"
            ],
            "application/vnd.jupyter.widget-view+json": {
              "version_major": 2,
              "version_minor": 0,
              "model_id": "90a4b9cbe1e7473c92ee6e73b8b8a5d7"
            }
          },
          "metadata": {}
        },
        {
          "output_type": "stream",
          "name": "stdout",
          "text": [
            "Epoch: 14, Loss: 0.4081, Train: 79.75%, Valid: 77.96% Test: 73.96%\n",
            "Training...\n"
          ]
        },
        {
          "output_type": "display_data",
          "data": {
            "text/plain": [
              "Iteration:   0%|          | 0/1029 [00:00<?, ?it/s]"
            ],
            "application/vnd.jupyter.widget-view+json": {
              "version_major": 2,
              "version_minor": 0,
              "model_id": "570e21079d054d1d985657d4a39575b2"
            }
          },
          "metadata": {}
        },
        {
          "output_type": "stream",
          "name": "stdout",
          "text": [
            "Evaluating...\n"
          ]
        },
        {
          "output_type": "display_data",
          "data": {
            "text/plain": [
              "Iteration:   0%|          | 0/1029 [00:00<?, ?it/s]"
            ],
            "application/vnd.jupyter.widget-view+json": {
              "version_major": 2,
              "version_minor": 0,
              "model_id": "e63b6d822f6348bc80109acec272c8ab"
            }
          },
          "metadata": {}
        },
        {
          "output_type": "display_data",
          "data": {
            "text/plain": [
              "Iteration:   0%|          | 0/129 [00:00<?, ?it/s]"
            ],
            "application/vnd.jupyter.widget-view+json": {
              "version_major": 2,
              "version_minor": 0,
              "model_id": "03cbda82b0fc4fc485bbe92c9feca298"
            }
          },
          "metadata": {}
        },
        {
          "output_type": "display_data",
          "data": {
            "text/plain": [
              "Iteration:   0%|          | 0/129 [00:00<?, ?it/s]"
            ],
            "application/vnd.jupyter.widget-view+json": {
              "version_major": 2,
              "version_minor": 0,
              "model_id": "24a92e694b7745f2ba65edf9298ec679"
            }
          },
          "metadata": {}
        },
        {
          "output_type": "stream",
          "name": "stdout",
          "text": [
            "Epoch: 15, Loss: 0.0095, Train: 79.09%, Valid: 77.51% Test: 72.14%\n",
            "Training...\n"
          ]
        },
        {
          "output_type": "display_data",
          "data": {
            "text/plain": [
              "Iteration:   0%|          | 0/1029 [00:00<?, ?it/s]"
            ],
            "application/vnd.jupyter.widget-view+json": {
              "version_major": 2,
              "version_minor": 0,
              "model_id": "46fe907de18a4fef91ed1df325ecfa20"
            }
          },
          "metadata": {}
        },
        {
          "output_type": "stream",
          "name": "stdout",
          "text": [
            "Evaluating...\n"
          ]
        },
        {
          "output_type": "display_data",
          "data": {
            "text/plain": [
              "Iteration:   0%|          | 0/1029 [00:00<?, ?it/s]"
            ],
            "application/vnd.jupyter.widget-view+json": {
              "version_major": 2,
              "version_minor": 0,
              "model_id": "feaae67e326e401aae407a89bb0028b7"
            }
          },
          "metadata": {}
        },
        {
          "output_type": "display_data",
          "data": {
            "text/plain": [
              "Iteration:   0%|          | 0/129 [00:00<?, ?it/s]"
            ],
            "application/vnd.jupyter.widget-view+json": {
              "version_major": 2,
              "version_minor": 0,
              "model_id": "32754e40564347b29c4055685daec401"
            }
          },
          "metadata": {}
        },
        {
          "output_type": "display_data",
          "data": {
            "text/plain": [
              "Iteration:   0%|          | 0/129 [00:00<?, ?it/s]"
            ],
            "application/vnd.jupyter.widget-view+json": {
              "version_major": 2,
              "version_minor": 0,
              "model_id": "68b394c072274d8e9cadfbbb082be742"
            }
          },
          "metadata": {}
        },
        {
          "output_type": "stream",
          "name": "stdout",
          "text": [
            "Epoch: 16, Loss: 0.0256, Train: 79.79%, Valid: 76.44% Test: 72.19%\n",
            "Training...\n"
          ]
        },
        {
          "output_type": "display_data",
          "data": {
            "text/plain": [
              "Iteration:   0%|          | 0/1029 [00:00<?, ?it/s]"
            ],
            "application/vnd.jupyter.widget-view+json": {
              "version_major": 2,
              "version_minor": 0,
              "model_id": "9902260f467d466b8046ceb09b507a1a"
            }
          },
          "metadata": {}
        },
        {
          "output_type": "stream",
          "name": "stdout",
          "text": [
            "Evaluating...\n"
          ]
        },
        {
          "output_type": "display_data",
          "data": {
            "text/plain": [
              "Iteration:   0%|          | 0/1029 [00:00<?, ?it/s]"
            ],
            "application/vnd.jupyter.widget-view+json": {
              "version_major": 2,
              "version_minor": 0,
              "model_id": "01ae7e465cc1490a9fb9384ed1418809"
            }
          },
          "metadata": {}
        },
        {
          "output_type": "display_data",
          "data": {
            "text/plain": [
              "Iteration:   0%|          | 0/129 [00:00<?, ?it/s]"
            ],
            "application/vnd.jupyter.widget-view+json": {
              "version_major": 2,
              "version_minor": 0,
              "model_id": "03c7dc3516ca4976b6bd9285a3622ca3"
            }
          },
          "metadata": {}
        },
        {
          "output_type": "display_data",
          "data": {
            "text/plain": [
              "Iteration:   0%|          | 0/129 [00:00<?, ?it/s]"
            ],
            "application/vnd.jupyter.widget-view+json": {
              "version_major": 2,
              "version_minor": 0,
              "model_id": "f75a6ed4df07489ab524816de54369b3"
            }
          },
          "metadata": {}
        },
        {
          "output_type": "stream",
          "name": "stdout",
          "text": [
            "Epoch: 17, Loss: 0.0051, Train: 80.38%, Valid: 79.01% Test: 72.12%\n",
            "Training...\n"
          ]
        },
        {
          "output_type": "display_data",
          "data": {
            "text/plain": [
              "Iteration:   0%|          | 0/1029 [00:00<?, ?it/s]"
            ],
            "application/vnd.jupyter.widget-view+json": {
              "version_major": 2,
              "version_minor": 0,
              "model_id": "e27d9204fe5f494386bb1bd3a0efa2ec"
            }
          },
          "metadata": {}
        },
        {
          "output_type": "stream",
          "name": "stdout",
          "text": [
            "Evaluating...\n"
          ]
        },
        {
          "output_type": "display_data",
          "data": {
            "text/plain": [
              "Iteration:   0%|          | 0/1029 [00:00<?, ?it/s]"
            ],
            "application/vnd.jupyter.widget-view+json": {
              "version_major": 2,
              "version_minor": 0,
              "model_id": "27addf79b677464597ae203d496f7f87"
            }
          },
          "metadata": {}
        },
        {
          "output_type": "display_data",
          "data": {
            "text/plain": [
              "Iteration:   0%|          | 0/129 [00:00<?, ?it/s]"
            ],
            "application/vnd.jupyter.widget-view+json": {
              "version_major": 2,
              "version_minor": 0,
              "model_id": "0491d7009ee84983801362057510b1ef"
            }
          },
          "metadata": {}
        },
        {
          "output_type": "display_data",
          "data": {
            "text/plain": [
              "Iteration:   0%|          | 0/129 [00:00<?, ?it/s]"
            ],
            "application/vnd.jupyter.widget-view+json": {
              "version_major": 2,
              "version_minor": 0,
              "model_id": "e156228c208246a2a3d4f85b2bfca352"
            }
          },
          "metadata": {}
        },
        {
          "output_type": "stream",
          "name": "stdout",
          "text": [
            "Epoch: 18, Loss: 0.0101, Train: 80.13%, Valid: 81.02% Test: 73.83%\n",
            "Training...\n"
          ]
        },
        {
          "output_type": "display_data",
          "data": {
            "text/plain": [
              "Iteration:   0%|          | 0/1029 [00:00<?, ?it/s]"
            ],
            "application/vnd.jupyter.widget-view+json": {
              "version_major": 2,
              "version_minor": 0,
              "model_id": "8f8a0a34dcf842c3a9d9557701362faa"
            }
          },
          "metadata": {}
        },
        {
          "output_type": "stream",
          "name": "stdout",
          "text": [
            "Evaluating...\n"
          ]
        },
        {
          "output_type": "display_data",
          "data": {
            "text/plain": [
              "Iteration:   0%|          | 0/1029 [00:00<?, ?it/s]"
            ],
            "application/vnd.jupyter.widget-view+json": {
              "version_major": 2,
              "version_minor": 0,
              "model_id": "dd7ffb593df64e04996c73aca01cfd29"
            }
          },
          "metadata": {}
        },
        {
          "output_type": "display_data",
          "data": {
            "text/plain": [
              "Iteration:   0%|          | 0/129 [00:00<?, ?it/s]"
            ],
            "application/vnd.jupyter.widget-view+json": {
              "version_major": 2,
              "version_minor": 0,
              "model_id": "94b299ed1a8d4f7782a275c5d66dd79c"
            }
          },
          "metadata": {}
        },
        {
          "output_type": "display_data",
          "data": {
            "text/plain": [
              "Iteration:   0%|          | 0/129 [00:00<?, ?it/s]"
            ],
            "application/vnd.jupyter.widget-view+json": {
              "version_major": 2,
              "version_minor": 0,
              "model_id": "4e51f661e00847a8ab16425e200d9c92"
            }
          },
          "metadata": {}
        },
        {
          "output_type": "stream",
          "name": "stdout",
          "text": [
            "Epoch: 19, Loss: 0.0326, Train: 80.25%, Valid: 78.32% Test: 75.14%\n",
            "Training...\n"
          ]
        },
        {
          "output_type": "display_data",
          "data": {
            "text/plain": [
              "Iteration:   0%|          | 0/1029 [00:00<?, ?it/s]"
            ],
            "application/vnd.jupyter.widget-view+json": {
              "version_major": 2,
              "version_minor": 0,
              "model_id": "b07d2bff1304411085ca88d7d41d6c75"
            }
          },
          "metadata": {}
        },
        {
          "output_type": "stream",
          "name": "stdout",
          "text": [
            "Evaluating...\n"
          ]
        },
        {
          "output_type": "display_data",
          "data": {
            "text/plain": [
              "Iteration:   0%|          | 0/1029 [00:00<?, ?it/s]"
            ],
            "application/vnd.jupyter.widget-view+json": {
              "version_major": 2,
              "version_minor": 0,
              "model_id": "93033881df774fb8b9cf07bba6339cbc"
            }
          },
          "metadata": {}
        },
        {
          "output_type": "display_data",
          "data": {
            "text/plain": [
              "Iteration:   0%|          | 0/129 [00:00<?, ?it/s]"
            ],
            "application/vnd.jupyter.widget-view+json": {
              "version_major": 2,
              "version_minor": 0,
              "model_id": "7c572bed41ad4c37ad1692ee497ac03f"
            }
          },
          "metadata": {}
        },
        {
          "output_type": "display_data",
          "data": {
            "text/plain": [
              "Iteration:   0%|          | 0/129 [00:00<?, ?it/s]"
            ],
            "application/vnd.jupyter.widget-view+json": {
              "version_major": 2,
              "version_minor": 0,
              "model_id": "af50e2f69de54a1d8b16bdb914c734b1"
            }
          },
          "metadata": {}
        },
        {
          "output_type": "stream",
          "name": "stdout",
          "text": [
            "Epoch: 20, Loss: 0.0670, Train: 80.87%, Valid: 77.48% Test: 75.14%\n",
            "Training...\n"
          ]
        },
        {
          "output_type": "display_data",
          "data": {
            "text/plain": [
              "Iteration:   0%|          | 0/1029 [00:00<?, ?it/s]"
            ],
            "application/vnd.jupyter.widget-view+json": {
              "version_major": 2,
              "version_minor": 0,
              "model_id": "6511f9c02dca4e289e2a070d6c6ffc01"
            }
          },
          "metadata": {}
        },
        {
          "output_type": "stream",
          "name": "stdout",
          "text": [
            "Evaluating...\n"
          ]
        },
        {
          "output_type": "display_data",
          "data": {
            "text/plain": [
              "Iteration:   0%|          | 0/1029 [00:00<?, ?it/s]"
            ],
            "application/vnd.jupyter.widget-view+json": {
              "version_major": 2,
              "version_minor": 0,
              "model_id": "d6de01fb5c06457a95c7aa2a28701ede"
            }
          },
          "metadata": {}
        },
        {
          "output_type": "display_data",
          "data": {
            "text/plain": [
              "Iteration:   0%|          | 0/129 [00:00<?, ?it/s]"
            ],
            "application/vnd.jupyter.widget-view+json": {
              "version_major": 2,
              "version_minor": 0,
              "model_id": "7f9e626f836a47f895d49e6786a85344"
            }
          },
          "metadata": {}
        },
        {
          "output_type": "display_data",
          "data": {
            "text/plain": [
              "Iteration:   0%|          | 0/129 [00:00<?, ?it/s]"
            ],
            "application/vnd.jupyter.widget-view+json": {
              "version_major": 2,
              "version_minor": 0,
              "model_id": "6bd17eaa991c4944a367375494158a4d"
            }
          },
          "metadata": {}
        },
        {
          "output_type": "stream",
          "name": "stdout",
          "text": [
            "Epoch: 21, Loss: 0.0302, Train: 80.80%, Valid: 75.36% Test: 73.01%\n",
            "Training...\n"
          ]
        },
        {
          "output_type": "display_data",
          "data": {
            "text/plain": [
              "Iteration:   0%|          | 0/1029 [00:00<?, ?it/s]"
            ],
            "application/vnd.jupyter.widget-view+json": {
              "version_major": 2,
              "version_minor": 0,
              "model_id": "188fa35a1bfb4266a0666795f370a15f"
            }
          },
          "metadata": {}
        },
        {
          "output_type": "stream",
          "name": "stdout",
          "text": [
            "Evaluating...\n"
          ]
        },
        {
          "output_type": "display_data",
          "data": {
            "text/plain": [
              "Iteration:   0%|          | 0/1029 [00:00<?, ?it/s]"
            ],
            "application/vnd.jupyter.widget-view+json": {
              "version_major": 2,
              "version_minor": 0,
              "model_id": "1a11137151e147b3aba60a27b100261d"
            }
          },
          "metadata": {}
        },
        {
          "output_type": "display_data",
          "data": {
            "text/plain": [
              "Iteration:   0%|          | 0/129 [00:00<?, ?it/s]"
            ],
            "application/vnd.jupyter.widget-view+json": {
              "version_major": 2,
              "version_minor": 0,
              "model_id": "5a0ee4195b65496ca653f96391ce6e72"
            }
          },
          "metadata": {}
        },
        {
          "output_type": "display_data",
          "data": {
            "text/plain": [
              "Iteration:   0%|          | 0/129 [00:00<?, ?it/s]"
            ],
            "application/vnd.jupyter.widget-view+json": {
              "version_major": 2,
              "version_minor": 0,
              "model_id": "90d61a75fa164eff8e4cb1151e466df8"
            }
          },
          "metadata": {}
        },
        {
          "output_type": "stream",
          "name": "stdout",
          "text": [
            "Epoch: 22, Loss: 0.0181, Train: 81.81%, Valid: 79.70% Test: 76.61%\n",
            "Training...\n"
          ]
        },
        {
          "output_type": "display_data",
          "data": {
            "text/plain": [
              "Iteration:   0%|          | 0/1029 [00:00<?, ?it/s]"
            ],
            "application/vnd.jupyter.widget-view+json": {
              "version_major": 2,
              "version_minor": 0,
              "model_id": "27e6de45558540c880af3261546a5148"
            }
          },
          "metadata": {}
        },
        {
          "output_type": "stream",
          "name": "stdout",
          "text": [
            "Evaluating...\n"
          ]
        },
        {
          "output_type": "display_data",
          "data": {
            "text/plain": [
              "Iteration:   0%|          | 0/1029 [00:00<?, ?it/s]"
            ],
            "application/vnd.jupyter.widget-view+json": {
              "version_major": 2,
              "version_minor": 0,
              "model_id": "79c2f5077793403190438755bffce225"
            }
          },
          "metadata": {}
        },
        {
          "output_type": "display_data",
          "data": {
            "text/plain": [
              "Iteration:   0%|          | 0/129 [00:00<?, ?it/s]"
            ],
            "application/vnd.jupyter.widget-view+json": {
              "version_major": 2,
              "version_minor": 0,
              "model_id": "9232fd7df80641b2975d167dd72f3da8"
            }
          },
          "metadata": {}
        },
        {
          "output_type": "display_data",
          "data": {
            "text/plain": [
              "Iteration:   0%|          | 0/129 [00:00<?, ?it/s]"
            ],
            "application/vnd.jupyter.widget-view+json": {
              "version_major": 2,
              "version_minor": 0,
              "model_id": "f099409d015741f1bdb4962f0f788015"
            }
          },
          "metadata": {}
        },
        {
          "output_type": "stream",
          "name": "stdout",
          "text": [
            "Epoch: 23, Loss: 0.0188, Train: 81.35%, Valid: 79.34% Test: 73.70%\n",
            "Training...\n"
          ]
        },
        {
          "output_type": "display_data",
          "data": {
            "text/plain": [
              "Iteration:   0%|          | 0/1029 [00:00<?, ?it/s]"
            ],
            "application/vnd.jupyter.widget-view+json": {
              "version_major": 2,
              "version_minor": 0,
              "model_id": "e65cc94b81f24c31ae24f8c009f1a1ba"
            }
          },
          "metadata": {}
        },
        {
          "output_type": "stream",
          "name": "stdout",
          "text": [
            "Evaluating...\n"
          ]
        },
        {
          "output_type": "display_data",
          "data": {
            "text/plain": [
              "Iteration:   0%|          | 0/1029 [00:00<?, ?it/s]"
            ],
            "application/vnd.jupyter.widget-view+json": {
              "version_major": 2,
              "version_minor": 0,
              "model_id": "8136f29461094cfd9fac470d083a4652"
            }
          },
          "metadata": {}
        },
        {
          "output_type": "display_data",
          "data": {
            "text/plain": [
              "Iteration:   0%|          | 0/129 [00:00<?, ?it/s]"
            ],
            "application/vnd.jupyter.widget-view+json": {
              "version_major": 2,
              "version_minor": 0,
              "model_id": "5ffd61b877ca444fbc10eff1d0efb13a"
            }
          },
          "metadata": {}
        },
        {
          "output_type": "display_data",
          "data": {
            "text/plain": [
              "Iteration:   0%|          | 0/129 [00:00<?, ?it/s]"
            ],
            "application/vnd.jupyter.widget-view+json": {
              "version_major": 2,
              "version_minor": 0,
              "model_id": "3506591ee6944b0782300cda2feea8d5"
            }
          },
          "metadata": {}
        },
        {
          "output_type": "stream",
          "name": "stdout",
          "text": [
            "Epoch: 24, Loss: 0.6219, Train: 80.94%, Valid: 77.81% Test: 74.51%\n",
            "Training...\n"
          ]
        },
        {
          "output_type": "display_data",
          "data": {
            "text/plain": [
              "Iteration:   0%|          | 0/1029 [00:00<?, ?it/s]"
            ],
            "application/vnd.jupyter.widget-view+json": {
              "version_major": 2,
              "version_minor": 0,
              "model_id": "aa6b92f9b6c74adaa4e645d3c7e347ca"
            }
          },
          "metadata": {}
        },
        {
          "output_type": "stream",
          "name": "stdout",
          "text": [
            "Evaluating...\n"
          ]
        },
        {
          "output_type": "display_data",
          "data": {
            "text/plain": [
              "Iteration:   0%|          | 0/1029 [00:00<?, ?it/s]"
            ],
            "application/vnd.jupyter.widget-view+json": {
              "version_major": 2,
              "version_minor": 0,
              "model_id": "583ac03dafe141deb9ac0cb7e946e88e"
            }
          },
          "metadata": {}
        },
        {
          "output_type": "display_data",
          "data": {
            "text/plain": [
              "Iteration:   0%|          | 0/129 [00:00<?, ?it/s]"
            ],
            "application/vnd.jupyter.widget-view+json": {
              "version_major": 2,
              "version_minor": 0,
              "model_id": "8f9edcf89325423fb11d1b9de1e0bc91"
            }
          },
          "metadata": {}
        },
        {
          "output_type": "display_data",
          "data": {
            "text/plain": [
              "Iteration:   0%|          | 0/129 [00:00<?, ?it/s]"
            ],
            "application/vnd.jupyter.widget-view+json": {
              "version_major": 2,
              "version_minor": 0,
              "model_id": "ceb554fd77184618b2c2b2787195788f"
            }
          },
          "metadata": {}
        },
        {
          "output_type": "stream",
          "name": "stdout",
          "text": [
            "Epoch: 25, Loss: 0.0100, Train: 81.89%, Valid: 81.00% Test: 75.18%\n",
            "Training...\n"
          ]
        },
        {
          "output_type": "display_data",
          "data": {
            "text/plain": [
              "Iteration:   0%|          | 0/1029 [00:00<?, ?it/s]"
            ],
            "application/vnd.jupyter.widget-view+json": {
              "version_major": 2,
              "version_minor": 0,
              "model_id": "e7f9035739054a818a08ca2ea5c3f7e0"
            }
          },
          "metadata": {}
        },
        {
          "output_type": "stream",
          "name": "stdout",
          "text": [
            "Evaluating...\n"
          ]
        },
        {
          "output_type": "display_data",
          "data": {
            "text/plain": [
              "Iteration:   0%|          | 0/1029 [00:00<?, ?it/s]"
            ],
            "application/vnd.jupyter.widget-view+json": {
              "version_major": 2,
              "version_minor": 0,
              "model_id": "d556d3e5e54a48c99ddd36de40459c92"
            }
          },
          "metadata": {}
        },
        {
          "output_type": "display_data",
          "data": {
            "text/plain": [
              "Iteration:   0%|          | 0/129 [00:00<?, ?it/s]"
            ],
            "application/vnd.jupyter.widget-view+json": {
              "version_major": 2,
              "version_minor": 0,
              "model_id": "0a2d4e403a6243d598ca758622cdea87"
            }
          },
          "metadata": {}
        },
        {
          "output_type": "display_data",
          "data": {
            "text/plain": [
              "Iteration:   0%|          | 0/129 [00:00<?, ?it/s]"
            ],
            "application/vnd.jupyter.widget-view+json": {
              "version_major": 2,
              "version_minor": 0,
              "model_id": "9d16a998f7de4075885212e24e4e8877"
            }
          },
          "metadata": {}
        },
        {
          "output_type": "stream",
          "name": "stdout",
          "text": [
            "Epoch: 26, Loss: 0.0267, Train: 80.84%, Valid: 79.77% Test: 75.41%\n",
            "Training...\n"
          ]
        },
        {
          "output_type": "display_data",
          "data": {
            "text/plain": [
              "Iteration:   0%|          | 0/1029 [00:00<?, ?it/s]"
            ],
            "application/vnd.jupyter.widget-view+json": {
              "version_major": 2,
              "version_minor": 0,
              "model_id": "20d7fcb466a44fd3a80413e4ec834d10"
            }
          },
          "metadata": {}
        },
        {
          "output_type": "stream",
          "name": "stdout",
          "text": [
            "Evaluating...\n"
          ]
        },
        {
          "output_type": "display_data",
          "data": {
            "text/plain": [
              "Iteration:   0%|          | 0/1029 [00:00<?, ?it/s]"
            ],
            "application/vnd.jupyter.widget-view+json": {
              "version_major": 2,
              "version_minor": 0,
              "model_id": "0514653f43994532936113f44da62625"
            }
          },
          "metadata": {}
        },
        {
          "output_type": "display_data",
          "data": {
            "text/plain": [
              "Iteration:   0%|          | 0/129 [00:00<?, ?it/s]"
            ],
            "application/vnd.jupyter.widget-view+json": {
              "version_major": 2,
              "version_minor": 0,
              "model_id": "fd4979278f4c49c7b7c97920219dda07"
            }
          },
          "metadata": {}
        },
        {
          "output_type": "display_data",
          "data": {
            "text/plain": [
              "Iteration:   0%|          | 0/129 [00:00<?, ?it/s]"
            ],
            "application/vnd.jupyter.widget-view+json": {
              "version_major": 2,
              "version_minor": 0,
              "model_id": "606f7b65b2594761aca10ffbf1fd657c"
            }
          },
          "metadata": {}
        },
        {
          "output_type": "stream",
          "name": "stdout",
          "text": [
            "Epoch: 27, Loss: 0.5281, Train: 82.22%, Valid: 77.82% Test: 75.75%\n",
            "Training...\n"
          ]
        },
        {
          "output_type": "display_data",
          "data": {
            "text/plain": [
              "Iteration:   0%|          | 0/1029 [00:00<?, ?it/s]"
            ],
            "application/vnd.jupyter.widget-view+json": {
              "version_major": 2,
              "version_minor": 0,
              "model_id": "ad102f6cdcef46fd811499224c880e45"
            }
          },
          "metadata": {}
        },
        {
          "output_type": "stream",
          "name": "stdout",
          "text": [
            "Evaluating...\n"
          ]
        },
        {
          "output_type": "display_data",
          "data": {
            "text/plain": [
              "Iteration:   0%|          | 0/1029 [00:00<?, ?it/s]"
            ],
            "application/vnd.jupyter.widget-view+json": {
              "version_major": 2,
              "version_minor": 0,
              "model_id": "d5312cf0f4a146d79289f22805ca65ba"
            }
          },
          "metadata": {}
        },
        {
          "output_type": "display_data",
          "data": {
            "text/plain": [
              "Iteration:   0%|          | 0/129 [00:00<?, ?it/s]"
            ],
            "application/vnd.jupyter.widget-view+json": {
              "version_major": 2,
              "version_minor": 0,
              "model_id": "7499667215c3486b98de4b69cc0a2ba5"
            }
          },
          "metadata": {}
        },
        {
          "output_type": "display_data",
          "data": {
            "text/plain": [
              "Iteration:   0%|          | 0/129 [00:00<?, ?it/s]"
            ],
            "application/vnd.jupyter.widget-view+json": {
              "version_major": 2,
              "version_minor": 0,
              "model_id": "cd19c805fb3148e2b37ffad4c87ddb54"
            }
          },
          "metadata": {}
        },
        {
          "output_type": "stream",
          "name": "stdout",
          "text": [
            "Epoch: 28, Loss: 0.0312, Train: 82.38%, Valid: 78.92% Test: 76.67%\n",
            "Training...\n"
          ]
        },
        {
          "output_type": "display_data",
          "data": {
            "text/plain": [
              "Iteration:   0%|          | 0/1029 [00:00<?, ?it/s]"
            ],
            "application/vnd.jupyter.widget-view+json": {
              "version_major": 2,
              "version_minor": 0,
              "model_id": "9287908cb0eb428fb42e98f615154bbd"
            }
          },
          "metadata": {}
        },
        {
          "output_type": "stream",
          "name": "stdout",
          "text": [
            "Evaluating...\n"
          ]
        },
        {
          "output_type": "display_data",
          "data": {
            "text/plain": [
              "Iteration:   0%|          | 0/1029 [00:00<?, ?it/s]"
            ],
            "application/vnd.jupyter.widget-view+json": {
              "version_major": 2,
              "version_minor": 0,
              "model_id": "e69466f50589435da6ceac534c6dad93"
            }
          },
          "metadata": {}
        },
        {
          "output_type": "display_data",
          "data": {
            "text/plain": [
              "Iteration:   0%|          | 0/129 [00:00<?, ?it/s]"
            ],
            "application/vnd.jupyter.widget-view+json": {
              "version_major": 2,
              "version_minor": 0,
              "model_id": "bb0cd6f6103d49e0bf85b6e88c6641d5"
            }
          },
          "metadata": {}
        },
        {
          "output_type": "display_data",
          "data": {
            "text/plain": [
              "Iteration:   0%|          | 0/129 [00:00<?, ?it/s]"
            ],
            "application/vnd.jupyter.widget-view+json": {
              "version_major": 2,
              "version_minor": 0,
              "model_id": "8022d93b119f4b5d82cc3cb26d93aa1c"
            }
          },
          "metadata": {}
        },
        {
          "output_type": "stream",
          "name": "stdout",
          "text": [
            "Epoch: 29, Loss: 0.7036, Train: 81.84%, Valid: 77.56% Test: 77.27%\n",
            "Training...\n"
          ]
        },
        {
          "output_type": "display_data",
          "data": {
            "text/plain": [
              "Iteration:   0%|          | 0/1029 [00:00<?, ?it/s]"
            ],
            "application/vnd.jupyter.widget-view+json": {
              "version_major": 2,
              "version_minor": 0,
              "model_id": "70e5be98a8604617b8575bf26bfbaa2c"
            }
          },
          "metadata": {}
        },
        {
          "output_type": "stream",
          "name": "stdout",
          "text": [
            "Evaluating...\n"
          ]
        },
        {
          "output_type": "display_data",
          "data": {
            "text/plain": [
              "Iteration:   0%|          | 0/1029 [00:00<?, ?it/s]"
            ],
            "application/vnd.jupyter.widget-view+json": {
              "version_major": 2,
              "version_minor": 0,
              "model_id": "2850424f02614ef5adb0b15a0bab1158"
            }
          },
          "metadata": {}
        },
        {
          "output_type": "display_data",
          "data": {
            "text/plain": [
              "Iteration:   0%|          | 0/129 [00:00<?, ?it/s]"
            ],
            "application/vnd.jupyter.widget-view+json": {
              "version_major": 2,
              "version_minor": 0,
              "model_id": "19b4100bace047b6acff82daa2237278"
            }
          },
          "metadata": {}
        },
        {
          "output_type": "display_data",
          "data": {
            "text/plain": [
              "Iteration:   0%|          | 0/129 [00:00<?, ?it/s]"
            ],
            "application/vnd.jupyter.widget-view+json": {
              "version_major": 2,
              "version_minor": 0,
              "model_id": "af1d9acd43564cab8b8db29552322823"
            }
          },
          "metadata": {}
        },
        {
          "output_type": "stream",
          "name": "stdout",
          "text": [
            "Epoch: 30, Loss: 0.0823, Train: 82.90%, Valid: 78.24% Test: 77.74%\n"
          ]
        }
      ],
      "source": [
        "import copy\n",
        "\n",
        "if 'IS_GRADESCOPE_ENV' not in os.environ:\n",
        "  model.reset_parameters()\n",
        "\n",
        "  optimizer = torch.optim.Adam(model.parameters(), lr=args['lr'])\n",
        "  loss_fn = torch.nn.BCEWithLogitsLoss()\n",
        "\n",
        "  best_model = None\n",
        "  best_valid_acc = 0\n",
        "\n",
        "  for epoch in range(1, 1 + args[\"epochs\"]):\n",
        "    print('Training...')\n",
        "    loss = train(model, device, train_loader, optimizer, loss_fn)\n",
        "\n",
        "    print('Evaluating...')\n",
        "    train_result = eval(model, device, train_loader, evaluator)\n",
        "    val_result = eval(model, device, valid_loader, evaluator)\n",
        "    test_result = eval(model, device, test_loader, evaluator)\n",
        "\n",
        "    train_acc, valid_acc, test_acc = train_result[dataset.eval_metric], val_result[dataset.eval_metric], test_result[dataset.eval_metric]\n",
        "    if valid_acc > best_valid_acc:\n",
        "        best_valid_acc = valid_acc\n",
        "        best_model = copy.deepcopy(model)\n",
        "    print(f'Epoch: {epoch:02d}, '\n",
        "          f'Loss: {loss:.4f}, '\n",
        "          f'Train: {100 * train_acc:.2f}%, '\n",
        "          f'Valid: {100 * valid_acc:.2f}% '\n",
        "          f'Test: {100 * test_acc:.2f}%')"
      ]
    },
    {
      "cell_type": "markdown",
      "metadata": {
        "id": "6I17-Qso_n88"
      },
      "source": [
        "## Question 6: What are your `best_model` validation and test ROC-AUC scores? (20 points)\n",
        "\n",
        "Run the cell below to see the results of your best of model and save your model's predictions in files named *ogbg-molhiv_graph_[valid,test].csv*. Again, you can view the files by clicking on the *Folder* icon on the left side pannel. Report the results on Gradescope."
      ]
    },
    {
      "cell_type": "code",
      "execution_count": null,
      "metadata": {
        "id": "Oq5QaG21dOOO",
        "colab": {
          "base_uri": "https://localhost:8080/",
          "height": 168,
          "referenced_widgets": [
            "0051623834ed441b84420d7d86d91d30",
            "9f42fb42d8d4485c886c1dddce1726f8",
            "c0faaa2b86bd4b268cd247d4810cd0fb",
            "0802b82b0ea641ecbb9c1a8d421335c7",
            "e7af8a3de087449c8ccee60ff1ed6f28",
            "5035afe01f554fcb889fc45e4d6afa14",
            "1f2dabad936643ae8ee7b4ae17dc1d98",
            "06eac528c6c1413b91757c4f847fd002",
            "4b7f93e96b314732b2d2986aeaf511ae",
            "d4ab49ade5c54d5ca1f5798153b69711",
            "303460d4fb05436688ab0d5a8dec4fd3",
            "eb579fd0d4d24262ac509ec300e0bea6",
            "c0ad6f50f3ab47dcb59d8e0039ebaa79",
            "8c35c3f55eb64226a122e27b15582dfe",
            "9867832c942b472e9d7242e6bd867c91",
            "a6560f92eb2248209c33d4377b582235",
            "69af9f0ea00d491481e90574bc4d7b3c",
            "4ac8557e9989426b89244a1f22700189",
            "9f3bc03234884548be06d9463a0f4676",
            "45d14b2aaec949a9b4782c01a378363a",
            "3def231263ec4855a6f676fd9a4e6581",
            "745f72ef301441dc90685d09d9666ccf",
            "5cefbec38d7f46a9af94ee4194ffd4e7",
            "7f4bb7f5f6244e30bfd507b00ef748ef",
            "bed273907ddb4d02a70712e10f88ab6d",
            "f8bd6b30aa7647908e8111a0b9dedb07",
            "0f89c7fd2dab43f9be4304bc29b29fc6",
            "9a75926f1aa647adb44b14e22441e63f",
            "b1fc569e30774f4f81a98baddfc6da90",
            "a49969533c4348d59fd7c1363f78ad98",
            "42ef9354b42a40c9bbcf50bba6f575a3",
            "403085f074e64e7ba3d2149a8ba9d2cd",
            "a602c9c298f14be2b4e6a7697f04e263"
          ]
        },
        "outputId": "f3f490bd-5936-4492-9808-ca990c6d1165"
      },
      "outputs": [
        {
          "output_type": "display_data",
          "data": {
            "text/plain": [
              "Iteration:   0%|          | 0/1029 [00:00<?, ?it/s]"
            ],
            "application/vnd.jupyter.widget-view+json": {
              "version_major": 2,
              "version_minor": 0,
              "model_id": "0051623834ed441b84420d7d86d91d30"
            }
          },
          "metadata": {}
        },
        {
          "output_type": "display_data",
          "data": {
            "text/plain": [
              "Iteration:   0%|          | 0/129 [00:00<?, ?it/s]"
            ],
            "application/vnd.jupyter.widget-view+json": {
              "version_major": 2,
              "version_minor": 0,
              "model_id": "eb579fd0d4d24262ac509ec300e0bea6"
            }
          },
          "metadata": {}
        },
        {
          "output_type": "stream",
          "name": "stdout",
          "text": [
            "Saving Model Predictions\n"
          ]
        },
        {
          "output_type": "display_data",
          "data": {
            "text/plain": [
              "Iteration:   0%|          | 0/129 [00:00<?, ?it/s]"
            ],
            "application/vnd.jupyter.widget-view+json": {
              "version_major": 2,
              "version_minor": 0,
              "model_id": "5cefbec38d7f46a9af94ee4194ffd4e7"
            }
          },
          "metadata": {}
        },
        {
          "output_type": "stream",
          "name": "stdout",
          "text": [
            "Saving Model Predictions\n",
            "Best model: Train: 79.77%, Valid: 78.77% Test: 73.76%\n"
          ]
        }
      ],
      "source": [
        "if 'IS_GRADESCOPE_ENV' not in os.environ:\n",
        "  train_auroc = eval(best_model, device, train_loader, evaluator)[dataset.eval_metric]\n",
        "  valid_auroc = eval(best_model, device, valid_loader, evaluator, save_model_results=True, save_file=\"valid\")[dataset.eval_metric]\n",
        "  test_auroc  = eval(best_model, device, test_loader, evaluator, save_model_results=True, save_file=\"test\")[dataset.eval_metric]\n",
        "\n",
        "  print(f'Best model: '\n",
        "      f'Train: {100 * train_auroc:.2f}%, '\n",
        "      f'Valid: {100 * valid_auroc:.2f}% '\n",
        "      f'Test: {100 * test_auroc:.2f}%')"
      ]
    },
    {
      "cell_type": "markdown",
      "metadata": {
        "id": "gBi_t8n0iZ4P"
      },
      "source": [
        "## Question 7 (Optional): Experiment with the two other global pooling layers in Pytorch Geometric."
      ]
    },
    {
      "cell_type": "code",
      "execution_count": null,
      "metadata": {
        "id": "L3Q5WmndEnAJ"
      },
      "outputs": [],
      "source": [
        "from ogb.graphproppred.mol_encoder import AtomEncoder\n",
        "from torch_geometric.nn import global_add_pool, global_max_pool\n",
        "\n",
        "### GCN to predict graph property\n",
        "class GCN_Graph_add_pool(torch.nn.Module):\n",
        "    def __init__(self, hidden_dim, output_dim, num_layers, dropout):\n",
        "        super(GCN_Graph_add_pool, self).__init__()\n",
        "\n",
        "        # Load encoders for Atoms in molecule graphs\n",
        "        self.node_encoder = AtomEncoder(hidden_dim)\n",
        "        # Node embedding model\n",
        "        # Note that the input_dim and output_dim are set to hidden_dim\n",
        "        self.gnn_node = GCN(hidden_dim, hidden_dim,\n",
        "            hidden_dim, num_layers, dropout, return_embeds=True)\n",
        "        self.pool = global_add_pool\n",
        "        # Output layer\n",
        "        self.linear = torch.nn.Linear(hidden_dim, output_dim)\n",
        "\n",
        "    def reset_parameters(self):\n",
        "      self.gnn_node.reset_parameters()\n",
        "      self.linear.reset_parameters()\n",
        "\n",
        "    def forward(self, batched_data):\n",
        "        # Extract important attributes of our mini-batch\n",
        "        x, edge_index, batch = batched_data.x, batched_data.edge_index, batched_data.batch\n",
        "        embed = self.node_encoder(x)\n",
        "        out = self.gnn_node(embed, edge_index)\n",
        "        out = self.pool(out, batch)\n",
        "        out = self.linear(out)\n",
        "        return out"
      ]
    },
    {
      "cell_type": "code",
      "source": [
        "### GCN to predict graph property\n",
        "class GCN_Graph_max_pool(torch.nn.Module):\n",
        "    def __init__(self, hidden_dim, output_dim, num_layers, dropout):\n",
        "        super(GCN_Graph_max_pool, self).__init__()\n",
        "\n",
        "        # Load encoders for Atoms in molecule graphs\n",
        "        self.node_encoder = AtomEncoder(hidden_dim)\n",
        "        # Node embedding model\n",
        "        # Note that the input_dim and output_dim are set to hidden_dim\n",
        "        self.gnn_node = GCN(hidden_dim, hidden_dim,\n",
        "            hidden_dim, num_layers, dropout, return_embeds=True)\n",
        "        self.pool = global_max_pool\n",
        "        # Output layer\n",
        "        self.linear = torch.nn.Linear(hidden_dim, output_dim)\n",
        "\n",
        "    def reset_parameters(self):\n",
        "      self.gnn_node.reset_parameters()\n",
        "      self.linear.reset_parameters()\n",
        "\n",
        "    def forward(self, batched_data):\n",
        "        # Extract important attributes of our mini-batch\n",
        "        x, edge_index, batch = batched_data.x, batched_data.edge_index, batched_data.batch\n",
        "        embed = self.node_encoder(x)\n",
        "        out = self.gnn_node(embed, edge_index)\n",
        "        out = self.pool(out, batch)\n",
        "        out = self.linear(out)\n",
        "        return out"
      ],
      "metadata": {
        "id": "7SxGiD0nkJtW"
      },
      "execution_count": null,
      "outputs": []
    },
    {
      "cell_type": "code",
      "source": [
        "if 'IS_GRADESCOPE_ENV' not in os.environ:\n",
        "  model_add = GCN_Graph_add_pool(args['hidden_dim'],\n",
        "              dataset.num_tasks, args['num_layers'],\n",
        "              args['dropout']).to(device)\n",
        "  evaluator_add = Evaluator(name='ogbg-molhiv')"
      ],
      "metadata": {
        "id": "kRuVYAigkSoc"
      },
      "execution_count": null,
      "outputs": []
    },
    {
      "cell_type": "code",
      "source": [
        "if 'IS_GRADESCOPE_ENV' not in os.environ:\n",
        "  model_max = GCN_Graph_max_pool(args['hidden_dim'],\n",
        "              dataset.num_tasks, args['num_layers'],\n",
        "              args['dropout']).to(device)\n",
        "  evaluator_max = Evaluator(name='ogbg-molhiv')"
      ],
      "metadata": {
        "id": "bT8L6nYUkUuS"
      },
      "execution_count": null,
      "outputs": []
    },
    {
      "cell_type": "code",
      "source": [
        "import copy\n",
        "\n",
        "if 'IS_GRADESCOPE_ENV' not in os.environ:\n",
        "  model_add.reset_parameters()\n",
        "\n",
        "  optimizer = torch.optim.Adam(model_add.parameters(), lr=args['lr'])\n",
        "  loss_fn = torch.nn.BCEWithLogitsLoss()\n",
        "\n",
        "  best_model_add = None\n",
        "  best_valid_acc_add = 0\n",
        "\n",
        "  for epoch in range(1, 1 + args[\"epochs\"]):\n",
        "    print('Training...')\n",
        "    loss = train(model_add, device, train_loader, optimizer, loss_fn)\n",
        "\n",
        "    print('Evaluating...')\n",
        "    train_result_add = eval(model_add, device, train_loader, evaluator_add)\n",
        "    val_result_add = eval(model_add, device, valid_loader, evaluator_add)\n",
        "    test_result_add = eval(model_add, device, test_loader, evaluator_add)\n",
        "\n",
        "    train_acc_add, valid_acc_add, test_acc_add = train_result[dataset.eval_metric], val_result[dataset.eval_metric], test_result[dataset.eval_metric]\n",
        "    if valid_acc_add > best_valid_acc_add:\n",
        "        best_valid_acc_add = valid_acc_add\n",
        "        best_model_add = copy.deepcopy(model_add)\n",
        "    print(f'Epoch: {epoch:02d}, '\n",
        "          f'Loss: {loss:.4f}, '\n",
        "          f'Train: {100 * train_acc_add:.2f}%, '\n",
        "          f'Valid: {100 * valid_acc_add:.2f}% '\n",
        "          f'Test: {100 * test_acc_add:.2f}%')"
      ],
      "metadata": {
        "colab": {
          "base_uri": "https://localhost:8080/",
          "height": 1000,
          "referenced_widgets": [
            "81d77c6aa8314ac38d26f727d94d5c06",
            "2267c98689734dd6970514123ce69786",
            "7e139322e5584727b7e07dbd7e439589",
            "abaaa3148fe64d86860f73f6e126c984",
            "792d66e97f5a4a85a492c15070e08ad2",
            "849cb71278e94a40ac83ae52b8c59682",
            "7011bf5d6e604cb08a2db98bfdef1735",
            "0da6c9ba3bf048c7bdf0bac5b7d5d911",
            "9e168667a2974dcc90ee0b44273d7206",
            "da6daeea70314083a6e58e9d8195ba03",
            "b2dc82420d9a4e2288e0fb776f60850f",
            "71a67aa91d8542cdb5236ac2c42d9f7e",
            "235bc2e0357e42e48962e0c9017efe4d",
            "5a8cfe22f9264541bf18f3091847076d",
            "41381c79e27841f4b869f07843468bfd",
            "3864ac50321c4f57b9156cb7d572dff5",
            "4ca605c469b5485db5c6324a41cccafd",
            "ce6f44c65a49472bbd94258380596afd",
            "1f414acff899408d8b27d35040267b05",
            "c4cd3d6fd5594fa08045c143e2d3a228",
            "d0109a2046ce4262b38f84b2da46f68b",
            "e3806f4ca15e4e008f16a559a5db2dd7",
            "a22b68971b8a4cf684918e405db89bf8",
            "ca4d3c2570e543988ff8c9077f674939",
            "ad16aa63129e431f81778892b39516c8",
            "a64ae1a2db164d7bb9f4d1f823c1dd08",
            "e5192d6004c04251a1d6966b9cc3f714",
            "fc5c265e8b95410390c8049287aa0d9b",
            "8e6bb3bdb35042eba84a4152ed8adccf",
            "b24df90c979443f49212a209135c547d",
            "449c5db91ab84dc381fbbdcdccf0bb94",
            "c1e1288dcaf04435bf89538cc6610f7a",
            "00ee01cf358f47c88b8b97dc6f60022a",
            "eacdbb558d3b4803b969accb297d8129",
            "5b401abfda2141f585980a37ec47a587",
            "eca418a49b3f4c28983f52d2ccafe559",
            "b53664e69324422a821f0ab073f61eb8",
            "59c27b48de1647c3992a398c539a75b1",
            "1e9811fea1f34729bc53c03acf54f73e",
            "d705beefe6514e48b310c8e3b6c97125",
            "c17d449e8d0448e5903406fb30a7026d",
            "fc404b9d44534dee9338d2d3a534f1b9",
            "eb5202bffb754550a3a6aa52471369f7",
            "72b25d0797764d53afd321cd6acdc68b",
            "c471ffb5931b4fc09f88f497aac88526",
            "657b8b53bd11495abd54b07a7719d806",
            "d8c39a8a38194c27ba2b7f1c58cc8a2f",
            "6bc8300d3ecb4406baf293851af840dc",
            "830b780c77334a229dcc6429a6616164",
            "2b2634e16e7946bdadb65617f896b041",
            "183fe513250846f0865cf80fbf91bf16",
            "eb7da20db9544905ad9db9b107a28d86",
            "67a29215687840909d5a962226415bdc",
            "608611ea08f24ccaa022639f516b426e",
            "a84eae12fbed4fb28e9f156b56c5748f",
            "5b66bcd201e448c9a68feb731a984b30",
            "6ad990e5a7964673986bdd2a3b0d957b",
            "43f1297ce6ba4caaa027f758aeac765c",
            "5a675cc794a0480e802434312a8a9c86",
            "730d3c1b85fe44a4ad588e57f67e51a3",
            "76a32327c9cf4eb8a89fd5e11cb1d4b5",
            "644b1ff5647741f38f315b9d1abbbdb9",
            "0fce0fe881774ac78c147ea8907dbd7e",
            "f165c583f7ac44fb90dff5fa266a6a99",
            "5d262c095a654c04a1546a96bf824ba1",
            "4fef812621584aa0a69226707205fee8",
            "10a176b8bc6e4612bc09266439c5556f",
            "ea7d747142ca4f5ba1eae60ee3b0764c",
            "89de48abc1544bc4aa8fe1cd9ce3e2b8",
            "ae8e849f1a374cc1ba16f0ca5e5ca055",
            "2162c13a7be542ccbb97f216b1f5546c",
            "31f67748742d48b6ba5916a42f121e2b",
            "7bd08d42a8494264b81afbb1adc82cf1",
            "5ffc32ff4f4044938eab16b6735ba6e2",
            "f194717eb28346cd88489063e1544ff7",
            "97c0f876b09d4ade800b99abf9c10d46",
            "c0d68bbd4f754145aec51ad5a3dfac98",
            "d566053dace543d0a9276a023aa6b677",
            "c4c6441ef6874b3bb002614a59d7f82a",
            "ee08ee8ffdc142e6b54b82e3fca5b42c",
            "18e7889b913f49b7b47599be3d205767",
            "1cdb3d06e477485f96cdc775dd9d6aad",
            "24755ed5ab8c4ee1a6068200f3c0a59f",
            "2848d21b38914965b1a9311b9ee0b74e",
            "18476e5379654d63b2de901373de1c83",
            "44b420c9e5ff42dea11749d4bbcddd2f",
            "697f0ea4f93a4d0691d6d971d9578728",
            "808f266d58d444a889ac6d2c4f64f644",
            "f7fbaddb117e4402a8e900491bbf2fbb",
            "b18a38f510964cc094783a7737e954c3",
            "8c7d689dbd164732aeb3c8fb6813e43f",
            "8ddddc2787074a47b2977d6b94c1436e",
            "ef4199c89db84c8cbcef1527a68d9b9d",
            "75bbc927f372425e9bc99cf94d29cea7",
            "d1f5e53f926547bcbfa737cc3430a2b1",
            "cb5e559d641542cb91207cebd7c6e656",
            "b591782b8751428b8431eabb467eb315",
            "9ea52546ff3b49f0b685a0972a2dd692",
            "7334e9b96e6049b495a475fd496d8995",
            "89084b5a925d42429a72ebce69c9f3ee",
            "97acf7a582fa404b96273127f48c92e2",
            "6c260823a5d94d4db383952f78e9f97d",
            "bc62c6e4c8cd4961bd8f62b2c48dafbb",
            "e34566a7548c4bc7b92f737e1e2717be",
            "50354e6908de4581981507f30c401d8b",
            "1b5d5a2129ae4419874453b00dc3b431",
            "7fc87fd4ceb943c990f7d87c2d1c322b",
            "0bf9d76ae4b64ba58bea40a558ee1014",
            "5972d5db0ac14e86a0197f5be7d7d14d",
            "f7fbb17be9e9415ead2f6510b42e8a13",
            "445eb882ebcd46fca11e7c1eef6050c2",
            "c349c583b81846ed92f09d46d2591224",
            "3f1a4a3005eb4735aed41efa365de75d",
            "0f20fb0ae3394097bcffed14ecbb81ef",
            "12cff02493f94ce491e196ee48c21c68",
            "bff13f2586d644058c3a7c8ecd95b9f1",
            "0d0b4ac89134423ba67a372a8e54bcbc",
            "7c13f9f45671474897e6632b784862f2",
            "640a17c77ecd4a218d413f22dd4391b5",
            "7eb499c7eb994666a75e1e2f854c6df9",
            "764e9423a3bd415aa0b600cfd7ee855d",
            "00ec9adcd5af4510b920c1a12f31c05d",
            "7822a5605852421abc1c11442f91fb95",
            "c99dd0382416432ea7e6410d45a67e98",
            "daa5a99ce06e453d86f4bc0fedbd930a",
            "498e527cbb314e2f9e796bb026f8e597",
            "0413204d50fb4ee2bcde8db0d2984af5",
            "46e5b80a55964b08a32991e733f2f395",
            "4cc400c5360148df8ee6a376c62d3457",
            "92eed921607545deb75f9553bc571fff",
            "065f2cedf1da4dd0b6a47a38973e810b",
            "3f1b57cd222343d2b6a31f889c33459e",
            "d02c8aa0922f42099cabb771cbca362c",
            "7d454d6204254346bfb506c22bd60731",
            "f87c91c6ca55423481ac5a3a03b84f76",
            "85a057ce31bd48a89e7a8aa2184d6d2e",
            "768b977ab42c4cf4a3aabccc5ce06b0f",
            "6d4399c63f004fd18d408f3d75e5a0dc",
            "bc7d520259884591984f37e61e3f670a",
            "980a1f506a8f44f18109b63024516735",
            "cf3fe56fd8fd49c388b7a0464e8d38ec",
            "4424ea2c160b46a88474b0e4188dd945",
            "e9c8d4f5daf14bdb8a756ff08f40e6d7",
            "ff56a2d411ff45f289e955eea8abb2cd",
            "0e4a33db00094b3cb9b1a4283a615814",
            "ac8129d349cf47718929d152a48fcac4",
            "fb76d89376864645a396e934dd62f7e9",
            "e60d62f6515a4412933c4b95ddb383fb",
            "5fcfdea65090407f8afe3036cf161a70",
            "012a9e714ac144958e2e28524450425c",
            "1e8c1713af6740ef9233f6917524ede8",
            "690f0a1cd58c422384702e99792db9a5",
            "a701ccc1f66f42379517152dc2786ab2",
            "3fc143baf8154527ae1a2ef9df2146a3",
            "f574e0567810445b94d34f7b6f70c10e",
            "2635ff73e21149fc82614b5e18aa531e",
            "157283edb4ae4de69eaecc18e57a03b3",
            "0725c3d498614002872695ee6ee4d543",
            "f06ca275e33d4872a91014ac5bae7db5",
            "4c5cdf69897e4d038c8dd7fae4101836",
            "8f9bde071d1a48a7b3eed26e762cc97b",
            "45ca9d22f5d74e8ab4a3fb2682400b86",
            "9698fc0a3ee6418f848d3f70e12b430d",
            "1bc13f9fa490417a9da900c410534da0",
            "89a97188d0cb4e7790604111d8995479",
            "ed25b27f195b4eb08639d13b5c257534",
            "fa2a87e709bf4978893b897b96f12445",
            "c6331907bbe4429fa9549190eb2912e9",
            "dbb8c958a5fe41f1b646312818b72bd3",
            "b0451aeff3bb49bca067738a72c342d6",
            "594b5672a0f34413b1ab110429ebe02c",
            "1f56d29f14e5492f93245b86295fe14f",
            "9daee9bc8d834ebf976545f375f93980",
            "5a34a53c70aa47e3900772331c980974",
            "a72d5d3c21f64e7b8b487e29832ee666",
            "a133822814f4466cac000b66d3eaf02d",
            "09d3d1c80cfb4bd29b5b41472a5fff32",
            "151867684fd64d259db1b45204238aca",
            "819af51f89664713abc68006ca3b0873",
            "cf5c818639c7475481b20465c19ae1cd",
            "21ce9453976741618a87d29a1800eacd",
            "af297ce40a03456f9194c59d2480ff61",
            "1d6a3182d8c64727989af776a635377b",
            "945174cd3e754dc08c0e568ba3793d38",
            "2897e4375f6e4906908a17a9e89c4304",
            "e7a9b77c29d44f8690c14f160608d664",
            "175100da1bbd4d2a8d0820f3d3fa8a3b",
            "a2d12d1e352f43f39b501e5e9a77fb9c",
            "870f1b10968c4c61ba3ec400a393fc3a",
            "b7c45dee9e4c4fc48a750e1a3768e8b9",
            "0243266045da45a08c1f58387c43357c",
            "26d3ff8bc7904d1d8e8b49b3df00d4f4",
            "ab0a18354e39475089ffd66d0046b2c5",
            "d7469a5eaafa409c93938923495be4cf",
            "87668042b33843e2b24e89082fa9bf30",
            "27d7cc1836d049658c18789c2103bcf8",
            "dbd433c98c0e42dcb4111cc2b7a458f4",
            "627a538eb8af480db82b479d62518028",
            "0a59e69d5d254bbd96db68fe1126f209",
            "e10e83b07a344211b749cb2232db938a",
            "e5c32231d0c44ea5a688a358b6d3126a",
            "e86d19f4fd5d40079b85d21b3adb8f0f",
            "21f3e4cda8d94ad1b4794ec8636ba20b",
            "ec9e9281d5e74f6cb9f316455ab42219",
            "81dbf5ef95b249b0bc12523078c04575",
            "7499461be48a45a0b565efa3ceaab02d",
            "8c6fbede73c54e608304d1f5292aa38d",
            "cce5456add1f423aaadf832fcd5289be",
            "1af19370eb2f4e449715d8df25082c40",
            "5af800c05c924d2abd717e287b190cea",
            "43c74ae498f5443e90870ddb61349ada",
            "96e059f86daa43a1b3c01df9f0f02ee2",
            "c3f257004d094be497812dd7254b506b",
            "c09100b1411a4a7280ab8cfae076112c",
            "d6b3b90e585b4936922c9a60bc553692",
            "d2e7c276fb7b4bf6ad89cb140f433595",
            "5c0307b817104959b87feb992e8c80d6",
            "526f276042634082b28cd453071ad6a5",
            "9c2afa990bb54886bd6a7dea8fd753c2",
            "3b1eb857f5374837969052a0c15edb33",
            "51c00ffbe39441d796c54bcde078b214",
            "c51f17ee4fc44fffb705cc82ac3f1698",
            "ee859b7084964b8aacd5637d04a718f6",
            "e3426f2f25dd4663ba7682144ea665fb",
            "caa33b98f90b4edd9f0054b3150a4d2a",
            "a4ebbd0e17ac47aabe7d8352936910cb",
            "900f42f171f54b70ab54503f1289346f",
            "e0990093d3464726b37c2845378d49cc",
            "9e49fdd722ef4d858ababc25b012e5a7",
            "31d0295dd57846ecad8d28aba0c399fb",
            "2f41f9057635432490aa6bf38cd37b7f",
            "1ff81e8376b14f4f9e2dc8f365fe539a",
            "e9ae5bd5f7804953a8db562815a776fc",
            "dbf12333b07d440ca6ec6e20bb294ce7",
            "44bed9a29432444e9d82c9decd9ac132",
            "f7ae63b10b374dd5a38d98ba58801ecd",
            "7415adfe68e544d5af0083bd7c44ba0c",
            "5faf02ad6176493d83fe9c3e58af5df3",
            "98805b2177cf4d0fb40f360693edf94b",
            "1117e8db205743eabd2dcbd2a4942f3d",
            "25d5c4cf3fa648d187df40bba5a327e7",
            "2d59fcfa60f04a1bbd6db4551f3ce788",
            "4c6c5a935a4c479784d42d7402667480",
            "7c33356e09604f68864146fa09bc3414",
            "55de7145c87f4343a3841ad77a0619f0",
            "095a3cfcd42f4e049293070ba9e985e6",
            "2c0c91dea97742b096b4a48e682672ea",
            "3091de51f57d463da4176c8b06b1eee9",
            "564f58f207f14cbf92229ab67e2ba04b",
            "3fe4a85a05024472b54edada649b51bf",
            "cf6869fb5d40402daab411a96f8ed1aa",
            "7a46b6edb3464eeea7ec57e6e50d26aa",
            "ffe9188c6a4342f780be7e8fe2e9a526",
            "96056290f2414bf6a20015eda6aefec9",
            "8e2d98b44bb64e7e892329d38cb67923",
            "e1eab7a3a79344ef96067e51715d287e",
            "d20308d79acd4a80a3ed6800bc4b362c",
            "a525ecc108394b4481951127cb2f98a5",
            "99b1ddc5e5e44bab819c09ab71da617e",
            "d83513a776ed427cab0d2efb6878815b",
            "47bdf974b8ea449194a245dff55a1aa4",
            "7d860ef02af84dea9277f5169d3a1b83",
            "a1c58e8e4428497aa8ed6f58845994d8",
            "d7c1b327c82c46deb56b79fd105ff626",
            "c8ec11dc01a143fa98c5b654ecb98dab",
            "b5610902cdbb435ca87b16ca5acad58a",
            "417bac5070a248b793503702d6b72ce2",
            "97801200e9094497932bdb0be529d086",
            "710bf1b2a76747e4a02a0132ec200469",
            "8b9207953d2e488183acfa4fc4124189",
            "22a9728fcd554f468c1a02eb69f72b8b",
            "b7bd6c3b4fa045e883042eda51b97867",
            "9460fb9ab9614626a662f70bf74e5b7e",
            "7060244f45c145429c73b4776d1ca217",
            "c112dd4356534253ac9f6e9c321cb0bc",
            "15d0be93cf5748c1a165c3c13295afa7",
            "2b2c3cfdd3d349a4a499011458386240",
            "d1f30025717945a0a7ceb5965bc96627",
            "30e7a15231a4497b8e9a7128ea0e8d17",
            "d9714b25652142fb8a1755ebb6ddb587",
            "74f96a896b7d4c2393db6677a2bdba17",
            "fc44a2be065d4876808ad3d344bd12c6",
            "14ade9d999cc4fdf965489b0a0f5d99b",
            "427314bfc3d548e6bdb94e43ac19d856",
            "193d751d062a411db2a3497067cfb46a",
            "19ebc789435a44989919a3fb0b561efb",
            "8593c1872e1f4db1ae76437c588fa542",
            "85f30d9473ae4ca7a464ca44de1fbe26",
            "9eef56bb42114831b10fe7dcc7eb2265",
            "2da3f5a2769148cd9a1f95abb98974de",
            "cf0bc5c3394046d3815e8ba72a84e6b4",
            "5caefbfb51844b2d8387fbacb68e8b50",
            "9e3e62455f6647dc9d7ff3aba6e565e9",
            "c61d8efe6285418792ab66b5dda5aedd",
            "49026f0a7a2549c7b1115e5067ff92cc",
            "5f815b88602240029d7da6c569162962",
            "ccff5dc19d7e4bd08f4ef76e4e976ef5",
            "a1f5e6d86b8848f1bae5f269b3e0fb0c",
            "6d203e0b2c7e403ea4cfe3f757c0ab6a",
            "68b3ef6e23c24e2d9daee0c83a8620f3",
            "76483fae7a0c46a7b193cd9d5c6abf3a",
            "3c9e6ece749947f5a313eea4e0da23ce",
            "541d76c3c3044c46b5b285a0a1970460",
            "1a512400c2974140a1968199574ea363",
            "1d44840c9cbc4b02bae1e6f266efe54a",
            "a9e22c0149fb4e909a5d42b0adaf87b9",
            "9c39d0feae744b57925faba5f394ee86",
            "cd2b7a362a3b446cb6602b712fc77cbb",
            "2343fe4e2b064ef88db0033fc6c39017",
            "6fb873f733f542db90d8d33cabdfb8cb",
            "41d92c2f04104d7fbb213617219b3428",
            "755e54422b0144d2a29f21f5619c3f83",
            "a00526cb0f2c45ee90221aacbf806aa2",
            "461b25e48cc24d5388ce50d4fa479991",
            "1b29d01ef1b04d289fec043cb40ccb34",
            "387c9cc1d562461b87fb9b2be3ecb9f2",
            "8d699ac6a9074e6488931b1d1bf38df6",
            "b61322f18e244e93971f19c0043c42cb",
            "9bcf809f8c5643aeaa12fb041c5981ed",
            "9b25c760debd430cabf5fb51f9bfbfaa",
            "1060b858e0254745b9de60fc168f2bfc",
            "0682c2f20fc341af8ca9552f3f3a5577",
            "bc122418e1904a9fb02ece3cf84f6e0c",
            "2bb2e3d25b7f44df9ddee73bb6bd9f95",
            "6ca75eb4eee24ad38bf0684d57e1d329",
            "af7d1ee0701b452daaeb6b1c6d6d69aa",
            "4f5ad6d365474b3e9ca579f3ba88f4d6",
            "3f4eeb01298248a0a4dc84c58fe7aa9a",
            "71ac2a46577b409fa05cd2b6f7b4930a",
            "70467af954484d6e88622e10818aa56c",
            "7d297445cd444813bfae3709b1e57453",
            "7d55aba84b4149a8a63acfc415c8d60d",
            "7f0a5633483c47fab89824c261889ad4",
            "c35d7bd49e9a4b1d8ed956031b05a7ac",
            "aad400d2817942f2a090dc65b164e422",
            "938e97fba9d441629e50aacb3ad70ba2",
            "dcfd70453d624fc587b7bde5c291290a",
            "63fb8fdcb70e4530892f3cd87f683305",
            "941f398b71284a06841f5c38e1391368",
            "c2c09b38ecd04fcf970bc7c53c5103ea",
            "e935dc27c2714c7da2e2c4b6e102d970",
            "1da717d8dc70434c9a437c322524bf56",
            "938cd924e1644f059d900a3308360bc1",
            "23422e132d2044e4865c4a946a265167",
            "9aa370f4b3ec458888f33637204444d2",
            "d6cc23bef5214656b5d9563e0cf8aab8",
            "45709be7d6f24cd3b995293d4e1d9378",
            "590b9b29aa9d455b80f85ba1fa40725b",
            "22056c0c6af84d6b9f49bc112ab3d413",
            "b58f97b13aea4661a69bd43e9e18533d",
            "2a711b8f41b544d9b308b70f100af730",
            "98644d6f491d4969a5a6c6ab2bc60d7d",
            "6cc8e7dba67e44c4bd6ed966970eefe2",
            "4ef5963625984bb4800bc50a6a3fcda1",
            "e4f0f457cc34483088bfd442ab4d89fb",
            "74cfcaaea2df437da3ec8d984dce7d49",
            "1ba9cdad8846420e9175a60659deefd5",
            "213eb6f0dd494d29bdb05758221bab2d",
            "dd0a0e2c5067432ca7826828fe716d28",
            "5ae1ee0a482a4c779636f1baad91fc12",
            "cbd79bf8fa8a41b5a5b912090ed3decc",
            "615418f201d443829b010aa79ab87059",
            "ae03ba79825448fa98b993613df645d2",
            "6ce6db1d0626417f8aa9898f2a66d066",
            "5ef1aac596a844ebbe3e8df69e42cf07",
            "bc0f6ff13c114a379e22f02015f829a4",
            "e3c82bb59c7242e992881d1b3061913b",
            "9ccaf43e8146494ead60333fac755f23",
            "b6a8fb84e987447f81fce8a53051922d",
            "1c8a00efae8b4d4e941c4e96ec6cb7e4",
            "aa307b556e44473295e21524ad7ec417",
            "3d92654282344a748e0b7afbfb39eb37",
            "0537593e83ac4679ac27c45b47beb963",
            "37d11e56813644cbae6c3b4fc3888f47",
            "d0a36d234a2042cbafab806d1a2c11b1",
            "b6ac2ee2f52f41b5ad450416f0533732",
            "5c571a91e7a54bbab14d40be9f693a9f",
            "dbf7c2ad9306446fb37cc173992af69e",
            "23b2c77edd60440e8bb43778b759a343",
            "c5a54f0e32f24910a3d1b3371903650c",
            "51ac126c38fb46cfac1a3d91189881b3",
            "a4a6acb3502a4dab81ad6525f681ea54",
            "5c2e8e279d624c3bb31ca5aaa35762e3",
            "3daf050e37fb4eb790a47fe5f79bec84",
            "fd724c6cfde64c1b9aace888e2b7453a",
            "5d32e8f18fb741948776f92f091b2aa7",
            "ca584b73bcef4df380a1c2d2d9752a8a",
            "f0176310583947358ec71e0c12a3df6a",
            "816aa0ebe06b470fbadaa6dacae4ccfb",
            "f268b5f64ed54096bfef79815a25c44b",
            "6aa8c87dd5df41e383c9c29557cce0be",
            "df9196d67a66401fb43a536fe2b6d2d7",
            "284c12cc08d74f6b8f8c4c04b8395542",
            "c10d64e4e71f463687d7c21ecd005727",
            "f706944362da4db086428c807034b0c1",
            "ee9550468ed84f90901105d3aeb2fe5e",
            "ea85a80e2b3946e6bfe87e75148b64d2",
            "94bf8bf8aebd45609761f7f878b73f96",
            "152e998c308f4136af9ace11e475b76a",
            "a895fe72ab5049c39b450ff278f6d758",
            "6408f8d01ecf4d29b90e015e73eb14d0",
            "8371045d23d847d7a49ff8233f4f85fe",
            "1aaa36c00e6d4ed4b98b3a368c926062",
            "445b96b067164276b08dd683acb7a5ed",
            "18506d84ae9d49deaa94524f30895867",
            "1971db4387f44f988b4d64eb99f477bc",
            "0b524c5dcdcc48f2ba3a87979aeefbae",
            "f39f71a13bf54b7280cd5fec3e7fb3c5",
            "ba9bc57e645c456da1015b95599dc3a6",
            "e09e6d7fb9e84143994bae663e2a0e24",
            "88cef397ec5345bebfa2dd171f3ada4d",
            "cfad50b68dd14c4e95cda9b37d6dfc87",
            "ae532f885d0d4622920df4e2e312113b",
            "365ab11288e649ccbbd910da74d0def5",
            "c44ffeee010b4dc29ac57e151b05f9bc",
            "881b05338923492e9a9327bd412fc8ce",
            "9a1c761f0caf452fa88a851e87faba19",
            "2b3b824da06646a79d5fc5966c9de664",
            "a1ba3312c4a746a1a6196a30cb469e6d",
            "aefe6198384d45b4827bc77d3b9d2043",
            "9e7d42b898fd4984b358faf8683a0e20",
            "2e85886b4949446189f2a80f89fb14f8",
            "4acb39eb891140f585a620b8faeb5867",
            "fe22f9467d5d460487a64e57cbdeedd5",
            "cf64e77e2c5e442192f4683b6c2435bc",
            "3e4acd9da07a4de5a763cbeebece788a",
            "9a37610f7a4148e7aaefeadf410d6390",
            "f9a97a4ed9534c73b7bad901538a13a0",
            "2c6136faa6494a0d89ffbc35662e2353",
            "4f065186a13747b28345a6666922389d",
            "3b44bfaec97b40318e53bf76fa46c923",
            "99fb08ed58dd47848438167460e42ef7",
            "586012efc24544ae8d407270ac50c4cb",
            "3663e1208a85412095ceb296e0f9fdf8",
            "9fab9bc5d7054de4a47e928570a6963f",
            "c5a8aedf1b044e85a825a226e31b371f",
            "03fe695e71834b9fb810aac6ffd052f7",
            "d768c7526a0948198de40a71396a7092",
            "4b6c5ea0c1784adb8f958ac1fc29518a",
            "6a7e77561c094caf8652361b8d1f500d",
            "c5b8dc988fac4f2598cd24e831dfc43b",
            "6da20a59847f4a4195f7b11ade74e157",
            "cc011fb8cde540ed9fc52a75031fe33f",
            "09409e4eaf8e4772bb6003d09a75f02a",
            "efab25548a6b4812aa4a14d75df2480f",
            "9943610fe69a4e48ac884782b894c6d2",
            "8534199dbf39417896b1cee300b5fffc",
            "79a878c97ad84310a51bebd66eb94716",
            "d9fc2e2b97d24399a9d092e69888252b",
            "0f5d436fcd4346e7ba960491ae622d3f",
            "9a51a70f01df452b897198ebc5c46aba",
            "6082f80734574bdb85a999feddacfab9",
            "7211d76db1674bda86230d7b2ad85927",
            "56b739165b8648889f204f9b562b1edb",
            "a074f087bd7d4eaaacabcd4f01872b25",
            "5a90dc2fd13041cba1946c4ab5253d64",
            "b8bc383857b3477ca653e517e2db10b3",
            "31222a94b1f748b8ad09ed7335fdc5c8",
            "e0aeeed328ae45ae86570687534f4d3f",
            "c240b71878704f6e99b35e5edd0250ae",
            "be4579d2b55b4b1e876316db8283ae78",
            "97cf73304e554db7b7fd4f5b6abbcb05",
            "dfb8592568ce41feb6a70a0f592517d1",
            "5e9504054064421a9b8fcf76cb44d161",
            "2bcd9736e7ff4acdacc9edf87958a3e1",
            "b6c6eb09229943a89437560296351d92",
            "bc93b9c49efb4c24ab5c565d03ab6dae",
            "f09c9ecc2cc848f7a08a668b454e9696",
            "be1bc27db6da42faa13bfff74f33e2cb",
            "bbbaf8e7f534435eb9bd0efff54b4c6e",
            "c8b794c6f77c49a3b8991202555113fd",
            "7f46537ad8984f888137d4b41ddff2c1",
            "4609bd69cf244b158502bf0b57906de1",
            "eb9e3d9c6774437789d33a6cd93f9e05",
            "bd077bdddee9415f826087276962df5b",
            "9a84202217af4b158a38a0051d9e6c87",
            "dbc23330baea4014b2c81d654b230a6e",
            "950f9f34aab9455fbd4999cb158956b3",
            "c09ef751ffed4eb4aa7dcc91f13b0556",
            "c51783f6cb0547a49ace1072c22be178",
            "7f1a33659c2a4264bf546bd7f9f58f68",
            "322bfdf6ecde4aa4b13455319b9a64d5",
            "10844973b96545a991fe8abcf5b6e98a",
            "c52f2289d92c494b9479a81d5bdb4b1c",
            "3616b542cedb4c6fa62f4a0911df9583",
            "0ddd177455f44a94ab655e5f5e51679d",
            "9ffb78c8a3d54985bd5df9fe7f6bb76a",
            "6a0856aada394bc2bfc4d2f1fb59bc2b",
            "73a5a7a0a72642929f78b351447f6592",
            "fb26c9bd50464024a12d9c9c4b2e02d9",
            "f5d5b8c56db646d290673d2fcb6a7f6e",
            "ab0f52e23714471087eee47fab217f93",
            "2be874f855c4436da37f3ad8312db915",
            "1ea3da85029b4b77b0eab9e373c517c9",
            "0fe331de03654c62940391cda109569f",
            "2170450455f34cc4839bb20ad1c4dd1d",
            "c406fd86b57a4059883b219b54c281df",
            "dafd514f9508491685ae4158abc2fb47",
            "e5cd3cfbcc7945db8b37404c50acdaa9",
            "28fb82d67c044ddfa84f5675c05ab2e5",
            "0d42dfe4de274450a63fe64a5a19d8e3",
            "2fe0598fd5df40f28ea7e405c697d8b9",
            "fdb0eafd0d824ec9ba73b8c59aa65e92",
            "aec2d735dd9e44e599ff6d80ea0efc12",
            "caa32859b7544623b7c00cb571be2b9c",
            "e60a4ae89b89446c9ffaff6b5cfd03ab",
            "f837b268b14c48978a86212ba112e8de",
            "276ba283857f47589b8560d3b77ec190",
            "8e57997c3dae420b96f7d0c4198a7c3a",
            "cd4ec5b8099d4da786da3f979d066cf7",
            "d534865cb8894f448988e0706395c63c",
            "65d0709e68c9475eb36abbc91a4468d7",
            "b132f715d1cc4cb3ab2c1ae629aa15a6",
            "c8940b780d254569a04c721ec5b0975a",
            "e55a56fe75a140268166e43fcbc81e61",
            "0ec04b2ddac14af8bd6ab7953efc0848",
            "4dfc326917aa402ab34cad50c019df15",
            "7a7a336918784430ba02a16d72748727",
            "f5fa972be9b446e09d3f5c09643ce00a",
            "4d1891d789de4f209988be037524e6b1",
            "35cfb1a046124e5d931819af6bcf7c21",
            "d44c0661507a48bfb677ac0d43208200",
            "5b581a63df2c429c8d959c173e78b223",
            "ccc3edf50a7e46e281e87c107b1aee3e",
            "e1d42c88f9b6400fabd2de5c6b8aca1b",
            "726cdbed40a047f1ac9211b60adc8cfa",
            "bfa79d64d05f4142981a195ae6c5f871",
            "61e74621624f4c84996ee8e94302b44a",
            "9fb1db6eab4e463e9b20ff894d89b48a",
            "439d8e293442451caf1346f220f324f1",
            "a8c63df991b14713ac365442a1909387",
            "c6c541056895474f99cfd80055c910b9",
            "3ce6be6ae1d94d8f80e31f839549f31a",
            "997853e8785f40ca811fba86fb84a6ed",
            "571a3e1618f144c59c5cae738217a25d",
            "4cf7be0d4cef4a4bb96c07e6878ba7a7",
            "416117bc897345deb84d03858dcbbce2",
            "d1f9b35524994146a5dd0fcc8b843344",
            "b364cb93cb364220969c4b674312a0c0",
            "177f6abb81404491abd24caf8d5f93e5",
            "034f45bd1a244496941a790f286168fd",
            "635b620919f24eb3a508ca1dfc269fd4",
            "a92e9e635b6c4b08bfc5898fd2c63a99",
            "24abcfc943b2451bace5a45595021791",
            "ca390a9f360f4002b76b887b73b49c4f",
            "44506004053241af9b52d6e2f7958179",
            "7f0e11f44ce74d0ab675c4f18ecd2056",
            "e208b77fbf1f40bf8d166aa641d35de5",
            "e47c9c9d83dc437988b59ef9ecbb13cc",
            "bf145bf5300241e597d3cfb541ea4713",
            "5c7c33af4a44426a9ea3878cd9318cc9",
            "600ae37171b945e7aa9e5c2541b382f7",
            "eab189691bd44f788e810e48c1ae2547",
            "55feea9bbd4c41ddb2b4e24806db1b64",
            "c6e3208c8dc446b2b15654818ecbfe99",
            "26136d3abbb344a98c5fdf9d0b38a8d0",
            "4d3d55a514c347658a44ebbd7f583a68",
            "732c95e618854882a5e1e16877547a0e",
            "4164b1f8661648d3b8ced0ee6bfd8c68",
            "015a8f516a1743e4ad132238a39d0951",
            "3fe8db0d69d34dd0b19fd229b2156ed0",
            "a7a82598fb0b4f638cafb81546dc43a8",
            "8c0e215fc3f14b1ea65e6ca5170d1140",
            "afa1a03dbcc7484995eefc25749e844e",
            "8c6eb22bbcf14882a0f048b65a930235",
            "c2302d6814f84a5b8ee9dac74781732e",
            "7071310836cf4d63939ce65380b2e5d9",
            "de1d1d363ae943d89355c1fd6a8a738f",
            "e214c26fcc9e40b2a74df910cf9ed49a",
            "f9bd9856279c4036b0a65b0975ff8f6f",
            "8bf687b58be54e1ea60c3a49ae70e6f4",
            "6c171c53956b43919505a85962c093f8",
            "7330d54823e7448a9189b203f46eba25",
            "b736d51178c94c00a4f7c88b1c58efc9",
            "7527962d4d934c6db9d5c9fe47bb5d1e",
            "15992f87b65d4944a5e28f6fa555d36f",
            "6532509bace94a52a1b0def06f133525",
            "3b6ca1cd075748b09816ba991220c5fd",
            "be879026bf904c70b81e400686483ded",
            "6b5cb6815336489aa2dbd3276b5ae3f8",
            "6d3a4454b3244ebd98d7156a5f341a6b",
            "ab7c89e5d31045eea139a15c3418a1f7",
            "9ea591c43caf4767be2f57b34f175b88",
            "d36accfe01b54ecaa228d47f4abb7b17",
            "d0eeba3ac04043b6bff143410e24ff52",
            "5746c6c2816244b998c3fcbc3bf8d600",
            "3cd3142a7bbb4c3b979b4e0f230a6851",
            "4b0a19bcbbcf4935b739f23b2a719ef0",
            "88fa5d060b894ca19b8a6d23cd368d52",
            "2a09446ea775496893444a0f2bd92a2b",
            "a4c7802c64cc4a6d92142df192c14a0d",
            "df0bff7c51ef413ca4d6e2a415db3e8b",
            "28ca1afa59934ac5b1fa64e99fc4c070",
            "1038b9af4f004dbf930371f10bd78bfa",
            "6ec7dce74fb648978e5374bd0d0379b0",
            "2ef0b8446b9740bd98d502da5039bf1d",
            "3053c69857174ca8821906736f80d66f",
            "8a8adafd6f20454cbb74ec2d614e59a7",
            "fad4546c6db146fb90632792d1adc7ff",
            "15328317dee24be9944a501657770cc0",
            "8c2132b333684c27a55808c6c092963b",
            "64f8fbb5208149cc9fccddd305b0536c",
            "0e977d97c4cd4e4b9b9b90c3b615e9ba",
            "3945cf7cb1154f7a846de11fd799f040",
            "3e61f5811ce544ec95b86c9a4850044a",
            "bdd1bb880dd64b5b9a9e3dd1e78646f9",
            "8579871583f74c6aab141253d7cd7e0f",
            "106dc068fb074e9a911ef8076ac3e645",
            "07c97b8d469c455e88ad27f524e5b951",
            "036dd96c3cf3457487f9a653b4bf6036",
            "b3460fba8cf34e55aa84bc2ceacd3514",
            "554d772da36247f6bcecf83729e71d19",
            "6a52775df473409a8a479f18b58700cf",
            "e657ceb4212b40c08d51e0a39221b0b1",
            "19039c7a04f243f8b0785a6eecd9be43",
            "eba40e1a2e284053af0ade8ae7c41df1",
            "80f89f6ab98348d8acd39375e0d02029",
            "6a1c085c483e48c6922c44c7bc7a7729",
            "26cd0b6b9e8e4e5bbd263d9edd712553",
            "584cadc4d8de4fcba1afdcb205337b8a",
            "d1d46c3cdc314344bfb147fd75c9db5b",
            "63ff481473fd4990ba3acb77fa22ade2",
            "0f4480eb19ca4c50bb453a7f6adfb969",
            "6a4200555fd6487cb6ea470eee77ce04",
            "5e0e731cc58b4793b74fddb9792773ae",
            "5c64d68370184274bb56106f478cfdfc",
            "994588ab4a684af995b3b8561329a4aa",
            "fe6bbb38a0494db9962026cdbcd1edc9",
            "4b24f690bae741f5870572fc27762192",
            "7935f32b07d8457a99a3dcdaab6d16f9",
            "09c06aceb9c14f2abb4081243e6636fe",
            "1fbebda911c647e78558028a8eae2f48",
            "62bd3485d9fb4fb1ba02a9a27b46aae1",
            "516fb4fe5df24428b10f0694cf18e706",
            "efe1dc10e1d14064b9c111846339aebe",
            "adefd7cf59a7494b9387a60355dae9b2",
            "c65b961086744ef48d9619bb22809da1",
            "b1d08f76656348a68bd8e4af0a8e9fb9",
            "f2400432fb634dc4b802ff45633a8ac7",
            "01c047160a634c04b4e489ef5fb316d0",
            "474059b9776844f4aa7ee8a0342341e0",
            "8368cab5539a4112a1cffff35fb9e23a",
            "17cfe9f153f24a32860bbc3df6a16941",
            "29b6f02bc5eb4b8eb5bd76bee7b1cd2a",
            "edd0f36825ba47858fa7a560848edd0d",
            "2b0700b29a2847ae90bf280bb48327b6",
            "18380eb5dfd348fba9b040dbc7085d3b",
            "2e32bb7d64744b8fa0a3b37c1efc8ab8",
            "be5f546e315f47158ad0e4528ac2f37a",
            "bd58bc9a99e341bd937dc69faf0e214d",
            "dd6765127a324a1198816a33dd3bbea2",
            "453e3ba0b0204c0390fb016544fb986e",
            "02d75e544a4a4cc494d38423a270e1bb",
            "acaaefe0540f47459c15be793717742e",
            "78ef92fee2fd4ac38714e11b0acac0fc",
            "ca658fd9267942a596182fe02f1092f2",
            "ce936082ba364991b8f099a2bc4ada87",
            "17459dbbf6324eb7bef521167289db60",
            "a6d417462b874d65b0a24adb26e8310c",
            "f2928e973f3f4d8ea413888e1c1e083d",
            "349a8101f4cd438b8b026f288ba22429",
            "4178a010ef834857b7cb4fd3794fd8e5",
            "97772456fdbd478da3ac9af8eb1da8eb",
            "0dfae395bc0543ddb3283376eaac90e3",
            "e5bba3501cd446488c8f6dcc968d8f16",
            "c3f3b726513f4074862351443557a544",
            "4dae2f82dcdd40c9b98075795c5b3092",
            "bd3e631e0d1a4a6d9a7f22ff4abcc149",
            "e08ac6fef304421e8f1db56d39cbab1e",
            "b4d8790874e14ccf8628d83f5620a0e2",
            "dcfb41ff732447eea0a8891d078b52ad",
            "14211c39f33c439894e5455473f01fa0",
            "504815844568484a9312f1a2eae2e25e",
            "74c6cfdf3aca463a958b228e0b2b6051",
            "0442c4b970ff4917852fe1cb5c40def5",
            "1b039d5023104070821ffe9eba5895bf",
            "f47a2fa0adb64a94a63ff4ed502bdd79",
            "6ac7e177cf3148e18933713629b73214",
            "c9a35751fdd24bc8886798cdd0cc1799",
            "bc52c2b9cac744a5ad6cc3823f831829",
            "c0ec90dc9d7f4b56a7ab565c8c437296",
            "b881b5baa19841f79e405c08631c172a",
            "71a54420969845608e1b2cadeeb83609",
            "f081c64d8a8a4de7bf19d2684542a0cf",
            "813bd4b4c2684332b80261788384f273",
            "1abd5eee4ed84166a28c4897b6a9f954",
            "a9cfcfd40ae64de985671d6465539760",
            "b71897542f944182bfc6a1e717504a30",
            "0c33e13921664264bd238c326a57e06e",
            "5071c875b83e4cd0bc3965fb1bc7c00c",
            "d408290d29b44df4a09823223d970667",
            "7fdc308daebe41bd9d52b31315799892",
            "df67472aaf37443da5dec0ba586764ef",
            "db8a9707a1b941d5a77fc144f5d2ff42",
            "848ef41eb4094cf2a2ff4bd2a32ab9bb",
            "ad9c6a2a04ce4fec9b8164a4ac022e15",
            "e7afa719f5cf45a19104122df288ac45",
            "9f3a1ad273014e2c8d6ce178db11d6a8",
            "6a564336a896445b8ac620ff520419b7",
            "21a41c0742414ba7a60363bc3dea5aae",
            "d095e5d2eb2b47f89d0e7945c97fde16",
            "a7e1075728034fc58fcb4d28569d72ac",
            "410db11c7589414ab9a49123cc6bb0c5",
            "dc56f777aeba425bac65954e5579ff1a",
            "f8dae6dc72a5425ea0e77e26f756d392",
            "4e2686e2c78547eba2f5b21088ad63c5",
            "7a2e7087659041ce95bfffc178e1a897",
            "95123b15d7fa4b6abf533d042f75bc51",
            "6f99a95696d445a189a1e45a3158f64d",
            "33305ad0179b41afa7a3419ba7acc503",
            "1bbb02ae100f4d3eb09dafa45d994b3b",
            "dbae16bde05544f5a73d81add4c70f1a",
            "cd6f53d120824f3e935d86267e6be90d",
            "d73f7dcad35540af99dd5118f0d68b47",
            "702404baf85c4530ba4227aa0dfeee35",
            "846ff367a3884bc7ae0d70c160f7acd1",
            "84c156c6a1584ae7b82aecff31b3cf56",
            "5fbe3808b42548658e999abadcfc8bd9",
            "895caeb10c9a4649b98fddb9ef95af4b",
            "5205d4ffa84042e2bd4ae4152949ebbe",
            "4b874ac60d1d48bd8c8610e532297976",
            "795db577512949b394cfaae53045b650",
            "526372b2a763434daf9422a162604184",
            "df42f8c48cd949a99b18ee103ce57d82",
            "b7d538335df74ec59d1f845c6d9fe1c8",
            "81d27a2222ea405e8f48ae64fbc97950",
            "4f108c5775904587aa8ecc69ca801f11",
            "d96cf51d101d412d8cea473ae5bb3057",
            "f657cc16050247fbba20adaea35bba57",
            "5c8ac7d826654e118a41e80401ca57bf",
            "64fe3a5184d146c19e08c41c6e2709fe",
            "f4ae34952bbc48cdb5aad0b2be3c9495",
            "e0fef5f9a27741b8a43d17321b2eeaf5",
            "20c8dfaea9c14a79bd0a6bf5234f41f4",
            "209e5d86a9b94367b5e5a6e02241f713",
            "ebfb4c6862fa4f30a83af95c5b3da96f",
            "b146b73cfe154fa6b347934bcacdd568",
            "6d6790287ab94f928316ca8617ad55a1",
            "20e445dd48ce4092814668024ae7d285",
            "2e2a51f281bf4333a9051b6eb859e0ae",
            "682595f8466b4d0c90488f1fc14c73a1",
            "d2110a33ef0d4bdabaa15aaea32ad449",
            "aa8ed08424b0400695673f633e86755f",
            "6c5d5ba7a9c34fb7adde673de3b4876e",
            "c3df391ed3294b8fb4ac3dd26279cdd5",
            "8be9075a6a4c4f159c37cfaf4f24de67",
            "ae5f82e8e6044b5ca5955745ea1d669d",
            "eb7995d0eac342d9be03232c8397be57",
            "df06ec44db84436dbf4c119b00830395",
            "2ce09dabba6e4363a90b756a0c4234fb",
            "a51946da50234f36be9ac5142ae02f4a",
            "b96e39d56ed148af931bfdbb3e58e88f",
            "30a777f29ad748cabc9d717921803a68",
            "e62ccbbb44a34442a90b15fca65ad586",
            "418f6e690a9941b28a39275a85d84de5",
            "aa9508b84fc84535bcc15416a642365e",
            "330a3881c8e141debee2d361b22277d9",
            "18d5091fb9f54d9eb4352d635ab7ada2",
            "d3938ca7ffe34982a2812a5ae4b80e43",
            "9b1f3cc183b441029b9eaffc75a57320",
            "7370d7366e0343e1ad447f4fdfe9b467",
            "752f975d7b614a9d8485e652e4ba1d0f",
            "0a440c713fdb4fb7a2a0a511c5a3b765",
            "87cff440f34c498e8869db817311ee54",
            "837a9194f01c45c8b4e86932f74f1db0",
            "af3477aa8d5a4dcebb5c0dfd19f72715",
            "7f93f86824d547e49b4257187e24285c",
            "89a0ccba4d3b45f5a47d3ac408423002",
            "5e6f5ccba46a48d7b410499177809261",
            "50cd5cde66654dd4b2b4ee1429b01578",
            "0d85c8e81f024ed09929fc480c224016",
            "045ad0fbc53f413fbcd79d742d3622ff",
            "bfb833b4f9594da698ca64eb82a67f4f",
            "db703035055f472eaf6cdc8cf51032ff",
            "3471d92cb3d84d23907ed1ff010f684c",
            "b2b36d8a52194ebea593d8f52e0cf29d",
            "935e2584f7c544f69fcf806a319bd2b6",
            "8f7b11f418444640a71709453664e523",
            "5b915400ee984bcdac0f5df044493f7a",
            "4551b6a2eba8425981e0739abc594c54",
            "f35002f7555d4f70b6a919f74908c65f",
            "fac39ceeef8f4df2b0312c883b30f169",
            "cd962c9c607f4adb9f723790c13f285d",
            "83268ef3bc344056aa8c04d833d9c314",
            "4e40c613731f4840b65e3e7633843d67",
            "3c90910313734d29a5e26e2838186bd6",
            "e991aa15f6354fd2afdc0bb211ed6ae6",
            "de1f23a9236b45e18ea980b26d515d36",
            "a61bf70242dc453487e6ea5eba59e2a2",
            "18196078d46740f490de4933512e0374",
            "e287158cfde64cbb862e9d0e89d97a4c",
            "95eaf615678142de8a18814672aab914",
            "81d81cfff7cd4b2088eebf8b2247b633",
            "89949cd8b7c04c249d617a1e6dce5ffd",
            "9808b21e92be4d869565d05846d5be9d",
            "b308f535eb714c988eaa67e9e8bc8078",
            "92fe91016fc248aba595c93d3096cc70",
            "8335d0046af0428a9877b9d0dda7adff",
            "d5879463d84f42db85d073918353b0cd",
            "70dfae8d84d74996977c876cc5ab94d4",
            "b19b9738355b426d83b973e2b5289749",
            "e2518906800b41b5b47405a777cd6e5f",
            "8a93f05ea7ab4c43a65056d7f766de29",
            "5318911be83243c68d52cd2d599ebe22",
            "8db77ceea8b9471ebf0c38d64e144903",
            "62b8fa67a3604e1ca5055bc172cc4ed6",
            "07d5a46f943c4e6aafde19d069e24f68",
            "de92feb197c1417c862d221bd46f732b",
            "43cf94e1a8004a96b21fab60283dbaca",
            "61fe949e9fd04ba4b7625fa4e1eb8b0d",
            "10762af23d444a7db69ccdd10b46ec54",
            "c4bfc4cbde514b57b9308d76b9ee48ed",
            "71ebc9630c904545887d3cb0cda93ad2",
            "64e0ed67ed4e4affb2d6c5df74921d67",
            "ebcda4d3a4ea48c48fcf829c36ca9833",
            "f3d6e940bd1845afbed9868c146a1d62",
            "620ea5ef9000481faa82efa14df422d9",
            "3df6da6e1d2347af8e49e2071fea3c7d",
            "eb0014989e11459fb7cebb24f1c38f0a",
            "9f3d7d3d79f446199166dd2b8a18bba3",
            "68cd9e64f0b34f95a3f2111d7b067d01",
            "798d2a5251354359a7db70df20755468",
            "babadd9261d94dc4a224ee12c46e03c0",
            "53d4b4f323ba419aabdb2b78a44baf81",
            "cc4bf0e98e7246ba985d6f6f07a9c3d2",
            "c946fa17a34d475e8f26f0476b8dfae4",
            "1b6849ce1551490baa7927f5c503fd10",
            "c3e33a10c1bb4302848fc63ce5f24251",
            "608b17aa56da4159832613fcb25e12bc",
            "b08c85c3282641e287c7a8c23a7f2c21",
            "b42d6be6baee4fa7a5b14d68aab488cd",
            "9b1aa492550d46b08bb8ab59801fe211",
            "722d7d2e87bc426ba0d158b6083f46d4",
            "e5cdc75cc75d412fa71365f6d0c9b543",
            "55ac7a5b06254b8d95d32298b386ca07",
            "caed74be2f4446e28cc6ead57e4c056f",
            "46a206fdd3e94948bac775f0da23e735",
            "220c6738d6144b598792384d4e31ce01",
            "591ce04318f446d8b3f1da7b8c5e7350",
            "aa29bc599297423797f0827f585757e9",
            "b3b6135ae56f484f9fff130f20c0b8b2",
            "b10105d24f914402ac5d8c9bce96997c",
            "800a8160236347b58036f7f71a9ca20d",
            "a3d17019abfe44e39adea6b81707b9bf",
            "fbf863690f1a4ccebf5c3e6145b441f6",
            "49c9f3ae17e246de86801f72040a8d5a",
            "197502c29d044856a5c34c5a93c3f8bd",
            "569b072c41564a169fd27a3785076bb7",
            "70a0f1b9d20f4880bdfc8f9c3a7f5d7c",
            "5e04dbe23abb48a28852470104da243f",
            "e50ad8dbafdf44db857dae8cae2e9b72",
            "47aa38ca196e49af931dc146be51510d",
            "204696a5f7fe433f8e530672989d436b",
            "6ef8ee51c55243f5848a9011c120e7e3",
            "f6b7842f18e3417f860130f277ddcb24",
            "7f00dfa29ca84e73b431f74577ecf232",
            "2bb23a07505e49bb855ab5a055cf947c",
            "e4f4247cbd04450e8850b7e17bb90cd7",
            "0847d0618073400784f0e97bed94ab33",
            "d64991ca773e4b27891bf1da4adf45e4",
            "762e28c0861b432fb5c5e5ff14358bb9",
            "0b82aa99fca24535a70ac3c2696dfa02",
            "cd86a4f44c7f42028485254bbb0ee43a",
            "0b03b93d78b84666bd71c36168015e36",
            "ee8e1ea424f045629bdeb25601504234",
            "6b076f696fed4212b4baa0f87d3f7ee8",
            "cda02c8bc1ee440e96ea7cb6adb0babe",
            "f3c2726d66f44bad839460bebbf01b45",
            "b0a55e83d6554a1e98217a47adbed0d5",
            "22975fbdfaef4ef2a756075811d714d1",
            "4bfccbc39728430c86cf0839b8e172c9",
            "f1fae891fab9427ca1e0746125978fef",
            "838d0b04925a44d9988460587d95421e",
            "dc96d1efe65a4c579edfe86c75da7693",
            "78cf8c986d8d453ba9e2370a09a53d6d",
            "52965315926a485aac725e34e0692e74",
            "8265cc1de3a14eac8be5e5ad250f9c74",
            "885cca1dbac14874b84dca510a079326",
            "f93a06089c084b41a4c5ad42f6596b5b",
            "a864a8903f3b4e768acfa8e4c3527092",
            "402306b33a2c4c2db6c99807e160e5d9",
            "c5be860c5f084491b449043f6f247044",
            "ed49bfd95490442db224448daccc07f5",
            "76f255774fd74bd3a9baeb9a07ff2bde",
            "c7c7acddc106445b92c53f1eecc44519",
            "acccb05a03b444e389c373e31f162b3e",
            "d272ca8439ea461997a9b0be335290e3",
            "f481dd513cc44124a4256b75da164132",
            "8bc2b7c7b44c47508512b39fe991aa01",
            "13014c9604384c758ebf1b0020891507",
            "645d40a879374b369960d2da99dad7ae",
            "3b6ca5e9644e40c2b380a3f2725ae607",
            "8f681084dffa467782a3f7389140d6cf",
            "609f2ac5eeb14a0e8e0c287d6246e2a4",
            "d4cf774ade6e4aaea60f69834f2398bd",
            "9d90a7df559c4b0b9fbab147f1bd2d55",
            "5a465e344bce46cd8c953bbe8ca0cce8",
            "10e2dae2de0a40f58be51ffbf0f484b2",
            "fb9c0aa35a52469f8b0e780f542c8a9a",
            "d358a618816b4dbaa662d99824b6931f",
            "f010f7d6b58f4ec1834971342cc6e093",
            "82a2fea9d295417ab94db6e923c9448c",
            "dd75be29e6a54f348f08990e5a3c9eca",
            "b212cf6a50e749ce8eeefbce07f1fda7",
            "fed36726fb1e4463a9687118c070b4eb",
            "77ffa8e167e64398901c44582e602ee1",
            "f58f98931ad14591af460e91f60acbc4",
            "58fc89eefebc44f6bda6ff14d9c581c1",
            "dcb31b2f911747ad94cbea2efbe1c130",
            "5d76e65829704bcab2b7085c0c816859",
            "228a0842ca8440f28d73daaf004fa91b",
            "466174dfacbd473dba01ddaab5332949",
            "7af45acdfbe7491fbbf958ecd515809b",
            "930d984f4fcd40039a5c7560acc49ab3",
            "8bb4c348332540f2a37c799721b84646",
            "9cf3c30fba0648468e6d14296a02a166",
            "e960343a637141bfb77ecbc14380b22c",
            "b44b3f2c62d7487e9cbd683308ec78cb",
            "2b21db25d14a42f6aafd96c114fe1b86",
            "65fd07530fbb4af7b6d0dd752cf26371",
            "e19da4a73c304acabb0e779af633e649",
            "c7b2f16382814d33ad70e51c25c09dec",
            "f157a23afbfc40fdb12883f34753c1af",
            "671bc275e0f14ef6a21198f02d5503d3",
            "dede964b5c104412be835031fcf9451a",
            "5f9a17ed8213443883fe907630611e4e",
            "3fc7ff91e08a4236bf1f692a5faf6af8",
            "13ccbea516774f4a8486d1bc4e08d8bf",
            "c8f3f609ba6448759ebb80287cca92a1",
            "9978432168f540dbbd8a36736cafb7e1",
            "870c0ab2e48a441c9f2014b37f68e710",
            "d2efa9b0317f4a909d3210ee659f0798",
            "2db4bfb796d54f5585792b18c2f6469e",
            "72690eab385246288b0e44413c1e70da",
            "9de6774963e94eee8ffb08a66da31858",
            "ee40e2603d154b6c81262fd48353e213",
            "700c813b069045ffa46f3caac0fe2e0e",
            "44ce1c9678e54f0aa3864fff0c3cfca2",
            "093d74562fab45a0967f3cc28cd307a7",
            "6d7b28adc8764f6cbc40d792eefcb63e",
            "4ef0d0c951b64f8bb59c2db6237df3da",
            "e6476aa08c704e56ac5b3968725fa703",
            "8cf535955e264a02a8ee743365bc0ea6",
            "2ebf2dc43d704115ad544bd4ea75b1de",
            "e851ae15e2b04922a951f80ce76bacbc",
            "ec33be63ab964164a5e2e39f012d2692",
            "5d77ecb7eca04a46aabcc3dbb2821661",
            "1f0f6595fa314568b55a09af96e0eb65",
            "2cd859d8cb924c0c9494539e4792f16d",
            "0061dc09bbcb4fd593716aebaa1063e4",
            "5e8cfc42672f4055a2be363749ef3533",
            "73713f667cfd43b08e57edb83fc6182e",
            "5dc7f9b2255c4952966298347cf1250b",
            "2288645494a24f5ca5a053e65ae48e82",
            "965d3955515c444597977269aebd2601",
            "23a45f60054b4f929c0cb1dfad731ecb",
            "ac95fa81d68c43fdb562ba7e3e62bec6",
            "f768b631c0ca4c16b8626b465a7c2953",
            "4a618bb1d2e64b9a9a40762954b37cc7",
            "26c7ad0ff10e4c1b8fe0dcee2ac6566f",
            "0f83dc63268e471d9b25cfee1b328765",
            "62e874c40b134e3e99fd26bcd89e043d",
            "82557b0ba6ea42e1bd7eb0980d2c3f7a",
            "bbe34a6842e04ea8a158e824fee368ad",
            "dff1cedecb934b3bb39ae43216882fcb",
            "9c0e7413ac704e33ad6b20b57b5d40c2",
            "d465d83855864962a60cb15fc6d93721",
            "efbd9575f32747f6bab417edd9db11f1",
            "90bfd263ee6244f28da7f0c4a50ea448",
            "3c44eae1708a48f2a5885a5a3121eb9a",
            "6c8465e5a96e461a8829a4dd6ea9360f",
            "15be2225125646d3815784f4eda13f4e",
            "1bd8c20b3ef0423784f906a236008c93",
            "61d701d789ac4030946e1cac0c026326",
            "ca63171a5f1a4d939fc82d7c96eddb7d",
            "aee286451fca4b978d10cbad8db9ac74",
            "40d53100e8ed477bba3e1829cf4dba39",
            "855ad8f8b3734d6b85c85915c21beacc",
            "78e23ba99d7f4c938efe482314fbc34e",
            "7e0c177a54ae48e4973d779b1bd4472e",
            "d580b20de079423a9b743b3956dc49f6",
            "83a3a465017649838e9e420e6c5004b2",
            "aacf159c1298450280b85311b875cd77",
            "4e7d0585a7a14300a3c37e13a91ba71c",
            "63730c7bd6724e6aa4b5098665d5966a",
            "073442a058784c0ca69ecae00385afac",
            "217162d00c7e43b080eeea761ef588b2",
            "b4357f3742ee410d9c61c536f8c9a260",
            "be16490bd16c4d0d92ab0bf7031cfe02",
            "fd5f596708ed4b2c966d7b2f1b30f19a",
            "5481039edd924098874913e622130c06",
            "696482e41f084f76a8b44d606c8258d1",
            "a1d7691e47554113a22ac17f5e0e1c13",
            "c5a983dd4a034d67a4ffe8f03e64c367",
            "9ae28eefb1154c96a14ba27d79d040f8",
            "5709053fbdd5463aa048832cda3e2c6a",
            "b196dde5ef194d5da496dcbb9e8d00f8",
            "109e476bbdb849f9bd261434f62328e6",
            "5f6894fcddcc4c64935b3a3b76ff48a8",
            "5c638f4fe7ab40458ff68b246dea911d",
            "d834b054db7b41fab0d54d2ce1893a26",
            "2e0a6b07ec05434f85a71f35a3e2da1e",
            "97b947f3e3af4e0f9eb737270e3a58f9",
            "fa5a9aa9d5bf48a39326a17255ffd303",
            "aef6b4d459484852bc6dcd11a1162093",
            "35c4cca0cee44674998d60cf81e688ff",
            "d58ee2faa5c742fb9dcd363ec0d14b78",
            "86540c90800a40f896063e5e10f37f1e",
            "9779a5aea80b4755a4634efe0931a929",
            "59a25b00735d4bae8ba157025d899f57",
            "13cf4fe7e40d4d4592623159d70d0c97",
            "18cc5d09189644c9893cab3753ebb278",
            "1bc159577c3f4636bbc547307171c3b0",
            "8e5077bd518b43c0a414ce4abd667c2b",
            "c2117d5df3944c68931f774edca1f370",
            "1b7aeca42c714a2fbbd6c37ca697670e",
            "f0b717404d08479ea43dcc7a17b78bcd",
            "7420af43be334de2ba838cb277b40f7f",
            "497b354292674661a1abf2b04fc13af6",
            "42f6354648e64646ba0c293384dadfbd",
            "681acc9ee24c4bc3972245d227d34a22",
            "dd43deac283740e2806add0084004589",
            "ba2485df7ba84366adf7ca1bbf575e69",
            "1d6185a469ce40abbea191c59f6a9261",
            "11b198d947b34875acf28c32c7bd4c2d",
            "a1a871be9d8f4ccdbe81e3a57aac65cc",
            "2d424cffb3a043e795ef031cdd1bffc1",
            "bed76dee65384ea0b44db260b4ff0f08",
            "55260c7b1f3c491a85e021c4265c4c41",
            "6d6b7dc2562b4adc84fe2165eddd23d6",
            "48e8776dc85f46c2b08079404fbcbee7",
            "1bcce658c84f4a19b1d7ebcdf58730a1",
            "9298be45ae70485e9b8ae2d5d107046d",
            "a77a547ca3e743bbb8d7590487a64164",
            "49b39cbf08cc4e648673954efa267ca7",
            "146e8f2843244a41bda3e4f41aedc633",
            "a16f9d940c6f4dcb864aed98f441d381",
            "6b5a46d104484f618a9a8af8d8dcb640",
            "ff5dd6cc203b4a94894280ee56b46607",
            "537ca0b46b3b4adda3541bd49120f291",
            "6510d99e91e6497db6ff330b6f814ee4",
            "47ddc2ac69f449c5a651eb8260c600e2",
            "eb195042fb8e40d1b4675dc0b04dcc32",
            "5f34715c11954e48bed7ce38507ab4c5",
            "6d72511942dc4a7b9389149bdfb7368f",
            "9d0a663c4c9e4b46acd07ef8c1cd4f7e",
            "58c4ebb7d21243329bb5b759fde14d70",
            "3421a20be2974021a3e8c42410c7c2d5",
            "be5dd97fd46a4415943b6fd8c6c1e986",
            "6a614ee02d1d4032b846bf264f25944a",
            "f0fc51776ed3401b9efafca8dd030700",
            "ca00da82aecb41489fcfcb8ba7857b2e",
            "9bb7a7d182214fe8bd38f20dc1a04786",
            "dd916072c7c84a9d917feae58b2dcdde",
            "a778d72dad044db2b2f977a731497047",
            "c8b975f240e0468b91440db74d6488f1",
            "f3e47dae07114e1fb13e2252156a44eb",
            "4f03da5c8bb44871b069b4fb1ff1991b",
            "5ee246f151694dc8aed375f2e8652776",
            "5a9f0ddd6e6a43fca4cdac201f58e5e1",
            "3978e504914f44b6b5a669db11bb14b3",
            "f76a0cdba5ba44efae919b2042f0cf8f",
            "d9e008821f5a47afaee5f9c2cd378208",
            "8723766cc7c34c7481be5ae96e77fd4e",
            "d4f0e9764d0043cbb234d0090fa70f2b",
            "d28e9ec76f5b4f8c911431ff30abe183",
            "fff0d43c399e4542ae54a3b722eb38ba",
            "3374a0b7299e446184893678761ffe53",
            "28d8ad41d00c42a0a74da8147ebe0ccf",
            "92493e38950649fa9ee8e6fa30b75a5b",
            "2f4fda1de9c042c5b6f9fb5b957cda51",
            "6179fe2dc01147819c861b98eeb950e3",
            "27eeec649205483eace970f517d105c7",
            "b246a9232644406281302c30340ec47c",
            "5416b0cac7c741f8a07fc401f5021953",
            "63ab5bd3d1d648329b6e29d9abf1adf3",
            "985a495dbdcd497e823109d155b28e2d",
            "b54bb981b0bd46d09f7cca08ba7611f9",
            "2a050aa4ad0c441f8cc82bd3577a5b20",
            "a4911e7aa5d0445e80b3e4015dd798c2",
            "90412f4087414a909a1d5c57ca8d078c",
            "ba8b4adee33646f380d0eb36eaa17081",
            "3821ca35cfc64e13904786ccf80e7713",
            "4ea3f6ef4fdf4eabb48aafb3b5b97681",
            "24d6137e4d0942f5b1809b34934d674c",
            "6ec2136088ab4764b77ac46dd4c771f9",
            "2a456ab0afef49738945671ba0f8920f",
            "494f24aa37da43e9848262fee72e2210",
            "089101707f134d1eb3a9fea90d69a846",
            "d885880512954d3e8b2284f55469a559",
            "fee038b9c41b42adb41439d629d3565a",
            "b8e990ab711e4d6f9b6a49910783bf3e",
            "f3fc00ca07124e1dafa9f4c1dc4cf1a4",
            "9419a5f915424599a4474d3e83ac610e",
            "458ef9281ecc49d7bfdc33eab9844c65",
            "e67cfd6d3cb94cc98193b881056b9c06",
            "a6ef69f2f5dd4239b99042b813d7d601",
            "a1f67292e0564e11b47770fecf1128ef",
            "add04f0615094b40b79653652e092587",
            "13eecca8ba274f2f8ccac626176183fb",
            "fab11f6209714c7293c2ee4452a92fd7",
            "d9fea366bd43484894a6cb6d753c1eae",
            "ad0dc43a9e3c486292521cdb56f8acc1",
            "53e0649b6d1f4979bc54d65d0d29f08f",
            "2db5636aa7b0429a98f5de0f5729d157",
            "5e2a7137ed2d4d71908590a39afeb89f",
            "78886b13436f4fcea3de7d0e61738dc2",
            "65e8a75fe64f4916a7dd8cdd9db14202",
            "2dcdf536bfdd4089a831c40d43657ca9",
            "638b8dceb82f445fb92eb54e295a4cea",
            "9a1cd2b1992f4f6188327ea3a1fcbd73",
            "02282a35cffe417d960a9cef460fc6c0",
            "5fa92e59b611403c9e9dff307deb523a",
            "6e5ce08416474ef2a4008ff1ebc3daf7",
            "64aec39033b546fd9a6b7e17645578d2",
            "528d2b4c6caa4d97b8192f742abc912b",
            "fd504b5ec5ce46838aa9a561dcbcd9c6",
            "dac1bf26061b4728a9c034c3f0ae15e6",
            "2b0425f88794435cb5af875f89b0a626",
            "5de9081d157648be9a4e2b09e2c63794",
            "06e326b462724c078d27d8db5cdfcdcc",
            "def8adc670484379a7e801b548969064",
            "8cf7aab8a3f249028c23e843060df6f5",
            "c34381eb67124d26ba576335a4177401",
            "08ffe2454df143979229ce7a3c1dfd61",
            "d4109cf301614a60a8a15301fa516f9f",
            "fc7cde71216f4748b1d3d6f45a0538fd",
            "ed90f229a48f45ecb59bfe567940248b",
            "ae7f20d157fd4846962cd0ba4a92f39e",
            "a122f40457ac4bafbdadbeb83bd1ecc1",
            "bfa265d2e8d34d2ea2b47efca4705880",
            "354aa26d04d945ef9699453b6f3faab7",
            "6c5082ba74c04fa5baf35842cc97166e",
            "e00a0e951ac9478da1f275a7679d3ea0",
            "fc3f9bfd189946afa539d34f445c7287",
            "21ef31c246ad40238e9d04a71da8a0fc",
            "f84f6c27621545869fc0779dd17acc31",
            "97583dec46534dcc93e06498255539aa",
            "0a5988831d8f4f0c9fc7543d056ef307",
            "9069fcdfd2454840a93294452b74d645",
            "f59dc963093843c5bdcb055752ea0c03",
            "f666cfee96dd416a8cac425baac04ed8",
            "d8743524ba4849f28ba064d8d8e7dcbe",
            "da3fae522e994560bfd4779fc9a9e230",
            "31e9b6c4830d45d4b66e70d2e8977b73",
            "ca72ff0fec3e49f1a09a2b5679f90ddd",
            "d83fe836041f46618e6f5a8ae260d688",
            "143761316db4495ca9f38503a9134afb",
            "225e954e4b634dfdb2d3074052577aca",
            "d244c936431048c1a9c4a25e13cd3b1e",
            "561887cdb1e849e5a82729fbc10ff40c",
            "d67445742a7041c59f276fd5c6ed3932",
            "3a7cfc68bf334506bf6618f700cc94a3",
            "53ecd4094fed49ac9b332414f76031c6",
            "f439fd2f646f4728951d9517ec6b0a5e",
            "a335b9d9418e45e785dee24ac3d899d9",
            "e0554235ba164af2899a6324143c6400",
            "0f0371e656834279aba53b07dd96efa4",
            "2b3a52537d5d496a99aef3e827c1052e",
            "3f5c9c027987471fb8df28f4abaef623",
            "4dcf64b87d8a47a9a7d7eec00063924b",
            "28c8a73a0e7345578569e70c3316d872",
            "dabf9690b7a444ec8ff743751cb0bed1",
            "44aab89978644f55bb87c8c1cd043633",
            "35f7382cc61e4ba59edae2ca9015cde7",
            "a6f449d953424a599e4f4af104be7efa",
            "634aeb6392504e259386949b2ed134c3",
            "9b5f8182e2534b5db01678bcec269e42",
            "ad61b2221c7840839e8e7fd37ef95077",
            "40007781a3184c84ab89f01c628b8e99",
            "54d38cf76a724a78b450abd1ce5fd749",
            "9fc64c75867d4778bdc5eba17f71291c",
            "f7bf7a06264942aaae45b8fde110a368",
            "bb88b468975443e288a005f9af85eab8",
            "5a5104d7da124f94bce97e318c92a75e",
            "a1f145bbddb34f7ea0f92bf2859e8f54",
            "d2daf50ac189469d8ccbf355c02e8390",
            "3e06c5aa7a864475a90b30941fcd7bb6",
            "1a70a28db9ef4b86870bd4a45638a078",
            "635de3a71ebe4d1b9d6978f106913832",
            "e4120593573a43c796ca7c132ec4c86e",
            "6c3a56b7add94190a8ca629d98a11245",
            "c2ce9d1ee1ca46ca8bb9aa9c5a458fd2",
            "2ed2b9cd6f3141289517654760bdfd9a",
            "1c6fcc1c12e44ae9a9d961f332963b03",
            "ec915a33da454cd89404cb557c1f65f5",
            "33820d9e628542a2af36228db0f259e4",
            "762d453268ac4c1b860ffeb953d1839f",
            "6a9bedc40f5b4542911276ac9c2b224b",
            "b8be7fd272c34f7eb397f129a0121efd",
            "d796af166d0f46c6898e31857f4f68ac",
            "ffa4ba74b1c744eb9589688784f13ffb",
            "c5e65716a47f4f3d89decf89ee80d65f",
            "d83c06bfe515458881f5d1858ea4038c",
            "49c13312f40b4d6986755691eaeefce5",
            "cd98d65f356e469bad0005db99fa4421",
            "8a911e86770447d1a1b5d94f4baef83f",
            "642f22801ba545ffb918d685cae2ad57",
            "aa805e7e2ebc40adb1e1c918b7c28a3f",
            "f5b8d29987b543acb38ddff58a3c9966",
            "acfc4b1729ce4b2f83feedf60910ade5",
            "1123f8e7d60d4c4794aee78aed65ec81",
            "43956c126a5d4bdc87d590b3e42772fb",
            "d1be8514184746bcb411a1cd769d53a6",
            "7ea170afce7544fa9f878d755109519d",
            "189d36673db141a5aa7d38cf22ec4171",
            "de70d9d4939748b7a54584f1a53b27a5",
            "820530dfbbe9419db031ccf67de3947b",
            "52b6f94ee80c4e54b867d9b1f8c27b0b",
            "142ae6c65c4e4810b1cd21287b61c477",
            "60d9ff08b8e04bb8a3b2502fd28d9b44",
            "38476886518542b982a01326b1323e19",
            "9c1b0378a5d54f3fa8391175a49144e4",
            "62bb550bc71d4934bc9dc9cb3c648c95",
            "8909dd43ad324bb99d4d32c9a1554a4c",
            "7fcd61997e154f7dabf97f0bd565d2f6",
            "bc326c87ff154f8c9f1a5440dcef11ec",
            "0af4a01738f44afd9a89c331951e30d0",
            "8582903620d243d09dda681eba951442",
            "88867c1293844ba1b1e5db30caec92b5",
            "cfcae543a8284f67af1e6f5faeb4d8f7",
            "8011173ec0a54051a9c2a3aba1ec6bf4",
            "5dc0a7a2b5b7472aa7e224779753db8c",
            "313ae440be7a4221a1d6b5614b295cdb",
            "af16cf63746747fc9ab78457b9cdc14c",
            "0885d64d2d514279b302cd15e221b649",
            "8b33694ee7f14cd7993a81507ebdd4ad",
            "210b43e6cb274b63b4846e323d753864",
            "0ac6b6c586ce44b69215ea390817a179",
            "bc394ac6ec1c4423bb90ebcb9abf3986",
            "5f5e78909090460199b016efce2d96a5",
            "a8d2c4fc0ed749ff8cc26dcd173f44b9",
            "c4f8375b21a34d248216a3d839b16448",
            "d5bcd7fc041040e7840046135be70139",
            "fff99f24c66142c29af7bdf5d91e9d7f",
            "9e9ecb23ef3a4e3a82464eda84d33bbb",
            "45a6470b343b4c05b1a4efe941bfb3aa",
            "b9c68597699742ef98e80da2db8230a8",
            "6f05102142544888b44906aa1c12e8bb",
            "e890bea9c0e74df4957dde5d8cc7f964",
            "7e2035ee31fb437c8cbf824384e376e2",
            "3cd3a0705f7b491189b52b04b23c1530",
            "e48d022297a048cab1d020f548534037",
            "41900f8cf07c478bab09451afc259eb9",
            "48474c53aac74f349057e3940994272c",
            "0fc26169abfc4468b6160a81d56e317e",
            "fb36fef41b6447578bb6c0e7b999b213",
            "218044998125487f8209ffd0866ccef1",
            "4c156ec195604c008652f3e7cfb18db3",
            "dc178afd805a4b1eb82202386fb92ac2",
            "f1b5b760184a4d82bba34b277c6c049f",
            "05f3f5ec6d414ad9bbf8cd989db9dfd2",
            "a3529e3cd7504b0ea798bd56a70b671e",
            "c90317f4b6ae45f9991f0ac179bb7838",
            "1b90f04f5e9942559c1b04f923a00be8",
            "7189501d838d488296c0b5b6cd9a2f15",
            "52c0f2bb4ffd4838baadc38639a54302",
            "ded37735631042f5b2cdbaaf20c6df2b",
            "387b04a3423940eaae80340d4b35fa5c",
            "2dc42417622846679576089a113b910f",
            "4d0454da23b648f28022ed5540326597",
            "c46ad3208a16487088f87a9674964fbf",
            "f25e2cd39e1549ac9a603bf412b9b6bc",
            "5b8a3364cde449e18fbe73295ff9dfde",
            "db8a088ffafd4819a3942af13a59bb29",
            "0bb43074b02b4814a95993164c1df867",
            "1957b29161d342f5aa7a8df5a5684129",
            "ef6940843dfe48abbfd42b91686894bc",
            "1a9ee9a48ec247508dbd970e5955970c",
            "8a63e1223b344ec68cf782b768efddf3",
            "3a9e527c01c84b84a5b6a3e72a82d54b",
            "a326b73fc37e44dba68d53fc1c473ab7",
            "b6dfd0399098451798f20bbdc237c0a1",
            "2d535e2ac9774e738bd6869c76e788d3",
            "4222c717091e434ea4a1dd4c3741e706",
            "22514554f37c45c78073df8984b9c828",
            "57c65fabc2b046f8a1ddadde219d68d7",
            "472a1086b8924e3f830b6e8936fa2d4f",
            "5b0a81fd1a5f4e38ad111f6b24e56879",
            "b870a568481b4b1c95ce8254fb7e1409",
            "baee3dbe7b3a45f4a4396d573fda6436",
            "4ff1dff43e014e31bdac973eb98e6282",
            "b8947d59f84946d0b8dee11382d3684e",
            "31c1680977154ad5b85d3741838f5812",
            "1cfd695776e24161b1da95c680054641",
            "2a461fba078a44c299cab7dd2f142567",
            "10a4fad092b341bb9f2d6c59134b67fb",
            "b06e1ea69da44c6d8fb0d971c11ad831",
            "ba24236e322e46099b85db86c20a557d",
            "5af400e4aadb44ae81d2c024f6d4ac4d",
            "36047f52368a472295d4724e849cd92c",
            "53dd603f30a74cf5991cafbeaea99318",
            "abd2b8573cfa49b1b40fb09fda60e345",
            "e2317dda95594b80b2f1d344fe48a377",
            "fa772e0287cd44c68347a67d1a37ac05",
            "3d7bda1e629d4d2ca2995ba518d7931d",
            "7071d24ace3d42f7a5b0f397116e7c94",
            "a6fc3aec8d624223ab2d05c2c439fd5f",
            "2d639d9dabc2471293938a378aeeb008",
            "f13d692f65c946fbb3ca3004cbf03fe7",
            "bd599a1bf3cb4d5e8c1bd35c96245e12",
            "6527823a5c284154a036ca59b3dbab54",
            "a990941db8114c0087ce7c9a6d09a29d",
            "7229aa4451ce4f7fab830b3c417e0e5b",
            "ed09c643bdff4d56a22e8c656ee3ec5a",
            "6f2a39091af2414c9eb1db11752a4dfe",
            "40edb30d702343e19202e7e5aa9515a0",
            "130ec3be0c2b4d1bbb1d0ece8f56cb30",
            "d7609b64e0cf42c39af6d62dd30e4269",
            "f5fbffd5bc244f9b9c89e29a0dc2252b",
            "6da467b799f24f339e33c29d3c005b8e",
            "58ea0f4cc1e745589784af878923f11e",
            "a3c463174a9c4f75a8ec3414f33551fe",
            "bd04431969104defb80725cdd12248da",
            "539bbd1b8a484feb9bad83c19b18ee4c",
            "a2dcc300f0d24416b33218b0fa8471b8",
            "8972072cc47049e7920ac2111e8434df",
            "1e6288256e85477badf0b011796086b9",
            "8c2fad1d22a144589939021cde639267",
            "f05e061723e742f39551055f941eaf3d"
          ]
        },
        "collapsed": true,
        "id": "x3MtwNqvkdhA",
        "outputId": "7cbb1d3e-362b-4abf-a341-8ad43c4396d8"
      },
      "execution_count": null,
      "outputs": [
        {
          "output_type": "stream",
          "name": "stdout",
          "text": [
            "Training...\n"
          ]
        },
        {
          "output_type": "display_data",
          "data": {
            "text/plain": [
              "Iteration:   0%|          | 0/1029 [00:00<?, ?it/s]"
            ],
            "application/vnd.jupyter.widget-view+json": {
              "version_major": 2,
              "version_minor": 0,
              "model_id": "81d77c6aa8314ac38d26f727d94d5c06"
            }
          },
          "metadata": {}
        },
        {
          "output_type": "stream",
          "name": "stdout",
          "text": [
            "Evaluating...\n"
          ]
        },
        {
          "output_type": "display_data",
          "data": {
            "text/plain": [
              "Iteration:   0%|          | 0/1029 [00:00<?, ?it/s]"
            ],
            "application/vnd.jupyter.widget-view+json": {
              "version_major": 2,
              "version_minor": 0,
              "model_id": "71a67aa91d8542cdb5236ac2c42d9f7e"
            }
          },
          "metadata": {}
        },
        {
          "output_type": "display_data",
          "data": {
            "text/plain": [
              "Iteration:   0%|          | 0/129 [00:00<?, ?it/s]"
            ],
            "application/vnd.jupyter.widget-view+json": {
              "version_major": 2,
              "version_minor": 0,
              "model_id": "a22b68971b8a4cf684918e405db89bf8"
            }
          },
          "metadata": {}
        },
        {
          "output_type": "display_data",
          "data": {
            "text/plain": [
              "Iteration:   0%|          | 0/129 [00:00<?, ?it/s]"
            ],
            "application/vnd.jupyter.widget-view+json": {
              "version_major": 2,
              "version_minor": 0,
              "model_id": "eacdbb558d3b4803b969accb297d8129"
            }
          },
          "metadata": {}
        },
        {
          "output_type": "stream",
          "name": "stdout",
          "text": [
            "Epoch: 01, Loss: 4.6968, Train: 42.26%, Valid: 36.55% Test: 30.22%\n",
            "Training...\n"
          ]
        },
        {
          "output_type": "display_data",
          "data": {
            "text/plain": [
              "Iteration:   0%|          | 0/1029 [00:00<?, ?it/s]"
            ],
            "application/vnd.jupyter.widget-view+json": {
              "version_major": 2,
              "version_minor": 0,
              "model_id": "c471ffb5931b4fc09f88f497aac88526"
            }
          },
          "metadata": {}
        },
        {
          "output_type": "stream",
          "name": "stdout",
          "text": [
            "Evaluating...\n"
          ]
        },
        {
          "output_type": "display_data",
          "data": {
            "text/plain": [
              "Iteration:   0%|          | 0/1029 [00:00<?, ?it/s]"
            ],
            "application/vnd.jupyter.widget-view+json": {
              "version_major": 2,
              "version_minor": 0,
              "model_id": "5b66bcd201e448c9a68feb731a984b30"
            }
          },
          "metadata": {}
        },
        {
          "output_type": "display_data",
          "data": {
            "text/plain": [
              "Iteration:   0%|          | 0/129 [00:00<?, ?it/s]"
            ],
            "application/vnd.jupyter.widget-view+json": {
              "version_major": 2,
              "version_minor": 0,
              "model_id": "10a176b8bc6e4612bc09266439c5556f"
            }
          },
          "metadata": {}
        },
        {
          "output_type": "display_data",
          "data": {
            "text/plain": [
              "Iteration:   0%|          | 0/129 [00:00<?, ?it/s]"
            ],
            "application/vnd.jupyter.widget-view+json": {
              "version_major": 2,
              "version_minor": 0,
              "model_id": "d566053dace543d0a9276a023aa6b677"
            }
          },
          "metadata": {}
        },
        {
          "output_type": "stream",
          "name": "stdout",
          "text": [
            "Epoch: 02, Loss: 0.0000, Train: 42.26%, Valid: 36.55% Test: 30.22%\n",
            "Training...\n"
          ]
        },
        {
          "output_type": "display_data",
          "data": {
            "text/plain": [
              "Iteration:   0%|          | 0/1029 [00:00<?, ?it/s]"
            ],
            "application/vnd.jupyter.widget-view+json": {
              "version_major": 2,
              "version_minor": 0,
              "model_id": "f7fbaddb117e4402a8e900491bbf2fbb"
            }
          },
          "metadata": {}
        },
        {
          "output_type": "stream",
          "name": "stdout",
          "text": [
            "Evaluating...\n"
          ]
        },
        {
          "output_type": "display_data",
          "data": {
            "text/plain": [
              "Iteration:   0%|          | 0/1029 [00:00<?, ?it/s]"
            ],
            "application/vnd.jupyter.widget-view+json": {
              "version_major": 2,
              "version_minor": 0,
              "model_id": "89084b5a925d42429a72ebce69c9f3ee"
            }
          },
          "metadata": {}
        },
        {
          "output_type": "display_data",
          "data": {
            "text/plain": [
              "Iteration:   0%|          | 0/129 [00:00<?, ?it/s]"
            ],
            "application/vnd.jupyter.widget-view+json": {
              "version_major": 2,
              "version_minor": 0,
              "model_id": "445eb882ebcd46fca11e7c1eef6050c2"
            }
          },
          "metadata": {}
        },
        {
          "output_type": "display_data",
          "data": {
            "text/plain": [
              "Iteration:   0%|          | 0/129 [00:00<?, ?it/s]"
            ],
            "application/vnd.jupyter.widget-view+json": {
              "version_major": 2,
              "version_minor": 0,
              "model_id": "00ec9adcd5af4510b920c1a12f31c05d"
            }
          },
          "metadata": {}
        },
        {
          "output_type": "stream",
          "name": "stdout",
          "text": [
            "Epoch: 03, Loss: 0.0000, Train: 42.26%, Valid: 36.55% Test: 30.22%\n",
            "Training...\n"
          ]
        },
        {
          "output_type": "display_data",
          "data": {
            "text/plain": [
              "Iteration:   0%|          | 0/1029 [00:00<?, ?it/s]"
            ],
            "application/vnd.jupyter.widget-view+json": {
              "version_major": 2,
              "version_minor": 0,
              "model_id": "d02c8aa0922f42099cabb771cbca362c"
            }
          },
          "metadata": {}
        },
        {
          "output_type": "stream",
          "name": "stdout",
          "text": [
            "Evaluating...\n"
          ]
        },
        {
          "output_type": "display_data",
          "data": {
            "text/plain": [
              "Iteration:   0%|          | 0/1029 [00:00<?, ?it/s]"
            ],
            "application/vnd.jupyter.widget-view+json": {
              "version_major": 2,
              "version_minor": 0,
              "model_id": "ff56a2d411ff45f289e955eea8abb2cd"
            }
          },
          "metadata": {}
        },
        {
          "output_type": "display_data",
          "data": {
            "text/plain": [
              "Iteration:   0%|          | 0/129 [00:00<?, ?it/s]"
            ],
            "application/vnd.jupyter.widget-view+json": {
              "version_major": 2,
              "version_minor": 0,
              "model_id": "f574e0567810445b94d34f7b6f70c10e"
            }
          },
          "metadata": {}
        },
        {
          "output_type": "display_data",
          "data": {
            "text/plain": [
              "Iteration:   0%|          | 0/129 [00:00<?, ?it/s]"
            ],
            "application/vnd.jupyter.widget-view+json": {
              "version_major": 2,
              "version_minor": 0,
              "model_id": "ed25b27f195b4eb08639d13b5c257534"
            }
          },
          "metadata": {}
        },
        {
          "output_type": "stream",
          "name": "stdout",
          "text": [
            "Epoch: 04, Loss: 0.0005, Train: 42.26%, Valid: 36.55% Test: 30.22%\n",
            "Training...\n"
          ]
        },
        {
          "output_type": "display_data",
          "data": {
            "text/plain": [
              "Iteration:   0%|          | 0/1029 [00:00<?, ?it/s]"
            ],
            "application/vnd.jupyter.widget-view+json": {
              "version_major": 2,
              "version_minor": 0,
              "model_id": "09d3d1c80cfb4bd29b5b41472a5fff32"
            }
          },
          "metadata": {}
        },
        {
          "output_type": "stream",
          "name": "stdout",
          "text": [
            "Evaluating...\n"
          ]
        },
        {
          "output_type": "display_data",
          "data": {
            "text/plain": [
              "Iteration:   0%|          | 0/1029 [00:00<?, ?it/s]"
            ],
            "application/vnd.jupyter.widget-view+json": {
              "version_major": 2,
              "version_minor": 0,
              "model_id": "a2d12d1e352f43f39b501e5e9a77fb9c"
            }
          },
          "metadata": {}
        },
        {
          "output_type": "display_data",
          "data": {
            "text/plain": [
              "Iteration:   0%|          | 0/129 [00:00<?, ?it/s]"
            ],
            "application/vnd.jupyter.widget-view+json": {
              "version_major": 2,
              "version_minor": 0,
              "model_id": "0a59e69d5d254bbd96db68fe1126f209"
            }
          },
          "metadata": {}
        },
        {
          "output_type": "display_data",
          "data": {
            "text/plain": [
              "Iteration:   0%|          | 0/129 [00:00<?, ?it/s]"
            ],
            "application/vnd.jupyter.widget-view+json": {
              "version_major": 2,
              "version_minor": 0,
              "model_id": "5af800c05c924d2abd717e287b190cea"
            }
          },
          "metadata": {}
        },
        {
          "output_type": "stream",
          "name": "stdout",
          "text": [
            "Epoch: 05, Loss: 12.7451, Train: 42.26%, Valid: 36.55% Test: 30.22%\n",
            "Training...\n"
          ]
        },
        {
          "output_type": "display_data",
          "data": {
            "text/plain": [
              "Iteration:   0%|          | 0/1029 [00:00<?, ?it/s]"
            ],
            "application/vnd.jupyter.widget-view+json": {
              "version_major": 2,
              "version_minor": 0,
              "model_id": "51c00ffbe39441d796c54bcde078b214"
            }
          },
          "metadata": {}
        },
        {
          "output_type": "stream",
          "name": "stdout",
          "text": [
            "Evaluating...\n"
          ]
        },
        {
          "output_type": "display_data",
          "data": {
            "text/plain": [
              "Iteration:   0%|          | 0/1029 [00:00<?, ?it/s]"
            ],
            "application/vnd.jupyter.widget-view+json": {
              "version_major": 2,
              "version_minor": 0,
              "model_id": "1ff81e8376b14f4f9e2dc8f365fe539a"
            }
          },
          "metadata": {}
        },
        {
          "output_type": "display_data",
          "data": {
            "text/plain": [
              "Iteration:   0%|          | 0/129 [00:00<?, ?it/s]"
            ],
            "application/vnd.jupyter.widget-view+json": {
              "version_major": 2,
              "version_minor": 0,
              "model_id": "4c6c5a935a4c479784d42d7402667480"
            }
          },
          "metadata": {}
        },
        {
          "output_type": "display_data",
          "data": {
            "text/plain": [
              "Iteration:   0%|          | 0/129 [00:00<?, ?it/s]"
            ],
            "application/vnd.jupyter.widget-view+json": {
              "version_major": 2,
              "version_minor": 0,
              "model_id": "96056290f2414bf6a20015eda6aefec9"
            }
          },
          "metadata": {}
        },
        {
          "output_type": "stream",
          "name": "stdout",
          "text": [
            "Epoch: 06, Loss: 0.0000, Train: 42.26%, Valid: 36.55% Test: 30.22%\n",
            "Training...\n"
          ]
        },
        {
          "output_type": "display_data",
          "data": {
            "text/plain": [
              "Iteration:   0%|          | 0/1029 [00:00<?, ?it/s]"
            ],
            "application/vnd.jupyter.widget-view+json": {
              "version_major": 2,
              "version_minor": 0,
              "model_id": "c8ec11dc01a143fa98c5b654ecb98dab"
            }
          },
          "metadata": {}
        },
        {
          "output_type": "stream",
          "name": "stdout",
          "text": [
            "Evaluating...\n"
          ]
        },
        {
          "output_type": "display_data",
          "data": {
            "text/plain": [
              "Iteration:   0%|          | 0/1029 [00:00<?, ?it/s]"
            ],
            "application/vnd.jupyter.widget-view+json": {
              "version_major": 2,
              "version_minor": 0,
              "model_id": "15d0be93cf5748c1a165c3c13295afa7"
            }
          },
          "metadata": {}
        },
        {
          "output_type": "display_data",
          "data": {
            "text/plain": [
              "Iteration:   0%|          | 0/129 [00:00<?, ?it/s]"
            ],
            "application/vnd.jupyter.widget-view+json": {
              "version_major": 2,
              "version_minor": 0,
              "model_id": "8593c1872e1f4db1ae76437c588fa542"
            }
          },
          "metadata": {}
        },
        {
          "output_type": "display_data",
          "data": {
            "text/plain": [
              "Iteration:   0%|          | 0/129 [00:00<?, ?it/s]"
            ],
            "application/vnd.jupyter.widget-view+json": {
              "version_major": 2,
              "version_minor": 0,
              "model_id": "a1f5e6d86b8848f1bae5f269b3e0fb0c"
            }
          },
          "metadata": {}
        },
        {
          "output_type": "stream",
          "name": "stdout",
          "text": [
            "Epoch: 07, Loss: 0.0000, Train: 42.26%, Valid: 36.55% Test: 30.22%\n",
            "Training...\n"
          ]
        },
        {
          "output_type": "display_data",
          "data": {
            "text/plain": [
              "Iteration:   0%|          | 0/1029 [00:00<?, ?it/s]"
            ],
            "application/vnd.jupyter.widget-view+json": {
              "version_major": 2,
              "version_minor": 0,
              "model_id": "2343fe4e2b064ef88db0033fc6c39017"
            }
          },
          "metadata": {}
        },
        {
          "output_type": "stream",
          "name": "stdout",
          "text": [
            "Evaluating...\n"
          ]
        },
        {
          "output_type": "display_data",
          "data": {
            "text/plain": [
              "Iteration:   0%|          | 0/1029 [00:00<?, ?it/s]"
            ],
            "application/vnd.jupyter.widget-view+json": {
              "version_major": 2,
              "version_minor": 0,
              "model_id": "9b25c760debd430cabf5fb51f9bfbfaa"
            }
          },
          "metadata": {}
        },
        {
          "output_type": "display_data",
          "data": {
            "text/plain": [
              "Iteration:   0%|          | 0/129 [00:00<?, ?it/s]"
            ],
            "application/vnd.jupyter.widget-view+json": {
              "version_major": 2,
              "version_minor": 0,
              "model_id": "7d297445cd444813bfae3709b1e57453"
            }
          },
          "metadata": {}
        },
        {
          "output_type": "display_data",
          "data": {
            "text/plain": [
              "Iteration:   0%|          | 0/129 [00:00<?, ?it/s]"
            ],
            "application/vnd.jupyter.widget-view+json": {
              "version_major": 2,
              "version_minor": 0,
              "model_id": "1da717d8dc70434c9a437c322524bf56"
            }
          },
          "metadata": {}
        },
        {
          "output_type": "stream",
          "name": "stdout",
          "text": [
            "Epoch: 08, Loss: 3.9740, Train: 42.26%, Valid: 36.55% Test: 30.22%\n",
            "Training...\n"
          ]
        },
        {
          "output_type": "display_data",
          "data": {
            "text/plain": [
              "Iteration:   0%|          | 0/1029 [00:00<?, ?it/s]"
            ],
            "application/vnd.jupyter.widget-view+json": {
              "version_major": 2,
              "version_minor": 0,
              "model_id": "6cc8e7dba67e44c4bd6ed966970eefe2"
            }
          },
          "metadata": {}
        },
        {
          "output_type": "stream",
          "name": "stdout",
          "text": [
            "Evaluating...\n"
          ]
        },
        {
          "output_type": "display_data",
          "data": {
            "text/plain": [
              "Iteration:   0%|          | 0/1029 [00:00<?, ?it/s]"
            ],
            "application/vnd.jupyter.widget-view+json": {
              "version_major": 2,
              "version_minor": 0,
              "model_id": "6ce6db1d0626417f8aa9898f2a66d066"
            }
          },
          "metadata": {}
        },
        {
          "output_type": "display_data",
          "data": {
            "text/plain": [
              "Iteration:   0%|          | 0/129 [00:00<?, ?it/s]"
            ],
            "application/vnd.jupyter.widget-view+json": {
              "version_major": 2,
              "version_minor": 0,
              "model_id": "d0a36d234a2042cbafab806d1a2c11b1"
            }
          },
          "metadata": {}
        },
        {
          "output_type": "display_data",
          "data": {
            "text/plain": [
              "Iteration:   0%|          | 0/129 [00:00<?, ?it/s]"
            ],
            "application/vnd.jupyter.widget-view+json": {
              "version_major": 2,
              "version_minor": 0,
              "model_id": "5d32e8f18fb741948776f92f091b2aa7"
            }
          },
          "metadata": {}
        },
        {
          "output_type": "stream",
          "name": "stdout",
          "text": [
            "Epoch: 09, Loss: 0.0000, Train: 42.26%, Valid: 36.55% Test: 30.22%\n",
            "Training...\n"
          ]
        },
        {
          "output_type": "display_data",
          "data": {
            "text/plain": [
              "Iteration:   0%|          | 0/1029 [00:00<?, ?it/s]"
            ],
            "application/vnd.jupyter.widget-view+json": {
              "version_major": 2,
              "version_minor": 0,
              "model_id": "ea85a80e2b3946e6bfe87e75148b64d2"
            }
          },
          "metadata": {}
        },
        {
          "output_type": "stream",
          "name": "stdout",
          "text": [
            "Evaluating...\n"
          ]
        },
        {
          "output_type": "display_data",
          "data": {
            "text/plain": [
              "Iteration:   0%|          | 0/1029 [00:00<?, ?it/s]"
            ],
            "application/vnd.jupyter.widget-view+json": {
              "version_major": 2,
              "version_minor": 0,
              "model_id": "f39f71a13bf54b7280cd5fec3e7fb3c5"
            }
          },
          "metadata": {}
        },
        {
          "output_type": "display_data",
          "data": {
            "text/plain": [
              "Iteration:   0%|          | 0/129 [00:00<?, ?it/s]"
            ],
            "application/vnd.jupyter.widget-view+json": {
              "version_major": 2,
              "version_minor": 0,
              "model_id": "a1ba3312c4a746a1a6196a30cb469e6d"
            }
          },
          "metadata": {}
        },
        {
          "output_type": "display_data",
          "data": {
            "text/plain": [
              "Iteration:   0%|          | 0/129 [00:00<?, ?it/s]"
            ],
            "application/vnd.jupyter.widget-view+json": {
              "version_major": 2,
              "version_minor": 0,
              "model_id": "4f065186a13747b28345a6666922389d"
            }
          },
          "metadata": {}
        },
        {
          "output_type": "stream",
          "name": "stdout",
          "text": [
            "Epoch: 10, Loss: 0.0000, Train: 42.26%, Valid: 36.55% Test: 30.22%\n",
            "Training...\n"
          ]
        },
        {
          "output_type": "display_data",
          "data": {
            "text/plain": [
              "Iteration:   0%|          | 0/1029 [00:00<?, ?it/s]"
            ],
            "application/vnd.jupyter.widget-view+json": {
              "version_major": 2,
              "version_minor": 0,
              "model_id": "c5b8dc988fac4f2598cd24e831dfc43b"
            }
          },
          "metadata": {}
        },
        {
          "output_type": "stream",
          "name": "stdout",
          "text": [
            "Evaluating...\n"
          ]
        },
        {
          "output_type": "display_data",
          "data": {
            "text/plain": [
              "Iteration:   0%|          | 0/1029 [00:00<?, ?it/s]"
            ],
            "application/vnd.jupyter.widget-view+json": {
              "version_major": 2,
              "version_minor": 0,
              "model_id": "6082f80734574bdb85a999feddacfab9"
            }
          },
          "metadata": {}
        },
        {
          "output_type": "display_data",
          "data": {
            "text/plain": [
              "Iteration:   0%|          | 0/129 [00:00<?, ?it/s]"
            ],
            "application/vnd.jupyter.widget-view+json": {
              "version_major": 2,
              "version_minor": 0,
              "model_id": "dfb8592568ce41feb6a70a0f592517d1"
            }
          },
          "metadata": {}
        },
        {
          "output_type": "display_data",
          "data": {
            "text/plain": [
              "Iteration:   0%|          | 0/129 [00:00<?, ?it/s]"
            ],
            "application/vnd.jupyter.widget-view+json": {
              "version_major": 2,
              "version_minor": 0,
              "model_id": "eb9e3d9c6774437789d33a6cd93f9e05"
            }
          },
          "metadata": {}
        },
        {
          "output_type": "stream",
          "name": "stdout",
          "text": [
            "Epoch: 11, Loss: 1.6593, Train: 42.26%, Valid: 36.55% Test: 30.22%\n",
            "Training...\n"
          ]
        },
        {
          "output_type": "display_data",
          "data": {
            "text/plain": [
              "Iteration:   0%|          | 0/1029 [00:00<?, ?it/s]"
            ],
            "application/vnd.jupyter.widget-view+json": {
              "version_major": 2,
              "version_minor": 0,
              "model_id": "3616b542cedb4c6fa62f4a0911df9583"
            }
          },
          "metadata": {}
        },
        {
          "output_type": "stream",
          "name": "stdout",
          "text": [
            "Evaluating...\n"
          ]
        },
        {
          "output_type": "display_data",
          "data": {
            "text/plain": [
              "Iteration:   0%|          | 0/1029 [00:00<?, ?it/s]"
            ],
            "application/vnd.jupyter.widget-view+json": {
              "version_major": 2,
              "version_minor": 0,
              "model_id": "2170450455f34cc4839bb20ad1c4dd1d"
            }
          },
          "metadata": {}
        },
        {
          "output_type": "display_data",
          "data": {
            "text/plain": [
              "Iteration:   0%|          | 0/129 [00:00<?, ?it/s]"
            ],
            "application/vnd.jupyter.widget-view+json": {
              "version_major": 2,
              "version_minor": 0,
              "model_id": "f837b268b14c48978a86212ba112e8de"
            }
          },
          "metadata": {}
        },
        {
          "output_type": "display_data",
          "data": {
            "text/plain": [
              "Iteration:   0%|          | 0/129 [00:00<?, ?it/s]"
            ],
            "application/vnd.jupyter.widget-view+json": {
              "version_major": 2,
              "version_minor": 0,
              "model_id": "7a7a336918784430ba02a16d72748727"
            }
          },
          "metadata": {}
        },
        {
          "output_type": "stream",
          "name": "stdout",
          "text": [
            "Epoch: 12, Loss: 0.4768, Train: 42.26%, Valid: 36.55% Test: 30.22%\n",
            "Training...\n"
          ]
        },
        {
          "output_type": "display_data",
          "data": {
            "text/plain": [
              "Iteration:   0%|          | 0/1029 [00:00<?, ?it/s]"
            ],
            "application/vnd.jupyter.widget-view+json": {
              "version_major": 2,
              "version_minor": 0,
              "model_id": "9fb1db6eab4e463e9b20ff894d89b48a"
            }
          },
          "metadata": {}
        },
        {
          "output_type": "stream",
          "name": "stdout",
          "text": [
            "Evaluating...\n"
          ]
        },
        {
          "output_type": "display_data",
          "data": {
            "text/plain": [
              "Iteration:   0%|          | 0/1029 [00:00<?, ?it/s]"
            ],
            "application/vnd.jupyter.widget-view+json": {
              "version_major": 2,
              "version_minor": 0,
              "model_id": "177f6abb81404491abd24caf8d5f93e5"
            }
          },
          "metadata": {}
        },
        {
          "output_type": "display_data",
          "data": {
            "text/plain": [
              "Iteration:   0%|          | 0/129 [00:00<?, ?it/s]"
            ],
            "application/vnd.jupyter.widget-view+json": {
              "version_major": 2,
              "version_minor": 0,
              "model_id": "5c7c33af4a44426a9ea3878cd9318cc9"
            }
          },
          "metadata": {}
        },
        {
          "output_type": "display_data",
          "data": {
            "text/plain": [
              "Iteration:   0%|          | 0/129 [00:00<?, ?it/s]"
            ],
            "application/vnd.jupyter.widget-view+json": {
              "version_major": 2,
              "version_minor": 0,
              "model_id": "a7a82598fb0b4f638cafb81546dc43a8"
            }
          },
          "metadata": {}
        },
        {
          "output_type": "stream",
          "name": "stdout",
          "text": [
            "Epoch: 13, Loss: 0.0000, Train: 42.26%, Valid: 36.55% Test: 30.22%\n",
            "Training...\n"
          ]
        },
        {
          "output_type": "display_data",
          "data": {
            "text/plain": [
              "Iteration:   0%|          | 0/1029 [00:00<?, ?it/s]"
            ],
            "application/vnd.jupyter.widget-view+json": {
              "version_major": 2,
              "version_minor": 0,
              "model_id": "7330d54823e7448a9189b203f46eba25"
            }
          },
          "metadata": {}
        },
        {
          "output_type": "stream",
          "name": "stdout",
          "text": [
            "Evaluating...\n"
          ]
        },
        {
          "output_type": "display_data",
          "data": {
            "text/plain": [
              "Iteration:   0%|          | 0/1029 [00:00<?, ?it/s]"
            ],
            "application/vnd.jupyter.widget-view+json": {
              "version_major": 2,
              "version_minor": 0,
              "model_id": "d36accfe01b54ecaa228d47f4abb7b17"
            }
          },
          "metadata": {}
        },
        {
          "output_type": "display_data",
          "data": {
            "text/plain": [
              "Iteration:   0%|          | 0/129 [00:00<?, ?it/s]"
            ],
            "application/vnd.jupyter.widget-view+json": {
              "version_major": 2,
              "version_minor": 0,
              "model_id": "6ec7dce74fb648978e5374bd0d0379b0"
            }
          },
          "metadata": {}
        },
        {
          "output_type": "display_data",
          "data": {
            "text/plain": [
              "Iteration:   0%|          | 0/129 [00:00<?, ?it/s]"
            ],
            "application/vnd.jupyter.widget-view+json": {
              "version_major": 2,
              "version_minor": 0,
              "model_id": "bdd1bb880dd64b5b9a9e3dd1e78646f9"
            }
          },
          "metadata": {}
        },
        {
          "output_type": "stream",
          "name": "stdout",
          "text": [
            "Epoch: 14, Loss: 0.0000, Train: 42.26%, Valid: 36.55% Test: 30.22%\n",
            "Training...\n"
          ]
        },
        {
          "output_type": "display_data",
          "data": {
            "text/plain": [
              "Iteration:   0%|          | 0/1029 [00:00<?, ?it/s]"
            ],
            "application/vnd.jupyter.widget-view+json": {
              "version_major": 2,
              "version_minor": 0,
              "model_id": "80f89f6ab98348d8acd39375e0d02029"
            }
          },
          "metadata": {}
        },
        {
          "output_type": "stream",
          "name": "stdout",
          "text": [
            "Evaluating...\n"
          ]
        },
        {
          "output_type": "display_data",
          "data": {
            "text/plain": [
              "Iteration:   0%|          | 0/1029 [00:00<?, ?it/s]"
            ],
            "application/vnd.jupyter.widget-view+json": {
              "version_major": 2,
              "version_minor": 0,
              "model_id": "fe6bbb38a0494db9962026cdbcd1edc9"
            }
          },
          "metadata": {}
        },
        {
          "output_type": "display_data",
          "data": {
            "text/plain": [
              "Iteration:   0%|          | 0/129 [00:00<?, ?it/s]"
            ],
            "application/vnd.jupyter.widget-view+json": {
              "version_major": 2,
              "version_minor": 0,
              "model_id": "f2400432fb634dc4b802ff45633a8ac7"
            }
          },
          "metadata": {}
        },
        {
          "output_type": "display_data",
          "data": {
            "text/plain": [
              "Iteration:   0%|          | 0/129 [00:00<?, ?it/s]"
            ],
            "application/vnd.jupyter.widget-view+json": {
              "version_major": 2,
              "version_minor": 0,
              "model_id": "bd58bc9a99e341bd937dc69faf0e214d"
            }
          },
          "metadata": {}
        },
        {
          "output_type": "stream",
          "name": "stdout",
          "text": [
            "Epoch: 15, Loss: 2.4913, Train: 42.26%, Valid: 36.55% Test: 30.22%\n",
            "Training...\n"
          ]
        },
        {
          "output_type": "display_data",
          "data": {
            "text/plain": [
              "Iteration:   0%|          | 0/1029 [00:00<?, ?it/s]"
            ],
            "application/vnd.jupyter.widget-view+json": {
              "version_major": 2,
              "version_minor": 0,
              "model_id": "349a8101f4cd438b8b026f288ba22429"
            }
          },
          "metadata": {}
        },
        {
          "output_type": "stream",
          "name": "stdout",
          "text": [
            "Evaluating...\n"
          ]
        },
        {
          "output_type": "display_data",
          "data": {
            "text/plain": [
              "Iteration:   0%|          | 0/1029 [00:00<?, ?it/s]"
            ],
            "application/vnd.jupyter.widget-view+json": {
              "version_major": 2,
              "version_minor": 0,
              "model_id": "14211c39f33c439894e5455473f01fa0"
            }
          },
          "metadata": {}
        },
        {
          "output_type": "display_data",
          "data": {
            "text/plain": [
              "Iteration:   0%|          | 0/129 [00:00<?, ?it/s]"
            ],
            "application/vnd.jupyter.widget-view+json": {
              "version_major": 2,
              "version_minor": 0,
              "model_id": "71a54420969845608e1b2cadeeb83609"
            }
          },
          "metadata": {}
        },
        {
          "output_type": "display_data",
          "data": {
            "text/plain": [
              "Iteration:   0%|          | 0/129 [00:00<?, ?it/s]"
            ],
            "application/vnd.jupyter.widget-view+json": {
              "version_major": 2,
              "version_minor": 0,
              "model_id": "db8a9707a1b941d5a77fc144f5d2ff42"
            }
          },
          "metadata": {}
        },
        {
          "output_type": "stream",
          "name": "stdout",
          "text": [
            "Epoch: 16, Loss: 0.0000, Train: 42.26%, Valid: 36.55% Test: 30.22%\n",
            "Training...\n"
          ]
        },
        {
          "output_type": "display_data",
          "data": {
            "text/plain": [
              "Iteration:   0%|          | 0/1029 [00:00<?, ?it/s]"
            ],
            "application/vnd.jupyter.widget-view+json": {
              "version_major": 2,
              "version_minor": 0,
              "model_id": "f8dae6dc72a5425ea0e77e26f756d392"
            }
          },
          "metadata": {}
        },
        {
          "output_type": "stream",
          "name": "stdout",
          "text": [
            "Evaluating...\n"
          ]
        },
        {
          "output_type": "display_data",
          "data": {
            "text/plain": [
              "Iteration:   0%|          | 0/1029 [00:00<?, ?it/s]"
            ],
            "application/vnd.jupyter.widget-view+json": {
              "version_major": 2,
              "version_minor": 0,
              "model_id": "846ff367a3884bc7ae0d70c160f7acd1"
            }
          },
          "metadata": {}
        },
        {
          "output_type": "display_data",
          "data": {
            "text/plain": [
              "Iteration:   0%|          | 0/129 [00:00<?, ?it/s]"
            ],
            "application/vnd.jupyter.widget-view+json": {
              "version_major": 2,
              "version_minor": 0,
              "model_id": "4f108c5775904587aa8ecc69ca801f11"
            }
          },
          "metadata": {}
        },
        {
          "output_type": "display_data",
          "data": {
            "text/plain": [
              "Iteration:   0%|          | 0/129 [00:00<?, ?it/s]"
            ],
            "application/vnd.jupyter.widget-view+json": {
              "version_major": 2,
              "version_minor": 0,
              "model_id": "6d6790287ab94f928316ca8617ad55a1"
            }
          },
          "metadata": {}
        },
        {
          "output_type": "stream",
          "name": "stdout",
          "text": [
            "Epoch: 17, Loss: 0.4093, Train: 42.26%, Valid: 36.55% Test: 30.22%\n",
            "Training...\n"
          ]
        },
        {
          "output_type": "display_data",
          "data": {
            "text/plain": [
              "Iteration:   0%|          | 0/1029 [00:00<?, ?it/s]"
            ],
            "application/vnd.jupyter.widget-view+json": {
              "version_major": 2,
              "version_minor": 0,
              "model_id": "df06ec44db84436dbf4c119b00830395"
            }
          },
          "metadata": {}
        },
        {
          "output_type": "stream",
          "name": "stdout",
          "text": [
            "Evaluating...\n"
          ]
        },
        {
          "output_type": "display_data",
          "data": {
            "text/plain": [
              "Iteration:   0%|          | 0/1029 [00:00<?, ?it/s]"
            ],
            "application/vnd.jupyter.widget-view+json": {
              "version_major": 2,
              "version_minor": 0,
              "model_id": "9b1f3cc183b441029b9eaffc75a57320"
            }
          },
          "metadata": {}
        },
        {
          "output_type": "display_data",
          "data": {
            "text/plain": [
              "Iteration:   0%|          | 0/129 [00:00<?, ?it/s]"
            ],
            "application/vnd.jupyter.widget-view+json": {
              "version_major": 2,
              "version_minor": 0,
              "model_id": "0d85c8e81f024ed09929fc480c224016"
            }
          },
          "metadata": {}
        },
        {
          "output_type": "display_data",
          "data": {
            "text/plain": [
              "Iteration:   0%|          | 0/129 [00:00<?, ?it/s]"
            ],
            "application/vnd.jupyter.widget-view+json": {
              "version_major": 2,
              "version_minor": 0,
              "model_id": "fac39ceeef8f4df2b0312c883b30f169"
            }
          },
          "metadata": {}
        },
        {
          "output_type": "stream",
          "name": "stdout",
          "text": [
            "Epoch: 18, Loss: 0.0000, Train: 42.26%, Valid: 36.55% Test: 30.22%\n",
            "Training...\n"
          ]
        },
        {
          "output_type": "display_data",
          "data": {
            "text/plain": [
              "Iteration:   0%|          | 0/1029 [00:00<?, ?it/s]"
            ],
            "application/vnd.jupyter.widget-view+json": {
              "version_major": 2,
              "version_minor": 0,
              "model_id": "81d81cfff7cd4b2088eebf8b2247b633"
            }
          },
          "metadata": {}
        },
        {
          "output_type": "stream",
          "name": "stdout",
          "text": [
            "Evaluating...\n"
          ]
        },
        {
          "output_type": "display_data",
          "data": {
            "text/plain": [
              "Iteration:   0%|          | 0/1029 [00:00<?, ?it/s]"
            ],
            "application/vnd.jupyter.widget-view+json": {
              "version_major": 2,
              "version_minor": 0,
              "model_id": "5318911be83243c68d52cd2d599ebe22"
            }
          },
          "metadata": {}
        },
        {
          "output_type": "display_data",
          "data": {
            "text/plain": [
              "Iteration:   0%|          | 0/129 [00:00<?, ?it/s]"
            ],
            "application/vnd.jupyter.widget-view+json": {
              "version_major": 2,
              "version_minor": 0,
              "model_id": "ebcda4d3a4ea48c48fcf829c36ca9833"
            }
          },
          "metadata": {}
        },
        {
          "output_type": "display_data",
          "data": {
            "text/plain": [
              "Iteration:   0%|          | 0/129 [00:00<?, ?it/s]"
            ],
            "application/vnd.jupyter.widget-view+json": {
              "version_major": 2,
              "version_minor": 0,
              "model_id": "c946fa17a34d475e8f26f0476b8dfae4"
            }
          },
          "metadata": {}
        },
        {
          "output_type": "stream",
          "name": "stdout",
          "text": [
            "Epoch: 19, Loss: 0.0000, Train: 42.26%, Valid: 36.55% Test: 30.22%\n",
            "Training...\n"
          ]
        },
        {
          "output_type": "display_data",
          "data": {
            "text/plain": [
              "Iteration:   0%|          | 0/1029 [00:00<?, ?it/s]"
            ],
            "application/vnd.jupyter.widget-view+json": {
              "version_major": 2,
              "version_minor": 0,
              "model_id": "46a206fdd3e94948bac775f0da23e735"
            }
          },
          "metadata": {}
        },
        {
          "output_type": "stream",
          "name": "stdout",
          "text": [
            "Evaluating...\n"
          ]
        },
        {
          "output_type": "display_data",
          "data": {
            "text/plain": [
              "Iteration:   0%|          | 0/1029 [00:00<?, ?it/s]"
            ],
            "application/vnd.jupyter.widget-view+json": {
              "version_major": 2,
              "version_minor": 0,
              "model_id": "569b072c41564a169fd27a3785076bb7"
            }
          },
          "metadata": {}
        },
        {
          "output_type": "display_data",
          "data": {
            "text/plain": [
              "Iteration:   0%|          | 0/129 [00:00<?, ?it/s]"
            ],
            "application/vnd.jupyter.widget-view+json": {
              "version_major": 2,
              "version_minor": 0,
              "model_id": "0847d0618073400784f0e97bed94ab33"
            }
          },
          "metadata": {}
        },
        {
          "output_type": "display_data",
          "data": {
            "text/plain": [
              "Iteration:   0%|          | 0/129 [00:00<?, ?it/s]"
            ],
            "application/vnd.jupyter.widget-view+json": {
              "version_major": 2,
              "version_minor": 0,
              "model_id": "22975fbdfaef4ef2a756075811d714d1"
            }
          },
          "metadata": {}
        },
        {
          "output_type": "stream",
          "name": "stdout",
          "text": [
            "Epoch: 20, Loss: 0.0002, Train: 42.26%, Valid: 36.55% Test: 30.22%\n",
            "Training...\n"
          ]
        },
        {
          "output_type": "display_data",
          "data": {
            "text/plain": [
              "Iteration:   0%|          | 0/1029 [00:00<?, ?it/s]"
            ],
            "application/vnd.jupyter.widget-view+json": {
              "version_major": 2,
              "version_minor": 0,
              "model_id": "402306b33a2c4c2db6c99807e160e5d9"
            }
          },
          "metadata": {}
        },
        {
          "output_type": "stream",
          "name": "stdout",
          "text": [
            "Evaluating...\n"
          ]
        },
        {
          "output_type": "display_data",
          "data": {
            "text/plain": [
              "Iteration:   0%|          | 0/1029 [00:00<?, ?it/s]"
            ],
            "application/vnd.jupyter.widget-view+json": {
              "version_major": 2,
              "version_minor": 0,
              "model_id": "3b6ca5e9644e40c2b380a3f2725ae607"
            }
          },
          "metadata": {}
        },
        {
          "output_type": "display_data",
          "data": {
            "text/plain": [
              "Iteration:   0%|          | 0/129 [00:00<?, ?it/s]"
            ],
            "application/vnd.jupyter.widget-view+json": {
              "version_major": 2,
              "version_minor": 0,
              "model_id": "dd75be29e6a54f348f08990e5a3c9eca"
            }
          },
          "metadata": {}
        },
        {
          "output_type": "display_data",
          "data": {
            "text/plain": [
              "Iteration:   0%|          | 0/129 [00:00<?, ?it/s]"
            ],
            "application/vnd.jupyter.widget-view+json": {
              "version_major": 2,
              "version_minor": 0,
              "model_id": "930d984f4fcd40039a5c7560acc49ab3"
            }
          },
          "metadata": {}
        },
        {
          "output_type": "stream",
          "name": "stdout",
          "text": [
            "Epoch: 21, Loss: 0.1228, Train: 42.26%, Valid: 36.55% Test: 30.22%\n",
            "Training...\n"
          ]
        },
        {
          "output_type": "display_data",
          "data": {
            "text/plain": [
              "Iteration:   0%|          | 0/1029 [00:00<?, ?it/s]"
            ],
            "application/vnd.jupyter.widget-view+json": {
              "version_major": 2,
              "version_minor": 0,
              "model_id": "dede964b5c104412be835031fcf9451a"
            }
          },
          "metadata": {}
        },
        {
          "output_type": "stream",
          "name": "stdout",
          "text": [
            "Evaluating...\n"
          ]
        },
        {
          "output_type": "display_data",
          "data": {
            "text/plain": [
              "Iteration:   0%|          | 0/1029 [00:00<?, ?it/s]"
            ],
            "application/vnd.jupyter.widget-view+json": {
              "version_major": 2,
              "version_minor": 0,
              "model_id": "ee40e2603d154b6c81262fd48353e213"
            }
          },
          "metadata": {}
        },
        {
          "output_type": "display_data",
          "data": {
            "text/plain": [
              "Iteration:   0%|          | 0/129 [00:00<?, ?it/s]"
            ],
            "application/vnd.jupyter.widget-view+json": {
              "version_major": 2,
              "version_minor": 0,
              "model_id": "5d77ecb7eca04a46aabcc3dbb2821661"
            }
          },
          "metadata": {}
        },
        {
          "output_type": "display_data",
          "data": {
            "text/plain": [
              "Iteration:   0%|          | 0/129 [00:00<?, ?it/s]"
            ],
            "application/vnd.jupyter.widget-view+json": {
              "version_major": 2,
              "version_minor": 0,
              "model_id": "f768b631c0ca4c16b8626b465a7c2953"
            }
          },
          "metadata": {}
        },
        {
          "output_type": "stream",
          "name": "stdout",
          "text": [
            "Epoch: 22, Loss: 1.9621, Train: 42.26%, Valid: 36.55% Test: 30.22%\n",
            "Training...\n"
          ]
        },
        {
          "output_type": "display_data",
          "data": {
            "text/plain": [
              "Iteration:   0%|          | 0/1029 [00:00<?, ?it/s]"
            ],
            "application/vnd.jupyter.widget-view+json": {
              "version_major": 2,
              "version_minor": 0,
              "model_id": "90bfd263ee6244f28da7f0c4a50ea448"
            }
          },
          "metadata": {}
        },
        {
          "output_type": "stream",
          "name": "stdout",
          "text": [
            "Evaluating...\n"
          ]
        },
        {
          "output_type": "display_data",
          "data": {
            "text/plain": [
              "Iteration:   0%|          | 0/1029 [00:00<?, ?it/s]"
            ],
            "application/vnd.jupyter.widget-view+json": {
              "version_major": 2,
              "version_minor": 0,
              "model_id": "7e0c177a54ae48e4973d779b1bd4472e"
            }
          },
          "metadata": {}
        },
        {
          "output_type": "display_data",
          "data": {
            "text/plain": [
              "Iteration:   0%|          | 0/129 [00:00<?, ?it/s]"
            ],
            "application/vnd.jupyter.widget-view+json": {
              "version_major": 2,
              "version_minor": 0,
              "model_id": "5481039edd924098874913e622130c06"
            }
          },
          "metadata": {}
        },
        {
          "output_type": "display_data",
          "data": {
            "text/plain": [
              "Iteration:   0%|          | 0/129 [00:00<?, ?it/s]"
            ],
            "application/vnd.jupyter.widget-view+json": {
              "version_major": 2,
              "version_minor": 0,
              "model_id": "2e0a6b07ec05434f85a71f35a3e2da1e"
            }
          },
          "metadata": {}
        },
        {
          "output_type": "stream",
          "name": "stdout",
          "text": [
            "Epoch: 23, Loss: 10.0163, Train: 42.26%, Valid: 36.55% Test: 30.22%\n",
            "Training...\n"
          ]
        },
        {
          "output_type": "display_data",
          "data": {
            "text/plain": [
              "Iteration:   0%|          | 0/1029 [00:00<?, ?it/s]"
            ],
            "application/vnd.jupyter.widget-view+json": {
              "version_major": 2,
              "version_minor": 0,
              "model_id": "1bc159577c3f4636bbc547307171c3b0"
            }
          },
          "metadata": {}
        },
        {
          "output_type": "stream",
          "name": "stdout",
          "text": [
            "Evaluating...\n"
          ]
        },
        {
          "output_type": "display_data",
          "data": {
            "text/plain": [
              "Iteration:   0%|          | 0/1029 [00:00<?, ?it/s]"
            ],
            "application/vnd.jupyter.widget-view+json": {
              "version_major": 2,
              "version_minor": 0,
              "model_id": "1d6185a469ce40abbea191c59f6a9261"
            }
          },
          "metadata": {}
        },
        {
          "output_type": "display_data",
          "data": {
            "text/plain": [
              "Iteration:   0%|          | 0/129 [00:00<?, ?it/s]"
            ],
            "application/vnd.jupyter.widget-view+json": {
              "version_major": 2,
              "version_minor": 0,
              "model_id": "49b39cbf08cc4e648673954efa267ca7"
            }
          },
          "metadata": {}
        },
        {
          "output_type": "display_data",
          "data": {
            "text/plain": [
              "Iteration:   0%|          | 0/129 [00:00<?, ?it/s]"
            ],
            "application/vnd.jupyter.widget-view+json": {
              "version_major": 2,
              "version_minor": 0,
              "model_id": "9d0a663c4c9e4b46acd07ef8c1cd4f7e"
            }
          },
          "metadata": {}
        },
        {
          "output_type": "stream",
          "name": "stdout",
          "text": [
            "Epoch: 24, Loss: 0.0115, Train: 42.26%, Valid: 36.55% Test: 30.22%\n",
            "Training...\n"
          ]
        },
        {
          "output_type": "display_data",
          "data": {
            "text/plain": [
              "Iteration:   0%|          | 0/1029 [00:00<?, ?it/s]"
            ],
            "application/vnd.jupyter.widget-view+json": {
              "version_major": 2,
              "version_minor": 0,
              "model_id": "f3e47dae07114e1fb13e2252156a44eb"
            }
          },
          "metadata": {}
        },
        {
          "output_type": "stream",
          "name": "stdout",
          "text": [
            "Evaluating...\n"
          ]
        },
        {
          "output_type": "display_data",
          "data": {
            "text/plain": [
              "Iteration:   0%|          | 0/1029 [00:00<?, ?it/s]"
            ],
            "application/vnd.jupyter.widget-view+json": {
              "version_major": 2,
              "version_minor": 0,
              "model_id": "3374a0b7299e446184893678761ffe53"
            }
          },
          "metadata": {}
        },
        {
          "output_type": "display_data",
          "data": {
            "text/plain": [
              "Iteration:   0%|          | 0/129 [00:00<?, ?it/s]"
            ],
            "application/vnd.jupyter.widget-view+json": {
              "version_major": 2,
              "version_minor": 0,
              "model_id": "2a050aa4ad0c441f8cc82bd3577a5b20"
            }
          },
          "metadata": {}
        },
        {
          "output_type": "display_data",
          "data": {
            "text/plain": [
              "Iteration:   0%|          | 0/129 [00:00<?, ?it/s]"
            ],
            "application/vnd.jupyter.widget-view+json": {
              "version_major": 2,
              "version_minor": 0,
              "model_id": "d885880512954d3e8b2284f55469a559"
            }
          },
          "metadata": {}
        },
        {
          "output_type": "stream",
          "name": "stdout",
          "text": [
            "Epoch: 25, Loss: 2.9019, Train: 42.26%, Valid: 36.55% Test: 30.22%\n",
            "Training...\n"
          ]
        },
        {
          "output_type": "display_data",
          "data": {
            "text/plain": [
              "Iteration:   0%|          | 0/1029 [00:00<?, ?it/s]"
            ],
            "application/vnd.jupyter.widget-view+json": {
              "version_major": 2,
              "version_minor": 0,
              "model_id": "fab11f6209714c7293c2ee4452a92fd7"
            }
          },
          "metadata": {}
        },
        {
          "output_type": "stream",
          "name": "stdout",
          "text": [
            "Evaluating...\n"
          ]
        },
        {
          "output_type": "display_data",
          "data": {
            "text/plain": [
              "Iteration:   0%|          | 0/1029 [00:00<?, ?it/s]"
            ],
            "application/vnd.jupyter.widget-view+json": {
              "version_major": 2,
              "version_minor": 0,
              "model_id": "02282a35cffe417d960a9cef460fc6c0"
            }
          },
          "metadata": {}
        },
        {
          "output_type": "display_data",
          "data": {
            "text/plain": [
              "Iteration:   0%|          | 0/129 [00:00<?, ?it/s]"
            ],
            "application/vnd.jupyter.widget-view+json": {
              "version_major": 2,
              "version_minor": 0,
              "model_id": "8cf7aab8a3f249028c23e843060df6f5"
            }
          },
          "metadata": {}
        },
        {
          "output_type": "display_data",
          "data": {
            "text/plain": [
              "Iteration:   0%|          | 0/129 [00:00<?, ?it/s]"
            ],
            "application/vnd.jupyter.widget-view+json": {
              "version_major": 2,
              "version_minor": 0,
              "model_id": "e00a0e951ac9478da1f275a7679d3ea0"
            }
          },
          "metadata": {}
        },
        {
          "output_type": "stream",
          "name": "stdout",
          "text": [
            "Epoch: 26, Loss: 0.0458, Train: 42.26%, Valid: 36.55% Test: 30.22%\n",
            "Training...\n"
          ]
        },
        {
          "output_type": "display_data",
          "data": {
            "text/plain": [
              "Iteration:   0%|          | 0/1029 [00:00<?, ?it/s]"
            ],
            "application/vnd.jupyter.widget-view+json": {
              "version_major": 2,
              "version_minor": 0,
              "model_id": "31e9b6c4830d45d4b66e70d2e8977b73"
            }
          },
          "metadata": {}
        },
        {
          "output_type": "stream",
          "name": "stdout",
          "text": [
            "Evaluating...\n"
          ]
        },
        {
          "output_type": "display_data",
          "data": {
            "text/plain": [
              "Iteration:   0%|          | 0/1029 [00:00<?, ?it/s]"
            ],
            "application/vnd.jupyter.widget-view+json": {
              "version_major": 2,
              "version_minor": 0,
              "model_id": "a335b9d9418e45e785dee24ac3d899d9"
            }
          },
          "metadata": {}
        },
        {
          "output_type": "display_data",
          "data": {
            "text/plain": [
              "Iteration:   0%|          | 0/129 [00:00<?, ?it/s]"
            ],
            "application/vnd.jupyter.widget-view+json": {
              "version_major": 2,
              "version_minor": 0,
              "model_id": "634aeb6392504e259386949b2ed134c3"
            }
          },
          "metadata": {}
        },
        {
          "output_type": "display_data",
          "data": {
            "text/plain": [
              "Iteration:   0%|          | 0/129 [00:00<?, ?it/s]"
            ],
            "application/vnd.jupyter.widget-view+json": {
              "version_major": 2,
              "version_minor": 0,
              "model_id": "3e06c5aa7a864475a90b30941fcd7bb6"
            }
          },
          "metadata": {}
        },
        {
          "output_type": "stream",
          "name": "stdout",
          "text": [
            "Epoch: 27, Loss: 0.0000, Train: 42.26%, Valid: 36.55% Test: 30.22%\n",
            "Training...\n"
          ]
        },
        {
          "output_type": "display_data",
          "data": {
            "text/plain": [
              "Iteration:   0%|          | 0/1029 [00:00<?, ?it/s]"
            ],
            "application/vnd.jupyter.widget-view+json": {
              "version_major": 2,
              "version_minor": 0,
              "model_id": "6a9bedc40f5b4542911276ac9c2b224b"
            }
          },
          "metadata": {}
        },
        {
          "output_type": "stream",
          "name": "stdout",
          "text": [
            "Evaluating...\n"
          ]
        },
        {
          "output_type": "display_data",
          "data": {
            "text/plain": [
              "Iteration:   0%|          | 0/1029 [00:00<?, ?it/s]"
            ],
            "application/vnd.jupyter.widget-view+json": {
              "version_major": 2,
              "version_minor": 0,
              "model_id": "f5b8d29987b543acb38ddff58a3c9966"
            }
          },
          "metadata": {}
        },
        {
          "output_type": "display_data",
          "data": {
            "text/plain": [
              "Iteration:   0%|          | 0/129 [00:00<?, ?it/s]"
            ],
            "application/vnd.jupyter.widget-view+json": {
              "version_major": 2,
              "version_minor": 0,
              "model_id": "60d9ff08b8e04bb8a3b2502fd28d9b44"
            }
          },
          "metadata": {}
        },
        {
          "output_type": "display_data",
          "data": {
            "text/plain": [
              "Iteration:   0%|          | 0/129 [00:00<?, ?it/s]"
            ],
            "application/vnd.jupyter.widget-view+json": {
              "version_major": 2,
              "version_minor": 0,
              "model_id": "8011173ec0a54051a9c2a3aba1ec6bf4"
            }
          },
          "metadata": {}
        },
        {
          "output_type": "stream",
          "name": "stdout",
          "text": [
            "Epoch: 28, Loss: 0.1473, Train: 42.26%, Valid: 36.55% Test: 30.22%\n",
            "Training...\n"
          ]
        },
        {
          "output_type": "display_data",
          "data": {
            "text/plain": [
              "Iteration:   0%|          | 0/1029 [00:00<?, ?it/s]"
            ],
            "application/vnd.jupyter.widget-view+json": {
              "version_major": 2,
              "version_minor": 0,
              "model_id": "c4f8375b21a34d248216a3d839b16448"
            }
          },
          "metadata": {}
        },
        {
          "output_type": "stream",
          "name": "stdout",
          "text": [
            "Evaluating...\n"
          ]
        },
        {
          "output_type": "display_data",
          "data": {
            "text/plain": [
              "Iteration:   0%|          | 0/1029 [00:00<?, ?it/s]"
            ],
            "application/vnd.jupyter.widget-view+json": {
              "version_major": 2,
              "version_minor": 0,
              "model_id": "41900f8cf07c478bab09451afc259eb9"
            }
          },
          "metadata": {}
        },
        {
          "output_type": "display_data",
          "data": {
            "text/plain": [
              "Iteration:   0%|          | 0/129 [00:00<?, ?it/s]"
            ],
            "application/vnd.jupyter.widget-view+json": {
              "version_major": 2,
              "version_minor": 0,
              "model_id": "1b90f04f5e9942559c1b04f923a00be8"
            }
          },
          "metadata": {}
        },
        {
          "output_type": "display_data",
          "data": {
            "text/plain": [
              "Iteration:   0%|          | 0/129 [00:00<?, ?it/s]"
            ],
            "application/vnd.jupyter.widget-view+json": {
              "version_major": 2,
              "version_minor": 0,
              "model_id": "0bb43074b02b4814a95993164c1df867"
            }
          },
          "metadata": {}
        },
        {
          "output_type": "stream",
          "name": "stdout",
          "text": [
            "Epoch: 29, Loss: 0.0002, Train: 42.26%, Valid: 36.55% Test: 30.22%\n",
            "Training...\n"
          ]
        },
        {
          "output_type": "display_data",
          "data": {
            "text/plain": [
              "Iteration:   0%|          | 0/1029 [00:00<?, ?it/s]"
            ],
            "application/vnd.jupyter.widget-view+json": {
              "version_major": 2,
              "version_minor": 0,
              "model_id": "57c65fabc2b046f8a1ddadde219d68d7"
            }
          },
          "metadata": {}
        },
        {
          "output_type": "stream",
          "name": "stdout",
          "text": [
            "Evaluating...\n"
          ]
        },
        {
          "output_type": "display_data",
          "data": {
            "text/plain": [
              "Iteration:   0%|          | 0/1029 [00:00<?, ?it/s]"
            ],
            "application/vnd.jupyter.widget-view+json": {
              "version_major": 2,
              "version_minor": 0,
              "model_id": "b06e1ea69da44c6d8fb0d971c11ad831"
            }
          },
          "metadata": {}
        },
        {
          "output_type": "display_data",
          "data": {
            "text/plain": [
              "Iteration:   0%|          | 0/129 [00:00<?, ?it/s]"
            ],
            "application/vnd.jupyter.widget-view+json": {
              "version_major": 2,
              "version_minor": 0,
              "model_id": "2d639d9dabc2471293938a378aeeb008"
            }
          },
          "metadata": {}
        },
        {
          "output_type": "display_data",
          "data": {
            "text/plain": [
              "Iteration:   0%|          | 0/129 [00:00<?, ?it/s]"
            ],
            "application/vnd.jupyter.widget-view+json": {
              "version_major": 2,
              "version_minor": 0,
              "model_id": "f5fbffd5bc244f9b9c89e29a0dc2252b"
            }
          },
          "metadata": {}
        },
        {
          "output_type": "stream",
          "name": "stdout",
          "text": [
            "Epoch: 30, Loss: 0.0000, Train: 42.26%, Valid: 36.55% Test: 30.22%\n"
          ]
        }
      ]
    },
    {
      "cell_type": "code",
      "source": [
        "import copy\n",
        "\n",
        "if 'IS_GRADESCOPE_ENV' not in os.environ:\n",
        "  model_max.reset_parameters()\n",
        "\n",
        "  optimizer = torch.optim.Adam(model_max.parameters(), lr=args['lr'])\n",
        "  loss_fn = torch.nn.BCEWithLogitsLoss()\n",
        "\n",
        "  best_model_max = None\n",
        "  best_valid_acc_max = 0\n",
        "\n",
        "  for epoch in range(1, 1 + args[\"epochs\"]):\n",
        "    print('Training...')\n",
        "    loss = train(model_max, device, train_loader, optimizer, loss_fn)\n",
        "\n",
        "    print('Evaluating...')\n",
        "    train_result_max = eval(model_max, device, train_loader, evaluator_max)\n",
        "    val_result_max = eval(model_max, device, valid_loader, evaluator_max)\n",
        "    test_result_max = eval(model_max, device, test_loader, evaluator_max)\n",
        "\n",
        "    train_acc_max, valid_acc_max, test_acc_max = train_result[dataset.eval_metric], val_result[dataset.eval_metric], test_result[dataset.eval_metric]\n",
        "    if valid_acc_max > best_valid_acc_max:\n",
        "        best_valid_acc_max = valid_acc_max\n",
        "        best_model_max = copy.deepcopy(model_max)\n",
        "    print(f'Epoch: {epoch:02d}, '\n",
        "          f'Loss: {loss:.4f}, '\n",
        "          f'Train: {100 * train_acc_max:.2f}%, '\n",
        "          f'Valid: {100 * valid_acc_max:.2f}% '\n",
        "          f'Test: {100 * test_acc_max:.2f}%')"
      ],
      "metadata": {
        "colab": {
          "base_uri": "https://localhost:8080/",
          "height": 1000,
          "referenced_widgets": [
            "80a82073912c417bbe9c182791056014",
            "5ea6e505cc7a42be81b163021858dedc",
            "f8e01ae69aa14f6fb500cffe21dc88a2",
            "e4240c20d36b42dab3f35b501ef26402",
            "6438d5f62c70406581571bb73147e68f",
            "5825d6626f3d497887b38658370fff56",
            "0d59b39e3cd1484c88125a1413b4f78c",
            "f70521d71eab43cc8561499d30f7a9d0",
            "46c7b402c7c54bdcbd14f231cccc0ab5",
            "026c7f47e1364cce916b49233e35ad1b",
            "c4b915615537401e93535a25d99b4573",
            "39f48b3d0f0149cfba0501cf490b1d18",
            "068a260fe3c64edc984924aba6cc6df7",
            "c0188342de444ceeb92cb4046f7a35a8",
            "73de004fc79a43a0b1bb5330fe1fecc0",
            "8f6be2de7797443ca8b3676a7daa8218",
            "0e70b4f750d84fea91289fc59a45c655",
            "f9fe5e79459f4e49a5917759c80fefce",
            "4c8ee87e940549d68b6ca774d8d87732",
            "ce136c5374c84afe80b341ba08bba6eb",
            "df15cec5dc61459f884eb1be554caf71",
            "e82b022878e84546b724a620fc6f8978",
            "64304ecba6d44ee9bea3c4fe87e9c9e5",
            "62c2d57a8b104fe9b173daeb04d117a8",
            "cc1c48a5ac474079965c07b9e3bd5650",
            "25fc15f7d4174940b17751a1dfc4e8ec",
            "91a796e0d77149d9ab1c9127bae24e81",
            "a0cfc35376554c1cbc5e831d9b026bb8",
            "561a6524b82e4b71ac9ca1c1bd6ab7f8",
            "0c6744de209b42f891a14e5c051d79b3",
            "82435603961348d5bd8eb4a2b19d7002",
            "08ea02a252bf493d8592a22567173e7b",
            "3593477530854e0d99de462c4dce58b8",
            "60e5b9659f154e8988aaf7642edcfe6d",
            "28a3d3bdbe47443b99b449eaaa9e5720",
            "78eb43c6f1b34a148876e59f3192429d",
            "586d19f641eb4cea8a2a1c381887f7fa",
            "5ee15c4916584a44a35a19af613bfbb4",
            "12f9ed06b1b749afa7486fd599c2cf8b",
            "535de36cda5e44d5beb873bdfb9e4d9c",
            "0f0d7684790a462688fdf7e74940734a",
            "d9a4fb9a67244adda30a83a8416edbf2",
            "6f19a235faf64bdf908d240536f2dff1",
            "edc674b642ba4eb0ace741aad6287f9c",
            "5cc17301b7be4bd58e20fad85c2d23d6",
            "da901a93b56740f6b150c1ec6d8d4760",
            "ffcfd35da62e4aa6817e2eb076d3e1e9",
            "f2d347ce12524eca9dbabf21591e7701",
            "85877bafcd6a40b78b338290e5c0d255",
            "cb2265ad2d094fc5962a37b73fa59d11",
            "0768a8b6fcb24b90a8e17552dcf46f67",
            "2c7280d3f0904c46b9380de11c2c9780",
            "1ffc16485b2040b9ae20bc811e39b553",
            "5bbb9343829c4af0bccca92b78dfcee8",
            "04fb892246ed4c8cb53179d8502033f3",
            "308ae924c1b54a93b85e2fb882a8d314",
            "a646cb081dd6433fbc851092fe4c8bf2",
            "439417be53064061b68e252523b0bafa",
            "7847fd1d91694856a55caf2b1c962653",
            "c2c30428be274bf0a5fc2c1bb205ba58",
            "01866c795adb43bdbede29308cf99c3e",
            "7f00c7991b7a4038920bba03dc72180a",
            "2962a9a1d63d4618b5a83b0b99801dd7",
            "dd4a73801e654623b228ae4c37f4f919",
            "9eaa3ec3c6454b93a3f6b3f8fb85fe67",
            "79047950ce6647d9ac499294c521857d",
            "b178dc01d39a44768e75907320bfe3ff",
            "9ef7c2c020d349078469990670541fb0",
            "0f068864a9bd49a1913ab996d65df988",
            "6a2eb78969284ba390114eb1d14e7aee",
            "53d5f99d0ddc4e9fa320d9b04cd61c3c",
            "c1750d87ec4d4019aff374c8a0bec140",
            "8c05f204ebdc425985a77819e80b8742",
            "29bdb27754b54fe298f31e669cd654a6",
            "34ee7d1d2b8848839cb573d579ce3802",
            "214afd03fd3e4cfcac0fc13fc8ecc90e",
            "876334e1f8d5469ca3218dce675c75bd",
            "ac240251ed6c4b2784b457e0cb3296f9",
            "1c717f8fa813456abc52284e0b9a2fe8",
            "7486fa4d992148d4b822280588e768a3",
            "673f0122345e4627a63b2bd2eea90177",
            "e5e4159b899047f0b0a0e58d563ef936",
            "f67540c42f634d2dbd91c303d02ef059",
            "19674782764f4a96b1d926166213f44c",
            "d6123650cbd9437e9cd53ea772ad82b4",
            "d3059c0ec7784173a62a4db6e73901f7",
            "c11d130b536e4184a442dc60b3b36946",
            "51ddb02d451b4a16976a4db52e79b083",
            "d6c8cf1977b842749a3d237bf8256b64",
            "0c5d28cf66b04e95ad7220a6219fa876",
            "9ea3b6f8ba9344ba8a1a25f566067495",
            "fc4fbda3ccc24f268706300f102044d1",
            "32b72719e2e4456d80a086ad4d6a7fee",
            "69a3e6f336544b2c943afff0a78b8b0e",
            "47f95a1755974a3781b609ad5ebf45ce",
            "6dfa4f627ad4401b90f7cd933e80d9ed",
            "0d6581771ac741d5a2cf6647c9b64e99",
            "4c9374a8e9714f7aa79c4cd45841481b",
            "e2566d16a4484bd5a3fcd8a8e7920102",
            "bba793908cec4595b6e0cf0b6a38b668",
            "fad6f6c1d69f44f69d64107c98d95c9b",
            "41d7c65aa2de435c967919b2b7eec6b6",
            "f3e109f8432545d0b85b2ccd1b7b8854",
            "27f9054032884e85822d46b187f53896",
            "5655df8ad36d4d738a65348a6244de2a",
            "7cbe0e2a6d4b437fb16e98187ba1a82f",
            "b7059568058b49babacc39499148d9db",
            "3b4c794bc2a24c33a7143e962c9e9fbb",
            "41ae61f0bf2845abb8cf1677205b8b39",
            "872f949608694adf83ccfef01d6238bc",
            "49e0a7d169c8448aab373c3efae24c41",
            "3512146fec5d43479522846111e1263e",
            "9474aac84c914501baddc6b172c7157c",
            "f5a1036d2b614975b4bf3e6f6619a5e6",
            "4c0c68c182e24e40874b3a263cf50fa6",
            "451d1a6a5feb45ce904c7b05819e9b6f",
            "8b05c2997ff84547bb285bbf66f9dc08",
            "3103dbe675fe4b83a8f4761598b1f4e9",
            "ad0c52d85d55426399d3c5818b841eb6",
            "bd6bf21aa87f4f7189cd827f1a500129",
            "294d31c7172d4cdab9083111c9554c89",
            "f45c6a8bf0c245a2a7bac295b826833d",
            "ded8723d85524af0a3fea8e1b0104328",
            "b9b0fbeac19b4b50bb0fcb90b29e26f1",
            "769719283ebf4d338bab1e91d4b47240",
            "a0b92d5ef2fb4fdfbc1889e664b7a383",
            "e24f50dff08c4283bebe11b1eb47b107",
            "c6b7c73ec5de4dbfbf03d242f09f8dea",
            "6c5f5252a73a436db3549c7442246462",
            "3cc82b6c1ba94237b3cab6eff21c97b6",
            "659aae9990ae4b9992c96597b4db0a44",
            "63a4bfc550934bf0a9f950bca3b4bd61",
            "7aa66f9778dd4e6798a706b3e60162f3",
            "63eff746f8e74050b73b34e3c40945d1",
            "8daf4c61d15c447cab611d458985681e",
            "c1ab8f4d7e394f63b9374d660044abda",
            "7b7e99d94d444a7394b76990f2566986",
            "4fbfdf89d28043b092b181a41b80b9d7",
            "3d63a3ce861f4219af6ce10f5d4824ac",
            "7148518f2e1d483782d9e6b4cb355afb",
            "187220b9ffe741759dac66c25c299b4d",
            "5f1423421f60415a86b1cae9ceec7cd3",
            "95f512b262d44e76a932bc789a946999",
            "e4ad899f563d4ee7bc97967377e65821",
            "49d7ca144e0e4971b056af29da951ea0",
            "dc24fead6dfc49a49cb4ad97b34d5bf1",
            "eb3e8c1e8deb45f88a54a95f92314298",
            "9c6d28a1925b43a9b85592f7bd3b941b",
            "2d56df9d1cae4c1182972b1f9205e6ca",
            "ef0882a179744349b4b5f6311e3c3a02",
            "fde4ac048bd344038f3721b32e189441",
            "51485a104eb64ca998f89599e2612b87",
            "6659f3c52cef4b719ebcc3f6a06fce80",
            "67dcc485a5a2463a827f726b2ecd68bb",
            "24a93b633f84420cbc42bb92d2dd0527",
            "5bb0ba58bfb9468dae4c9170e10d042a",
            "23c9778e3a6043b5af5c4dcbee30c2fe",
            "8cb2ad4122da419db67a11609e26bda9",
            "9aa62152e1ff46dbb21000de56902bc7",
            "3d040ede0f8b4980ac037378601cc2b8",
            "8a80aae616c84a74883b4d6559d133f2",
            "bbec27c2682c4eddacc8d494a84c10ea",
            "e8dc08aeedbc485aa0fdc2ac0de630d3",
            "01c4dcfff22945e7998fd6a018b95409",
            "20d8185e73a441cba3158917682211a5",
            "e091f15d5f6044ae9a1921398b828745",
            "08db708e43d244088024c72d787ad30e",
            "922de4e41e564c2696d9dda73639c67b",
            "44c7a5834b4347499e49d69bf8341f60",
            "06484bb0bdeb477cbc2e6d67e0b491ec",
            "0aa915e00b484808a42e9e5edfecb196",
            "d07e5a70e8bc430d9b45dbb6b9080a9d",
            "b53240fea7b44f27be5fe29a2ef8be9f",
            "2edc2d61d27b4506bd275422335e39e2",
            "d3b5f9a23bbb4fd992b13d570126d30c",
            "e4bcd524036645f9af304c7a3727bbe2",
            "4ec65a12fe8b4be88f95e8d93618d7b8",
            "54674e5265ea42e2a7f53d87f2590e08",
            "936127b37c3b4173bb941e14942f526b",
            "cfc5fd8ddf2d4dd083486653e8aec39d",
            "2666c9e95caa414eab0aa59146672658",
            "eb2284b15c234070a986016bf0832643",
            "ab0f220514484e67ab92c954d45446fa",
            "3e0d647c443b43748c0795b0c751b817",
            "29153d398d754db6b7b276f612384a18",
            "19332ffd95c544c593f9242173d0ec01",
            "9eb622b0b6474b979fd2db6383fac022",
            "8e37e15bced947738e24611310bb3e69",
            "dfed35d8b507439f81f40d9910e82c5b",
            "b0254ea6ecf34fff8f540c7833c4db47",
            "4282dfef34e14a6e8650070f3353b037",
            "969aab885a4d410c94d30a22f9c7aa52",
            "47cf6fb71c624ba4ac0a0fa9cad87d19",
            "ceef2b16fa59444497162b32794174d8",
            "73211336e5fb47b596d75a3c3a8e2318",
            "7bf26cacb80041baa7bd3ea2fbef6626",
            "7ce267ec1be9428ab8d76a23aa47e66b",
            "5cd1ffadc5744932abe6a72cd27bc939",
            "f04160eb25914f21b3b161c1617ffe12",
            "209f76b9889f430799b948f0f9f08c37",
            "2dbb87b17de74af8935fdb82e8a5d850",
            "e70e334e943c409eb9e8d45fdb022e8d",
            "967d64e2283e460493ee18a72985ce8f",
            "22d17d3c56624d8bac316a82e1ad2e42",
            "70f6ad172419463a9a18ba2474e53f7b",
            "249ab085c87340acb142f1ba6035157f",
            "118241679d194c8ab751a7f415eda69d",
            "4d033fd93fb24f8a9b458fb1ed117bbd",
            "0ed4f4eef10749c29e024ed5435d2244",
            "fbaa2286c8584b9084d72cc5e692a837",
            "22c28b0f77a740248b50670eca534857",
            "be1e35abc9b54de9ae9b26adcbd0fe72",
            "ecaf0241bac0429eb43b1814e9d1b6b4",
            "71e4976b284344e5a50cfdd8354f2d7f",
            "d60ee6b5b4d34283b0adef8dd1ec662d",
            "ab48b115773f46638afc5fd978baa60b",
            "d061a0500a9541c490aac40800ebe108",
            "58c8b4b6551a41b58521ba83a4bc1311",
            "5ff61e0ac0b64951b2f79982866b24dc",
            "365fbb36758e4d4ebe489ce0b63004b2",
            "480be8bc94d44dff811db44d053c1caa",
            "4081ae3226994575a06b2010c2b3c703",
            "488268a654df40e2a78e42d84e0ad92f",
            "c25758a1c9944fa7918cd5aba0f7bb27",
            "83d0cb3d6c294915a9e9f28ff5bc6313",
            "7c081f54310e4f64bfd258bc0489e18f",
            "c0185152a0384e85b89037ae1369d2ad",
            "390f8eb7802841a7aad62716c1129776",
            "00c840181a80406990c08fe6f9e742a5",
            "f4ad6b172cd449dd98a183ee9d584c15",
            "7a49579a375a4337abde6df28bfc52f6",
            "fadb2094b3b44807b40d6e142186143a",
            "61c32ee723114715a8f2e94bec1124a6",
            "ccd9e35148e64d5bbbb2878e71f0cc0d",
            "58323c4f39ac484b842990de08b73eef",
            "1f3f6696c6694c9195eb22875acaf0b5",
            "547b0e714c614627b28cab4c9fdfa739",
            "78e11acf66b248e08354e6a776ff9902",
            "f6dcfa9a65b1425c86329a230e906d7c",
            "56c425f0e0404c2f9dabe4036025963b",
            "b7139969aba14720add2e56e31e3426a",
            "9515875ebcba4a699fe7650cec058266",
            "0918c6a1a1784e178d131a2ba1b8798c",
            "1770ce93cd694b26be5c81acb2b86931",
            "c22d32bfbc1a49f28bab479ff8a259e7",
            "b8c4f3441d2a4bce8a65c9b64d751b2d",
            "76ad547dfe4544f483045c08b79f6ea1",
            "6fe7de650e2040a6ac6d703b462c21ab",
            "4a48062fa7a94897a3c58ddfc1da6187",
            "e493f5fec6ba465d96ab9cbe91c6101e",
            "f230b3e16fa4469ab805d8245aa68549",
            "238f8ef468ef464dbf2a6dd8891ea9e8",
            "bb436b1eb131480e83b7b713c9e0a144",
            "3b931ef49c9640c59338de2cdf3dea59",
            "5f851eb6b1154e02a4398532d2d090a6",
            "64a46a721e8a4ed787ea4cd23aad2abd",
            "9f79e99d028644c3beff6189c1cdbced",
            "8d02e0f73af04fff9cfb2c0478f5e6c4",
            "3fb1f24ec0d64e1da3a93f4bed04b35b",
            "ea06dac937914e749b837d2832dae380",
            "efe00cf35fa04ced8baae4ec755a8906",
            "8ae1693ec6e847f9aaaadc5ea39b0f4c",
            "cbbe11c2b3454ac6aacb88f7b2ccc755",
            "d6d55effe0eb4815a288057ea43cc1fe",
            "02a8093410a54187b4c60b8aba79290d",
            "cdf3b0430f974807aa8972515cfe0c32",
            "f776e339fbbb42f8b13a8a9e0e35c5ae",
            "beae3d0ff99b4a78895c704f17f9c617",
            "6229ad861b9f414696c4d545bc96f912",
            "b732d8073d8b45a7be9c5b7568fff9c3",
            "badc8d559f74419d9d69d93754599e43",
            "30c694bbdab14bccb04f867ba0616eeb",
            "c524664f1d6c4efcb2ab78f79e5833ac",
            "a75d4fb75e874547b7639e5cc98aa8d6",
            "672b152f4deb497d8aa0b42ea99e50ab",
            "6db53549fccc4462b0e0a105fa30a402",
            "68eae7df073d4f72af446ab4fa8373d5",
            "9842837ae74b4ca6b38ae9693a4e86de",
            "3f43ed4965274a7796d3feaa0f7f5ace",
            "784cf3323d7e4967801eaa5afb35c00a",
            "ee851472b5564496b7828071fc00d19d",
            "48c79d3ab47747d49e2c7afeb7a80c18",
            "5b39ccbf6b72474384979c5ab11f2073",
            "9aecf4ebe342483588382dfbee6c8a31",
            "74bca553388647218d453d6ce6fa6c58",
            "0c624416a6f94d13a112e4818feb4ce6",
            "83bd0951108846a99eebd90ade6a13e5",
            "56f2b4ce7b0441b096fbf410fad4fbb5",
            "09226b46251d4cae80c657d4a41e0fa7",
            "f49ba90abd6b491aa6748ab4b804b1b5",
            "d10ade4553f54e37aec1e84c79839207",
            "190210dc487e483994132c34855f6156",
            "2ce400dadbc047088ed2be72c01a0a79",
            "05959288694b4564bcf940f76769e7ee",
            "ae4ada9149c44b2499536498974b6bed",
            "5df3b5629a7b452cbc879b2bc55d7e30",
            "66a90172a78f455a91762f6f8f084b74",
            "0b32b567d1164a9581ee569426cee288",
            "5e3a29338cb6455fad504c9180b13a79",
            "6c173d4ff67547fbac05bf926596ee68",
            "247b381e4f2f4e8cb6940632f46d4324",
            "7ea4b259e06b437fb83c8a6a5f9011b7",
            "a867f1889667466ebfc2a8512beded20",
            "d3b4725dbaee4c799bd30f3db605e7df",
            "47c761df7ffc4000b11c0a74d622688e",
            "14bf712e3bf54721975f570f6265bf1d",
            "c7f20bcb7dfd4db7abf9fce1bd5996f1",
            "fa43fe443cfd41efb47688b84e3ee01c",
            "77ee2dd81fc9402e953e3b3ab0498073",
            "4ca5c327d9e048359ef34cb829bfbfab",
            "27fa82e0a7c243a789c90ba0026c3a81",
            "5a0b406719d04e8097331fa9a617976f",
            "d3a16a867a3445acae1fb360288f616f",
            "072e4fc1fc014956b51d19fc2c4311f2",
            "523c1c5812094cfbadd0dbc6d6c1a83b",
            "d55b93bbc8bd496f855ce814a9328844",
            "e8625c13d9534b068364b1bedeec1a53",
            "ead7cbf5f98d43dbaa7078c222d9a526",
            "dd2e96a3bca64b7e9c31a3cb13b97247",
            "09dc7d7ca58c4e82b47543942de470f6",
            "c11b0a7a806847e7a1e2b55376570a91",
            "f332a7d48dcf40fabbd2235d6aa8bf71",
            "fa01becb29b947b5a13ada466d373401",
            "56fc16d2846f4f0d967709ec07f1933c",
            "424edb7daa3f485f914838ce55a8eba5",
            "0682d56f3a19430c82d9f8af62b8ba1a",
            "9ef04602bfe5411ba20b7615ff75c892",
            "6e38734f3ad14f69875f5266a159fc9e",
            "6a3d073d9f7144aca24cfc2a66871745",
            "387cc8b9db14489493ae3abdf17b06d8",
            "fb669598a00047bda8cdfd0c53875a97",
            "bdb2a209b8fa4c5891d649c2984ca8bf",
            "4380813386084aba8d603523111b31b1",
            "c63c9a131b6a42aa9905f291982bedc1",
            "73966c4540044b43b7aa2743eaea652e",
            "1709d034aa5a48379cd555b7611a2686",
            "7ddd7af314e345de8ed29be412b4174e",
            "fa6e5ba06dbb4a0d83d5d4678bd9e505",
            "8ba849d3cbd349c2ba2dda1dcd509ba6",
            "6ec8e5261f324191a7334bb5e5e8cf36",
            "259a55de81b148bf9807d761edc62954",
            "e31728a174c54294a698f7ef7dfa57a1",
            "5f596bb38fa24292826ecc7973c8c337",
            "0a54c6b6fee14479af935a686a44634c",
            "49b0d01549de436990fa9b40d3373b65",
            "b95ec2edb8ee45dda290744648a70ca3",
            "12ec9c500047493ab7fd1218fbc6c982",
            "00fcf8dd94bd4f7a957e32834a6c2b95",
            "1a6d05ec680f4a29bf6ee0156dae15d4",
            "1948f34a1ac94f36b7ec40b3d0843216",
            "e62d944e598c4ec7afe99e20f7332ec9",
            "74384b55f9c94a01a3d696cedeccf2b6",
            "f05a1e7652184ce8ae3978e4ec02d2b4",
            "e1b0c1fc2b7047b19ee25d18790a270a",
            "8a461e4fcda94668973ed92f2dbbd1c9",
            "87c63457d0de431f9a02ecb19bbe90ee",
            "df486762d5f84bd1be0c04ca2810cf09",
            "294a13463b2a49068e39f7fbb8d766c0",
            "c7d0831c13b440edb3ff21d078a39615",
            "cadfe6c095a547b4b529a11859f9efed",
            "be91b6cc971b48f1b1b43b4f3c3d4e2a",
            "524df2bcd5674f2c8fe6b9067ffe4a99",
            "fd742afb123c4640bd6f01f81f5fddce",
            "26ac3f67372841cb8141e770866baed8",
            "fe4d303955e542f9a23aaeec8c43d493",
            "1b3eda113d4943018706db9922756521",
            "fd31578df8414c5d89dd7085834e4b8b",
            "34b83087ac5146a9b55c4f58a050082f",
            "ff30f8bef347470aba7c7a546fb6c692",
            "5ecb55c219ba463596fdb9f76d144c71",
            "1458406c76ba4ea0893931a1b212da18",
            "1d475b9d9a964d589045249fbfc220db",
            "de5082e15db3441ea62e07c7a5b78dc4",
            "2a10335d3d38481aa0fca4aa6d118aa9",
            "edca1376842a4895911f82e60b95468e",
            "eb2ac083a5c64dac919917f97840d57a",
            "64799537bbba4f958ae9a4d6502a1689",
            "548f82d2fd8a403db52d183d17f6b3f6",
            "336484af94c7492d87a7f412ee1d715f",
            "d00a5c423b7a4a0eab6574ff7c5e56f2",
            "5f9a82b8e0fe44bb961269bd66bea4dd",
            "ccc18e4076244f928542d129d5408d16",
            "c61e84f93eb04dff8859206ae13f28f9",
            "06bebd5bdfb241d086e3e3d70236e6df",
            "40c23db2f7c5400c98f54b7a0fae598a",
            "9c8f518266c24552a70e345b0217c132",
            "1748cc32bb564945acb2ac4351805c0f",
            "cb5001d7ab3f4fe79014ecabe705fde4",
            "e95edad953ea4d56a269a53567e048c2",
            "91c3619e2be448a59a3ecf27578e31bb",
            "9eac1d58ed324ab6b38ecda993dc54c1",
            "74a8723b92b7411e98ce0cd0eb099895",
            "58d1d6f4efb64e61a1873971df86601d",
            "40c17e0898134ae8928d4d8ff5172d31",
            "faca9b91cc8d4a599d5e8b804469be8a",
            "55e491422c1643ffb38f694612656d8e",
            "e50ad9bb5ff945c99a6d664a3a0cb749",
            "57e5fc4903454b8a8c7a6c4352a41ae5",
            "71e8ec75d8864e45a286fdea95571c2b",
            "400718e4391a4b1fa8ed6f16412ac31e",
            "9078c6a229b24c9c8c58069a40db05d4",
            "eeeac0c8160047cfbe751452655bee44",
            "8183305832104b5385f0809b82e9767c",
            "38a93bcada4f4b86a6a9edad3229021d",
            "c0f6766f47d94733b0c71f435ee2ac07",
            "1c92165a90c54ae88f72a7f6896d06b3",
            "b84c4b9265cb4e06aa2cebcd7a10b339",
            "e243a868f1a24e9596d15b6655ec562c",
            "fdf6303ad40a4717b7922f72c7997e8d",
            "559f05d891714e56bddf3d5bbbc9e55a",
            "3c173f69f4c14e71b10e4dcca2c0c9b9",
            "fee02243e79a48199979870714ee67aa",
            "cf2e479558c24b73998a21f5310eba30",
            "b91fe189000f4999872c0e4d7ff1b7c7",
            "8c33c4e922284ce2a8d82db847bdd5f2",
            "a92fc58b19b04e2986aafeaa18a6c6e2",
            "9c6d0a25b1dd4af6b9d88955560ee5f2",
            "d8038c6ef5d84d5a8b868d951d4e0c4b",
            "a0060216c0954f7095dbc435c7c7d5bb",
            "5062973f2efb408a866a8b977dc50c0a",
            "66a1675ed6124f8aa600006fa5210dee",
            "74458135bad64451ada4783e91020dc9",
            "1ab84274091d4283a3557d9658918128",
            "b155a439ffe9414eb3b81fd2177a9cd8",
            "51d70015b23d4ba197156d99447df398",
            "d9568e74b3c14a85a04e8c7d139230f9",
            "7ca24cad0b0d48f79212ae2bb46b8ac2",
            "58aa776930704c8893f01ae40208893f",
            "fd820f46ede0411183930f5fb3ce3534",
            "914b97f4e1dc4b418ef7d83c71aadd4d",
            "cff58fc3990a42cab031aa42ecc18954",
            "3b935567d0d94f458cf419d003fdfecb",
            "29f828abc1fe46e2be882af5029c9e42",
            "b685a58b04f7451c97374976bf970c96",
            "a79bd120cb9b4d73a3c4c9a3df948969",
            "f8b1059195ab4d479ce4046746cfa67f",
            "10c64744edc3430e9bc5e1f180c81153",
            "ff48ee521cda46368a9cffe004f97da1",
            "518444ba50d140818c06a3a6c3bf5d3e",
            "e47c744304b242fc9b2b06b7701ae5b8",
            "3ab050a70133456293bdc9e4ec1cb5f3",
            "5786bc8aff494323974c82f30d0c25f4",
            "d37152978feb41d38ed6f77233ed3e90",
            "bd0c1916c24f4298bed00e21afd24cf2",
            "d591974aca784b95b8ab1b6edf9aaa9d",
            "79446f61b5204c51aa133fedfb6ef6c9",
            "40a4dc069a824b64a1c50811a0d9b768",
            "f518977ecfa04179afaed7d67391a99b",
            "c022d9a2fdfc474e86d54a6bcf93eb0d",
            "36e96fcedb854adf86bef6f6a96108fe",
            "90d010886aad4ba7a82f3ad067cc9aa4",
            "9f5a39340b2d408f853b5b7c15d21ac8",
            "2124ffbbcfa94144a5e68f7d5c920dd2",
            "2ee1f660c37b4889b866683712973cb7",
            "24eb8d5842fd4302b8693b53407b6fb9",
            "61a013c43fff46df890f56ba36c1d081",
            "9ec6897737da4d3ab88331106123a470",
            "e1500e6739f54e219b2e2cf321ee0ed8",
            "6a63dcc0d06144349642123e9b679580",
            "5fc7ae1acccd4c85bf64b62281de7909",
            "b9ca205a74ed4903b658b35f3eb02708",
            "17d27e080fd14de9a1855ac554f7c3ce",
            "21fd8b73eaba431f8b97de046c18c45b",
            "4665fead7643424b95e54767d8d19595",
            "27e6f74432fa4878a06efa550e6cac9c",
            "96c53acb3c11452ebcfd0b7a9ba707b2",
            "092fab8b918145a78cac58eeabb85f62",
            "c2ec95be91c84beba2493fb2ec0296e5",
            "0485cbc17821433c9fa726baeb51a305",
            "ddcd7b6e7abb46e1bcd4679b8a9a80b5",
            "c297ed79ca91483292a8323d2613dba3",
            "60aeea11055148bd82753201114044d6",
            "2bf0e5883d2d470aa5d1226697b3a6f6",
            "326b9a811f1b49508cb42e7bdf99e3ac",
            "33d47a66c6e74f1a83c638defed525a6",
            "7697baaaeaa045bcad1b2af06707e02f",
            "e73b9134343b44d99ba9f6fc5e6cf98d",
            "0ca7aaddfc8142deaeee3eac92759d23",
            "1d4607ffdc3243aca1583e260cbd6e38",
            "6239351df3794231a895a90109a541f3",
            "74d311da1e0d4a43b0e31362fd8d50b8",
            "1670517f61b743779de4e4632ee35a74",
            "df3abed2b5bd45cd9ead60c6c84a9efa",
            "df51b8a0d27745398336274be5ae2dfd",
            "0e91b741b60b4aa0b625ee3187f44917",
            "9156fb6a7f3348128323149938ad912c",
            "b50417554dfc47578bd949d4b14135ad",
            "06bf8613da014eb3871a15bf1a8da8da",
            "553f28d7936f4122b0407ea76ceaf0cf",
            "711c78e0bd94435d9ff9f5259d177b78",
            "4591d6dd4bbc4b769a36acc631941a4b",
            "f0e3b26f05b2486ab557ac42b871379d",
            "5e09adb003bb4f66a7eeb05bbd00182f",
            "51a55f6eda3c45d9acfd6123570275fa",
            "025c325b748445729aaa9c4a8dd99a98",
            "6ac134cd0a3341c0badd128f0c9fe25f",
            "c3e98435ea174eb8bb3a2ef639fc4044",
            "67292133ca364ba2b8e3514ccdbb2f2c",
            "afef13425d1649d5a60fed6bc89415b8",
            "85fbd4f2d3174ebaa5ecc98367b48f49",
            "e430db5e5f4d4a19ad1a85fb8fae559a",
            "7542b1df19d44c1aa37c960b20ad266d",
            "754a7365b0a24704945dcb87193fb0de",
            "8082320b822843dfa96f118641cf0201",
            "330a9394547e4fa08fe499b832306954",
            "860a47146bdb4ed2b273f0ded5370c8d",
            "435fd97ec58746b9a7866db705ca6025",
            "1e8a871e90454e2a97501cf5a422bb30",
            "9d1a7f6423424a1cba66928887a5ae2a",
            "eec8bb181a114da3ac1b6ceba1495a53",
            "37f47b088595402d8c580a250bba3f19",
            "ba61b3e821a34a4ba71fdface20dd1d9",
            "29ee1eb60af340bb833a3f7d0e15893e",
            "222485132b06425eb6dc9a41f28b7a3d",
            "fd033bce147647e19ef051cfdb34fb47",
            "c50f0b6eaa79439683cc48b65d5cf20a",
            "61f05af79c5d47f5aec88d86553d97d8",
            "05f7c6ab91a74fd6a53fcc5f8d163285",
            "08adad79b2f041669c2754b2d8c49927",
            "c1d6553924d64440b035fa41550625ad",
            "73167062671947789fdd81d3bbf9696f",
            "de9a646a972848c3811c91e3279a4654",
            "6d507739cb064026a25aa5a547b50509",
            "3d7149b9e5c042ef9e0b6a86f39a9777",
            "5d624094051647338441892f45abec45",
            "3d5bf8b50ccf4cd19fa526f39bcc1ab2",
            "f9bab79eb597442bad6ee5d81f5cc609",
            "13a27edf5ecc4577b86d35d8b26e590a",
            "cda1f9fcdb99411ba8b1584f35d3e321",
            "d3bf04fd13284f019a24579d2d602810",
            "e552b3650713492eadf2437122443084",
            "e90af22bbea941e789a1237897b77725",
            "e5272b2b193e410fa9ec6bb25043271c",
            "a77ef4e9af46420686d55212c734ec26",
            "e3b228ebf8324ababac4aacd319d7539",
            "93498f3e177a4e28ae54d0eaaf0456bf",
            "e116c88ec4f24418bc426872ca5b6afa",
            "fe9c48326a904ae8b4816d297eb1affd",
            "a31092ee01874629abbdf3339433bf7c",
            "610d1ab1d8424a49926abab09bbe6c5c",
            "760f068ce1df4192a11b783048c9f769",
            "34758851384247dea8375e021b66c6e8",
            "84d09a8a81304349b7e52fd99a417b1f",
            "4885e53745e1419a9f14161cd2979714",
            "5dcab7152c7542e39ae67f67ace3591e",
            "079e26b6cd6341f7a2c0e15c156e2857",
            "04b7e1bf38a948f3a44871ab3176ca78",
            "faac07a92f484055ac2b3fbfb9189662",
            "a8c23a7c937245278a84b5e0eabc8359",
            "25753485cf0044a59d80475461de8adf",
            "a30fb46306f646509466f86931376f72",
            "412a042fdade470ab0d381dffd6428c3",
            "4ded47aeab9e4f34b612fcb464a36e67",
            "d36584f6a59d455b99a1a96c3857f416",
            "db32a1cad5184d449682022825c6afde",
            "121b5fcc8baf43f098485cdfbe738c63",
            "3aee193a85e44d0eab79978da7ae78eb",
            "e7fde5a38c6149f7b11ce217712bcf2b",
            "4b52acde8d9c4aa7b18a6a933e23d6a6",
            "0ab2aca1a3ea4a84a9fc7d188defad88",
            "b0396bd2ff0a4229854db4d143f949b2",
            "4cd50788d8364af496c4324e87ad6dcc",
            "3dd622686a3740fc9d264e361a9f708e",
            "941520a1fa6f4610a5d0e8f3c9a1e065",
            "172cc576ce2b432dbabb504a3f89d973",
            "f85af2af9fb4461d9d1c088b27df490a",
            "c59a1cba8e7f49bb817387b6f464bc1b",
            "f8f6e07919534f78911617940e551576",
            "8139976eb242412ca5e4b8313bb4d159",
            "f7a8ec541fc84b71b2220829bbacd657",
            "621686c2540a4c5381fe7847909d4b5e",
            "ff1a339ea808448db73e5af256c32381",
            "025630f2c3ac49dda220f48fb1509e94",
            "1fa5e1d5039e41f79f7b5e3f3eb02cf9",
            "2bf40eea9c2a41a5a170875fd3be48cc",
            "1a17b1ade4854d4b94ad301dc9ae59bf",
            "abfd61d04f014078b91975802028f38c",
            "8879c5c43ab647f8821e3cb130482d1d",
            "53333c62a042400a833ee456cab43cf4",
            "2f62633857a94255af0f478999f01cb7",
            "f1b2d7c282654a339d0a5b49aa7be376",
            "0ba88949a0dc496fb01cea013dd5e9f5",
            "146dc65afd854d18995ef427deabdf74",
            "97067677f0aa4e22ad16f53ddd746a3c",
            "7907bd167333421486ff3a79bcf4b22f",
            "3b3d3f6ef39c4be1aef7d9c0fc86b666",
            "d7bdc32ee04048309fe595dc79f93791",
            "93b931c8205b4097939c77fdcd3d33b9",
            "a431a44b76fb4c0b87d4e54d277a770b",
            "027204ce03924043b6a24b05853f8b29",
            "ba0f94d892584695923a5fcee42e082f",
            "cad6a689d76a43b19d4d89dd6697dd34",
            "2365067d5d644e4fb2a15f2f5f20518c",
            "daeb460a798c439faac8189d39c9dc49",
            "72db38e9af384bcd96d1ba2781525a7e",
            "009f17c8653c44beae15f805df45165a",
            "2996f75a5ad74e4398f0bf840ce9a8f2",
            "9bfbb59e576b4c71a5f8cbdb858dece9",
            "d1d65827277b46cfb9c8b3aec45f44ab",
            "716eeb5f6a534313b2444627dd76036a",
            "c820b27cfda6433eae3067111e70d36d",
            "8ef5d77ca548482fa747f1a91806c850",
            "27a2ff85d50942d3843753de65073107",
            "92c6f1781d8e45fe8aa7bcec949d5298",
            "ae3c6b82ec6d4036855eca2396b68862",
            "1b72375b5a934d72b5386c264a34f377",
            "85b992f373d542d1a7f37bc39e9004b0",
            "2d9ea70c06824e079fa247400b320fa5",
            "f0783822d3b94f1a8063135df3b9d997",
            "4b75eadb895140afb82ef86c5669237b",
            "f4284af233da400f94abc4e9a72e6f77",
            "244e74ee5b854ea6ba52c091b7a76754",
            "5aed47d429cf478797dd35e4b74ca77f",
            "bb62e2bdb0ab47249007df95e06c13fd",
            "960710117e1b44ebb817b680b8697ba1",
            "bcceea0e0b604e0bb4f5338409186016",
            "3c11c9ae9a044be4b793858fd82fc11f",
            "501c915d72a34c27bb6ddcdc63aa007f",
            "9b716f21b28241ee8143fe7501f9ccb0",
            "2aefaa30913448239e34e1d89b3aa8fe",
            "6255e8ad7f214fb785f7cebd38f6c300",
            "013b42bb8c2742bdabb46ba8bc69e4c6",
            "29c995642ffd4fdfb7afcd93860b9d62",
            "ac0195c0562b4877ba487266ffd7f788",
            "e79e28ea1b8f45cbbe270f9f9b5e19fa",
            "6408db7009be47f7a4c7444226391247",
            "25d4b3fdaac343288c922486766bb7ea",
            "c569b3815e7c488499c40e0622c3ed4a",
            "f1704832037c4912adda24e22d0a2ffa",
            "9370c6d2ba884c6b828d9a40fda5d731",
            "8b17ed7f99b64f4ab26e31f02c9397c3",
            "eb693c2f2e974ef98029977dc8c70ae6",
            "7478f27ce5d84ca7a244cc12aa0fb0a5",
            "2ce6ee60be0a4a33a076c17c093ed60d",
            "eb5c3998726c4e3ebab2d5eda946d1ff",
            "1b7fa78faa2b4a8781cdc7bad4892628",
            "80ddf0b8ff0242a0a89b20cc66d12db6",
            "244f38dc76ae4e2a9dddc7d97322a19e",
            "a9d6bebfe286451d90840697134d4570",
            "eca2efc878c24613860a705118d36d82",
            "c8d1f7a0ad704a67bf3c1e28eceafc6f",
            "8fa6898f302548d8bc9bdce158f66859",
            "c7107da899e84ddebe918cf9daf9b29f",
            "51c3d413e89b4e39b819e01582c3fe50",
            "ca89d0f913a5449e90520e7edddd6628",
            "5a565c06555a4856be1b1d82fec8f59b",
            "ab9e9de59fa6414293a943d848107a9a",
            "cb2e2fb89a5e46328e0b4ad992e3fb70",
            "2a8aa15a21524c009861ed449fec861d",
            "a89a2a37003348158d7307586879505b",
            "cc30fec4a1e747b494d0aa4257368de2",
            "fbf08813c1964583a6c58fb4ed441192",
            "4087de9aa6a144a78a5c0eacd58dc3b9",
            "77af2f57de44413293445760da3f9585",
            "f9c58dfd58ec41a4863607ebc2dbf88e",
            "1f6919af8f294fe39401aa3e4d2d88b6",
            "952bb858e9824d7b93042c3a013ece15",
            "b70463aca1414176943804b03cf19f95",
            "8c6edf5431ee407c915cdcfad132615c",
            "c841f10d979c43d296d3495312d50252",
            "a153a8e6bd714905b03bc8aa8826f20b",
            "97473d8d77b84510bf611d62388559fb",
            "94279a825b7d4e72a82ec370c3166b10",
            "1a4e1abe942e4e1fac58954181571836",
            "7410d49af7f94672ba8e1ae26caadef9",
            "715de2a9eb2445cf9cf8803683d8721d",
            "c1dfafa2aced45df8a29fd4d29cb5873",
            "0bdb900f516740e39677ecd0674b3eea",
            "86c318a762f7437e86ca9585befa370d",
            "03fd21f11b06451d8f5ddbd9690dfe68",
            "9013d72623c84fca97c7c8e6dd88809a",
            "afbb17c0b78d4358895ccba2d2790718",
            "4a09c1c0ee9d4189b0f30ce10d0ebb0f",
            "5e267b229f1342419219003eb2c4f3b8",
            "36ed007a246b4f21a892a4d20c260d6c",
            "852c60dab4a449c8b0071e61ea5bbf70",
            "387b74d671b747ddb20be8ec4e39f023",
            "c42e86ed3e0348e68c03028327c7e204",
            "7f2f359aefdb4fa8904fdc8bd3d9e299",
            "51c36d1cf5b24a4cbd2c3e96159936f3",
            "76b7c7664b9b4ff4b2cbff79a8daf648",
            "659ffffbb6ba4f78ab592c5e0390caea",
            "cfc22bddde0c424a99ebc550da53619d",
            "e45b7e27612c436e9ba7aafe575121df",
            "f520b1a1e3c54529b2a0a785f7e2d9df",
            "8a143fedcbc9451e98a858f31a327b19",
            "9d4693f3f1494d6abac591623a6d1e5f",
            "26979c1f702546fca0552e56e34d8a86",
            "9232d5a93818436daa5a003d00e8c146",
            "ca57df9c4f1248a4a2fdb0bd29693792",
            "550a461936094c9b9a2604a474e32cef",
            "dc159a56f2564b03bb6bd72e7a7af120",
            "ddb732d01fa74e51a4e3911d8a508636",
            "39be340bb8194bde8d9c2beea45a3c1c",
            "36c9150ea70c47528f8fc370366cde8d",
            "c69a3c98521b4f828283cf5d37f46540",
            "5b02faeb75c24c9eaa2b442f18bccc40",
            "7d2af7d5b91d4f639850822d3a24bf2b",
            "b504a629231f4ba1b693d6fa0dda8f11",
            "0c12ec1cd3ff452aa9abfe66a895afe2",
            "2ee66dd634b74a4f9884194381c1efa6",
            "0600fc78d7804f908df0bf4caeaf4ffb",
            "ef3dc607953141c8bc6f65fb5ccd92fc",
            "6e4bf7f5face48ba93c60c04128f702f",
            "9a4936f8586f4bb096fd50297b7d6025",
            "aaebfd0253e54d1cb0334b6c4357e386",
            "fae2bf5cb00e4dffb9add07fe3b78a94",
            "c7b3f9c10c024899b2bb220bc20df9c2",
            "0bd95f74ab4641bc8b01a1f52a98226c",
            "1b9d0ec354c84170b9987e3c17474222",
            "c3e8d90450be4f5a864ad21912eb132b",
            "8a89aa73885e43368bce15bc9bf69ee2",
            "3a46b306256d4df78bb226db7dece4aa",
            "3e190c5ff3a54ce28ae65ab78fe9f930",
            "0fd526ac71e24143a7bad183bed7da6d",
            "42720aebd73741989375fac30214de39",
            "9d8b39ca3dca4d4785c49fd10b6935f0",
            "8bd62d9cf9d844919688bb6760f793e7",
            "be9df00030da46318d28c6d6d3d46301",
            "83f11ffcc5f4468988187af2f1d1d33d",
            "f3de85e42a984d1fae6b125a9990c137",
            "e03821d2fa2849519fe38a69f107347c",
            "f0ae509e96cb450eadae2f7852e1d0f6",
            "ea6ce7a1d4044d8c90f84c978726b86c",
            "6b9bc2caf39c4b448331025751f31a38",
            "2876fff1953949e4b8109918ba0aeb17",
            "21aaff0d29c549d1a956817e59168470",
            "6a2b44ed504e4eab84111003c3594694",
            "dcb705a44a07430eb290e6bc24f7de15",
            "9e6aa292de3f4fd4b6e51664343e9740",
            "3b0a56df1b0c4e6cae5ea4fe5037222c",
            "5219ab7bf3854940be706c55147fa938",
            "53b37d6076194c91b1f5a27a712e4c84",
            "9de54ae5bb564484b042dd98a7dfaba6",
            "06361f95509749bca12b8a948e339d91",
            "96e15220e18a426892ad7b7edfdd32cc",
            "da71a71d978d45e59e1c432ee5b9ccc5",
            "7698f9af625d47a4bf2ce8e3e458bf7e",
            "163b3bae79cd46e99e423e03f562b9be",
            "74d34010e30e4501b693f2fe58bf7c40",
            "50655f430b4e410aba7a0b6dbacc03f4",
            "bb164d53f094414faabf4fd4f3be5511",
            "05e92a2f77544fcaa9f515be5eef0294",
            "553e02c9712b4acba97749109b765c01",
            "75f7f7f1269041bb95ce32c3d6972e1f",
            "e13387990b6d493293ad30281e550c0d",
            "4eb05c112d6e432fa15a1b47479193a5",
            "2b5bd4a1d21049a8b800953ac001bad3",
            "808a4f016f314e389db49a532284e93b",
            "6162dbdfcd114097b75dee39c5ae058c",
            "2c87e37f6f4440b0a3c82f06e4822ced",
            "ae89c42f31b34c2d85ea130e7a744681",
            "0bfaf252967747869226de206c0dab08",
            "bfcd31d5b9c048f0af4ab70be9cf0173",
            "f42186b1b2f74843acbe5ba27387d6e5",
            "ad01366fad92454b89bd84009f554768",
            "5c64344c61354efd8c1ca228dee208c9",
            "2ae628980f6448d8acfbcf4b3c6c593c",
            "14c7cab9416a4359ad148990bf11c774",
            "623cd209e71d479288c9b50189036fe8",
            "f4740e09efda42aaacbb8618711777ea",
            "6a2e585ae5714a2e8315609276989d78",
            "049444e80c1d4f639912402d97663ae6",
            "2eb39c25f93b4c63bdcc152aebb8fd9a",
            "053df0e877344fc291a9a048b7195b75",
            "a4c24895908347e49cf5784b301532e2",
            "233e7cd151234828a11508e9ede2741a",
            "e647d3e1dc7149ef820d7bfa745e3918",
            "f814198226904a13bdeb9cf9afe58f5c",
            "29e60fe9dfa943319d03f6175a2c2f84",
            "abe252a1a2d24087a598deb5b10c1424",
            "ad3ebd9c57f346d290d2e62b8a5e302d",
            "f686cb92d78f418b8afebb91091f324c",
            "6384d2492d6449c19bf2c8520cc65ff6",
            "714cc4d6bb30420b80a19e4269a6ae5f",
            "449ac0cb8d97437c86296cfbb2bed7e4",
            "a25c3737ce1e4915a3883e38015835c1",
            "5fce1f2c352340b984179fa788e764a8",
            "1fdf7fb571a648549d3083456ff5fd3b",
            "ed8b8e04bb33481cab0d8394a54884d8",
            "a9e99657c5a748b2a6bd3f619334d866",
            "d48e8d6c38f1484fb3700df7c7f1fbd7",
            "a85984f751e14065992875761be3d95f",
            "bfc8b2ef0cf342c983510341e3a2ca88",
            "d82e03900ca64c709bf5e8b018420f10",
            "8bb6bac625cd4c99be4ebfd7d9ec3564",
            "ea232bef43074fae88e6fedaf6dd2a12",
            "fe54db6684504c8c8ccdada9f578ff07",
            "16e9fc1006c741a0b147c731a83deab3",
            "4b7e3e2bf6394d5daaa81d279b0f11b0",
            "7354f543f9e9429b9bcb610077003ddc",
            "90593c96e0254d2ebc8feff14f329575",
            "caf610acd2b7442b90bb5ea8d3be4aa7",
            "d6da8af9508642f1b72f987197e7daf0",
            "0ccda16a4bf64f2c91277d1e7f515d08",
            "d3d24920e0d642098b3c8e5f2d9b7485",
            "78069bdf4b964ca3aac49f9edf50a8e1",
            "527571c4f099466cbcc3a5fe5730a53b",
            "527b32902f5e4cfb90e8c1e87e2b9c40",
            "7a14d0fdf34444969158bf76337c6b83",
            "ccafd36d8abe40b4b18aac25165ae699",
            "218fc09b171744e8a58db528781144a4",
            "cdd5f5db5dcf491c80332a511bad2b03",
            "a26f6335ebee4c56af9945dfff431aec",
            "34e55e07176a47b3b226b40c11a3eec3",
            "105c085279fd42edb5ea76ccf024197c",
            "ae4b65d15dfb4977980a29d969a7cca5",
            "db164bc48eaf420c897cb083a42dca5a",
            "7334e6448d5b46068c915f024358089e",
            "353965dcc8464bf1ae10bfc8127bff28",
            "71218d71d73d41819b75b9824fa2b58e",
            "cc3c1cc86a8641a287a6742e047ff3c1",
            "95bb7af415b942c3b6214eca135a6fd6",
            "fd3a0849bdd343928e4e9a23606add40",
            "b3a05c40c4b4479ca0d5881bb5292cfe",
            "04afd390f40140ebbb40061590d33dad",
            "e25cde9e68264bc491c57da27d34d6d0",
            "5d31e01e2f644b4ca1caa157d428aad7",
            "43424dd2a9f44f1c9066912d7f088878",
            "508594777b954a32be8ddec4643cb971",
            "13c23e37208940b196b126af4be72831",
            "fd4718bf4310485b9f9fb8087a466e37",
            "e4016647263f4657af91650548634db6",
            "a7e95836f9344f42b216326f6da691a4",
            "c68d18efeba84227a45572e9d1e0adde",
            "0fcf353fba9b49ada4d614bf0037a358",
            "8b41bd9d2c0f42a2994e4afca4369466",
            "e8ef4cf08ffc406e979f427a62cfa29a",
            "cb725dd258524884a78b0b5245c70bda",
            "ea6f8cb930f24c1186e50b7c95708e0f",
            "4cd04b9c637a4a239e40ced9edf41d74",
            "4d975fede5864b5c81552c0b729671f6",
            "411c774e531549ab9b870777bcd73f65",
            "4c1732ca792f4d15b1c9a2e06720f069",
            "88ae6ab86af342f6802f541f45be2e32",
            "8f0389e66c084e7b90a8ba615c0e6eea",
            "332c31c231d8487f9c9a98e4f3ecba1f",
            "82c2143fcd674dfbadc4046c36d9d8cc",
            "5af44667252547fc803a80020524b08d",
            "0e5ed5388af740458dbfb2d578a46f2e",
            "52fc96bd369f4b9b8264fed86035153f",
            "eb9d2c347941444583b9f7706da5e225",
            "40a81cd745804b98bdba97c0b7b6f054",
            "031414654bb54b218bb8a9ec7b4b8a6a",
            "fb33b192e7294b00acf0db2dfd2018ec",
            "cf31f9c8720a417485907903eafd34cf",
            "e51e336c8e204c21b432d44988a95b98",
            "1e7ca9a0be3540a39c171f25f377aabd",
            "a510ebc9949e4fbaa35c19cc72a51a12",
            "b54d593f35bb4ef9a37758333c6f7169",
            "855742b4f88844e1a4caf6f75d956655",
            "360436e51a0a42dea497d86770906b0f",
            "06ccc6310f434de3bef5f6ecfcb25750",
            "76712474d1464485a604172349092c2b",
            "80e627dcf79b4ad2bf92898e456ed0f1",
            "9f38faba38bf4762b6d234a6dd19a326",
            "dff4c6ad81cf45e1a98486332c461e8c",
            "d55cffd8590a496e8ec88ea80d7d731d",
            "03080d849d1a4c67a946fc1b6f8275cd",
            "2f75ee5cb96d4823b6b2f5e48d8d8012",
            "c01ac9888b1f484ebd3d9c04be0ff3e5",
            "4b3cfa3196e748589398f2595a39133a",
            "7e8902db23e14729aac418a64dd0725a",
            "71c346b9845f44febe1de0476f971514",
            "ed571ce6cbdd411082f29102130d70a9",
            "4ce3e89279cd45a6ab1b97522ef89fd7",
            "d2b1980217344f1b91397de4e04767e5",
            "6f077be010b1464ead7aa6ed03b15f89",
            "867aaddc4c444dd2a254ecd768e94d77",
            "eae770dad45e47ddbcf2577f0c8f701c",
            "f74078ed73f14b4f8263a8aa5ee4355d",
            "6b052d5017144a68b10758003bf0c20b",
            "653c1039030042d88885bd5ad022f234",
            "9e764977d1564308a094a15e5f69a55a",
            "acb0facc010946cb9d5da6579862b04b",
            "7a2f6012805d4850bd2fe3ddbfac1deb",
            "d49305bd97154ca3b5db6b5de7b5e384",
            "bc6e6696f31e4aabb99abe7ef1085168",
            "32e1bb183a0d44959c3e4d63e6fda573",
            "d36594ca03cd45128bf7f9d4ff966a5f",
            "0986019967974b47839cbf7b2be6bfde",
            "7596cdab4989452e9e460c582c0dba9b",
            "9e646b0653164a7b83784f61df317765",
            "2d8b224d363a423aab475d89878ea455",
            "8c5fdd9fb69e48439dc929c74f64c38d",
            "8ae8189059e14957990a1edb2919c8f0",
            "140fcad1860e43d2a871c99ce97b4f99",
            "219d0fd52e454af49db562ca2214471b",
            "1d9ba0f79ed24ac783b90c0c7667e61e",
            "ca966495170a4c4aa9fb9c1e687aee00",
            "f8388c0616a749c3b8e17e44d209af0e",
            "144169bca00749ff9e82039d6b41072f",
            "4d6e3a0fb87048f3a66d6218262a77ba",
            "7613571cdbb64b63934a67c8ce155940",
            "14297019ff614950bde98c7222bdec50",
            "09e768b68c6f48c396d59713e2e8d1e8",
            "17c3c2f2efd44576b0188e5ec58f6616",
            "325ab55553904512a4634f8d193d6901",
            "33113417838c44718979e04d2ceb0c76",
            "01fab30d734b4ea198690e966e6fdeba",
            "b00df54c32364121bb0f22961a25e6f4",
            "dc9dc37318b645ffbfd13bcdce4e8940",
            "c3acbeb441c643d98bca8a7222db8992",
            "49ec28b376ad427f8139571293bb5a09",
            "d43d447c3b7b4397b2cd4925afd5a24c",
            "9db07724fd254caa98ecf0064b3d5029",
            "0e35751f189a4192b6bc058374fb5bb9",
            "130515d9164940a984f2a8e80c0dc99d",
            "d99f3a3e0efb459cb93262937cd134c3",
            "755327d219f44ed3b4539cd63157cab4",
            "f5b5ce9a4bb546458c7db40ccf1cfc99",
            "bf4da88fc018464292cf6507b23693b4",
            "23919e3cdd7046dcb5db361f1f852548",
            "920f07119bc140c6be6e3759c8e4ef3e",
            "57c166849f4d41e9bd360dc3da24907b",
            "a493783756dd42eab7212677b2e0b676",
            "b77919dcfaa24b7ea92c5e9a32efd8df",
            "02f673d53d6c4bc992e285c7c9449ac6",
            "2cded747a47341ad896c9420afe8b1e6",
            "d3dd3c5a14384707a53656b32514537f",
            "1d5a3c8a9a2d4f828cc15cb80d1f582e",
            "196feb49d32c4eafbd64bcbac5d092e4",
            "ac0482e9ada2403989579396a8777d76",
            "59c67904d0294f8181cf4fa6c88c300a",
            "79aa539779dd498d8a0963e1c4beea8a",
            "dcb339e68fff477e9907dc7b5c100bac",
            "d065e1f3668b43eabf9917da45321e39",
            "92e1054262454ed38decc3b7594a58ea",
            "aaaf198a5e814e62bd6d588172092a1c",
            "a71a6e8b11ee41bb9c984e2e291bed0b",
            "e33c365e3e694e488756725259888805",
            "a7a88248404b42c8858cefadde7553e2",
            "c49ba51d36aa4fb8828b4ca03a5ab587",
            "10fc023e62ce4147bf801f380023f488",
            "05b34ac7e775483681889f4cbece8d2e",
            "b1268e93feae423091edce51145c5eea",
            "424683fdcf9f4b48a14f02ecad2d9c69",
            "9927d3fea3264fe99a806c0aeca587d4",
            "0d265c54815449b1b6b0ede7d2747166",
            "6d16e0cc6d3d47c58b360a9cd28f54a7",
            "4b465cfafe764d0bb4778d454a182637",
            "409d133d7fd14511b0f9ffb0440eb802",
            "1fef154f80a6433496c1d418070bd47a",
            "5d16d4cb90c240ce9c813b2ddf065d18",
            "8b941526ff4c418182d558fe6758f9b5",
            "50055140011f498eba8638900495faeb",
            "3591ebea42814883a754142554eb81a4",
            "1b485d9a67774a79964df7998ef8c99c",
            "24e44a6c5af9435a85bee2709949d3f0",
            "077445b19c7a4375afa699e147ec095d",
            "7d43f784d06f48689a179d9a5dbce6a3",
            "3889a286048c46f18551fb5053592ab2",
            "6a6c0bfe926b4e7fbb154868a58a93dc",
            "10e43ed6ed99441186039677be177207",
            "2fa499cee82c47519514c785d8b30840",
            "b8b407a12e6a48ec80568e5d8e3d03ac",
            "f9393aad589f4d6f915bde40f5c5d3e1",
            "0bab1f267f724c2cb5ff51c78efe0e23",
            "d7ba68ee4f70480fa59a22e3db9d23fb",
            "58cbc7f16c21443fae8aaafdcab2c7c5",
            "89f3bc2313d64d5da489b8b02b47ba22",
            "6e29788d518a425c9bc5cff2dffb8771",
            "c64c365431fa40a08e6cb40695eaeed1",
            "ff5f46e956ef40a8a77d764235dbc4f4",
            "62dc9665540c41678403e983f2b33b27",
            "2afc32ccf9d64486b2e203fa3220cab6",
            "0f161e2adbbc4cdfba8fb33892f56237",
            "2a8a22e3f6964e7b869ebf954d102950",
            "c0a630de465945c5b6aaed1355ef22f4",
            "7a08db4059714af199bbd8c9b2e35fe5",
            "b40a3d1e8fd147ecb4b05e0764c71101",
            "a76e65545f5e4a718cf81694fa4ffafc",
            "9b5c6fd1426049d8ab9055838e0f2cfa",
            "1686bb9dced24fb098dd38f9c21ea1d2",
            "68ac6ed1c4314e9c839e62e21e40892b",
            "b064a2bce94d42759bdc0b14019566be",
            "566bc1f6688e473d8fa29cf7daef699e",
            "e94eda1173ec4e49b54023229a6df7c3",
            "537fce554eb34d35a7b098df520a4d19",
            "aa3ce4d05dac47d6974bb1246052bdf3",
            "2a8f1c3962534ff0a645904d04dbf571",
            "0161f1dd31f04ecfa5d501f5705056f2",
            "873f591349934691b36d4a83796cd42d",
            "afc15e67e95a41d7866bd677f54fdd6d",
            "87848bcb85de40e18ffb78da1566c3ee",
            "9b1c01baed00436881226665affb8a1a",
            "8f8aabcc5f81439888aa1d55f4216fe8",
            "aae43ae0c5ef4ec6816ef765456debc6",
            "38ae1d6d78814579aa8d425e0b9f2092",
            "a48ea5b830204ab29aadf4954fb76eac",
            "bc717d103a384c268b1ee1c709e0ab3c",
            "c5812f60b15c4f82b895abd85c3db20e",
            "f935b5813dbe4998a72eb2eb5bb804e0",
            "cecd83e6ce554411b4f793152b37afef",
            "0042152016d44318ac1e554bbd2ea2b6",
            "419eb31180ce4e83888b2527d1f59b23",
            "93f9ce82463c42009ea29c5b0b1cb002",
            "c141cfb32144483f9d74338fccfa72cf",
            "54d076c502a0404ba09727d815e9f6ca",
            "5485fe6c0cbf4e2b94046d6d5121a9ed",
            "12244784efa44845adc5ca40bc2d8167",
            "6b17cdf8a9b141d79e92bb695566b294",
            "62f7908e67b94bf6987a9086ee247c8c",
            "2adfe5c90f5c4b20a8505a60c69a847c",
            "1688c99829084469b75c0b4eb9a95cb9",
            "6f8d17add9b94249aa4bf5d084c04084",
            "fd2d4c2341414069a14cc382a7307eaa",
            "97dacb72c7d545d9a4127669ce172cff",
            "bfad7960d6224e808c978623af8c40a5",
            "167c160fde7d43f484d911157b3922ec",
            "a46112bad09a476f8245c4f746968634",
            "1eeaf119fb8f4e46a87d6b1118b82108",
            "4c87a783b1a0482989bd3ad885d30633",
            "a54806a6e8634e7b8c78c37634f16756",
            "29845cf64de04f55922ed888cfc2248e",
            "99fef8805fac49f78a5398009546b29c",
            "07700b7238c34877ba2a8164666298cf",
            "256b668305e74165bacd4d054decda2f",
            "2d51749050f147c7a7b0fa523725042e",
            "7bebd6b11bb64ae799d72e9e8e6b3e55",
            "e958740d50a641b7ade9c024e5ccc3ee",
            "14c3ad752ff14a1ca9dccb7d3845d49c",
            "107930aca09f4ddfa2508b618b8a5c51",
            "88dc966191e6427497e713d107322ddc",
            "811880079728436cb219fe0acc37aacb",
            "3e45a41b663a4d0389a7c09f1b2cf256",
            "0c6521edc6694773a08c90c8acfd5bca",
            "cab027e27a9041d8bdf954c33132b8f8",
            "ef4e72cb4fca4b23a41c448dbd1dd765",
            "878a9c03d6cc45e79c23561f1fbefeff",
            "30cced234f554062aa3885dffb337a28",
            "485f74d0d406480da674bf8ff5a719bb",
            "d2d76907dccc48739075883119ea9d6e",
            "e61c48d31cb44b7f8916893c9ce5b78c",
            "73a9d388de2348b0aa85821bc0616274",
            "0cf12f70192645bc8f640803ab63e179",
            "5beb27d794ab49eebcc1e1207be1d1b6",
            "f8f975b5ddf746f698a559ba49a9d631",
            "3d2c1eda628e4d74917865d4c409de48",
            "094bb93a58aa41b9a56ea16174e07855",
            "685d18d1761e49f08203327ed69de2a1",
            "df710982ad234d87899f2be91fb95e6d",
            "1cb72998c3c64ea2b56d121dd5e25ce7",
            "6ded9ebc181f4cb5819ead4df671f4bc",
            "aa68f544f4314a11bad69f5aeed14e6f",
            "8903bc9f60394301ab570a46d4e165d1",
            "1dc82a0c476041898e9fa7ad217948df",
            "7a0f28010251412c8285f21e4e41dfbb",
            "b7deb9c38bb84aefbecdc424dfcda09b",
            "168ced6679a34ba0b6f6d284ca86ac6e",
            "0d2b6646c4204a1c8ef0f416576b393c",
            "399c3956e6864a65b443db5dc3296ce6",
            "267fa15ebf6d4e5a8a0019812162ef25",
            "66e27a229dcf42a39ada211fc116e92a",
            "a6293ffbe7714cef9a43296fdb90506d",
            "0f302981585e432ab1b2a112b8b510a6",
            "9160faa5a2714f1a991e1eb53425bcbf",
            "a735ce648fee4ea68ae5394594a1eae2",
            "ec191504306f42028270a1ded8e75df5",
            "364aa49f54eb46aab0f9fe77b17d1fdf",
            "dd9fc16385914e0b9b8911b9de6e3bde",
            "0d3bdc34fea24650b5d89e2392cafc26",
            "13c81d79e7244318a0019e2310326033",
            "f600d25a51ea4b4b8b3a45255a8de9b8",
            "c5dbf9453b3348ff961fb863abf2dcff",
            "dc38da83a1e644df95422b7cf14adc44",
            "0507cd851871487a8b9fa66b36c55d45",
            "2421e03f0d1c492ebf60349440b26067",
            "ffaade0317904dcb9a7d3b2ac0bce472",
            "193ab125cd754ad09f6e80774db19c05",
            "fe50dea250b546df84374a7e49b965e4",
            "a6f231926bbc40e0b66c15697282c421",
            "dc998885e9d142aa82a1d1c09196bcc9",
            "09f46541984243b8a86f2902569d8a22",
            "f7e05087fed9491d821ed9733a7b5aeb",
            "66a5ab1471d94eda8d0a3cc370874b20",
            "8e9c52fabcd141658b21b6cafb28e104",
            "f830b7ac554c4dabbbd0d6e5a16eb19c",
            "abb38f148f5244a68294f93509cb9312",
            "5885fe4919c544b397bdf043f4ff19f1",
            "438011ba119040b2986e66eef77b558f",
            "faebf39445e14a3abba332fbf72710a3",
            "a9aff33aabc54a8c8d3d8a78bd41d529",
            "f5544057aea1466a8d57d1f6395421d7",
            "a1c67233560d4817939c268dfa54cc17",
            "172b581d808c4a6fa5cf613c14bbf38a",
            "46ca94bb20cc4ad2bcc905eaf67b62f3",
            "9c6709dac8564a9ab96b231a314e3750",
            "94b1bc4d91834d70b51cd1c442929c41",
            "bd46b83bf6f742c5ac14dd1478ae8f5f",
            "38208f3867e0454fa846db05c6e70026",
            "68ee5fce444d49129542f55c77db4dc3",
            "30f73a342f594988953adbad5971e297",
            "a5eab52c23e74549b94366a3f906a963",
            "2842f7005dae4d77b9e1d36fc8dc1b3a",
            "530153a2463c476ea7316c616b7935b4",
            "b06aba3e260c41bb9d2140dc0122aff6",
            "f392f06a09f346c6974ff9cb71cc5867",
            "f03eb861aadf4ea7b08ed4b3e41a1d20",
            "7ab95f3cc6a14a99aa86097bba4e0765",
            "55d1d8a372b9494bb72a668d455b13d5",
            "240c8965f0f8453dbd4c7176fa5f579a",
            "7f1d5c1243d947abbfd410ed796422bb",
            "d8379079ada649abb2b6c9692453625c",
            "88cf2141520e4fbba332f1250b0de744",
            "146a36700abb4ef48231f0d2697d6110",
            "b34730c852f14b19adc9743eb4ab4fb4",
            "66dbad70b5504e7985646634b143caad",
            "02552d1c4b844d0fb11ca76638e5a02b",
            "0d487dce76ee4aaaa6e0f4441a78f5df",
            "089873d01edb455c945ac7ce659e2312",
            "50157b70d3fd483db58e89d0fc4449c1",
            "fbe94f8137b1466aa23661de99c08fa2",
            "74f50dcfb6c64571b767728da1b95444",
            "0c51c8d7d7c64258975f75321f746af6",
            "6d1d293ef5fc499490321ce436e1bea7",
            "9133662274634f9a94ea686a4d78c55c",
            "d8054d9aad414b0584000afb4d233a34",
            "20fd281ca4334768882a42c6ce01463c",
            "f99cccd5839e4a16806d6788e7d3f6ec",
            "f769b201e9ac4b5d8be8c6375699994b",
            "b931bfa069484e77af45726b2a9f2313",
            "0e88d61770124206a61f6a7b24d920ce",
            "14ac80e82ca84f6f90f935a721d087e1",
            "a4b98380317e42d383c2dc17ac59518a",
            "f063be7c973f42be90ea21cc2cf0532e",
            "2aa0b75595794687a5191bec9f51b198",
            "2bd8ab3f7d2e44a8b93bbbb760dc2a30",
            "ec7bcd5cd5474d6980e5cd3915e329cf",
            "3f665240138142a78e8bb1a638bb4e1a",
            "2bb92e151ff14bb6bb6983407d61f394",
            "79698b1338644a748fd4e4d941c84ae7",
            "5b6ece8f54034f3d86c332b4d4219c84",
            "774caf1bedd64bb6a16c4e34854ae808",
            "c58e0c770e5c4c3684c2fe8d05bbc441",
            "edf114b2e65340ee913f89dc16744e0b",
            "a499885af30547209879b7fba8af5cbd",
            "a5608e40dc1e41278e893d1d2981d2c5",
            "736ff17b2d88426f8300b7a649f26d69",
            "725d548aa73849f0938c622700ce480d",
            "48c3f2852249404fb96cdb0d3caccbd4",
            "b01058a551194cdfb12bf477dc0cf56b",
            "ac962abe95c949e09090cac1b7ceb0e1",
            "afee62bd459f42d093999893bc39d85b",
            "9c2766b680944c9fb8cfec5a15fde511",
            "bffc80f2460d49a08804ec404c9d1a8b",
            "8f5956d1405545bcbecb3473833ba713",
            "e2eac30ab9544149aa5fe736acc262e1",
            "ae597707b5cc4072b81e08b5b13eb80c",
            "57b6b069589f4c548c8e39696d316b31",
            "846651823d344becaa5faf5250e3e04d",
            "837cc4578ca9430bbd51caeb6afaa1d5",
            "8cd03343bb5b427bbaedc695a42ab32b",
            "dcefe96b45cd448b9a27a7378039ad63",
            "4088949eaf874108a9683314ece7f643",
            "943dff1ae2ec4feea73068a7a30b5abd",
            "c2bd02f9d9a84a569c0c5c3ed86926c9",
            "4a5630006a6b4a88a7cf1f437eec44e3",
            "985a5cf096d14a95bc71534749c34265",
            "95aed310d1b648a38f7b1b816b469cec",
            "aa28969f21504c36b1088a1584e668a3",
            "50b81a926f5c466d936b20f8c9fbbb93",
            "412d0be3f8e84b02aa02b28b4305ff01",
            "0f601b024d7e40659836f5fcdce8a031",
            "702d73d9494f4d54915107ffd7398a8a",
            "755e2cb6f3c046f58071f7dfb2526245",
            "8d1d899202ad4889bcc368270183c523",
            "8e0a3213a8ee405588ff92a1cb1b82c2",
            "13dbba6433ce498b9b46b1badaf9e85a",
            "5ed146af08ae424a97009ad91c60944f",
            "c561ed09b4c54b79859fe75a0728aaf5",
            "4068ccb808054148bef5a3a2faa0665c",
            "ad3faa4502b34b59b441a2d3317dc5db",
            "abd7383527e742a798e04243fc28f603",
            "099e68c6595a4ed3b0f6a9d93190c737",
            "d3544b2edb8744a197c23b522c57ff5b",
            "2224a282fc4a4112b5787fbf671fcd9c",
            "d136858cfde4410f8e9d385f60130ffe",
            "c1709b1802fc467eb7661beb8f9ad89a",
            "99f69f9ba1f24af297960a4f02d237b4",
            "5b763eddbc9446dab67df8a81362cc1f",
            "8a75b8c6456d4eb6bc2b38ff4dcbf411",
            "c6dcd8bc5aac4d0d9a8e405e182646a7",
            "a3ca4acdd48747aebfceb6e94e26c38f",
            "07d7d5144b1c40a9bab1cbf30d814583",
            "88b2c7a28d7f4ab092c609122ae9b045",
            "24d483803e8f411c880472fc22506dda",
            "1db3d657656c4922b197089d1f193ca1",
            "37b513305800469588c35e64e2c88169",
            "14fc70e21e4c40ccb19273d9a8e82588",
            "32ba6cf973bc4112afe708350b4e92fe",
            "a32defe902c1489f9770a260795f0454",
            "237ac542c06f43b088634719b7795705",
            "6fbba545961748909ae496f66210bd5b",
            "bad5425a29214e4fbce9d6fb789f0606",
            "14dab99aa60345dc83f21582a6bfbc0f",
            "3b4904120c1a4b6a8f1f87088b724cc1",
            "b4c473ea7854490a8aef4e2684c88727",
            "fb423fc08f0d4d00950c6b25973ab497",
            "5f60abc5bf4845aeab296be20c13fd60",
            "8d53b90dee214d739a054dbd86fb047e",
            "4d132490b61441568c991c72918a3028",
            "76b4b81a267841a6972c7091a00295c4",
            "7a9b0e1aacf2493b8416cc5feaa4bda8",
            "5601db2849c247608234b9c65419c378",
            "ffd29afdad6648a39acc354e4f464a37",
            "062dfcce4a8e4dd588fdee2a82457b98",
            "29c284d1b3db41429fa1cdf84ee6e6e6",
            "af26b3759bbf48cf98908b00430ef561",
            "1dead957981048ecae69e43b485ddef2",
            "7cca76d7b9d34d1e95e3cd2c9e273d74",
            "93984d0fc422435d87f6a5e7414424a6",
            "a245bcd797d543f09678654d6bae2a47",
            "79a2b03e2d7645fbbc70687ddd158fe5",
            "f89974ed3545478ebf2cb384c63ecdf6",
            "735ba45e604842a1af6cacd54f7be82b",
            "17143da6606442ab92873ebff365cc1c",
            "181837c65dc44189b62b0300c3fa9dff",
            "f0438367d4ff43d19e3a940c1b743345",
            "be96a68ba39c4abbb82dd0108e156b02",
            "bb6e265b93e34ceea12097f1505f2ff4",
            "4729d5dfbedf4e4a9ea2484c0c29d608",
            "b0919137ff7744a1b019d9d17c076e01",
            "5d4e52b4bb6f4c68ab0d16d5d59380b2",
            "b77eeb074cef4890804138d6fa40ea54",
            "79329a30863a4f02a5f3478cc5dda678",
            "f67260f2e8e947ffbfe18b268dcb1172",
            "b0eaea6d07a246cfbd729b49d8d840c0",
            "1465a6854019487ea0330a66e0c89f9b",
            "ee19b3e908e1443b878d9bec53a2ac6b",
            "d15197becaf84f1f9e1c42d5fdfdc19d",
            "27391d43a5f14df681b959b4b159f3fd",
            "7c4088b5c6eb4c2ba713e0abd3d6bd6a",
            "ea8270d369314de998133d0f72ae7907",
            "0f5e4e111c694166bd6c6c638106bc82",
            "4c7ecae29207441995bc709309d84e50",
            "64b8ca7d90d8406aab94c6ecb8456640",
            "8379b629989048c48e8093af0f84ccc7",
            "3b0a7a1bca2741b68747f8eadc2a3d76",
            "f61516ced41d4fddb8ecacf8a2d87570",
            "8805185a18fd4291a53e86f5cc6f1efc",
            "3af945169b1f4e67b0f415d693015d6e",
            "2dd449b189fe40d3b79d38accfdfda00",
            "5db61c60db09475f95884d5b8c897930",
            "fe68bceb28744c1e9d83ff52053f0e70",
            "261267e88072499c9ca09c634fd3bfdd",
            "f4cb40b56dd349468a879e44362f2d92",
            "8c67e5ba7939413b89ddbedefc298b8f",
            "6960dc7ae0ed4d1dbb9256983a521274",
            "f5eefe2452494c29839080b62296fb22",
            "5ee726e83fc44952863e47d33da40860",
            "f3d57f0a671244e7b35c2b17bed451fa",
            "ed74935e77374037af2871777301f01b",
            "32fe5a48590949b2a1a5a0ad4e7cf6c7",
            "c4b47ec383ba4ba196b88853e6f94277",
            "146ed6ce01fb4b1a8b3b3ab1285c5655",
            "315f6568fc05416689e099bb7d751c9c",
            "f92a464faba247d6a4886112b3c49a73",
            "87057092bbf444fab4ba877f3506ebec",
            "4cf1bd548d814f7ea2a803837aa9630e",
            "afa8c67deaac46b2ad734aba1874e76d",
            "3b38e861c1654f53911c82f79bf2b079",
            "d9b952f79621407e954a3e662b8af991",
            "e9e5d8a9a1e142a6bbf7b22c4d695178",
            "c003129f6b9d404c9464e2ef621a592b",
            "8a0d9292cab1465a8ea5fd377485809a",
            "3b0d8835e4564f42a434e4e45e3d0941",
            "6fd0a4cb2e04401b9ddc730ace132a40",
            "539547553b824dbaaea133bdca9492c9",
            "ddcdddc5647b407a85e078d2ff87e0b0",
            "ed0af7adae484b59b3b65463ccfe0bde",
            "5926548e9d034b3cad23813d03aa3421",
            "d2880d5a5c8a4ced9e76095740cdf0bc",
            "6dd61c60616e445b9111572842a80296",
            "c44c82ed691c4c1d98bc84466c31595f",
            "46e8999856b54b968a80ddae4034c9d3",
            "5b168edbbaf040829ba953b27486524a",
            "d0b58fbadc5242a7a83e4cb37e83f877",
            "37bb19bddf7245829c42b0854a1af8a3",
            "58c8a55216814e3f9c05da9b32422166",
            "f356cb4432de40b9a9bfbcfabf6c5736",
            "eedacda6e39c44e0af0133da3cd0ef98",
            "2e2d786f649e4506b985f6cc514d2ec4",
            "7674a8e23998461fa73ea147c48e4a9c",
            "303cb73cb0fd4724bfec365520bf7655",
            "b0fe81b189684cc8bea94ea8180a88be",
            "f2767454f8064749b938adcad651c025",
            "fae9a645141f419cb49e645efab43226",
            "fed49eb7e5ee4defb55f8d897bdd16dd",
            "c14aac3c79b347cf9071c26e37c742a6",
            "3845a74474864c09a27be899390ae9b9",
            "0183a7b50d8143889e9153658af7f0d6",
            "c0a45ede4aab4e2d8e08252448668c38",
            "044f2c2819554f13a8e1a7660782eb2b",
            "fbf5b640939a496abcfc5578a63ad1d4",
            "889eaba3d4104cb590d06cd472eca774",
            "11026e09f1f3470c89644a5f3688f32d",
            "b40350a8308f4ec592fdb1883385d6be",
            "116702f56246465897dd685c23643730",
            "64939e89435e404a8e1ee7c48ffd2af5",
            "81a08481e15b4cb6b88486753ede4c71",
            "e149c58a0a1940778b782507f58895d8",
            "4c1ac9edc652405f8972f4e70f9a53eb",
            "63c61a1364a44dad88890e9a602c8bcb",
            "4573062d01ea41a3b22fd2e96ffdfbec",
            "8d171525ecbe4202a657e5368533ebad",
            "d8f2f217fb8b4e27b2d2bc075ad271ec",
            "721daae3126a4ac79dc3ffe4baadcc2b",
            "da1da847d89c46f1a14b35b0792ca7d1",
            "efc965913ee74a948656305edca18794",
            "857dbecd78444ad38877ace24ea178c1",
            "e3d6fd7f52eb48a2b985d69c8994db5c",
            "b33cfc46291c4174994258cbf4b3a88c",
            "94cc1b98c6534887a238d678ec1b0914",
            "669687d7aacb4b80ad2f726d774df844",
            "c9709cbb7df3461cba39b7947a4a3986",
            "9f978513831e40799b148b12f5d61c60",
            "975ddef3f0884b85b7ea921680ad1215",
            "1b770c61c1c84f06b1791cad28556c9f",
            "05527b142a8143d5a71fa7c970b9e83a"
          ]
        },
        "collapsed": true,
        "id": "oeZkQBxvkvi-",
        "outputId": "3a3fbf58-6d0e-467b-b7e5-ec18e6972046"
      },
      "execution_count": null,
      "outputs": [
        {
          "output_type": "stream",
          "name": "stdout",
          "text": [
            "Training...\n"
          ]
        },
        {
          "output_type": "display_data",
          "data": {
            "text/plain": [
              "Iteration:   0%|          | 0/1029 [00:00<?, ?it/s]"
            ],
            "application/vnd.jupyter.widget-view+json": {
              "version_major": 2,
              "version_minor": 0,
              "model_id": "80a82073912c417bbe9c182791056014"
            }
          },
          "metadata": {}
        },
        {
          "output_type": "stream",
          "name": "stderr",
          "text": [
            "/usr/local/lib/python3.11/dist-packages/torch_geometric/warnings.py:11: UserWarning: The usage of `scatter(reduce='max')` can be accelerated via the 'torch-scatter' package, but it was not found\n",
            "  warnings.warn(message)\n"
          ]
        },
        {
          "output_type": "stream",
          "name": "stdout",
          "text": [
            "Evaluating...\n"
          ]
        },
        {
          "output_type": "display_data",
          "data": {
            "text/plain": [
              "Iteration:   0%|          | 0/1029 [00:00<?, ?it/s]"
            ],
            "application/vnd.jupyter.widget-view+json": {
              "version_major": 2,
              "version_minor": 0,
              "model_id": "39f48b3d0f0149cfba0501cf490b1d18"
            }
          },
          "metadata": {}
        },
        {
          "output_type": "display_data",
          "data": {
            "text/plain": [
              "Iteration:   0%|          | 0/129 [00:00<?, ?it/s]"
            ],
            "application/vnd.jupyter.widget-view+json": {
              "version_major": 2,
              "version_minor": 0,
              "model_id": "64304ecba6d44ee9bea3c4fe87e9c9e5"
            }
          },
          "metadata": {}
        },
        {
          "output_type": "display_data",
          "data": {
            "text/plain": [
              "Iteration:   0%|          | 0/129 [00:00<?, ?it/s]"
            ],
            "application/vnd.jupyter.widget-view+json": {
              "version_major": 2,
              "version_minor": 0,
              "model_id": "60e5b9659f154e8988aaf7642edcfe6d"
            }
          },
          "metadata": {}
        },
        {
          "output_type": "stream",
          "name": "stdout",
          "text": [
            "Epoch: 01, Loss: 0.0611, Train: 42.26%, Valid: 36.55% Test: 30.22%\n",
            "Training...\n"
          ]
        },
        {
          "output_type": "display_data",
          "data": {
            "text/plain": [
              "Iteration:   0%|          | 0/1029 [00:00<?, ?it/s]"
            ],
            "application/vnd.jupyter.widget-view+json": {
              "version_major": 2,
              "version_minor": 0,
              "model_id": "5cc17301b7be4bd58e20fad85c2d23d6"
            }
          },
          "metadata": {}
        },
        {
          "output_type": "stream",
          "name": "stderr",
          "text": [
            "/usr/local/lib/python3.11/dist-packages/torch_geometric/warnings.py:11: UserWarning: The usage of `scatter(reduce='max')` can be accelerated via the 'torch-scatter' package, but it was not found\n",
            "  warnings.warn(message)\n"
          ]
        },
        {
          "output_type": "stream",
          "name": "stdout",
          "text": [
            "Evaluating...\n"
          ]
        },
        {
          "output_type": "display_data",
          "data": {
            "text/plain": [
              "Iteration:   0%|          | 0/1029 [00:00<?, ?it/s]"
            ],
            "application/vnd.jupyter.widget-view+json": {
              "version_major": 2,
              "version_minor": 0,
              "model_id": "308ae924c1b54a93b85e2fb882a8d314"
            }
          },
          "metadata": {}
        },
        {
          "output_type": "display_data",
          "data": {
            "text/plain": [
              "Iteration:   0%|          | 0/129 [00:00<?, ?it/s]"
            ],
            "application/vnd.jupyter.widget-view+json": {
              "version_major": 2,
              "version_minor": 0,
              "model_id": "b178dc01d39a44768e75907320bfe3ff"
            }
          },
          "metadata": {}
        },
        {
          "output_type": "display_data",
          "data": {
            "text/plain": [
              "Iteration:   0%|          | 0/129 [00:00<?, ?it/s]"
            ],
            "application/vnd.jupyter.widget-view+json": {
              "version_major": 2,
              "version_minor": 0,
              "model_id": "ac240251ed6c4b2784b457e0cb3296f9"
            }
          },
          "metadata": {}
        },
        {
          "output_type": "stream",
          "name": "stdout",
          "text": [
            "Epoch: 02, Loss: 0.0706, Train: 42.26%, Valid: 36.55% Test: 30.22%\n",
            "Training...\n"
          ]
        },
        {
          "output_type": "display_data",
          "data": {
            "text/plain": [
              "Iteration:   0%|          | 0/1029 [00:00<?, ?it/s]"
            ],
            "application/vnd.jupyter.widget-view+json": {
              "version_major": 2,
              "version_minor": 0,
              "model_id": "d6c8cf1977b842749a3d237bf8256b64"
            }
          },
          "metadata": {}
        },
        {
          "output_type": "stream",
          "name": "stderr",
          "text": [
            "/usr/local/lib/python3.11/dist-packages/torch_geometric/warnings.py:11: UserWarning: The usage of `scatter(reduce='max')` can be accelerated via the 'torch-scatter' package, but it was not found\n",
            "  warnings.warn(message)\n"
          ]
        },
        {
          "output_type": "stream",
          "name": "stdout",
          "text": [
            "Evaluating...\n"
          ]
        },
        {
          "output_type": "display_data",
          "data": {
            "text/plain": [
              "Iteration:   0%|          | 0/1029 [00:00<?, ?it/s]"
            ],
            "application/vnd.jupyter.widget-view+json": {
              "version_major": 2,
              "version_minor": 0,
              "model_id": "bba793908cec4595b6e0cf0b6a38b668"
            }
          },
          "metadata": {}
        },
        {
          "output_type": "display_data",
          "data": {
            "text/plain": [
              "Iteration:   0%|          | 0/129 [00:00<?, ?it/s]"
            ],
            "application/vnd.jupyter.widget-view+json": {
              "version_major": 2,
              "version_minor": 0,
              "model_id": "49e0a7d169c8448aab373c3efae24c41"
            }
          },
          "metadata": {}
        },
        {
          "output_type": "display_data",
          "data": {
            "text/plain": [
              "Iteration:   0%|          | 0/129 [00:00<?, ?it/s]"
            ],
            "application/vnd.jupyter.widget-view+json": {
              "version_major": 2,
              "version_minor": 0,
              "model_id": "f45c6a8bf0c245a2a7bac295b826833d"
            }
          },
          "metadata": {}
        },
        {
          "output_type": "stream",
          "name": "stdout",
          "text": [
            "Epoch: 03, Loss: 0.0599, Train: 42.26%, Valid: 36.55% Test: 30.22%\n",
            "Training...\n"
          ]
        },
        {
          "output_type": "display_data",
          "data": {
            "text/plain": [
              "Iteration:   0%|          | 0/1029 [00:00<?, ?it/s]"
            ],
            "application/vnd.jupyter.widget-view+json": {
              "version_major": 2,
              "version_minor": 0,
              "model_id": "7aa66f9778dd4e6798a706b3e60162f3"
            }
          },
          "metadata": {}
        },
        {
          "output_type": "stream",
          "name": "stderr",
          "text": [
            "/usr/local/lib/python3.11/dist-packages/torch_geometric/warnings.py:11: UserWarning: The usage of `scatter(reduce='max')` can be accelerated via the 'torch-scatter' package, but it was not found\n",
            "  warnings.warn(message)\n"
          ]
        },
        {
          "output_type": "stream",
          "name": "stdout",
          "text": [
            "Evaluating...\n"
          ]
        },
        {
          "output_type": "display_data",
          "data": {
            "text/plain": [
              "Iteration:   0%|          | 0/1029 [00:00<?, ?it/s]"
            ],
            "application/vnd.jupyter.widget-view+json": {
              "version_major": 2,
              "version_minor": 0,
              "model_id": "e4ad899f563d4ee7bc97967377e65821"
            }
          },
          "metadata": {}
        },
        {
          "output_type": "display_data",
          "data": {
            "text/plain": [
              "Iteration:   0%|          | 0/129 [00:00<?, ?it/s]"
            ],
            "application/vnd.jupyter.widget-view+json": {
              "version_major": 2,
              "version_minor": 0,
              "model_id": "24a93b633f84420cbc42bb92d2dd0527"
            }
          },
          "metadata": {}
        },
        {
          "output_type": "display_data",
          "data": {
            "text/plain": [
              "Iteration:   0%|          | 0/129 [00:00<?, ?it/s]"
            ],
            "application/vnd.jupyter.widget-view+json": {
              "version_major": 2,
              "version_minor": 0,
              "model_id": "e091f15d5f6044ae9a1921398b828745"
            }
          },
          "metadata": {}
        },
        {
          "output_type": "stream",
          "name": "stdout",
          "text": [
            "Epoch: 04, Loss: 0.4613, Train: 42.26%, Valid: 36.55% Test: 30.22%\n",
            "Training...\n"
          ]
        },
        {
          "output_type": "display_data",
          "data": {
            "text/plain": [
              "Iteration:   0%|          | 0/1029 [00:00<?, ?it/s]"
            ],
            "application/vnd.jupyter.widget-view+json": {
              "version_major": 2,
              "version_minor": 0,
              "model_id": "4ec65a12fe8b4be88f95e8d93618d7b8"
            }
          },
          "metadata": {}
        },
        {
          "output_type": "stream",
          "name": "stderr",
          "text": [
            "/usr/local/lib/python3.11/dist-packages/torch_geometric/warnings.py:11: UserWarning: The usage of `scatter(reduce='max')` can be accelerated via the 'torch-scatter' package, but it was not found\n",
            "  warnings.warn(message)\n"
          ]
        },
        {
          "output_type": "stream",
          "name": "stdout",
          "text": [
            "Evaluating...\n"
          ]
        },
        {
          "output_type": "display_data",
          "data": {
            "text/plain": [
              "Iteration:   0%|          | 0/1029 [00:00<?, ?it/s]"
            ],
            "application/vnd.jupyter.widget-view+json": {
              "version_major": 2,
              "version_minor": 0,
              "model_id": "8e37e15bced947738e24611310bb3e69"
            }
          },
          "metadata": {}
        },
        {
          "output_type": "display_data",
          "data": {
            "text/plain": [
              "Iteration:   0%|          | 0/129 [00:00<?, ?it/s]"
            ],
            "application/vnd.jupyter.widget-view+json": {
              "version_major": 2,
              "version_minor": 0,
              "model_id": "f04160eb25914f21b3b161c1617ffe12"
            }
          },
          "metadata": {}
        },
        {
          "output_type": "display_data",
          "data": {
            "text/plain": [
              "Iteration:   0%|          | 0/129 [00:00<?, ?it/s]"
            ],
            "application/vnd.jupyter.widget-view+json": {
              "version_major": 2,
              "version_minor": 0,
              "model_id": "fbaa2286c8584b9084d72cc5e692a837"
            }
          },
          "metadata": {}
        },
        {
          "output_type": "stream",
          "name": "stdout",
          "text": [
            "Epoch: 05, Loss: 0.0385, Train: 42.26%, Valid: 36.55% Test: 30.22%\n",
            "Training...\n"
          ]
        },
        {
          "output_type": "display_data",
          "data": {
            "text/plain": [
              "Iteration:   0%|          | 0/1029 [00:00<?, ?it/s]"
            ],
            "application/vnd.jupyter.widget-view+json": {
              "version_major": 2,
              "version_minor": 0,
              "model_id": "480be8bc94d44dff811db44d053c1caa"
            }
          },
          "metadata": {}
        },
        {
          "output_type": "stream",
          "name": "stderr",
          "text": [
            "/usr/local/lib/python3.11/dist-packages/torch_geometric/warnings.py:11: UserWarning: The usage of `scatter(reduce='max')` can be accelerated via the 'torch-scatter' package, but it was not found\n",
            "  warnings.warn(message)\n"
          ]
        },
        {
          "output_type": "stream",
          "name": "stdout",
          "text": [
            "Evaluating...\n"
          ]
        },
        {
          "output_type": "display_data",
          "data": {
            "text/plain": [
              "Iteration:   0%|          | 0/1029 [00:00<?, ?it/s]"
            ],
            "application/vnd.jupyter.widget-view+json": {
              "version_major": 2,
              "version_minor": 0,
              "model_id": "fadb2094b3b44807b40d6e142186143a"
            }
          },
          "metadata": {}
        },
        {
          "output_type": "display_data",
          "data": {
            "text/plain": [
              "Iteration:   0%|          | 0/129 [00:00<?, ?it/s]"
            ],
            "application/vnd.jupyter.widget-view+json": {
              "version_major": 2,
              "version_minor": 0,
              "model_id": "0918c6a1a1784e178d131a2ba1b8798c"
            }
          },
          "metadata": {}
        },
        {
          "output_type": "display_data",
          "data": {
            "text/plain": [
              "Iteration:   0%|          | 0/129 [00:00<?, ?it/s]"
            ],
            "application/vnd.jupyter.widget-view+json": {
              "version_major": 2,
              "version_minor": 0,
              "model_id": "3b931ef49c9640c59338de2cdf3dea59"
            }
          },
          "metadata": {}
        },
        {
          "output_type": "stream",
          "name": "stdout",
          "text": [
            "Epoch: 06, Loss: 0.1103, Train: 42.26%, Valid: 36.55% Test: 30.22%\n",
            "Training...\n"
          ]
        },
        {
          "output_type": "display_data",
          "data": {
            "text/plain": [
              "Iteration:   0%|          | 0/1029 [00:00<?, ?it/s]"
            ],
            "application/vnd.jupyter.widget-view+json": {
              "version_major": 2,
              "version_minor": 0,
              "model_id": "02a8093410a54187b4c60b8aba79290d"
            }
          },
          "metadata": {}
        },
        {
          "output_type": "stream",
          "name": "stderr",
          "text": [
            "/usr/local/lib/python3.11/dist-packages/torch_geometric/warnings.py:11: UserWarning: The usage of `scatter(reduce='max')` can be accelerated via the 'torch-scatter' package, but it was not found\n",
            "  warnings.warn(message)\n"
          ]
        },
        {
          "output_type": "stream",
          "name": "stdout",
          "text": [
            "Evaluating...\n"
          ]
        },
        {
          "output_type": "display_data",
          "data": {
            "text/plain": [
              "Iteration:   0%|          | 0/1029 [00:00<?, ?it/s]"
            ],
            "application/vnd.jupyter.widget-view+json": {
              "version_major": 2,
              "version_minor": 0,
              "model_id": "6db53549fccc4462b0e0a105fa30a402"
            }
          },
          "metadata": {}
        },
        {
          "output_type": "display_data",
          "data": {
            "text/plain": [
              "Iteration:   0%|          | 0/129 [00:00<?, ?it/s]"
            ],
            "application/vnd.jupyter.widget-view+json": {
              "version_major": 2,
              "version_minor": 0,
              "model_id": "83bd0951108846a99eebd90ade6a13e5"
            }
          },
          "metadata": {}
        },
        {
          "output_type": "display_data",
          "data": {
            "text/plain": [
              "Iteration:   0%|          | 0/129 [00:00<?, ?it/s]"
            ],
            "application/vnd.jupyter.widget-view+json": {
              "version_major": 2,
              "version_minor": 0,
              "model_id": "0b32b567d1164a9581ee569426cee288"
            }
          },
          "metadata": {}
        },
        {
          "output_type": "stream",
          "name": "stdout",
          "text": [
            "Epoch: 07, Loss: 0.0200, Train: 42.26%, Valid: 36.55% Test: 30.22%\n",
            "Training...\n"
          ]
        },
        {
          "output_type": "display_data",
          "data": {
            "text/plain": [
              "Iteration:   0%|          | 0/1029 [00:00<?, ?it/s]"
            ],
            "application/vnd.jupyter.widget-view+json": {
              "version_major": 2,
              "version_minor": 0,
              "model_id": "77ee2dd81fc9402e953e3b3ab0498073"
            }
          },
          "metadata": {}
        },
        {
          "output_type": "stream",
          "name": "stderr",
          "text": [
            "/usr/local/lib/python3.11/dist-packages/torch_geometric/warnings.py:11: UserWarning: The usage of `scatter(reduce='max')` can be accelerated via the 'torch-scatter' package, but it was not found\n",
            "  warnings.warn(message)\n"
          ]
        },
        {
          "output_type": "stream",
          "name": "stdout",
          "text": [
            "Evaluating...\n"
          ]
        },
        {
          "output_type": "display_data",
          "data": {
            "text/plain": [
              "Iteration:   0%|          | 0/1029 [00:00<?, ?it/s]"
            ],
            "application/vnd.jupyter.widget-view+json": {
              "version_major": 2,
              "version_minor": 0,
              "model_id": "09dc7d7ca58c4e82b47543942de470f6"
            }
          },
          "metadata": {}
        },
        {
          "output_type": "display_data",
          "data": {
            "text/plain": [
              "Iteration:   0%|          | 0/129 [00:00<?, ?it/s]"
            ],
            "application/vnd.jupyter.widget-view+json": {
              "version_major": 2,
              "version_minor": 0,
              "model_id": "fb669598a00047bda8cdfd0c53875a97"
            }
          },
          "metadata": {}
        },
        {
          "output_type": "display_data",
          "data": {
            "text/plain": [
              "Iteration:   0%|          | 0/129 [00:00<?, ?it/s]"
            ],
            "application/vnd.jupyter.widget-view+json": {
              "version_major": 2,
              "version_minor": 0,
              "model_id": "e31728a174c54294a698f7ef7dfa57a1"
            }
          },
          "metadata": {}
        },
        {
          "output_type": "stream",
          "name": "stdout",
          "text": [
            "Epoch: 08, Loss: 0.0379, Train: 42.26%, Valid: 36.55% Test: 30.22%\n",
            "Training...\n"
          ]
        },
        {
          "output_type": "display_data",
          "data": {
            "text/plain": [
              "Iteration:   0%|          | 0/1029 [00:00<?, ?it/s]"
            ],
            "application/vnd.jupyter.widget-view+json": {
              "version_major": 2,
              "version_minor": 0,
              "model_id": "f05a1e7652184ce8ae3978e4ec02d2b4"
            }
          },
          "metadata": {}
        },
        {
          "output_type": "stream",
          "name": "stderr",
          "text": [
            "/usr/local/lib/python3.11/dist-packages/torch_geometric/warnings.py:11: UserWarning: The usage of `scatter(reduce='max')` can be accelerated via the 'torch-scatter' package, but it was not found\n",
            "  warnings.warn(message)\n"
          ]
        },
        {
          "output_type": "stream",
          "name": "stdout",
          "text": [
            "Evaluating...\n"
          ]
        },
        {
          "output_type": "display_data",
          "data": {
            "text/plain": [
              "Iteration:   0%|          | 0/1029 [00:00<?, ?it/s]"
            ],
            "application/vnd.jupyter.widget-view+json": {
              "version_major": 2,
              "version_minor": 0,
              "model_id": "26ac3f67372841cb8141e770866baed8"
            }
          },
          "metadata": {}
        },
        {
          "output_type": "display_data",
          "data": {
            "text/plain": [
              "Iteration:   0%|          | 0/129 [00:00<?, ?it/s]"
            ],
            "application/vnd.jupyter.widget-view+json": {
              "version_major": 2,
              "version_minor": 0,
              "model_id": "edca1376842a4895911f82e60b95468e"
            }
          },
          "metadata": {}
        },
        {
          "output_type": "display_data",
          "data": {
            "text/plain": [
              "Iteration:   0%|          | 0/129 [00:00<?, ?it/s]"
            ],
            "application/vnd.jupyter.widget-view+json": {
              "version_major": 2,
              "version_minor": 0,
              "model_id": "9c8f518266c24552a70e345b0217c132"
            }
          },
          "metadata": {}
        },
        {
          "output_type": "stream",
          "name": "stdout",
          "text": [
            "Epoch: 09, Loss: 0.5770, Train: 42.26%, Valid: 36.55% Test: 30.22%\n",
            "Training...\n"
          ]
        },
        {
          "output_type": "display_data",
          "data": {
            "text/plain": [
              "Iteration:   0%|          | 0/1029 [00:00<?, ?it/s]"
            ],
            "application/vnd.jupyter.widget-view+json": {
              "version_major": 2,
              "version_minor": 0,
              "model_id": "e50ad9bb5ff945c99a6d664a3a0cb749"
            }
          },
          "metadata": {}
        },
        {
          "output_type": "stream",
          "name": "stderr",
          "text": [
            "/usr/local/lib/python3.11/dist-packages/torch_geometric/warnings.py:11: UserWarning: The usage of `scatter(reduce='max')` can be accelerated via the 'torch-scatter' package, but it was not found\n",
            "  warnings.warn(message)\n"
          ]
        },
        {
          "output_type": "stream",
          "name": "stdout",
          "text": [
            "Evaluating...\n"
          ]
        },
        {
          "output_type": "display_data",
          "data": {
            "text/plain": [
              "Iteration:   0%|          | 0/1029 [00:00<?, ?it/s]"
            ],
            "application/vnd.jupyter.widget-view+json": {
              "version_major": 2,
              "version_minor": 0,
              "model_id": "e243a868f1a24e9596d15b6655ec562c"
            }
          },
          "metadata": {}
        },
        {
          "output_type": "display_data",
          "data": {
            "text/plain": [
              "Iteration:   0%|          | 0/129 [00:00<?, ?it/s]"
            ],
            "application/vnd.jupyter.widget-view+json": {
              "version_major": 2,
              "version_minor": 0,
              "model_id": "a0060216c0954f7095dbc435c7c7d5bb"
            }
          },
          "metadata": {}
        },
        {
          "output_type": "display_data",
          "data": {
            "text/plain": [
              "Iteration:   0%|          | 0/129 [00:00<?, ?it/s]"
            ],
            "application/vnd.jupyter.widget-view+json": {
              "version_major": 2,
              "version_minor": 0,
              "model_id": "914b97f4e1dc4b418ef7d83c71aadd4d"
            }
          },
          "metadata": {}
        },
        {
          "output_type": "stream",
          "name": "stdout",
          "text": [
            "Epoch: 10, Loss: 0.0407, Train: 42.26%, Valid: 36.55% Test: 30.22%\n",
            "Training...\n"
          ]
        },
        {
          "output_type": "display_data",
          "data": {
            "text/plain": [
              "Iteration:   0%|          | 0/1029 [00:00<?, ?it/s]"
            ],
            "application/vnd.jupyter.widget-view+json": {
              "version_major": 2,
              "version_minor": 0,
              "model_id": "3ab050a70133456293bdc9e4ec1cb5f3"
            }
          },
          "metadata": {}
        },
        {
          "output_type": "stream",
          "name": "stderr",
          "text": [
            "/usr/local/lib/python3.11/dist-packages/torch_geometric/warnings.py:11: UserWarning: The usage of `scatter(reduce='max')` can be accelerated via the 'torch-scatter' package, but it was not found\n",
            "  warnings.warn(message)\n"
          ]
        },
        {
          "output_type": "stream",
          "name": "stdout",
          "text": [
            "Evaluating...\n"
          ]
        },
        {
          "output_type": "display_data",
          "data": {
            "text/plain": [
              "Iteration:   0%|          | 0/1029 [00:00<?, ?it/s]"
            ],
            "application/vnd.jupyter.widget-view+json": {
              "version_major": 2,
              "version_minor": 0,
              "model_id": "9f5a39340b2d408f853b5b7c15d21ac8"
            }
          },
          "metadata": {}
        },
        {
          "output_type": "display_data",
          "data": {
            "text/plain": [
              "Iteration:   0%|          | 0/129 [00:00<?, ?it/s]"
            ],
            "application/vnd.jupyter.widget-view+json": {
              "version_major": 2,
              "version_minor": 0,
              "model_id": "21fd8b73eaba431f8b97de046c18c45b"
            }
          },
          "metadata": {}
        },
        {
          "output_type": "display_data",
          "data": {
            "text/plain": [
              "Iteration:   0%|          | 0/129 [00:00<?, ?it/s]"
            ],
            "application/vnd.jupyter.widget-view+json": {
              "version_major": 2,
              "version_minor": 0,
              "model_id": "326b9a811f1b49508cb42e7bdf99e3ac"
            }
          },
          "metadata": {}
        },
        {
          "output_type": "stream",
          "name": "stdout",
          "text": [
            "Epoch: 11, Loss: 0.0047, Train: 42.26%, Valid: 36.55% Test: 30.22%\n",
            "Training...\n"
          ]
        },
        {
          "output_type": "display_data",
          "data": {
            "text/plain": [
              "Iteration:   0%|          | 0/1029 [00:00<?, ?it/s]"
            ],
            "application/vnd.jupyter.widget-view+json": {
              "version_major": 2,
              "version_minor": 0,
              "model_id": "0e91b741b60b4aa0b625ee3187f44917"
            }
          },
          "metadata": {}
        },
        {
          "output_type": "stream",
          "name": "stderr",
          "text": [
            "/usr/local/lib/python3.11/dist-packages/torch_geometric/warnings.py:11: UserWarning: The usage of `scatter(reduce='max')` can be accelerated via the 'torch-scatter' package, but it was not found\n",
            "  warnings.warn(message)\n"
          ]
        },
        {
          "output_type": "stream",
          "name": "stdout",
          "text": [
            "Evaluating...\n"
          ]
        },
        {
          "output_type": "display_data",
          "data": {
            "text/plain": [
              "Iteration:   0%|          | 0/1029 [00:00<?, ?it/s]"
            ],
            "application/vnd.jupyter.widget-view+json": {
              "version_major": 2,
              "version_minor": 0,
              "model_id": "6ac134cd0a3341c0badd128f0c9fe25f"
            }
          },
          "metadata": {}
        },
        {
          "output_type": "display_data",
          "data": {
            "text/plain": [
              "Iteration:   0%|          | 0/129 [00:00<?, ?it/s]"
            ],
            "application/vnd.jupyter.widget-view+json": {
              "version_major": 2,
              "version_minor": 0,
              "model_id": "435fd97ec58746b9a7866db705ca6025"
            }
          },
          "metadata": {}
        },
        {
          "output_type": "display_data",
          "data": {
            "text/plain": [
              "Iteration:   0%|          | 0/129 [00:00<?, ?it/s]"
            ],
            "application/vnd.jupyter.widget-view+json": {
              "version_major": 2,
              "version_minor": 0,
              "model_id": "05f7c6ab91a74fd6a53fcc5f8d163285"
            }
          },
          "metadata": {}
        },
        {
          "output_type": "stream",
          "name": "stdout",
          "text": [
            "Epoch: 12, Loss: 0.0153, Train: 42.26%, Valid: 36.55% Test: 30.22%\n",
            "Training...\n"
          ]
        },
        {
          "output_type": "display_data",
          "data": {
            "text/plain": [
              "Iteration:   0%|          | 0/1029 [00:00<?, ?it/s]"
            ],
            "application/vnd.jupyter.widget-view+json": {
              "version_major": 2,
              "version_minor": 0,
              "model_id": "cda1f9fcdb99411ba8b1584f35d3e321"
            }
          },
          "metadata": {}
        },
        {
          "output_type": "stream",
          "name": "stderr",
          "text": [
            "/usr/local/lib/python3.11/dist-packages/torch_geometric/warnings.py:11: UserWarning: The usage of `scatter(reduce='max')` can be accelerated via the 'torch-scatter' package, but it was not found\n",
            "  warnings.warn(message)\n"
          ]
        },
        {
          "output_type": "stream",
          "name": "stdout",
          "text": [
            "Evaluating...\n"
          ]
        },
        {
          "output_type": "display_data",
          "data": {
            "text/plain": [
              "Iteration:   0%|          | 0/1029 [00:00<?, ?it/s]"
            ],
            "application/vnd.jupyter.widget-view+json": {
              "version_major": 2,
              "version_minor": 0,
              "model_id": "610d1ab1d8424a49926abab09bbe6c5c"
            }
          },
          "metadata": {}
        },
        {
          "output_type": "display_data",
          "data": {
            "text/plain": [
              "Iteration:   0%|          | 0/129 [00:00<?, ?it/s]"
            ],
            "application/vnd.jupyter.widget-view+json": {
              "version_major": 2,
              "version_minor": 0,
              "model_id": "a30fb46306f646509466f86931376f72"
            }
          },
          "metadata": {}
        },
        {
          "output_type": "display_data",
          "data": {
            "text/plain": [
              "Iteration:   0%|          | 0/129 [00:00<?, ?it/s]"
            ],
            "application/vnd.jupyter.widget-view+json": {
              "version_major": 2,
              "version_minor": 0,
              "model_id": "4cd50788d8364af496c4324e87ad6dcc"
            }
          },
          "metadata": {}
        },
        {
          "output_type": "stream",
          "name": "stdout",
          "text": [
            "Epoch: 13, Loss: 0.0055, Train: 42.26%, Valid: 36.55% Test: 30.22%\n",
            "Training...\n"
          ]
        },
        {
          "output_type": "display_data",
          "data": {
            "text/plain": [
              "Iteration:   0%|          | 0/1029 [00:00<?, ?it/s]"
            ],
            "application/vnd.jupyter.widget-view+json": {
              "version_major": 2,
              "version_minor": 0,
              "model_id": "025630f2c3ac49dda220f48fb1509e94"
            }
          },
          "metadata": {}
        },
        {
          "output_type": "stream",
          "name": "stderr",
          "text": [
            "/usr/local/lib/python3.11/dist-packages/torch_geometric/warnings.py:11: UserWarning: The usage of `scatter(reduce='max')` can be accelerated via the 'torch-scatter' package, but it was not found\n",
            "  warnings.warn(message)\n"
          ]
        },
        {
          "output_type": "stream",
          "name": "stdout",
          "text": [
            "Evaluating...\n"
          ]
        },
        {
          "output_type": "display_data",
          "data": {
            "text/plain": [
              "Iteration:   0%|          | 0/1029 [00:00<?, ?it/s]"
            ],
            "application/vnd.jupyter.widget-view+json": {
              "version_major": 2,
              "version_minor": 0,
              "model_id": "97067677f0aa4e22ad16f53ddd746a3c"
            }
          },
          "metadata": {}
        },
        {
          "output_type": "display_data",
          "data": {
            "text/plain": [
              "Iteration:   0%|          | 0/129 [00:00<?, ?it/s]"
            ],
            "application/vnd.jupyter.widget-view+json": {
              "version_major": 2,
              "version_minor": 0,
              "model_id": "72db38e9af384bcd96d1ba2781525a7e"
            }
          },
          "metadata": {}
        },
        {
          "output_type": "display_data",
          "data": {
            "text/plain": [
              "Iteration:   0%|          | 0/129 [00:00<?, ?it/s]"
            ],
            "application/vnd.jupyter.widget-view+json": {
              "version_major": 2,
              "version_minor": 0,
              "model_id": "1b72375b5a934d72b5386c264a34f377"
            }
          },
          "metadata": {}
        },
        {
          "output_type": "stream",
          "name": "stdout",
          "text": [
            "Epoch: 14, Loss: 0.0142, Train: 42.26%, Valid: 36.55% Test: 30.22%\n",
            "Training...\n"
          ]
        },
        {
          "output_type": "display_data",
          "data": {
            "text/plain": [
              "Iteration:   0%|          | 0/1029 [00:00<?, ?it/s]"
            ],
            "application/vnd.jupyter.widget-view+json": {
              "version_major": 2,
              "version_minor": 0,
              "model_id": "3c11c9ae9a044be4b793858fd82fc11f"
            }
          },
          "metadata": {}
        },
        {
          "output_type": "stream",
          "name": "stderr",
          "text": [
            "/usr/local/lib/python3.11/dist-packages/torch_geometric/warnings.py:11: UserWarning: The usage of `scatter(reduce='max')` can be accelerated via the 'torch-scatter' package, but it was not found\n",
            "  warnings.warn(message)\n"
          ]
        },
        {
          "output_type": "stream",
          "name": "stdout",
          "text": [
            "Evaluating...\n"
          ]
        },
        {
          "output_type": "display_data",
          "data": {
            "text/plain": [
              "Iteration:   0%|          | 0/1029 [00:00<?, ?it/s]"
            ],
            "application/vnd.jupyter.widget-view+json": {
              "version_major": 2,
              "version_minor": 0,
              "model_id": "c569b3815e7c488499c40e0622c3ed4a"
            }
          },
          "metadata": {}
        },
        {
          "output_type": "display_data",
          "data": {
            "text/plain": [
              "Iteration:   0%|          | 0/129 [00:00<?, ?it/s]"
            ],
            "application/vnd.jupyter.widget-view+json": {
              "version_major": 2,
              "version_minor": 0,
              "model_id": "a9d6bebfe286451d90840697134d4570"
            }
          },
          "metadata": {}
        },
        {
          "output_type": "display_data",
          "data": {
            "text/plain": [
              "Iteration:   0%|          | 0/129 [00:00<?, ?it/s]"
            ],
            "application/vnd.jupyter.widget-view+json": {
              "version_major": 2,
              "version_minor": 0,
              "model_id": "a89a2a37003348158d7307586879505b"
            }
          },
          "metadata": {}
        },
        {
          "output_type": "stream",
          "name": "stdout",
          "text": [
            "Epoch: 15, Loss: 0.0215, Train: 42.26%, Valid: 36.55% Test: 30.22%\n",
            "Training...\n"
          ]
        },
        {
          "output_type": "display_data",
          "data": {
            "text/plain": [
              "Iteration:   0%|          | 0/1029 [00:00<?, ?it/s]"
            ],
            "application/vnd.jupyter.widget-view+json": {
              "version_major": 2,
              "version_minor": 0,
              "model_id": "a153a8e6bd714905b03bc8aa8826f20b"
            }
          },
          "metadata": {}
        },
        {
          "output_type": "stream",
          "name": "stderr",
          "text": [
            "/usr/local/lib/python3.11/dist-packages/torch_geometric/warnings.py:11: UserWarning: The usage of `scatter(reduce='max')` can be accelerated via the 'torch-scatter' package, but it was not found\n",
            "  warnings.warn(message)\n"
          ]
        },
        {
          "output_type": "stream",
          "name": "stdout",
          "text": [
            "Evaluating...\n"
          ]
        },
        {
          "output_type": "display_data",
          "data": {
            "text/plain": [
              "Iteration:   0%|          | 0/1029 [00:00<?, ?it/s]"
            ],
            "application/vnd.jupyter.widget-view+json": {
              "version_major": 2,
              "version_minor": 0,
              "model_id": "afbb17c0b78d4358895ccba2d2790718"
            }
          },
          "metadata": {}
        },
        {
          "output_type": "display_data",
          "data": {
            "text/plain": [
              "Iteration:   0%|          | 0/129 [00:00<?, ?it/s]"
            ],
            "application/vnd.jupyter.widget-view+json": {
              "version_major": 2,
              "version_minor": 0,
              "model_id": "cfc22bddde0c424a99ebc550da53619d"
            }
          },
          "metadata": {}
        },
        {
          "output_type": "display_data",
          "data": {
            "text/plain": [
              "Iteration:   0%|          | 0/129 [00:00<?, ?it/s]"
            ],
            "application/vnd.jupyter.widget-view+json": {
              "version_major": 2,
              "version_minor": 0,
              "model_id": "39be340bb8194bde8d9c2beea45a3c1c"
            }
          },
          "metadata": {}
        },
        {
          "output_type": "stream",
          "name": "stdout",
          "text": [
            "Epoch: 16, Loss: 0.0227, Train: 42.26%, Valid: 36.55% Test: 30.22%\n",
            "Training...\n"
          ]
        },
        {
          "output_type": "display_data",
          "data": {
            "text/plain": [
              "Iteration:   0%|          | 0/1029 [00:00<?, ?it/s]"
            ],
            "application/vnd.jupyter.widget-view+json": {
              "version_major": 2,
              "version_minor": 0,
              "model_id": "9a4936f8586f4bb096fd50297b7d6025"
            }
          },
          "metadata": {}
        },
        {
          "output_type": "stream",
          "name": "stderr",
          "text": [
            "/usr/local/lib/python3.11/dist-packages/torch_geometric/warnings.py:11: UserWarning: The usage of `scatter(reduce='max')` can be accelerated via the 'torch-scatter' package, but it was not found\n",
            "  warnings.warn(message)\n"
          ]
        },
        {
          "output_type": "stream",
          "name": "stdout",
          "text": [
            "Evaluating...\n"
          ]
        },
        {
          "output_type": "display_data",
          "data": {
            "text/plain": [
              "Iteration:   0%|          | 0/1029 [00:00<?, ?it/s]"
            ],
            "application/vnd.jupyter.widget-view+json": {
              "version_major": 2,
              "version_minor": 0,
              "model_id": "42720aebd73741989375fac30214de39"
            }
          },
          "metadata": {}
        },
        {
          "output_type": "display_data",
          "data": {
            "text/plain": [
              "Iteration:   0%|          | 0/129 [00:00<?, ?it/s]"
            ],
            "application/vnd.jupyter.widget-view+json": {
              "version_major": 2,
              "version_minor": 0,
              "model_id": "21aaff0d29c549d1a956817e59168470"
            }
          },
          "metadata": {}
        },
        {
          "output_type": "display_data",
          "data": {
            "text/plain": [
              "Iteration:   0%|          | 0/129 [00:00<?, ?it/s]"
            ],
            "application/vnd.jupyter.widget-view+json": {
              "version_major": 2,
              "version_minor": 0,
              "model_id": "7698f9af625d47a4bf2ce8e3e458bf7e"
            }
          },
          "metadata": {}
        },
        {
          "output_type": "stream",
          "name": "stdout",
          "text": [
            "Epoch: 17, Loss: 0.0136, Train: 42.26%, Valid: 36.55% Test: 30.22%\n",
            "Training...\n"
          ]
        },
        {
          "output_type": "display_data",
          "data": {
            "text/plain": [
              "Iteration:   0%|          | 0/1029 [00:00<?, ?it/s]"
            ],
            "application/vnd.jupyter.widget-view+json": {
              "version_major": 2,
              "version_minor": 0,
              "model_id": "808a4f016f314e389db49a532284e93b"
            }
          },
          "metadata": {}
        },
        {
          "output_type": "stream",
          "name": "stderr",
          "text": [
            "/usr/local/lib/python3.11/dist-packages/torch_geometric/warnings.py:11: UserWarning: The usage of `scatter(reduce='max')` can be accelerated via the 'torch-scatter' package, but it was not found\n",
            "  warnings.warn(message)\n"
          ]
        },
        {
          "output_type": "stream",
          "name": "stdout",
          "text": [
            "Evaluating...\n"
          ]
        },
        {
          "output_type": "display_data",
          "data": {
            "text/plain": [
              "Iteration:   0%|          | 0/1029 [00:00<?, ?it/s]"
            ],
            "application/vnd.jupyter.widget-view+json": {
              "version_major": 2,
              "version_minor": 0,
              "model_id": "623cd209e71d479288c9b50189036fe8"
            }
          },
          "metadata": {}
        },
        {
          "output_type": "display_data",
          "data": {
            "text/plain": [
              "Iteration:   0%|          | 0/129 [00:00<?, ?it/s]"
            ],
            "application/vnd.jupyter.widget-view+json": {
              "version_major": 2,
              "version_minor": 0,
              "model_id": "abe252a1a2d24087a598deb5b10c1424"
            }
          },
          "metadata": {}
        },
        {
          "output_type": "display_data",
          "data": {
            "text/plain": [
              "Iteration:   0%|          | 0/129 [00:00<?, ?it/s]"
            ],
            "application/vnd.jupyter.widget-view+json": {
              "version_major": 2,
              "version_minor": 0,
              "model_id": "d48e8d6c38f1484fb3700df7c7f1fbd7"
            }
          },
          "metadata": {}
        },
        {
          "output_type": "stream",
          "name": "stdout",
          "text": [
            "Epoch: 18, Loss: 0.0263, Train: 42.26%, Valid: 36.55% Test: 30.22%\n",
            "Training...\n"
          ]
        },
        {
          "output_type": "display_data",
          "data": {
            "text/plain": [
              "Iteration:   0%|          | 0/1029 [00:00<?, ?it/s]"
            ],
            "application/vnd.jupyter.widget-view+json": {
              "version_major": 2,
              "version_minor": 0,
              "model_id": "caf610acd2b7442b90bb5ea8d3be4aa7"
            }
          },
          "metadata": {}
        },
        {
          "output_type": "stream",
          "name": "stderr",
          "text": [
            "/usr/local/lib/python3.11/dist-packages/torch_geometric/warnings.py:11: UserWarning: The usage of `scatter(reduce='max')` can be accelerated via the 'torch-scatter' package, but it was not found\n",
            "  warnings.warn(message)\n"
          ]
        },
        {
          "output_type": "stream",
          "name": "stdout",
          "text": [
            "Evaluating...\n"
          ]
        },
        {
          "output_type": "display_data",
          "data": {
            "text/plain": [
              "Iteration:   0%|          | 0/1029 [00:00<?, ?it/s]"
            ],
            "application/vnd.jupyter.widget-view+json": {
              "version_major": 2,
              "version_minor": 0,
              "model_id": "a26f6335ebee4c56af9945dfff431aec"
            }
          },
          "metadata": {}
        },
        {
          "output_type": "display_data",
          "data": {
            "text/plain": [
              "Iteration:   0%|          | 0/129 [00:00<?, ?it/s]"
            ],
            "application/vnd.jupyter.widget-view+json": {
              "version_major": 2,
              "version_minor": 0,
              "model_id": "b3a05c40c4b4479ca0d5881bb5292cfe"
            }
          },
          "metadata": {}
        },
        {
          "output_type": "display_data",
          "data": {
            "text/plain": [
              "Iteration:   0%|          | 0/129 [00:00<?, ?it/s]"
            ],
            "application/vnd.jupyter.widget-view+json": {
              "version_major": 2,
              "version_minor": 0,
              "model_id": "0fcf353fba9b49ada4d614bf0037a358"
            }
          },
          "metadata": {}
        },
        {
          "output_type": "stream",
          "name": "stdout",
          "text": [
            "Epoch: 19, Loss: 0.0840, Train: 42.26%, Valid: 36.55% Test: 30.22%\n",
            "Training...\n"
          ]
        },
        {
          "output_type": "display_data",
          "data": {
            "text/plain": [
              "Iteration:   0%|          | 0/1029 [00:00<?, ?it/s]"
            ],
            "application/vnd.jupyter.widget-view+json": {
              "version_major": 2,
              "version_minor": 0,
              "model_id": "332c31c231d8487f9c9a98e4f3ecba1f"
            }
          },
          "metadata": {}
        },
        {
          "output_type": "stream",
          "name": "stderr",
          "text": [
            "/usr/local/lib/python3.11/dist-packages/torch_geometric/warnings.py:11: UserWarning: The usage of `scatter(reduce='max')` can be accelerated via the 'torch-scatter' package, but it was not found\n",
            "  warnings.warn(message)\n"
          ]
        },
        {
          "output_type": "stream",
          "name": "stdout",
          "text": [
            "Evaluating...\n"
          ]
        },
        {
          "output_type": "display_data",
          "data": {
            "text/plain": [
              "Iteration:   0%|          | 0/1029 [00:00<?, ?it/s]"
            ],
            "application/vnd.jupyter.widget-view+json": {
              "version_major": 2,
              "version_minor": 0,
              "model_id": "1e7ca9a0be3540a39c171f25f377aabd"
            }
          },
          "metadata": {}
        },
        {
          "output_type": "display_data",
          "data": {
            "text/plain": [
              "Iteration:   0%|          | 0/129 [00:00<?, ?it/s]"
            ],
            "application/vnd.jupyter.widget-view+json": {
              "version_major": 2,
              "version_minor": 0,
              "model_id": "03080d849d1a4c67a946fc1b6f8275cd"
            }
          },
          "metadata": {}
        },
        {
          "output_type": "display_data",
          "data": {
            "text/plain": [
              "Iteration:   0%|          | 0/129 [00:00<?, ?it/s]"
            ],
            "application/vnd.jupyter.widget-view+json": {
              "version_major": 2,
              "version_minor": 0,
              "model_id": "eae770dad45e47ddbcf2577f0c8f701c"
            }
          },
          "metadata": {}
        },
        {
          "output_type": "stream",
          "name": "stdout",
          "text": [
            "Epoch: 20, Loss: 0.0992, Train: 42.26%, Valid: 36.55% Test: 30.22%\n",
            "Training...\n"
          ]
        },
        {
          "output_type": "display_data",
          "data": {
            "text/plain": [
              "Iteration:   0%|          | 0/1029 [00:00<?, ?it/s]"
            ],
            "application/vnd.jupyter.widget-view+json": {
              "version_major": 2,
              "version_minor": 0,
              "model_id": "0986019967974b47839cbf7b2be6bfde"
            }
          },
          "metadata": {}
        },
        {
          "output_type": "stream",
          "name": "stderr",
          "text": [
            "/usr/local/lib/python3.11/dist-packages/torch_geometric/warnings.py:11: UserWarning: The usage of `scatter(reduce='max')` can be accelerated via the 'torch-scatter' package, but it was not found\n",
            "  warnings.warn(message)\n"
          ]
        },
        {
          "output_type": "stream",
          "name": "stdout",
          "text": [
            "Evaluating...\n"
          ]
        },
        {
          "output_type": "display_data",
          "data": {
            "text/plain": [
              "Iteration:   0%|          | 0/1029 [00:00<?, ?it/s]"
            ],
            "application/vnd.jupyter.widget-view+json": {
              "version_major": 2,
              "version_minor": 0,
              "model_id": "144169bca00749ff9e82039d6b41072f"
            }
          },
          "metadata": {}
        },
        {
          "output_type": "display_data",
          "data": {
            "text/plain": [
              "Iteration:   0%|          | 0/129 [00:00<?, ?it/s]"
            ],
            "application/vnd.jupyter.widget-view+json": {
              "version_major": 2,
              "version_minor": 0,
              "model_id": "c3acbeb441c643d98bca8a7222db8992"
            }
          },
          "metadata": {}
        },
        {
          "output_type": "display_data",
          "data": {
            "text/plain": [
              "Iteration:   0%|          | 0/129 [00:00<?, ?it/s]"
            ],
            "application/vnd.jupyter.widget-view+json": {
              "version_major": 2,
              "version_minor": 0,
              "model_id": "920f07119bc140c6be6e3759c8e4ef3e"
            }
          },
          "metadata": {}
        },
        {
          "output_type": "stream",
          "name": "stdout",
          "text": [
            "Epoch: 21, Loss: 0.2571, Train: 42.26%, Valid: 36.55% Test: 30.22%\n",
            "Training...\n"
          ]
        },
        {
          "output_type": "display_data",
          "data": {
            "text/plain": [
              "Iteration:   0%|          | 0/1029 [00:00<?, ?it/s]"
            ],
            "application/vnd.jupyter.widget-view+json": {
              "version_major": 2,
              "version_minor": 0,
              "model_id": "79aa539779dd498d8a0963e1c4beea8a"
            }
          },
          "metadata": {}
        },
        {
          "output_type": "stream",
          "name": "stderr",
          "text": [
            "/usr/local/lib/python3.11/dist-packages/torch_geometric/warnings.py:11: UserWarning: The usage of `scatter(reduce='max')` can be accelerated via the 'torch-scatter' package, but it was not found\n",
            "  warnings.warn(message)\n"
          ]
        },
        {
          "output_type": "stream",
          "name": "stdout",
          "text": [
            "Evaluating...\n"
          ]
        },
        {
          "output_type": "display_data",
          "data": {
            "text/plain": [
              "Iteration:   0%|          | 0/1029 [00:00<?, ?it/s]"
            ],
            "application/vnd.jupyter.widget-view+json": {
              "version_major": 2,
              "version_minor": 0,
              "model_id": "b1268e93feae423091edce51145c5eea"
            }
          },
          "metadata": {}
        },
        {
          "output_type": "display_data",
          "data": {
            "text/plain": [
              "Iteration:   0%|          | 0/129 [00:00<?, ?it/s]"
            ],
            "application/vnd.jupyter.widget-view+json": {
              "version_major": 2,
              "version_minor": 0,
              "model_id": "3591ebea42814883a754142554eb81a4"
            }
          },
          "metadata": {}
        },
        {
          "output_type": "display_data",
          "data": {
            "text/plain": [
              "Iteration:   0%|          | 0/129 [00:00<?, ?it/s]"
            ],
            "application/vnd.jupyter.widget-view+json": {
              "version_major": 2,
              "version_minor": 0,
              "model_id": "0bab1f267f724c2cb5ff51c78efe0e23"
            }
          },
          "metadata": {}
        },
        {
          "output_type": "stream",
          "name": "stdout",
          "text": [
            "Epoch: 22, Loss: 0.0657, Train: 42.26%, Valid: 36.55% Test: 30.22%\n",
            "Training...\n"
          ]
        },
        {
          "output_type": "display_data",
          "data": {
            "text/plain": [
              "Iteration:   0%|          | 0/1029 [00:00<?, ?it/s]"
            ],
            "application/vnd.jupyter.widget-view+json": {
              "version_major": 2,
              "version_minor": 0,
              "model_id": "c0a630de465945c5b6aaed1355ef22f4"
            }
          },
          "metadata": {}
        },
        {
          "output_type": "stream",
          "name": "stderr",
          "text": [
            "/usr/local/lib/python3.11/dist-packages/torch_geometric/warnings.py:11: UserWarning: The usage of `scatter(reduce='max')` can be accelerated via the 'torch-scatter' package, but it was not found\n",
            "  warnings.warn(message)\n"
          ]
        },
        {
          "output_type": "stream",
          "name": "stdout",
          "text": [
            "Evaluating...\n"
          ]
        },
        {
          "output_type": "display_data",
          "data": {
            "text/plain": [
              "Iteration:   0%|          | 0/1029 [00:00<?, ?it/s]"
            ],
            "application/vnd.jupyter.widget-view+json": {
              "version_major": 2,
              "version_minor": 0,
              "model_id": "aa3ce4d05dac47d6974bb1246052bdf3"
            }
          },
          "metadata": {}
        },
        {
          "output_type": "display_data",
          "data": {
            "text/plain": [
              "Iteration:   0%|          | 0/129 [00:00<?, ?it/s]"
            ],
            "application/vnd.jupyter.widget-view+json": {
              "version_major": 2,
              "version_minor": 0,
              "model_id": "bc717d103a384c268b1ee1c709e0ab3c"
            }
          },
          "metadata": {}
        },
        {
          "output_type": "display_data",
          "data": {
            "text/plain": [
              "Iteration:   0%|          | 0/129 [00:00<?, ?it/s]"
            ],
            "application/vnd.jupyter.widget-view+json": {
              "version_major": 2,
              "version_minor": 0,
              "model_id": "6b17cdf8a9b141d79e92bb695566b294"
            }
          },
          "metadata": {}
        },
        {
          "output_type": "stream",
          "name": "stdout",
          "text": [
            "Epoch: 23, Loss: 0.0019, Train: 42.26%, Valid: 36.55% Test: 30.22%\n",
            "Training...\n"
          ]
        },
        {
          "output_type": "display_data",
          "data": {
            "text/plain": [
              "Iteration:   0%|          | 0/1029 [00:00<?, ?it/s]"
            ],
            "application/vnd.jupyter.widget-view+json": {
              "version_major": 2,
              "version_minor": 0,
              "model_id": "4c87a783b1a0482989bd3ad885d30633"
            }
          },
          "metadata": {}
        },
        {
          "output_type": "stream",
          "name": "stderr",
          "text": [
            "/usr/local/lib/python3.11/dist-packages/torch_geometric/warnings.py:11: UserWarning: The usage of `scatter(reduce='max')` can be accelerated via the 'torch-scatter' package, but it was not found\n",
            "  warnings.warn(message)\n"
          ]
        },
        {
          "output_type": "stream",
          "name": "stdout",
          "text": [
            "Evaluating...\n"
          ]
        },
        {
          "output_type": "display_data",
          "data": {
            "text/plain": [
              "Iteration:   0%|          | 0/1029 [00:00<?, ?it/s]"
            ],
            "application/vnd.jupyter.widget-view+json": {
              "version_major": 2,
              "version_minor": 0,
              "model_id": "88dc966191e6427497e713d107322ddc"
            }
          },
          "metadata": {}
        },
        {
          "output_type": "display_data",
          "data": {
            "text/plain": [
              "Iteration:   0%|          | 0/129 [00:00<?, ?it/s]"
            ],
            "application/vnd.jupyter.widget-view+json": {
              "version_major": 2,
              "version_minor": 0,
              "model_id": "73a9d388de2348b0aa85821bc0616274"
            }
          },
          "metadata": {}
        },
        {
          "output_type": "display_data",
          "data": {
            "text/plain": [
              "Iteration:   0%|          | 0/129 [00:00<?, ?it/s]"
            ],
            "application/vnd.jupyter.widget-view+json": {
              "version_major": 2,
              "version_minor": 0,
              "model_id": "8903bc9f60394301ab570a46d4e165d1"
            }
          },
          "metadata": {}
        },
        {
          "output_type": "stream",
          "name": "stdout",
          "text": [
            "Epoch: 24, Loss: 0.0209, Train: 42.26%, Valid: 36.55% Test: 30.22%\n",
            "Training...\n"
          ]
        },
        {
          "output_type": "display_data",
          "data": {
            "text/plain": [
              "Iteration:   0%|          | 0/1029 [00:00<?, ?it/s]"
            ],
            "application/vnd.jupyter.widget-view+json": {
              "version_major": 2,
              "version_minor": 0,
              "model_id": "9160faa5a2714f1a991e1eb53425bcbf"
            }
          },
          "metadata": {}
        },
        {
          "output_type": "stream",
          "name": "stderr",
          "text": [
            "/usr/local/lib/python3.11/dist-packages/torch_geometric/warnings.py:11: UserWarning: The usage of `scatter(reduce='max')` can be accelerated via the 'torch-scatter' package, but it was not found\n",
            "  warnings.warn(message)\n"
          ]
        },
        {
          "output_type": "stream",
          "name": "stdout",
          "text": [
            "Evaluating...\n"
          ]
        },
        {
          "output_type": "display_data",
          "data": {
            "text/plain": [
              "Iteration:   0%|          | 0/1029 [00:00<?, ?it/s]"
            ],
            "application/vnd.jupyter.widget-view+json": {
              "version_major": 2,
              "version_minor": 0,
              "model_id": "2421e03f0d1c492ebf60349440b26067"
            }
          },
          "metadata": {}
        },
        {
          "output_type": "display_data",
          "data": {
            "text/plain": [
              "Iteration:   0%|          | 0/129 [00:00<?, ?it/s]"
            ],
            "application/vnd.jupyter.widget-view+json": {
              "version_major": 2,
              "version_minor": 0,
              "model_id": "abb38f148f5244a68294f93509cb9312"
            }
          },
          "metadata": {}
        },
        {
          "output_type": "display_data",
          "data": {
            "text/plain": [
              "Iteration:   0%|          | 0/129 [00:00<?, ?it/s]"
            ],
            "application/vnd.jupyter.widget-view+json": {
              "version_major": 2,
              "version_minor": 0,
              "model_id": "bd46b83bf6f742c5ac14dd1478ae8f5f"
            }
          },
          "metadata": {}
        },
        {
          "output_type": "stream",
          "name": "stdout",
          "text": [
            "Epoch: 25, Loss: 0.0060, Train: 42.26%, Valid: 36.55% Test: 30.22%\n",
            "Training...\n"
          ]
        },
        {
          "output_type": "display_data",
          "data": {
            "text/plain": [
              "Iteration:   0%|          | 0/1029 [00:00<?, ?it/s]"
            ],
            "application/vnd.jupyter.widget-view+json": {
              "version_major": 2,
              "version_minor": 0,
              "model_id": "55d1d8a372b9494bb72a668d455b13d5"
            }
          },
          "metadata": {}
        },
        {
          "output_type": "stream",
          "name": "stderr",
          "text": [
            "/usr/local/lib/python3.11/dist-packages/torch_geometric/warnings.py:11: UserWarning: The usage of `scatter(reduce='max')` can be accelerated via the 'torch-scatter' package, but it was not found\n",
            "  warnings.warn(message)\n"
          ]
        },
        {
          "output_type": "stream",
          "name": "stdout",
          "text": [
            "Evaluating...\n"
          ]
        },
        {
          "output_type": "display_data",
          "data": {
            "text/plain": [
              "Iteration:   0%|          | 0/1029 [00:00<?, ?it/s]"
            ],
            "application/vnd.jupyter.widget-view+json": {
              "version_major": 2,
              "version_minor": 0,
              "model_id": "50157b70d3fd483db58e89d0fc4449c1"
            }
          },
          "metadata": {}
        },
        {
          "output_type": "display_data",
          "data": {
            "text/plain": [
              "Iteration:   0%|          | 0/129 [00:00<?, ?it/s]"
            ],
            "application/vnd.jupyter.widget-view+json": {
              "version_major": 2,
              "version_minor": 0,
              "model_id": "0e88d61770124206a61f6a7b24d920ce"
            }
          },
          "metadata": {}
        },
        {
          "output_type": "display_data",
          "data": {
            "text/plain": [
              "Iteration:   0%|          | 0/129 [00:00<?, ?it/s]"
            ],
            "application/vnd.jupyter.widget-view+json": {
              "version_major": 2,
              "version_minor": 0,
              "model_id": "774caf1bedd64bb6a16c4e34854ae808"
            }
          },
          "metadata": {}
        },
        {
          "output_type": "stream",
          "name": "stdout",
          "text": [
            "Epoch: 26, Loss: 0.0801, Train: 42.26%, Valid: 36.55% Test: 30.22%\n",
            "Training...\n"
          ]
        },
        {
          "output_type": "display_data",
          "data": {
            "text/plain": [
              "Iteration:   0%|          | 0/1029 [00:00<?, ?it/s]"
            ],
            "application/vnd.jupyter.widget-view+json": {
              "version_major": 2,
              "version_minor": 0,
              "model_id": "9c2766b680944c9fb8cfec5a15fde511"
            }
          },
          "metadata": {}
        },
        {
          "output_type": "stream",
          "name": "stderr",
          "text": [
            "/usr/local/lib/python3.11/dist-packages/torch_geometric/warnings.py:11: UserWarning: The usage of `scatter(reduce='max')` can be accelerated via the 'torch-scatter' package, but it was not found\n",
            "  warnings.warn(message)\n"
          ]
        },
        {
          "output_type": "stream",
          "name": "stdout",
          "text": [
            "Evaluating...\n"
          ]
        },
        {
          "output_type": "display_data",
          "data": {
            "text/plain": [
              "Iteration:   0%|          | 0/1029 [00:00<?, ?it/s]"
            ],
            "application/vnd.jupyter.widget-view+json": {
              "version_major": 2,
              "version_minor": 0,
              "model_id": "943dff1ae2ec4feea73068a7a30b5abd"
            }
          },
          "metadata": {}
        },
        {
          "output_type": "display_data",
          "data": {
            "text/plain": [
              "Iteration:   0%|          | 0/129 [00:00<?, ?it/s]"
            ],
            "application/vnd.jupyter.widget-view+json": {
              "version_major": 2,
              "version_minor": 0,
              "model_id": "8d1d899202ad4889bcc368270183c523"
            }
          },
          "metadata": {}
        },
        {
          "output_type": "display_data",
          "data": {
            "text/plain": [
              "Iteration:   0%|          | 0/129 [00:00<?, ?it/s]"
            ],
            "application/vnd.jupyter.widget-view+json": {
              "version_major": 2,
              "version_minor": 0,
              "model_id": "d136858cfde4410f8e9d385f60130ffe"
            }
          },
          "metadata": {}
        },
        {
          "output_type": "stream",
          "name": "stdout",
          "text": [
            "Epoch: 27, Loss: 0.0202, Train: 42.26%, Valid: 36.55% Test: 30.22%\n",
            "Training...\n"
          ]
        },
        {
          "output_type": "display_data",
          "data": {
            "text/plain": [
              "Iteration:   0%|          | 0/1029 [00:00<?, ?it/s]"
            ],
            "application/vnd.jupyter.widget-view+json": {
              "version_major": 2,
              "version_minor": 0,
              "model_id": "37b513305800469588c35e64e2c88169"
            }
          },
          "metadata": {}
        },
        {
          "output_type": "stream",
          "name": "stderr",
          "text": [
            "/usr/local/lib/python3.11/dist-packages/torch_geometric/warnings.py:11: UserWarning: The usage of `scatter(reduce='max')` can be accelerated via the 'torch-scatter' package, but it was not found\n",
            "  warnings.warn(message)\n"
          ]
        },
        {
          "output_type": "stream",
          "name": "stdout",
          "text": [
            "Evaluating...\n"
          ]
        },
        {
          "output_type": "display_data",
          "data": {
            "text/plain": [
              "Iteration:   0%|          | 0/1029 [00:00<?, ?it/s]"
            ],
            "application/vnd.jupyter.widget-view+json": {
              "version_major": 2,
              "version_minor": 0,
              "model_id": "5f60abc5bf4845aeab296be20c13fd60"
            }
          },
          "metadata": {}
        },
        {
          "output_type": "display_data",
          "data": {
            "text/plain": [
              "Iteration:   0%|          | 0/129 [00:00<?, ?it/s]"
            ],
            "application/vnd.jupyter.widget-view+json": {
              "version_major": 2,
              "version_minor": 0,
              "model_id": "7cca76d7b9d34d1e95e3cd2c9e273d74"
            }
          },
          "metadata": {}
        },
        {
          "output_type": "display_data",
          "data": {
            "text/plain": [
              "Iteration:   0%|          | 0/129 [00:00<?, ?it/s]"
            ],
            "application/vnd.jupyter.widget-view+json": {
              "version_major": 2,
              "version_minor": 0,
              "model_id": "4729d5dfbedf4e4a9ea2484c0c29d608"
            }
          },
          "metadata": {}
        },
        {
          "output_type": "stream",
          "name": "stdout",
          "text": [
            "Epoch: 28, Loss: 0.0879, Train: 42.26%, Valid: 36.55% Test: 30.22%\n",
            "Training...\n"
          ]
        },
        {
          "output_type": "display_data",
          "data": {
            "text/plain": [
              "Iteration:   0%|          | 0/1029 [00:00<?, ?it/s]"
            ],
            "application/vnd.jupyter.widget-view+json": {
              "version_major": 2,
              "version_minor": 0,
              "model_id": "7c4088b5c6eb4c2ba713e0abd3d6bd6a"
            }
          },
          "metadata": {}
        },
        {
          "output_type": "stream",
          "name": "stderr",
          "text": [
            "/usr/local/lib/python3.11/dist-packages/torch_geometric/warnings.py:11: UserWarning: The usage of `scatter(reduce='max')` can be accelerated via the 'torch-scatter' package, but it was not found\n",
            "  warnings.warn(message)\n"
          ]
        },
        {
          "output_type": "stream",
          "name": "stdout",
          "text": [
            "Evaluating...\n"
          ]
        },
        {
          "output_type": "display_data",
          "data": {
            "text/plain": [
              "Iteration:   0%|          | 0/1029 [00:00<?, ?it/s]"
            ],
            "application/vnd.jupyter.widget-view+json": {
              "version_major": 2,
              "version_minor": 0,
              "model_id": "5db61c60db09475f95884d5b8c897930"
            }
          },
          "metadata": {}
        },
        {
          "output_type": "display_data",
          "data": {
            "text/plain": [
              "Iteration:   0%|          | 0/129 [00:00<?, ?it/s]"
            ],
            "application/vnd.jupyter.widget-view+json": {
              "version_major": 2,
              "version_minor": 0,
              "model_id": "c4b47ec383ba4ba196b88853e6f94277"
            }
          },
          "metadata": {}
        },
        {
          "output_type": "display_data",
          "data": {
            "text/plain": [
              "Iteration:   0%|          | 0/129 [00:00<?, ?it/s]"
            ],
            "application/vnd.jupyter.widget-view+json": {
              "version_major": 2,
              "version_minor": 0,
              "model_id": "8a0d9292cab1465a8ea5fd377485809a"
            }
          },
          "metadata": {}
        },
        {
          "output_type": "stream",
          "name": "stdout",
          "text": [
            "Epoch: 29, Loss: 0.6854, Train: 42.26%, Valid: 36.55% Test: 30.22%\n",
            "Training...\n"
          ]
        },
        {
          "output_type": "display_data",
          "data": {
            "text/plain": [
              "Iteration:   0%|          | 0/1029 [00:00<?, ?it/s]"
            ],
            "application/vnd.jupyter.widget-view+json": {
              "version_major": 2,
              "version_minor": 0,
              "model_id": "5b168edbbaf040829ba953b27486524a"
            }
          },
          "metadata": {}
        },
        {
          "output_type": "stream",
          "name": "stderr",
          "text": [
            "/usr/local/lib/python3.11/dist-packages/torch_geometric/warnings.py:11: UserWarning: The usage of `scatter(reduce='max')` can be accelerated via the 'torch-scatter' package, but it was not found\n",
            "  warnings.warn(message)\n"
          ]
        },
        {
          "output_type": "stream",
          "name": "stdout",
          "text": [
            "Evaluating...\n"
          ]
        },
        {
          "output_type": "display_data",
          "data": {
            "text/plain": [
              "Iteration:   0%|          | 0/1029 [00:00<?, ?it/s]"
            ],
            "application/vnd.jupyter.widget-view+json": {
              "version_major": 2,
              "version_minor": 0,
              "model_id": "fae9a645141f419cb49e645efab43226"
            }
          },
          "metadata": {}
        },
        {
          "output_type": "display_data",
          "data": {
            "text/plain": [
              "Iteration:   0%|          | 0/129 [00:00<?, ?it/s]"
            ],
            "application/vnd.jupyter.widget-view+json": {
              "version_major": 2,
              "version_minor": 0,
              "model_id": "116702f56246465897dd685c23643730"
            }
          },
          "metadata": {}
        },
        {
          "output_type": "display_data",
          "data": {
            "text/plain": [
              "Iteration:   0%|          | 0/129 [00:00<?, ?it/s]"
            ],
            "application/vnd.jupyter.widget-view+json": {
              "version_major": 2,
              "version_minor": 0,
              "model_id": "efc965913ee74a948656305edca18794"
            }
          },
          "metadata": {}
        },
        {
          "output_type": "stream",
          "name": "stdout",
          "text": [
            "Epoch: 30, Loss: 0.0080, Train: 42.26%, Valid: 36.55% Test: 30.22%\n"
          ]
        }
      ]
    },
    {
      "cell_type": "code",
      "source": [
        "if 'IS_GRADESCOPE_ENV' not in os.environ:\n",
        "  train_auroc_add = eval(best_model_add, device, train_loader, evaluator_add)[dataset.eval_metric]\n",
        "  valid_auroc_add = eval(best_model_add, device, valid_loader, evaluator_add, save_model_results=True, save_file=\"valid\")[dataset.eval_metric]\n",
        "  test_auroc_add  = eval(best_model_add, device, test_loader, evaluator_add, save_model_results=True, save_file=\"test\")[dataset.eval_metric]\n",
        "\n",
        "  print(f'Best model: '\n",
        "      f'Train: {100 * train_auroc_add:.2f}%, '\n",
        "      f'Valid: {100 * valid_auroc_add:.2f}% '\n",
        "      f'Test: {100 * test_auroc_add:.2f}%')"
      ],
      "metadata": {
        "colab": {
          "base_uri": "https://localhost:8080/",
          "height": 168,
          "referenced_widgets": [
            "3b8568ec436a44bd840e7318444114ba",
            "6268ccf7cb60453d94c923d9fd301876",
            "96bb40bd7f4342fbb763e051ed38ed67",
            "f130a5729ebe4fc7b9ca612e466bae50",
            "49a4886e08b24fd88c0856f9dc1358ea",
            "66fa229cd2ac4f599dfc03d0df895017",
            "af6c6d5df448499397f311c9e940b7a9",
            "87517231f63f4bbcb790e9a2b677e7bd",
            "f39c8a9a66e94cc2b5715222906d3d45",
            "d3d34c9cef5d4fdabfe78e52fe80a0ac",
            "74cacc060e8f4851863fcf0308d97522",
            "852a0422fa0b42e6b526c9d8a60ab9ce",
            "9e0cbf8d4aee4e11804b8b82be777ce5",
            "b2239d28da5148119c54c2e048683f4d",
            "c2388a1dcfde43b6948bf329f5fb6377",
            "1368af960e0c49e18305251dca60c201",
            "63eacad0ae7a4b97a145d2c72c1020dc",
            "25c16f1ca5c34d6f9b36bc9c894c8c40",
            "5f7f66ad67d5412cb73f2011f94f9095",
            "c20ad80c3a964f0caf4336a9a078492f",
            "58415daf72a74982aa6c8b63e2413177",
            "d037972300b9404fae17d11642ac9470",
            "a356d1ea6b374b3a8a6fc553e674e5bb",
            "a1d4a3e1576d468db3551b5072d45d1f",
            "03fffe1da3fe4eadbe773b7f2482de10",
            "daeb1ea369f243498a9093a130ddad2a",
            "cf2fc069b6e74735976883921832e0cd",
            "77a0687183ea4238a530ac46b0789baa",
            "2c1423a6cf274521a0eb7093428f8bc4",
            "10fe05e2c78c4e10b2dee6d59f2e7162",
            "ec2407ecea4a4adcab1342ca8e09b65f",
            "bbd964b75e7e4be48463bced9f3df106",
            "b87322bab11342229287712c2a5425bb"
          ]
        },
        "id": "teTBiUKAlieW",
        "outputId": "3eb44852-5538-4da8-c0f5-be53ae511d3b"
      },
      "execution_count": null,
      "outputs": [
        {
          "output_type": "display_data",
          "data": {
            "text/plain": [
              "Iteration:   0%|          | 0/1029 [00:00<?, ?it/s]"
            ],
            "application/vnd.jupyter.widget-view+json": {
              "version_major": 2,
              "version_minor": 0,
              "model_id": "3b8568ec436a44bd840e7318444114ba"
            }
          },
          "metadata": {}
        },
        {
          "output_type": "display_data",
          "data": {
            "text/plain": [
              "Iteration:   0%|          | 0/129 [00:00<?, ?it/s]"
            ],
            "application/vnd.jupyter.widget-view+json": {
              "version_major": 2,
              "version_minor": 0,
              "model_id": "852a0422fa0b42e6b526c9d8a60ab9ce"
            }
          },
          "metadata": {}
        },
        {
          "output_type": "stream",
          "name": "stdout",
          "text": [
            "Saving Model Predictions\n"
          ]
        },
        {
          "output_type": "display_data",
          "data": {
            "text/plain": [
              "Iteration:   0%|          | 0/129 [00:00<?, ?it/s]"
            ],
            "application/vnd.jupyter.widget-view+json": {
              "version_major": 2,
              "version_minor": 0,
              "model_id": "a356d1ea6b374b3a8a6fc553e674e5bb"
            }
          },
          "metadata": {}
        },
        {
          "output_type": "stream",
          "name": "stdout",
          "text": [
            "Saving Model Predictions\n",
            "Best model: Train: 67.40%, Valid: 66.40% Test: 72.95%\n"
          ]
        }
      ]
    },
    {
      "cell_type": "code",
      "source": [
        "if 'IS_GRADESCOPE_ENV' not in os.environ:\n",
        "  train_auroc_max = eval(best_model_max, device, train_loader, evaluator_max)[dataset.eval_metric]\n",
        "  valid_auroc_max = eval(best_model_max, device, valid_loader, evaluator_max, save_model_results=True, save_file=\"valid\")[dataset.eval_metric]\n",
        "  test_auroc_max  = eval(best_model_max, device, test_loader, evaluator_max, save_model_results=True, save_file=\"test\")[dataset.eval_metric]\n",
        "\n",
        "  print(f'Best model: '\n",
        "      f'Train: {100 * train_auroc_max:.2f}%, '\n",
        "      f'Valid: {100 * valid_auroc_max:.2f}% '\n",
        "      f'Test: {100 * test_auroc_max:.2f}%')"
      ],
      "metadata": {
        "colab": {
          "base_uri": "https://localhost:8080/",
          "height": 168,
          "referenced_widgets": [
            "a333488776dc4d2b9f26b79747941736",
            "7a94cc9bf57a4819aad8036a473b545e",
            "ae3c5df914ad4d9b824e44c17d53e0fc",
            "bcbf9817be804d09987db7252c1edcaa",
            "e8e4e7ce368645cabb47cd27182d228f",
            "6df53feff36346a9bf2c2bc9e7e4f39a",
            "b12020bfddfe4ec2bf4bf06c96ea82ee",
            "0c16746db57b45c9b8f0f754615c71e3",
            "fad6779f7dbc4fec8094bdccc4532193",
            "f45915147bc64992a33a6b4ff66b6f42",
            "d6877cefc9ef4a608346e1bb623fa1a7",
            "528d3c3e48fe47bd8e7cbe1ea90bb489",
            "6858d2d4c98e4dfe80e5eea36a1c522f",
            "58741b730762455785d5bc8cc3ecfd0e",
            "c8feceddb1eb4764a85eb7fa775aee71",
            "cd91b390346f45bdbabf2c2887174f00",
            "b337ea831f004e0aad163c078017c117",
            "fc0b085fb3444637896c1bff75dee253",
            "61ecc3dae71d4115a6c9cbcfb8789ddb",
            "5cccbced758240cd9c293189c53fc76b",
            "609bf62b36c14d4ebe6bd2015499650c",
            "cc67a7ee20214fed901147ecd0c44cba",
            "f432ef5f2c354e53ae24dfb3868e2616",
            "534982d7c5884fd6bbf7510dc976f1ed",
            "01501a7b3178433da64ef26e6b1cb2b4",
            "673d68c3be144e5b91bfe7d3c470db32",
            "98b5ec88d0e04e2aaf7fa0717e826ded",
            "24fcbc0b708a4cfc8288605b7bd5c0a1",
            "7c981826b65c4ad0bed471b9a11eef9b",
            "7ff204c91f3b482397971010a37c277b",
            "456841d670064926b41f937da526e2ac",
            "d20449ce1db84b1d91cf9ab1871ddd72",
            "35adbb25b7f7459dbf5dbec1a2ef7b16"
          ]
        },
        "id": "9HsuJRfSli6q",
        "outputId": "630e7377-88c8-4f42-f3b1-beba443a488e"
      },
      "execution_count": null,
      "outputs": [
        {
          "output_type": "display_data",
          "data": {
            "text/plain": [
              "Iteration:   0%|          | 0/1029 [00:00<?, ?it/s]"
            ],
            "application/vnd.jupyter.widget-view+json": {
              "version_major": 2,
              "version_minor": 0,
              "model_id": "a333488776dc4d2b9f26b79747941736"
            }
          },
          "metadata": {}
        },
        {
          "output_type": "display_data",
          "data": {
            "text/plain": [
              "Iteration:   0%|          | 0/129 [00:00<?, ?it/s]"
            ],
            "application/vnd.jupyter.widget-view+json": {
              "version_major": 2,
              "version_minor": 0,
              "model_id": "528d3c3e48fe47bd8e7cbe1ea90bb489"
            }
          },
          "metadata": {}
        },
        {
          "output_type": "stream",
          "name": "stdout",
          "text": [
            "Saving Model Predictions\n"
          ]
        },
        {
          "output_type": "display_data",
          "data": {
            "text/plain": [
              "Iteration:   0%|          | 0/129 [00:00<?, ?it/s]"
            ],
            "application/vnd.jupyter.widget-view+json": {
              "version_major": 2,
              "version_minor": 0,
              "model_id": "f432ef5f2c354e53ae24dfb3868e2616"
            }
          },
          "metadata": {}
        },
        {
          "output_type": "stream",
          "name": "stdout",
          "text": [
            "Saving Model Predictions\n",
            "Best model: Train: 72.62%, Valid: 68.78% Test: 73.64%\n"
          ]
        }
      ]
    }
  ],
  "metadata": {
    "colab": {
      "provenance": [],
      "gpuType": "T4"
    },
    "kernelspec": {
      "display_name": "Python 3",
      "name": "python3"
    },
    "language_info": {
      "codemirror_mode": {
        "name": "ipython",
        "version": 3
      },
      "file_extension": ".py",
      "mimetype": "text/x-python",
      "name": "python",
      "nbconvert_exporter": "python",
      "pygments_lexer": "ipython3",
      "version": "3.7.3"
    },
    "accelerator": "GPU"
  },
  "nbformat": 4,
  "nbformat_minor": 0
}
